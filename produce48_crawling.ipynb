{
 "cells": [
  {
   "cell_type": "code",
   "execution_count": 639,
   "metadata": {},
   "outputs": [],
   "source": [
    "import pandas as pd\n",
    "from bs4 import BeautifulSoup\n",
    "import requests\n",
    "from selenium import webdriver\n",
    "import myslack\n",
    "import datetime as dt\n",
    "import pickle\n",
    "import time\n",
    "import re\n",
    "from tqdm import trange"
   ]
  },
  {
   "cell_type": "code",
   "execution_count": 664,
   "metadata": {},
   "outputs": [],
   "source": [
    "driver = webdriver.Chrome()  \n",
    "url = 'http://produce48.mnet.com/pc/profile/0'\n",
    "driver.get(url) "
   ]
  },
  {
   "cell_type": "code",
   "execution_count": 839,
   "metadata": {},
   "outputs": [
    {
     "data": {
      "text/plain": [
       "(3112, 156)"
      ]
     },
     "execution_count": 839,
     "metadata": {},
     "output_type": "execute_result"
    }
   ],
   "source": [
    "review_count = int(driver.find_element_by_xpath('//*[@id=\"comment\"]/div/h2/strong').text)\n",
    "comment_page_count = int(review_count/20)+1\n",
    "review_count, comment_page_count"
   ]
  },
  {
   "cell_type": "code",
   "execution_count": 840,
   "metadata": {},
   "outputs": [],
   "source": [
    "def open_all_comment():\n",
    "    print('이전 댓글 모두 불러오기 시작...')    \n",
    "    for _ in trange(comment_page_count):\n",
    "        try:\n",
    "            driver.execute_script(\"window.scrollTo(0,document.body.scrollHeight);\")\n",
    "            driver.find_element_by_xpath('//*[@id=\"comment\"]/div/div[2]/div/a').click()\n",
    "            time.sleep(0.3)\n",
    "        except Exception as e:\n",
    "            print(e)\n",
    "            time.sleep(1)\n",
    "            pass\n",
    "    driver.execute_script(\"window.scrollTo(0,document.body.scrollHeight);\")\n",
    "    print('이전 댓글 모두 불러오기 성공!')"
   ]
  },
  {
   "cell_type": "code",
   "execution_count": 841,
   "metadata": {
    "scrolled": true
   },
   "outputs": [],
   "source": [
    "def make_produce48_df(trainee_name):\n",
    "    print(trainee_name+'의 댓글 수: '+str(review_count))\n",
    "    open_all_comment()\n",
    "    \n",
    "    print('making dataframe...')\n",
    "    df = pd.DataFrame(columns=['User_ID','Comment','Date'])\n",
    "    for i in trange(review_count):\n",
    "        try:\n",
    "            df.loc[len(df)] = { \n",
    "            'User_ID':driver.find_element_by_xpath('//*[@id=\"comment\"]/div/div[2]/dl[{}]/dd/strong'.format(i+1)).text,\n",
    "            'Comment':driver.find_element_by_xpath('//*[@id=\"comment\"]/div/div[2]/dl[{}]/dd/p'.format(i+1)).text,\n",
    "            'Date':driver.find_element_by_xpath('//*[@id=\"comment\"]/div/div[2]/dl[{}]/dd/span'.format(i+1)).text.split(' ')[0],\n",
    "            }\n",
    "        except Exception as e:\n",
    "            print(e)\n",
    "            pass\n",
    "    print('making dataframe done!')\n",
    "    return df"
   ]
  },
  {
   "cell_type": "code",
   "execution_count": 842,
   "metadata": {},
   "outputs": [
    {
     "data": {
      "text/plain": [
       "('LEE_HA_EUN', '이하은', 'MNH')"
      ]
     },
     "execution_count": 842,
     "metadata": {},
     "output_type": "execute_result"
    }
   ],
   "source": [
    "def make_df_name():\n",
    "    eng_name = \\\n",
    "    re.sub(\"[^a-zA-Z]\",\" \",driver.find_element_by_xpath('//*[@id=\"content\"]/div[2]/div[2]/div[1]/dl[2]/dt/p[2]').text).strip()\n",
    "    result = eng_name.replace(' ','_')\n",
    "    return result\n",
    "\n",
    "name = driver.find_element_by_xpath('//*[@id=\"content\"]/div[2]/div[2]/div[1]/dl[2]/dt/p[2]/span').text\n",
    "agency = driver.find_element_by_xpath('//*[@id=\"content\"]/div[2]/div[2]/h4/span').text\n",
    "\n",
    "make_df_name(), name, agency"
   ]
  },
  {
   "cell_type": "code",
   "execution_count": null,
   "metadata": {},
   "outputs": [],
   "source": []
  },
  {
   "cell_type": "code",
   "execution_count": null,
   "metadata": {
    "scrolled": true
   },
   "outputs": [
    {
     "name": "stderr",
     "output_type": "stream",
     "text": [
      "\r",
      "  0%|          | 0/156 [00:00<?, ?it/s]"
     ]
    },
    {
     "name": "stdout",
     "output_type": "stream",
     "text": [
      "이하은의 댓글 수: 3112\n",
      "이전 댓글 모두 불러오기 시작...\n"
     ]
    },
    {
     "name": "stderr",
     "output_type": "stream",
     "text": [
      " 24%|██▍       | 38/156 [01:18<04:03,  2.07s/it]"
     ]
    },
    {
     "name": "stdout",
     "output_type": "stream",
     "text": [
      "Message: no such element: Unable to locate element: {\"method\":\"xpath\",\"selector\":\"//*[@id=\"comment\"]/div/div[2]/div/a\"}\n",
      "  (Session info: chrome=68.0.3440.106)\n",
      "  (Driver info: chromedriver=2.39.562713 (dd642283e958a93ebf6891600db055f1f1b4f3b2),platform=Mac OS X 10.13.6 x86_64)\n",
      "\n"
     ]
    },
    {
     "name": "stderr",
     "output_type": "stream",
     "text": [
      "\r",
      " 25%|██▌       | 39/156 [01:19<03:58,  2.04s/it]"
     ]
    },
    {
     "name": "stdout",
     "output_type": "stream",
     "text": [
      "Message: no such element: Unable to locate element: {\"method\":\"xpath\",\"selector\":\"//*[@id=\"comment\"]/div/div[2]/div/a\"}\n",
      "  (Session info: chrome=68.0.3440.106)\n",
      "  (Driver info: chromedriver=2.39.562713 (dd642283e958a93ebf6891600db055f1f1b4f3b2),platform=Mac OS X 10.13.6 x86_64)\n",
      "\n"
     ]
    },
    {
     "name": "stderr",
     "output_type": "stream",
     "text": [
      "100%|██████████| 156/156 [05:04<00:00,  1.95s/it]\n",
      "  0%|          | 0/3112 [00:00<?, ?it/s]"
     ]
    },
    {
     "name": "stdout",
     "output_type": "stream",
     "text": [
      "이전 댓글 모두 불러오기 성공!\n",
      "making dataframe...\n"
     ]
    },
    {
     "name": "stderr",
     "output_type": "stream",
     "text": [
      "  4%|▍         | 140/3112 [00:56<19:50,  2.50it/s]"
     ]
    }
   ],
   "source": [
    "%time LEE_HA_EUN = make_produce48_df(name)"
   ]
  },
  {
   "cell_type": "code",
   "execution_count": null,
   "metadata": {},
   "outputs": [],
   "source": [
    "LEE_HA_EUN.shape"
   ]
  },
  {
   "cell_type": "code",
   "execution_count": null,
   "metadata": {},
   "outputs": [],
   "source": [
    "LEE_HA_EUN.tail()"
   ]
  },
  {
   "cell_type": "code",
   "execution_count": null,
   "metadata": {},
   "outputs": [],
   "source": [
    "pickle.dump(LEE_HA_EUN, open('./produce48/MNH/LEE_HA_EUN.pkl','wb'))"
   ]
  },
  {
   "cell_type": "code",
   "execution_count": null,
   "metadata": {},
   "outputs": [],
   "source": [
    "LEE_HA_EUN_df = pickle.load(open('./produce48/MNH/LEE_HA_EUN.pkl','rb'))"
   ]
  },
  {
   "cell_type": "code",
   "execution_count": null,
   "metadata": {
    "scrolled": true
   },
   "outputs": [],
   "source": [
    "myslack.send_slack('{} finish!'.format(make_df_name()))"
   ]
  },
  {
   "cell_type": "code",
   "execution_count": null,
   "metadata": {},
   "outputs": [],
   "source": [
    "LEE_HA_EUN_df.tail()"
   ]
  },
  {
   "cell_type": "code",
   "execution_count": null,
   "metadata": {},
   "outputs": [],
   "source": []
  },
  {
   "cell_type": "code",
   "execution_count": null,
   "metadata": {},
   "outputs": [],
   "source": []
  },
  {
   "cell_type": "code",
   "execution_count": null,
   "metadata": {},
   "outputs": [],
   "source": []
  },
  {
   "cell_type": "code",
   "execution_count": 663,
   "metadata": {},
   "outputs": [],
   "source": [
    "driver.close() # 창닫기\n",
    "driver.quit() # 브라우져 닫기"
   ]
  },
  {
   "cell_type": "code",
   "execution_count": null,
   "metadata": {},
   "outputs": [],
   "source": []
  }
 ],
 "metadata": {
  "kernelspec": {
   "display_name": "Python 3",
   "language": "python",
   "name": "python3"
  },
  "language_info": {
   "codemirror_mode": {
    "name": "ipython",
    "version": 3
   },
   "file_extension": ".py",
   "mimetype": "text/x-python",
   "name": "python",
   "nbconvert_exporter": "python",
   "pygments_lexer": "ipython3",
   "version": "3.6.4"
  }
 },
 "nbformat": 4,
 "nbformat_minor": 2
}

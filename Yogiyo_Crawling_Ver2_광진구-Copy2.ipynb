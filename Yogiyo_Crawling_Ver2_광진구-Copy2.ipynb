{
 "cells": [
  {
   "cell_type": "code",
   "execution_count": 9,
   "metadata": {},
   "outputs": [],
   "source": [
    "# 기본 패키지\n",
    "import re\n",
    "import time\n",
    "import pickle\n",
    "import pandas as pd\n",
    "from tqdm import tqdm\n",
    "from tqdm import trange\n",
    "import warnings\n",
    "warnings.filterwarnings('ignore')\n",
    "\n",
    "# 크롤링 패키지\n",
    "import requests\n",
    "from selenium import webdriver\n",
    "\n",
    "# slack으로 작업 완료 메시지 전송을 위한 사용자 정의 로컬 패키지\n",
    "import myslack"
   ]
  },
  {
   "cell_type": "code",
   "execution_count": 10,
   "metadata": {},
   "outputs": [],
   "source": [
    "# 0. 페이지 한번 맨아래로 내리기\n",
    "def scroll_bottom():\n",
    "    driver.execute_script(\"window.scrollTo(0,document.body.scrollHeight);\")\n",
    "\n",
    "# 1. 입력한 위치로 설정하기\n",
    "def set_location(location):\n",
    "    print(location+'으로 위치 설정 하는중...')\n",
    "    driver.find_element_by_css_selector('#search > div > form > input').click()\n",
    "    driver.find_element_by_css_selector('#button_search_address > button.btn-search-location-cancel.btn-search-location.btn.btn-default > span').click()\n",
    "    driver.find_element_by_css_selector('#search > div > form > input').send_keys(location)\n",
    "    driver.find_element_by_css_selector('#button_search_address > button.btn.btn-default.ico-pick').click()\n",
    "    time.sleep(2)\n",
    "    print(location+'으로 위치 설정 완료!')\n",
    "    \n",
    "# 2-1. 카테고리 페이지 Element Number Dictionary 정의\n",
    "food_dict = { '프랜차이즈':3, '치킨':4, '피자&양식':5, '중국집':6,\n",
    "              '한식':7, '일식&돈까스':8, '족발&보쌈':9,\n",
    "              '야식':10, '분식':11, '카페&디저트':12 }\n",
    "\n",
    "# 2-2. 카테고리 페이지로 넘어가기\n",
    "def go_to_category(category):\n",
    "    print(category+' 카테고리 페이지 로드중...')\n",
    "    driver.find_element_by_xpath('//*[@id=\"category\"]/ul/li[{}]/span'.format(food_dict.get(category))).click()\n",
    "    time.sleep(3)\n",
    "    print(category+' 카테고리 페이지 로드 완료!')    \n",
    "\n",
    "# 3. 카테고리(음식점 리스트) 페이지 모두 펼치기\n",
    "def stretch_list_page():\n",
    "    restaurant_count = int(driver.find_element_by_css_selector('#restaurant_count').text)\n",
    "    scroll_count = int((restaurant_count/20))\n",
    "    print('모든 음식점 리스트 불러오기 시작...')\n",
    "    for _ in trange(scroll_count):\n",
    "        try:\n",
    "            scroll_bottom()\n",
    "            time.sleep(3)\n",
    "        except Exception as e:\n",
    "            pass\n",
    "    scroll_bottom()\n",
    "    time.sleep(3)\n",
    "    print('모든 음식점 리스트 불러오기 완료!')\n",
    "    \n",
    "# 4. 해당 카테고리 음식점 리스트 리턴\n",
    "def get_restaurant_list():\n",
    "    restaurant_list=[]\n",
    "    restaurants = driver.find_elements_by_css_selector('#content > div > div.restaurant-list > div.col-sm-6.contract')\n",
    "    for restaurant in restaurants:\n",
    "        restaurant_list.append(restaurant.find_element_by_css_selector('div > table > tbody > tr > td:nth-child(2) > div > div.restaurant-name.ng-binding').text)\n",
    "    return list(set(restaurant_list))\n",
    "\n",
    "# 5. 검색창에 음식점 검색하기\n",
    "def search_restaurant(restaurant_name):\n",
    "    try:\n",
    "        driver.find_element_by_xpath('//*[@id=\"category\"]/ul/li[1]/a').click()\n",
    "        driver.find_element_by_xpath('//*[@id=\"category\"]/ul/li[13]/form/div/input').send_keys(restaurant_name)    \n",
    "        driver.find_element_by_xpath('//*[@id=\"category_search_button\"]').click()\n",
    "    except Exception as e:\n",
    "        print('search_restaurant 에러')\n",
    "    time.sleep(5)\n",
    "\n",
    "# 6. 검색한 음식점 클릭\n",
    "def go_to_restaurant():\n",
    "    try:\n",
    "        driver.find_element_by_xpath('//*[@id=\"content\"]/div/div[4]/div[2]/div').click()\n",
    "    except Exception as e:\n",
    "        print('go_to_restaurant 에러')\n",
    "    time.sleep(5)\n",
    "\n",
    "# 7. 해당 음식점의 리뷰 페이지로 넘어가기\n",
    "def go_to_review():\n",
    "    print('리뷰 페이지 로드중...')\n",
    "    driver.find_element_by_xpath('//*[@id=\"content\"]/div[2]/div[1]/ul/li[2]/a').click()\n",
    "    time.sleep(2)\n",
    "    print('리뷰 페이지 로드 완료!')\n",
    "    \n",
    "# 8. 리뷰 더보기 클릭하기 \n",
    "def click_more_review():\n",
    "    driver.find_element_by_class_name('btn-more').click()\n",
    "    time.sleep(2)\n",
    "    \n",
    "# 9. 리뷰 페이지 모두 펼치기\n",
    "def stretch_review_page():\n",
    "    review_count = int(driver.find_element_by_xpath('//*[@id=\"content\"]/div[2]/div[1]/ul/li[2]/a/span').text)\n",
    "    click_count = int((review_count/10))\n",
    "    print('모든 리뷰 불러오기 시작...')\n",
    "    for _ in trange(click_count):\n",
    "        try:\n",
    "            scroll_bottom()\n",
    "            click_more_review()\n",
    "        except Exception as e:\n",
    "            pass\n",
    "    scroll_bottom()\n",
    "    print('모든 리뷰 불러오기 완료!')\n",
    "        \n",
    "# 10. 해당 음식점의 모든 리뷰 객체 리턴\n",
    "def get_all_review_elements():\n",
    "    reviews = driver.find_elements_by_css_selector('#review > li.list-group-item.star-point.ng-scope')\n",
    "    return reviews\n",
    "        \n",
    "# 11. 페이지 뒤로 가기 (한 음식점 리뷰를 모두 모았으면 다시 음식점 리스트 페이지로 돌아감)\n",
    "def go_back_page():\n",
    "    print('페이지 돌아가기중...')\n",
    "    driver.execute_script(\"window.history.go(-1)\")\n",
    "    time.sleep(5)\n",
    "    print('페이지 돌아가기 완료!'+'\\n')\n",
    "    \n",
    "# 12. 크롤링과 결과 데이터를 pickle 파일로 저장\n",
    "def save_pickle(location, category, yogiyo_df):\n",
    "    pickle.dump(yogiyo_df, open('./data/{}_{}_df.pkl'.format(location, category),'wb'))\n",
    "    print('{} {} pikcle save complete!'.format(location, category))"
   ]
  },
  {
   "cell_type": "code",
   "execution_count": 11,
   "metadata": {},
   "outputs": [],
   "source": [
    "# 13. 크롤링 메인 함수\n",
    "def yogiyo_crawling(location, category):\n",
    "    df = pd.DataFrame(columns=['Restaurant','UserID','Menu','Review',\n",
    "                                   'Total','Taste','Quantity','Delivery','Date'])\n",
    "    \n",
    "    try:\n",
    "        set_location(location) # 검색할 지역 설정\n",
    "        go_to_category(category) # 해당 카테고리(음식점 리스트) 페이지로 넘어감\n",
    "\n",
    "        print('Start [ {} - {} ] Crawling...'.format(location, category))\n",
    "        \n",
    "        stretch_list_page() # 카테고리(음식점 리스트) 페이지 모두 펼치기\n",
    "        restaurant_list = get_restaurant_list() # 해당 카테고리 음식점 리스트 받아오기\n",
    "        \n",
    "        for restaurant_name in restaurant_list:\n",
    "            try:\n",
    "                print('********** '+restaurant_name+' ( '+str(restaurant_list.index(restaurant_name)+1)\n",
    "                      +'/'+str(len(restaurant_list))+' 번째) **********')\n",
    "                \n",
    "                search_restaurant(restaurant_name) # 음식점을 순서대로 검색\n",
    "                go_to_restaurant() # 검색한 음식점 클릭             \n",
    "                go_to_review() # 해당 음식점의 리뷰페이지로 넘어감\n",
    "                stretch_review_page() # 해당 음식점의 모든 리뷰를 불러옴\n",
    "\n",
    "                for review in tqdm(get_all_review_elements()):  # 해당 음식점의 리뷰 수 만큼 데이터를 가져옴\n",
    "                    try:\n",
    "                        df.loc[len(df)] = { \n",
    "                            'Restaurant':driver.find_element_by_class_name('restaurant-name').text,\n",
    "                            'UserID':review.find_element_by_css_selector('span.review-id.ng-binding').text,\n",
    "                            'Menu':review.find_element_by_css_selector('div.order-items.default.ng-binding').text,\n",
    "                            'Review':review.find_element_by_css_selector('p').text,\n",
    "                            'Total':str(len(review.find_elements_by_css_selector('div > span.total > span.full.ng-scope'))),\n",
    "                            'Taste':review.find_element_by_css_selector('div:nth-child(2) > div > span.category > span:nth-child(3)').text,\n",
    "                            'Quantity':review.find_element_by_css_selector('div:nth-child(2) > div > span.category > span:nth-child(6)').text,\n",
    "                            'Delivery':review.find_element_by_css_selector('div:nth-child(2) > div > span.category > span:nth-child(9)').text,\n",
    "                            'Date':review.find_element_by_css_selector('div:nth-child(1) > span.review-time.ng-binding').text,\n",
    "                        }\n",
    "                    except Exception as e:\n",
    "                        print('리뷰 페이지 에러')\n",
    "                        print(e)\n",
    "                        pass\n",
    "                    \n",
    "            except Exception as e:\n",
    "                print('*** '+restaurant_name+' *** 음식점 페이지 에러')\n",
    "                go_back_page()\n",
    "                print(e)\n",
    "                pass\n",
    "            \n",
    "            print('음식점 리스트 페이지로 돌아가는중...')\n",
    "            go_back_page() # 해당 음식점 리뷰를 모두 모았으면 다시 음식점 리스트 페이지로 돌아감\n",
    "            \n",
    "    except Exception as e:\n",
    "        print('음식점 리스트 페이지 에러')\n",
    "        print(e)\n",
    "        pass\n",
    "        \n",
    "    print('End of [ {} - {} ] Crawling!'.format(location, category))\n",
    "    save_pickle(location, category, df) # 해당 음식점 리뷰 데이터를 pickle 파일로 저장함\n",
    "    myslack.send_slack('{} {} crawling finish!!!'.format(location, category))\n",
    "    \n",
    "    return df "
   ]
  },
  {
   "cell_type": "code",
   "execution_count": 12,
   "metadata": {},
   "outputs": [],
   "source": [
    "# 14. 광진구 모든 관할구역(동) 크롤링 실행 함수\n",
    "def start_gwangjingu_crawling(category):\n",
    "\n",
    "#     gwangjingu = ['화양동']\n",
    "    gwangjingu = ['군자동']\n",
    "\n",
    "    \n",
    "    for dong in gwangjingu:\n",
    "        try:\n",
    "            yogiyo = yogiyo_crawling('광진구 {}'.format(dong), category)\n",
    "            print(dong+' - '+category+', shape: '+str(yogiyo.shape)+'\\n')\n",
    "        except Exception as e:\n",
    "            print('***** '+dong+' 에러 발생 *****')\n",
    "            print(e)\n",
    "            pass"
   ]
  },
  {
   "cell_type": "markdown",
   "metadata": {},
   "source": [
    "---"
   ]
  },
  {
   "cell_type": "code",
   "execution_count": 7,
   "metadata": {},
   "outputs": [],
   "source": [
    "# Chrome webdriver - 요기요 메인 페이지 실행\n",
    "driver = webdriver.Chrome() \n",
    "url = 'https://www.yogiyo.co.kr/'\n",
    "driver.get(url)"
   ]
  },
  {
   "cell_type": "code",
   "execution_count": null,
   "metadata": {
    "scrolled": true
   },
   "outputs": [
    {
     "name": "stdout",
     "output_type": "stream",
     "text": [
      "광진구 군자동으로 위치 설정 하는중...\n",
      "광진구 군자동으로 위치 설정 완료!\n",
      "치킨 카테고리 페이지 로드중...\n"
     ]
    },
    {
     "name": "stderr",
     "output_type": "stream",
     "text": [
      "\r",
      "  0%|          | 0/4 [00:00<?, ?it/s]"
     ]
    },
    {
     "name": "stdout",
     "output_type": "stream",
     "text": [
      "치킨 카테고리 페이지 로드 완료!\n",
      "Start [ 광진구 군자동 - 치킨 ] Crawling...\n",
      "모든 음식점 리스트 불러오기 시작...\n"
     ]
    },
    {
     "name": "stderr",
     "output_type": "stream",
     "text": [
      "100%|██████████| 4/4 [00:12<00:00,  3.01s/it]\n"
     ]
    },
    {
     "name": "stdout",
     "output_type": "stream",
     "text": [
      "모든 음식점 리스트 불러오기 완료!\n",
      "********** 피자데이치킨데이능동점 ( 1/91 번째) **********\n",
      "리뷰 페이지 로드중...\n"
     ]
    },
    {
     "name": "stderr",
     "output_type": "stream",
     "text": [
      "0it [00:00, ?it/s]\n",
      "  0%|          | 0/5 [00:00<?, ?it/s]"
     ]
    },
    {
     "name": "stdout",
     "output_type": "stream",
     "text": [
      "리뷰 페이지 로드 완료!\n",
      "모든 리뷰 불러오기 시작...\n",
      "모든 리뷰 불러오기 완료!\n"
     ]
    },
    {
     "name": "stderr",
     "output_type": "stream",
     "text": [
      "100%|██████████| 5/5 [00:00<00:00,  5.63it/s]\n"
     ]
    },
    {
     "name": "stdout",
     "output_type": "stream",
     "text": [
      "음식점 리스트 페이지로 돌아가는중...\n",
      "페이지 돌아가기중...\n",
      "페이지 돌아가기 완료!\n",
      "\n",
      "********** 챠드킹수제버거-본점 ( 2/91 번째) **********\n",
      "리뷰 페이지 로드중...\n"
     ]
    },
    {
     "name": "stderr",
     "output_type": "stream",
     "text": [
      "0it [00:00, ?it/s]\n",
      "  0%|          | 0/3 [00:00<?, ?it/s]"
     ]
    },
    {
     "name": "stdout",
     "output_type": "stream",
     "text": [
      "리뷰 페이지 로드 완료!\n",
      "모든 리뷰 불러오기 시작...\n",
      "모든 리뷰 불러오기 완료!\n"
     ]
    },
    {
     "name": "stderr",
     "output_type": "stream",
     "text": [
      "100%|██████████| 3/3 [00:00<00:00,  5.28it/s]\n"
     ]
    },
    {
     "name": "stdout",
     "output_type": "stream",
     "text": [
      "음식점 리스트 페이지로 돌아가는중...\n",
      "페이지 돌아가기중...\n",
      "페이지 돌아가기 완료!\n",
      "\n",
      "********** 디디치킨-건대점 ( 3/91 번째) **********\n",
      "리뷰 페이지 로드중...\n"
     ]
    },
    {
     "name": "stderr",
     "output_type": "stream",
     "text": [
      "\r",
      "  0%|          | 0/24 [00:00<?, ?it/s]"
     ]
    },
    {
     "name": "stdout",
     "output_type": "stream",
     "text": [
      "리뷰 페이지 로드 완료!\n",
      "모든 리뷰 불러오기 시작...\n"
     ]
    },
    {
     "name": "stderr",
     "output_type": "stream",
     "text": [
      "100%|██████████| 24/24 [03:18<00:00,  8.29s/it]\n",
      "  0%|          | 0/241 [00:00<?, ?it/s]"
     ]
    },
    {
     "name": "stdout",
     "output_type": "stream",
     "text": [
      "모든 리뷰 불러오기 완료!\n"
     ]
    },
    {
     "name": "stderr",
     "output_type": "stream",
     "text": [
      "100%|██████████| 241/241 [00:51<00:00,  4.65it/s]\n"
     ]
    },
    {
     "name": "stdout",
     "output_type": "stream",
     "text": [
      "음식점 리스트 페이지로 돌아가는중...\n",
      "페이지 돌아가기중...\n",
      "페이지 돌아가기 완료!\n",
      "\n",
      "********** BHC-중곡점 ( 4/91 번째) **********\n",
      "리뷰 페이지 로드중...\n"
     ]
    },
    {
     "name": "stderr",
     "output_type": "stream",
     "text": [
      "\r",
      "  0%|          | 0/100 [00:00<?, ?it/s]"
     ]
    },
    {
     "name": "stdout",
     "output_type": "stream",
     "text": [
      "리뷰 페이지 로드 완료!\n",
      "모든 리뷰 불러오기 시작...\n"
     ]
    },
    {
     "name": "stderr",
     "output_type": "stream",
     "text": [
      "100%|██████████| 100/100 [12:54<00:00,  7.75s/it]\n",
      "  0%|          | 0/1009 [00:00<?, ?it/s]"
     ]
    },
    {
     "name": "stdout",
     "output_type": "stream",
     "text": [
      "모든 리뷰 불러오기 완료!\n"
     ]
    },
    {
     "name": "stderr",
     "output_type": "stream",
     "text": [
      "100%|██████████| 1009/1009 [06:40<00:00,  2.52it/s]\n"
     ]
    },
    {
     "name": "stdout",
     "output_type": "stream",
     "text": [
      "음식점 리스트 페이지로 돌아가는중...\n",
      "페이지 돌아가기중...\n",
      "페이지 돌아가기 완료!\n",
      "\n",
      "********** 호식이두마리치킨-화양점 ( 5/91 번째) **********\n",
      "리뷰 페이지 로드중...\n"
     ]
    },
    {
     "name": "stderr",
     "output_type": "stream",
     "text": [
      "0it [00:00, ?it/s]\n",
      "  0%|          | 0/4 [00:00<?, ?it/s]"
     ]
    },
    {
     "name": "stdout",
     "output_type": "stream",
     "text": [
      "리뷰 페이지 로드 완료!\n",
      "모든 리뷰 불러오기 시작...\n",
      "모든 리뷰 불러오기 완료!\n"
     ]
    },
    {
     "name": "stderr",
     "output_type": "stream",
     "text": [
      "100%|██████████| 4/4 [00:00<00:00,  4.28it/s]\n"
     ]
    },
    {
     "name": "stdout",
     "output_type": "stream",
     "text": [
      "음식점 리스트 페이지로 돌아가는중...\n",
      "페이지 돌아가기중...\n",
      "페이지 돌아가기 완료!\n",
      "\n",
      "********** 파닭세대 ( 6/91 번째) **********\n",
      "리뷰 페이지 로드중...\n"
     ]
    },
    {
     "name": "stderr",
     "output_type": "stream",
     "text": [
      "\r",
      "  0%|          | 0/15 [00:00<?, ?it/s]"
     ]
    },
    {
     "name": "stdout",
     "output_type": "stream",
     "text": [
      "리뷰 페이지 로드 완료!\n",
      "모든 리뷰 불러오기 시작...\n"
     ]
    },
    {
     "name": "stderr",
     "output_type": "stream",
     "text": [
      "100%|██████████| 15/15 [01:52<00:00,  7.53s/it]\n",
      "  0%|          | 0/158 [00:00<?, ?it/s]"
     ]
    },
    {
     "name": "stdout",
     "output_type": "stream",
     "text": [
      "모든 리뷰 불러오기 완료!\n"
     ]
    },
    {
     "name": "stderr",
     "output_type": "stream",
     "text": [
      "100%|██████████| 158/158 [00:53<00:00,  2.97it/s]\n"
     ]
    },
    {
     "name": "stdout",
     "output_type": "stream",
     "text": [
      "음식점 리스트 페이지로 돌아가는중...\n",
      "페이지 돌아가기중...\n",
      "페이지 돌아가기 완료!\n",
      "\n",
      "********** 화룡불닭 ( 7/91 번째) **********\n",
      "리뷰 페이지 로드중...\n"
     ]
    },
    {
     "name": "stderr",
     "output_type": "stream",
     "text": [
      "\r",
      "  0%|          | 0/167 [00:00<?, ?it/s]"
     ]
    },
    {
     "name": "stdout",
     "output_type": "stream",
     "text": [
      "리뷰 페이지 로드 완료!\n",
      "모든 리뷰 불러오기 시작...\n"
     ]
    },
    {
     "name": "stderr",
     "output_type": "stream",
     "text": [
      "100%|██████████| 167/167 [20:40<00:00,  7.43s/it]\n"
     ]
    },
    {
     "name": "stdout",
     "output_type": "stream",
     "text": [
      "모든 리뷰 불러오기 완료!\n"
     ]
    },
    {
     "name": "stderr",
     "output_type": "stream",
     "text": [
      "100%|██████████| 1676/1676 [16:19<00:00,  1.71it/s]\n"
     ]
    },
    {
     "name": "stdout",
     "output_type": "stream",
     "text": [
      "음식점 리스트 페이지로 돌아가는중...\n",
      "페이지 돌아가기중...\n",
      "페이지 돌아가기 완료!\n",
      "\n",
      "********** 투다리-화양점 ( 8/91 번째) **********\n",
      "리뷰 페이지 로드중...\n"
     ]
    },
    {
     "name": "stderr",
     "output_type": "stream",
     "text": [
      "0it [00:00, ?it/s]\n",
      "  0%|          | 0/7 [00:00<?, ?it/s]"
     ]
    },
    {
     "name": "stdout",
     "output_type": "stream",
     "text": [
      "리뷰 페이지 로드 완료!\n",
      "모든 리뷰 불러오기 시작...\n",
      "모든 리뷰 불러오기 완료!\n"
     ]
    },
    {
     "name": "stderr",
     "output_type": "stream",
     "text": [
      "100%|██████████| 7/7 [00:01<00:00,  3.66it/s]\n"
     ]
    },
    {
     "name": "stdout",
     "output_type": "stream",
     "text": [
      "음식점 리스트 페이지로 돌아가는중...\n",
      "페이지 돌아가기중...\n",
      "페이지 돌아가기 완료!\n",
      "\n",
      "********** 네네치킨-군자송정점 ( 9/91 번째) **********\n",
      "리뷰 페이지 로드중...\n"
     ]
    },
    {
     "name": "stderr",
     "output_type": "stream",
     "text": [
      "\r",
      "  0%|          | 0/62 [00:00<?, ?it/s]"
     ]
    },
    {
     "name": "stdout",
     "output_type": "stream",
     "text": [
      "리뷰 페이지 로드 완료!\n",
      "모든 리뷰 불러오기 시작...\n"
     ]
    },
    {
     "name": "stderr",
     "output_type": "stream",
     "text": [
      "100%|██████████| 62/62 [08:27<00:00,  8.18s/it]\n",
      "  0%|          | 0/629 [00:00<?, ?it/s]"
     ]
    },
    {
     "name": "stdout",
     "output_type": "stream",
     "text": [
      "모든 리뷰 불러오기 완료!\n"
     ]
    },
    {
     "name": "stderr",
     "output_type": "stream",
     "text": [
      "100%|██████████| 629/629 [04:13<00:00,  2.48it/s]\n"
     ]
    },
    {
     "name": "stdout",
     "output_type": "stream",
     "text": [
      "음식점 리스트 페이지로 돌아가는중...\n",
      "페이지 돌아가기중...\n",
      "페이지 돌아가기 완료!\n",
      "\n",
      "********** 후라이드참잘하는집-장안점 ( 10/91 번째) **********\n",
      "리뷰 페이지 로드중...\n"
     ]
    },
    {
     "name": "stderr",
     "output_type": "stream",
     "text": [
      "\r",
      "  0%|          | 0/23 [00:00<?, ?it/s]"
     ]
    },
    {
     "name": "stdout",
     "output_type": "stream",
     "text": [
      "리뷰 페이지 로드 완료!\n",
      "모든 리뷰 불러오기 시작...\n"
     ]
    },
    {
     "name": "stderr",
     "output_type": "stream",
     "text": [
      "100%|██████████| 23/23 [03:10<00:00,  8.29s/it]\n",
      "  0%|          | 0/235 [00:00<?, ?it/s]"
     ]
    },
    {
     "name": "stdout",
     "output_type": "stream",
     "text": [
      "모든 리뷰 불러오기 완료!\n"
     ]
    },
    {
     "name": "stderr",
     "output_type": "stream",
     "text": [
      "100%|██████████| 235/235 [01:27<00:00,  2.68it/s]\n"
     ]
    },
    {
     "name": "stdout",
     "output_type": "stream",
     "text": [
      "음식점 리스트 페이지로 돌아가는중...\n",
      "페이지 돌아가기중...\n",
      "페이지 돌아가기 완료!\n",
      "\n",
      "********** KFC-세종대점 ( 11/91 번째) **********\n",
      "리뷰 페이지 로드중...\n"
     ]
    },
    {
     "name": "stderr",
     "output_type": "stream",
     "text": [
      "\r",
      "  0%|          | 0/44 [00:00<?, ?it/s]"
     ]
    },
    {
     "name": "stdout",
     "output_type": "stream",
     "text": [
      "리뷰 페이지 로드 완료!\n",
      "모든 리뷰 불러오기 시작...\n"
     ]
    },
    {
     "name": "stderr",
     "output_type": "stream",
     "text": [
      "100%|██████████| 44/44 [2:23:10<00:00, 195.24s/it]  \n",
      "  0%|          | 0/422 [00:00<?, ?it/s]"
     ]
    },
    {
     "name": "stdout",
     "output_type": "stream",
     "text": [
      "모든 리뷰 불러오기 완료!\n"
     ]
    },
    {
     "name": "stderr",
     "output_type": "stream",
     "text": [
      "100%|██████████| 422/422 [02:29<00:00,  2.81it/s]\n"
     ]
    },
    {
     "name": "stdout",
     "output_type": "stream",
     "text": [
      "음식점 리스트 페이지로 돌아가는중...\n",
      "페이지 돌아가기중...\n",
      "페이지 돌아가기 완료!\n",
      "\n",
      "********** BHC-자양행복점 ( 12/91 번째) **********\n",
      "리뷰 페이지 로드중...\n"
     ]
    },
    {
     "name": "stderr",
     "output_type": "stream",
     "text": [
      "\r",
      "  0%|          | 0/147 [00:00<?, ?it/s]"
     ]
    },
    {
     "name": "stdout",
     "output_type": "stream",
     "text": [
      "리뷰 페이지 로드 완료!\n",
      "모든 리뷰 불러오기 시작...\n"
     ]
    },
    {
     "name": "stderr",
     "output_type": "stream",
     "text": [
      "100%|██████████| 147/147 [15:42<00:00,  6.41s/it]\n",
      "  0%|          | 0/1290 [00:00<?, ?it/s]"
     ]
    },
    {
     "name": "stdout",
     "output_type": "stream",
     "text": [
      "모든 리뷰 불러오기 완료!\n"
     ]
    },
    {
     "name": "stderr",
     "output_type": "stream",
     "text": [
      "100%|██████████| 1290/1290 [11:39<00:00,  1.84it/s]\n"
     ]
    },
    {
     "name": "stdout",
     "output_type": "stream",
     "text": [
      "음식점 리스트 페이지로 돌아가는중...\n",
      "페이지 돌아가기중...\n",
      "페이지 돌아가기 완료!\n",
      "\n",
      "********** 미니닭날개구이 ( 13/91 번째) **********\n",
      "리뷰 페이지 로드중...\n"
     ]
    },
    {
     "name": "stderr",
     "output_type": "stream",
     "text": [
      "\r",
      "  0%|          | 0/7 [00:00<?, ?it/s]"
     ]
    },
    {
     "name": "stdout",
     "output_type": "stream",
     "text": [
      "리뷰 페이지 로드 완료!\n",
      "모든 리뷰 불러오기 시작...\n"
     ]
    },
    {
     "name": "stderr",
     "output_type": "stream",
     "text": [
      "100%|██████████| 7/7 [00:52<00:00,  7.49s/it]\n",
      "  0%|          | 0/74 [00:00<?, ?it/s]"
     ]
    },
    {
     "name": "stdout",
     "output_type": "stream",
     "text": [
      "모든 리뷰 불러오기 완료!\n"
     ]
    },
    {
     "name": "stderr",
     "output_type": "stream",
     "text": [
      "100%|██████████| 74/74 [00:20<00:00,  3.54it/s]\n"
     ]
    },
    {
     "name": "stdout",
     "output_type": "stream",
     "text": [
      "음식점 리스트 페이지로 돌아가는중...\n",
      "페이지 돌아가기중...\n",
      "페이지 돌아가기 완료!\n",
      "\n",
      "********** 굽네치킨-중곡4동점 ( 14/91 번째) **********\n",
      "리뷰 페이지 로드중...\n"
     ]
    },
    {
     "name": "stderr",
     "output_type": "stream",
     "text": [
      "\r",
      "  0%|          | 0/14 [00:00<?, ?it/s]"
     ]
    },
    {
     "name": "stdout",
     "output_type": "stream",
     "text": [
      "리뷰 페이지 로드 완료!\n",
      "모든 리뷰 불러오기 시작...\n"
     ]
    },
    {
     "name": "stderr",
     "output_type": "stream",
     "text": [
      "100%|██████████| 14/14 [01:42<00:00,  7.34s/it]\n",
      "  0%|          | 0/140 [00:00<?, ?it/s]"
     ]
    },
    {
     "name": "stdout",
     "output_type": "stream",
     "text": [
      "모든 리뷰 불러오기 완료!\n"
     ]
    },
    {
     "name": "stderr",
     "output_type": "stream",
     "text": [
      "100%|██████████| 140/140 [00:46<00:00,  3.03it/s]\n"
     ]
    },
    {
     "name": "stdout",
     "output_type": "stream",
     "text": [
      "음식점 리스트 페이지로 돌아가는중...\n",
      "페이지 돌아가기중...\n",
      "페이지 돌아가기 완료!\n",
      "\n",
      "********** 충만치킨-군자직영점 ( 15/91 번째) **********\n",
      "리뷰 페이지 로드중...\n"
     ]
    },
    {
     "name": "stderr",
     "output_type": "stream",
     "text": [
      "\r",
      "  0%|          | 0/41 [00:00<?, ?it/s]"
     ]
    },
    {
     "name": "stdout",
     "output_type": "stream",
     "text": [
      "리뷰 페이지 로드 완료!\n",
      "모든 리뷰 불러오기 시작...\n"
     ]
    },
    {
     "name": "stderr",
     "output_type": "stream",
     "text": [
      "100%|██████████| 41/41 [06:03<00:00,  8.87s/it]\n",
      "  0%|          | 0/417 [00:00<?, ?it/s]"
     ]
    },
    {
     "name": "stdout",
     "output_type": "stream",
     "text": [
      "모든 리뷰 불러오기 완료!\n"
     ]
    },
    {
     "name": "stderr",
     "output_type": "stream",
     "text": [
      "100%|██████████| 417/417 [02:46<00:00,  2.51it/s]\n"
     ]
    },
    {
     "name": "stdout",
     "output_type": "stream",
     "text": [
      "음식점 리스트 페이지로 돌아가는중...\n",
      "페이지 돌아가기중...\n",
      "페이지 돌아가기 완료!\n",
      "\n",
      "********** 치피떡-중곡점 ( 16/91 번째) **********\n",
      "리뷰 페이지 로드중...\n"
     ]
    },
    {
     "name": "stderr",
     "output_type": "stream",
     "text": [
      "\r",
      "  0%|          | 0/3 [00:00<?, ?it/s]"
     ]
    },
    {
     "name": "stdout",
     "output_type": "stream",
     "text": [
      "리뷰 페이지 로드 완료!\n",
      "모든 리뷰 불러오기 시작...\n"
     ]
    },
    {
     "name": "stderr",
     "output_type": "stream",
     "text": [
      "100%|██████████| 3/3 [00:27<00:00,  9.05s/it]\n",
      "  0%|          | 0/37 [00:00<?, ?it/s]"
     ]
    },
    {
     "name": "stdout",
     "output_type": "stream",
     "text": [
      "모든 리뷰 불러오기 완료!\n"
     ]
    },
    {
     "name": "stderr",
     "output_type": "stream",
     "text": [
      "100%|██████████| 37/37 [00:09<00:00,  3.80it/s]\n"
     ]
    },
    {
     "name": "stdout",
     "output_type": "stream",
     "text": [
      "음식점 리스트 페이지로 돌아가는중...\n",
      "페이지 돌아가기중...\n",
      "페이지 돌아가기 완료!\n",
      "\n",
      "********** 페리카나-광장동점 ( 17/91 번째) **********\n",
      "리뷰 페이지 로드중...\n"
     ]
    },
    {
     "name": "stderr",
     "output_type": "stream",
     "text": [
      "\r",
      "  0%|          | 0/8 [00:00<?, ?it/s]"
     ]
    },
    {
     "name": "stdout",
     "output_type": "stream",
     "text": [
      "리뷰 페이지 로드 완료!\n",
      "모든 리뷰 불러오기 시작...\n"
     ]
    },
    {
     "name": "stderr",
     "output_type": "stream",
     "text": [
      "100%|██████████| 8/8 [01:08<00:00,  8.58s/it]\n",
      "  0%|          | 0/87 [00:00<?, ?it/s]"
     ]
    },
    {
     "name": "stdout",
     "output_type": "stream",
     "text": [
      "모든 리뷰 불러오기 완료!\n"
     ]
    },
    {
     "name": "stderr",
     "output_type": "stream",
     "text": [
      "100%|██████████| 87/87 [00:25<00:00,  3.45it/s]\n"
     ]
    },
    {
     "name": "stdout",
     "output_type": "stream",
     "text": [
      "음식점 리스트 페이지로 돌아가는중...\n",
      "페이지 돌아가기중...\n",
      "페이지 돌아가기 완료!\n",
      "\n",
      "********** 노랑통닭-건대점 ( 18/91 번째) **********\n",
      "리뷰 페이지 로드중...\n"
     ]
    },
    {
     "name": "stderr",
     "output_type": "stream",
     "text": [
      "\r",
      "  0%|          | 0/37 [00:00<?, ?it/s]"
     ]
    },
    {
     "name": "stdout",
     "output_type": "stream",
     "text": [
      "리뷰 페이지 로드 완료!\n",
      "모든 리뷰 불러오기 시작...\n"
     ]
    },
    {
     "name": "stderr",
     "output_type": "stream",
     "text": [
      "100%|██████████| 37/37 [04:20<00:00,  7.05s/it]\n",
      "  0%|          | 0/300 [00:00<?, ?it/s]"
     ]
    },
    {
     "name": "stdout",
     "output_type": "stream",
     "text": [
      "모든 리뷰 불러오기 완료!\n"
     ]
    },
    {
     "name": "stderr",
     "output_type": "stream",
     "text": [
      "100%|██████████| 300/300 [01:21<00:00,  3.68it/s]\n"
     ]
    },
    {
     "name": "stdout",
     "output_type": "stream",
     "text": [
      "음식점 리스트 페이지로 돌아가는중...\n",
      "페이지 돌아가기중...\n",
      "페이지 돌아가기 완료!\n",
      "\n",
      "********** 롯데리아-성수역점 ( 19/91 번째) **********\n",
      "리뷰 페이지 로드중...\n"
     ]
    },
    {
     "name": "stderr",
     "output_type": "stream",
     "text": [
      "\r",
      "  0%|          | 0/32 [00:00<?, ?it/s]"
     ]
    },
    {
     "name": "stdout",
     "output_type": "stream",
     "text": [
      "리뷰 페이지 로드 완료!\n",
      "모든 리뷰 불러오기 시작...\n"
     ]
    },
    {
     "name": "stderr",
     "output_type": "stream",
     "text": [
      "100%|██████████| 32/32 [04:06<00:00,  7.69s/it]\n",
      "  0%|          | 0/290 [00:00<?, ?it/s]"
     ]
    },
    {
     "name": "stdout",
     "output_type": "stream",
     "text": [
      "모든 리뷰 불러오기 완료!\n"
     ]
    },
    {
     "name": "stderr",
     "output_type": "stream",
     "text": [
      "100%|██████████| 290/290 [01:19<00:00,  3.65it/s]\n"
     ]
    },
    {
     "name": "stdout",
     "output_type": "stream",
     "text": [
      "음식점 리스트 페이지로 돌아가는중...\n",
      "페이지 돌아가기중...\n",
      "페이지 돌아가기 완료!\n",
      "\n",
      "********** 더후라이팬치킨-건대점 ( 20/91 번째) **********\n",
      "리뷰 페이지 로드중...\n"
     ]
    },
    {
     "name": "stderr",
     "output_type": "stream",
     "text": [
      "\r",
      "  0%|          | 0/1 [00:00<?, ?it/s]"
     ]
    },
    {
     "name": "stdout",
     "output_type": "stream",
     "text": [
      "리뷰 페이지 로드 완료!\n",
      "모든 리뷰 불러오기 시작...\n"
     ]
    },
    {
     "name": "stderr",
     "output_type": "stream",
     "text": [
      "100%|██████████| 1/1 [00:09<00:00,  9.11s/it]\n",
      "  0%|          | 0/12 [00:00<?, ?it/s]"
     ]
    },
    {
     "name": "stdout",
     "output_type": "stream",
     "text": [
      "모든 리뷰 불러오기 완료!\n"
     ]
    },
    {
     "name": "stderr",
     "output_type": "stream",
     "text": [
      "100%|██████████| 12/12 [00:03<00:00,  3.54it/s]\n"
     ]
    },
    {
     "name": "stdout",
     "output_type": "stream",
     "text": [
      "음식점 리스트 페이지로 돌아가는중...\n",
      "페이지 돌아가기중...\n",
      "페이지 돌아가기 완료!\n",
      "\n",
      "********** 윙스치킨 ( 21/91 번째) **********\n",
      "리뷰 페이지 로드중...\n"
     ]
    },
    {
     "name": "stderr",
     "output_type": "stream",
     "text": [
      "\r",
      "  0%|          | 0/19 [00:00<?, ?it/s]"
     ]
    },
    {
     "name": "stdout",
     "output_type": "stream",
     "text": [
      "리뷰 페이지 로드 완료!\n",
      "모든 리뷰 불러오기 시작...\n"
     ]
    },
    {
     "name": "stderr",
     "output_type": "stream",
     "text": [
      "100%|██████████| 19/19 [02:48<00:00,  8.85s/it]\n",
      "  0%|          | 0/198 [00:00<?, ?it/s]"
     ]
    },
    {
     "name": "stdout",
     "output_type": "stream",
     "text": [
      "모든 리뷰 불러오기 완료!\n"
     ]
    },
    {
     "name": "stderr",
     "output_type": "stream",
     "text": [
      "100%|██████████| 198/198 [00:51<00:00,  3.87it/s]\n"
     ]
    },
    {
     "name": "stdout",
     "output_type": "stream",
     "text": [
      "음식점 리스트 페이지로 돌아가는중...\n",
      "페이지 돌아가기중...\n",
      "페이지 돌아가기 완료!\n",
      "\n",
      "********** 세마리치킨쇼-서울북부직영1호점 ( 22/91 번째) **********\n",
      "리뷰 페이지 로드중...\n"
     ]
    },
    {
     "name": "stderr",
     "output_type": "stream",
     "text": [
      "\r",
      "  0%|          | 0/10 [00:00<?, ?it/s]"
     ]
    },
    {
     "name": "stdout",
     "output_type": "stream",
     "text": [
      "리뷰 페이지 로드 완료!\n",
      "모든 리뷰 불러오기 시작...\n"
     ]
    },
    {
     "name": "stderr",
     "output_type": "stream",
     "text": [
      "100%|██████████| 10/10 [01:20<00:00,  8.08s/it]\n",
      "  0%|          | 0/102 [00:00<?, ?it/s]"
     ]
    },
    {
     "name": "stdout",
     "output_type": "stream",
     "text": [
      "모든 리뷰 불러오기 완료!\n"
     ]
    },
    {
     "name": "stderr",
     "output_type": "stream",
     "text": [
      "100%|██████████| 102/102 [00:26<00:00,  3.85it/s]\n"
     ]
    },
    {
     "name": "stdout",
     "output_type": "stream",
     "text": [
      "음식점 리스트 페이지로 돌아가는중...\n",
      "페이지 돌아가기중...\n",
      "페이지 돌아가기 완료!\n",
      "\n",
      "********** 다꼬야끼순살치킨-건대점 ( 23/91 번째) **********\n",
      "리뷰 페이지 로드중...\n"
     ]
    },
    {
     "name": "stderr",
     "output_type": "stream",
     "text": [
      "\r",
      "  0%|          | 0/3 [00:00<?, ?it/s]"
     ]
    },
    {
     "name": "stdout",
     "output_type": "stream",
     "text": [
      "리뷰 페이지 로드 완료!\n",
      "모든 리뷰 불러오기 시작...\n"
     ]
    },
    {
     "name": "stderr",
     "output_type": "stream",
     "text": [
      "100%|██████████| 3/3 [00:14<00:00,  4.72s/it]\n",
      "  0%|          | 0/30 [00:00<?, ?it/s]"
     ]
    },
    {
     "name": "stdout",
     "output_type": "stream",
     "text": [
      "모든 리뷰 불러오기 완료!\n"
     ]
    },
    {
     "name": "stderr",
     "output_type": "stream",
     "text": [
      "100%|██████████| 30/30 [00:08<00:00,  3.57it/s]\n"
     ]
    },
    {
     "name": "stdout",
     "output_type": "stream",
     "text": [
      "음식점 리스트 페이지로 돌아가는중...\n",
      "페이지 돌아가기중...\n",
      "페이지 돌아가기 완료!\n",
      "\n",
      "********** BHC-중곡대박점 ( 24/91 번째) **********\n",
      "리뷰 페이지 로드중...\n"
     ]
    }
   ],
   "source": [
    "%time start_gwangjingu_crawling('치킨')"
   ]
  },
  {
   "cell_type": "code",
   "execution_count": null,
   "metadata": {},
   "outputs": [],
   "source": []
  },
  {
   "cell_type": "code",
   "execution_count": null,
   "metadata": {},
   "outputs": [],
   "source": []
  },
  {
   "cell_type": "code",
   "execution_count": 4,
   "metadata": {},
   "outputs": [],
   "source": [
    "df = pickle.load(open('./data/광진구 자양동_치킨_df.pkl','rb'))"
   ]
  },
  {
   "cell_type": "code",
   "execution_count": 5,
   "metadata": {},
   "outputs": [
    {
     "data": {
      "text/html": [
       "<div>\n",
       "<style scoped>\n",
       "    .dataframe tbody tr th:only-of-type {\n",
       "        vertical-align: middle;\n",
       "    }\n",
       "\n",
       "    .dataframe tbody tr th {\n",
       "        vertical-align: top;\n",
       "    }\n",
       "\n",
       "    .dataframe thead th {\n",
       "        text-align: right;\n",
       "    }\n",
       "</style>\n",
       "<table border=\"1\" class=\"dataframe\">\n",
       "  <thead>\n",
       "    <tr style=\"text-align: right;\">\n",
       "      <th></th>\n",
       "      <th>Restaurant</th>\n",
       "      <th>UserID</th>\n",
       "      <th>Menu</th>\n",
       "      <th>Review</th>\n",
       "      <th>Total</th>\n",
       "      <th>Taste</th>\n",
       "      <th>Quantity</th>\n",
       "      <th>Delivery</th>\n",
       "      <th>Date</th>\n",
       "    </tr>\n",
       "  </thead>\n",
       "  <tbody>\n",
       "    <tr>\n",
       "      <th>7442</th>\n",
       "      <td>롯데리아-건대역점</td>\n",
       "      <td>12**님</td>\n",
       "      <td>핫크리스피버거세트/2(&lt;디저트 선택&gt;(쉑쉑치킨（치즈）),&lt;드링크 선택&gt;(선택 사이다...</td>\n",
       "      <td>배달빠르고 맛있어요～～～～</td>\n",
       "      <td>5</td>\n",
       "      <td></td>\n",
       "      <td></td>\n",
       "      <td></td>\n",
       "      <td>2016년 6월 28일</td>\n",
       "    </tr>\n",
       "    <tr>\n",
       "      <th>7443</th>\n",
       "      <td>롯데리아-건대역점</td>\n",
       "      <td>rl**님</td>\n",
       "      <td>새우버거/1,데리세트/1(&lt;디저트 선택&gt;(세트포테이토),&lt;드링크 선택&gt;(세트 콜라（...</td>\n",
       "      <td>빨라도 너무 빨리 왔어요. 잘 먹었습니다.~^^</td>\n",
       "      <td>5</td>\n",
       "      <td></td>\n",
       "      <td></td>\n",
       "      <td></td>\n",
       "      <td>2016년 6월 22일</td>\n",
       "    </tr>\n",
       "    <tr>\n",
       "      <th>7444</th>\n",
       "      <td>콩닭콩닭-건대점</td>\n",
       "      <td>ly**님</td>\n",
       "      <td>순살반반（양념반＋간장반）/1</td>\n",
       "      <td>배달이 금방 왔습니다 좋았구요 함께 주신 감자튀김도 너무 맛있고 좋았어요 ㅎㅎ 전체...</td>\n",
       "      <td>5</td>\n",
       "      <td>4</td>\n",
       "      <td>5</td>\n",
       "      <td>5</td>\n",
       "      <td>6일 전</td>\n",
       "    </tr>\n",
       "    <tr>\n",
       "      <th>7445</th>\n",
       "      <td>콩닭콩닭-건대점</td>\n",
       "      <td>db**님</td>\n",
       "      <td>순살파닭/1</td>\n",
       "      <td>양도 너무많고 감자튀김 서비스까지 주시고 강추입니다!</td>\n",
       "      <td>5</td>\n",
       "      <td>4</td>\n",
       "      <td>5</td>\n",
       "      <td>4</td>\n",
       "      <td>2018년 8월 8일</td>\n",
       "    </tr>\n",
       "    <tr>\n",
       "      <th>7446</th>\n",
       "      <td>콩닭콩닭-건대점</td>\n",
       "      <td>손님</td>\n",
       "      <td>순살반반（양념반＋간장반）/1</td>\n",
       "      <td>순살반반(양념간장)👍</td>\n",
       "      <td>4</td>\n",
       "      <td>4</td>\n",
       "      <td>5</td>\n",
       "      <td>5</td>\n",
       "      <td>2018년 6월 19일</td>\n",
       "    </tr>\n",
       "  </tbody>\n",
       "</table>\n",
       "</div>"
      ],
      "text/plain": [
       "     Restaurant UserID                                               Menu  \\\n",
       "7442  롯데리아-건대역점  12**님  핫크리스피버거세트/2(<디저트 선택>(쉑쉑치킨（치즈）),<드링크 선택>(선택 사이다...   \n",
       "7443  롯데리아-건대역점  rl**님  새우버거/1,데리세트/1(<디저트 선택>(세트포테이토),<드링크 선택>(세트 콜라（...   \n",
       "7444   콩닭콩닭-건대점  ly**님                                    순살반반（양념반＋간장반）/1   \n",
       "7445   콩닭콩닭-건대점  db**님                                             순살파닭/1   \n",
       "7446   콩닭콩닭-건대점     손님                                    순살반반（양념반＋간장반）/1   \n",
       "\n",
       "                                                 Review Total Taste Quantity  \\\n",
       "7442                                     배달빠르고 맛있어요～～～～     5                  \n",
       "7443                         빨라도 너무 빨리 왔어요. 잘 먹었습니다.~^^     5                  \n",
       "7444  배달이 금방 왔습니다 좋았구요 함께 주신 감자튀김도 너무 맛있고 좋았어요 ㅎㅎ 전체...     5     4        5   \n",
       "7445                      양도 너무많고 감자튀김 서비스까지 주시고 강추입니다!     5     4        5   \n",
       "7446                                        순살반반(양념간장)👍     4     4        5   \n",
       "\n",
       "     Delivery          Date  \n",
       "7442           2016년 6월 28일  \n",
       "7443           2016년 6월 22일  \n",
       "7444        5          6일 전  \n",
       "7445        4   2018년 8월 8일  \n",
       "7446        5  2018년 6월 19일  "
      ]
     },
     "execution_count": 5,
     "metadata": {},
     "output_type": "execute_result"
    }
   ],
   "source": [
    "df.tail()"
   ]
  },
  {
   "cell_type": "code",
   "execution_count": null,
   "metadata": {},
   "outputs": [],
   "source": []
  },
  {
   "cell_type": "code",
   "execution_count": null,
   "metadata": {},
   "outputs": [],
   "source": []
  },
  {
   "cell_type": "code",
   "execution_count": null,
   "metadata": {},
   "outputs": [],
   "source": []
  },
  {
   "cell_type": "code",
   "execution_count": 17,
   "metadata": {},
   "outputs": [],
   "source": [
    "# Chrome webdriver 종료\n",
    "driver.close() \n",
    "driver.quit() "
   ]
  },
  {
   "cell_type": "markdown",
   "metadata": {},
   "source": [
    "---"
   ]
  }
 ],
 "metadata": {
  "kernelspec": {
   "display_name": "Python 3",
   "language": "python",
   "name": "python3"
  },
  "language_info": {
   "codemirror_mode": {
    "name": "ipython",
    "version": 3
   },
   "file_extension": ".py",
   "mimetype": "text/x-python",
   "name": "python",
   "nbconvert_exporter": "python",
   "pygments_lexer": "ipython3",
   "version": "3.6.4"
  }
 },
 "nbformat": 4,
 "nbformat_minor": 2
}

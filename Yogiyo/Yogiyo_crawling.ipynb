{
 "cells": [
  {
   "cell_type": "code",
   "execution_count": 245,
   "metadata": {},
   "outputs": [],
   "source": [
    "import pandas as pd\n",
    "from bs4 import BeautifulSoup\n",
    "import requests\n",
    "from selenium import webdriver\n",
    "from selenium.webdriver.support.ui import WebDriverWait\n",
    "from selenium.webdriver.support import expected_conditions as EC\n",
    "from selenium.webdriver.common.by import By\n",
    "import myslack\n",
    "import datetime as dt\n",
    "import pickle\n",
    "import time\n",
    "import re\n",
    "from tqdm import trange"
   ]
  },
  {
   "cell_type": "code",
   "execution_count": 293,
   "metadata": {},
   "outputs": [],
   "source": [
    "driver = webdriver.Chrome()  \n",
    "url = 'https://www.yogiyo.co.kr/mobile/?utm_source=google&utm_medium=cpc&utm_campaign=sem_bra_orignal&utm_term=%EC%9A%94%EA%B8%B0%EC%9A%94&utm_id=sem_000001&referrer=adjust_tracker%3Dgrm2aa%26adjust_google_network%3Dg%26adjust_google_placement%3D%26adjust_campaign%3Dsem_bra_web_kr_700886066_cpc%26adjust_adgroup%3D38249737818%26adjust_creative%3D%EC%9A%94%EA%B8%B0%EC%9A%94_b&gclid=EAIaIQobChMIv9DaxIL-3AIVA6yWCh0C8glmEAAYASAAEgLbF_D_BwE#/%EC%84%9C%EC%9A%B8/138223/'\n",
    "driver.get(url) "
   ]
  },
  {
   "cell_type": "code",
   "execution_count": 290,
   "metadata": {},
   "outputs": [],
   "source": [
    "food_dict = {\n",
    "    '프랜차이즈':3, '치킨':4, '피자':5, '양식':5, '중국집':6,\n",
    "    '한식':7, '일식':8, '돈가스':8, '족발':9, '보쌈':9, \n",
    "    '야식':10, '분식':11, '카페':12, '디저트':12 }"
   ]
  },
  {
   "cell_type": "code",
   "execution_count": 297,
   "metadata": {},
   "outputs": [],
   "source": [
    "# 현재 위치로 설정하기\n",
    "def set_location():\n",
    "    driver.find_element_by_xpath('//*[@id=\"search\"]/div/span[1]/button').click()\n",
    "    print('현재 위치로 설정하는중...')\n",
    "    time.sleep(5)\n",
    "    print('현재 위치 설정 완료!')\n",
    "    \n",
    "# 카테고리 페이지로 넘어가기\n",
    "def go_to_category(category):\n",
    "    driver.find_element_by_xpath('//*[@id=\"category\"]/ul/li[{}]/span'.format(food_dict.get(category))).click()\n",
    "\n",
    "# 해당 카테고리의 음식점 갯수 저장\n",
    "def get_restaurant_count():\n",
    "    return int(driver.find_element_by_xpath('//*[@id=\"restaurant_count\"]').text)    \n",
    "    \n",
    "# 해당 카테고리의 음식점 페이지로 넘어가기    \n",
    "def go_to_restaurant(restaurant_num, restaurant_name):\n",
    "    restaurant_name = driver.find_element_by_class_name('restaurant-name').text\n",
    "    print(str(restaurant_num)+'번째 음식점 {} 방문'.format(restaurant_name))\n",
    "    driver.find_element_by_xpath('//*[@id=\"content\"]/div/div[4]/div[{}]/div'.format(restaurant_num)).click()\n",
    "    time.sleep(2)\n",
    "    \n",
    "# 해당 음식점의 리뷰 페이지로 넘어가기\n",
    "def go_to_review(restaurant_num):\n",
    "    print(str(restaurant_num)+'번째 음식점 리뷰 페이지로 넘어가는중...')\n",
    "    driver.find_element_by_xpath('//*[@id=\"content\"]/div[2]/div[1]/ul/li[2]/a').click()\n",
    "    time.sleep(2)\n",
    "    \n",
    "# 해당 음식점의 리뷰 갯수 반환\n",
    "def get_review_count():\n",
    "    return int(driver.find_element_by_xpath('//*[@id=\"content\"]/div[2]/div[1]/ul/li[2]/a/span').text)\n",
    "    \n",
    "# 페이지 한번 맨아래로 내리기\n",
    "def scroll_bottom():\n",
    "    driver.execute_script(\"window.scrollTo(0,document.body.scrollHeight);\")\n",
    "\n",
    "# 카테고리(음식점 리스트) 페이지에서 음식점 리스트 로드하기\n",
    "def cat_page_scroll_repeat(restaurant_count):\n",
    "    # 브라우저의 스크롤 위치 조절\n",
    "    height=200+118*(restaurant_count//2)\n",
    "    driver.execute_script(\"window.scrollTo(0,{})\".format(height))\n",
    "    print('카테고리(음식점 리스트) 페이지 (0,{}) 위치로 내리는중...'.format(height))\n",
    "    time.sleep(3)\n",
    "    \n",
    "# 더보기 클릭하기 \n",
    "def click_more_review():\n",
    "#     wait = WebDriverWait(driver, 10)\n",
    "#     element = wait.until(EC.element_to_be_clickable((By.CSS_SELECTOR, '#review > li.list-group-item.btn-more > a')))\n",
    "    driver.find_element_by_class_name('btn-more').click()\n",
    "    time.sleep(2)\n",
    "\n",
    "# 리뷰 페이지 모두 펼치기\n",
    "def stretch_review_page():\n",
    "    review_count = int(driver.find_element_by_xpath('//*[@id=\"content\"]/div[2]/div[1]/ul/li[2]/a/span').text)\n",
    "    click_count = int((review_count/10))\n",
    "    print('모든 리뷰 불러오기 시작...')\n",
    "    for _ in trange(click_count):\n",
    "        try:\n",
    "            scroll_bottom()\n",
    "            print('리뷰 스크롤 내리는중...')\n",
    "            click_more_review()\n",
    "        except Exception as e:\n",
    "            pass\n",
    "    print('모든 리뷰 불러오기 완료!')\n",
    "        \n",
    "# 페이지 뒤로 가기 (한 음식점 리뷰를 모두 모았으면 다시 음식점 리스트 페이지로 돌아감)\n",
    "def go_back_page():\n",
    "    driver.execute_script(\"window.history.go(-1)\")    "
   ]
  },
  {
   "cell_type": "code",
   "execution_count": 295,
   "metadata": {},
   "outputs": [
    {
     "name": "stdout",
     "output_type": "stream",
     "text": [
      "346.5\n"
     ]
    },
    {
     "data": {
      "text/plain": [
       "{'x': 90, 'y': 297}"
      ]
     },
     "execution_count": 295,
     "metadata": {},
     "output_type": "execute_result"
    }
   ],
   "source": [
    "print(178+60+56+52.5)\n",
    "driver.execute_script(\"window.scrollTo(330,{})\".format(200))\n",
    "driver.find_element_by_xpath('//*[@id=\"content\"]/div/div[3]/p').location\n"
   ]
  },
  {
   "cell_type": "code",
   "execution_count": 296,
   "metadata": {
    "scrolled": true
   },
   "outputs": [
    {
     "name": "stdout",
     "output_type": "stream",
     "text": [
      "카테고리(음식점 리스트) 페이지 (0,200) 위치로 내리는중...\n",
      "1번째 음식점 금문도24시영업-송파본점 방문\n",
      "카테고리(음식점 리스트) 페이지 (0,200) 위치로 내리는중...\n",
      "2번째 음식점 리얼안심&찹쌀탕수육-송파점 방문\n",
      "카테고리(음식점 리스트) 페이지 (0,318) 위치로 내리는중...\n",
      "3번째 음식점 베트남쌀국수(퍼사이공) 방문\n",
      "카테고리(음식점 리스트) 페이지 (0,318) 위치로 내리는중...\n",
      "4번째 음식점 쌍용각 방문\n",
      "카테고리(음식점 리스트) 페이지 (0,436) 위치로 내리는중...\n",
      "5번째 음식점 서유기짬뽕-본점 방문\n",
      "카테고리(음식점 리스트) 페이지 (0,436) 위치로 내리는중...\n",
      "6번째 음식점 황제짜장-24시 방문\n",
      "카테고리(음식점 리스트) 페이지 (0,554) 위치로 내리는중...\n",
      "7번째 음식점 짜장면아저씨 방문\n",
      "카테고리(음식점 리스트) 페이지 (0,554) 위치로 내리는중...\n",
      "8번째 음식점 포청천24시 방문\n",
      "카테고리(음식점 리스트) 페이지 (0,672) 위치로 내리는중...\n",
      "9번째 음식점 야래향 방문\n",
      "카테고리(음식점 리스트) 페이지 (0,672) 위치로 내리는중...\n",
      "10번째 음식점 미니닭날개구이 방문\n",
      "카테고리(음식점 리스트) 페이지 (0,790) 위치로 내리는중...\n",
      "11번째 음식점 중화요리대성원 방문\n",
      "카테고리(음식점 리스트) 페이지 (0,790) 위치로 내리는중...\n",
      "12번째 음식점 동북양꼬치-성내점 방문\n"
     ]
    }
   ],
   "source": [
    "for i in range(get_restaurant_count()):\n",
    "    cat_page_scroll_repeat(i)\n",
    "    driver.find_element_by_xpath('//*[@id=\"content\"]/div/div[4]/div[{}]/div'.format(i+2)).click()\n",
    "    time.sleep(1)\n",
    "    print(str(i+1)+'번째 음식점 {} 방문'.format(driver.find_element_by_class_name('restaurant-name').text))\n",
    "    go_back_page()\n",
    "    time.sleep(2)"
   ]
  },
  {
   "cell_type": "code",
   "execution_count": null,
   "metadata": {},
   "outputs": [],
   "source": []
  },
  {
   "cell_type": "code",
   "execution_count": 310,
   "metadata": {},
   "outputs": [],
   "source": [
    "reviews = driver.find_elements_by_css_selector('#review > li:nth-child(2)')"
   ]
  },
  {
   "cell_type": "code",
   "execution_count": 315,
   "metadata": {},
   "outputs": [
    {
     "name": "stdout",
     "output_type": "stream",
     "text": [
      "★\n"
     ]
    }
   ],
   "source": [
    "a=[]\n",
    "for review in reviews:\n",
    "    print(review.find_element_by_css_selector('.full.ng-scope').text)"
   ]
  },
  {
   "cell_type": "code",
   "execution_count": 322,
   "metadata": {},
   "outputs": [
    {
     "name": "stdout",
     "output_type": "stream",
     "text": [
      "★\n",
      "★\n"
     ]
    }
   ],
   "source": [
    "print(driver.find_element_by_css_selector('#review > li:nth-child(2) > div:nth-child(2) > div > span.total > span:nth-child(1)').text)\n",
    "print(driver.find_element_by_xpath('//*[@id=\"review\"]/li[2]/div[2]/div/span[1]/span[1]').text)"
   ]
  },
  {
   "cell_type": "code",
   "execution_count": 323,
   "metadata": {},
   "outputs": [
    {
     "name": "stdout",
     "output_type": "stream",
     "text": [
      "★\n",
      "★\n"
     ]
    }
   ],
   "source": [
    "print(driver.find_element_by_css_selector('#review > li:nth-child(2) > div:nth-child(2) > div > span.total > span:nth-child(2)').text)\n",
    "print(driver.find_element_by_xpath('//*[@id=\"review\"]/li[2]/div[2]/div/span[1]/span[2]').text)"
   ]
  },
  {
   "cell_type": "code",
   "execution_count": 324,
   "metadata": {},
   "outputs": [
    {
     "name": "stdout",
     "output_type": "stream",
     "text": [
      "★\n",
      "★\n"
     ]
    }
   ],
   "source": [
    "print(driver.find_element_by_css_selector('#review > li:nth-child(2) > div:nth-child(2) > div > span.total > span:nth-child(3)').text)\n",
    "print(driver.find_element_by_xpath('//*[@id=\"review\"]/li[2]/div[2]/div/span[1]/span[3]').text)"
   ]
  },
  {
   "cell_type": "code",
   "execution_count": 325,
   "metadata": {},
   "outputs": [
    {
     "name": "stdout",
     "output_type": "stream",
     "text": [
      "★\n",
      "★\n"
     ]
    }
   ],
   "source": [
    "print(driver.find_element_by_css_selector('#review > li:nth-child(2) > div:nth-child(2) > div > span.total > span:nth-child(4)').text)\n",
    "print(driver.find_element_by_xpath('//*[@id=\"review\"]/li[2]/div[2]/div/span[1]/span[4]').text)"
   ]
  },
  {
   "cell_type": "code",
   "execution_count": 326,
   "metadata": {},
   "outputs": [
    {
     "name": "stdout",
     "output_type": "stream",
     "text": [
      "★\n",
      "★\n"
     ]
    }
   ],
   "source": [
    "print(driver.find_element_by_css_selector('#review > li:nth-child(2) > div:nth-child(2) > div > span.total > span:nth-child(5)').text)\n",
    "print(driver.find_element_by_xpath('//*[@id=\"review\"]/li[2]/div[2]/div/span[1]/span[5]').text)"
   ]
  },
  {
   "cell_type": "code",
   "execution_count": 395,
   "metadata": {},
   "outputs": [
    {
     "name": "stdout",
     "output_type": "stream",
     "text": [
      "★★★★★\n",
      "★★★★★\n"
     ]
    },
    {
     "ename": "InvalidSelectorException",
     "evalue": "Message: invalid selector: Compound class names not permitted\n  (Session info: chrome=68.0.3440.106)\n  (Driver info: chromedriver=2.39.562713 (dd642283e958a93ebf6891600db055f1f1b4f3b2),platform=Mac OS X 10.13.6 x86_64)\n",
     "output_type": "error",
     "traceback": [
      "\u001b[0;31m---------------------------------------------------------------------------\u001b[0m",
      "\u001b[0;31mInvalidSelectorException\u001b[0m                  Traceback (most recent call last)",
      "\u001b[0;32m<ipython-input-395-938126e32686>\u001b[0m in \u001b[0;36m<module>\u001b[0;34m()\u001b[0m\n\u001b[1;32m      1\u001b[0m \u001b[0mprint\u001b[0m\u001b[0;34m(\u001b[0m\u001b[0mdriver\u001b[0m\u001b[0;34m.\u001b[0m\u001b[0mfind_element_by_css_selector\u001b[0m\u001b[0;34m(\u001b[0m\u001b[0;34m'#review > li:nth-child(2) > div:nth-child(2) > div > span.total'\u001b[0m\u001b[0;34m)\u001b[0m\u001b[0;34m.\u001b[0m\u001b[0mtext\u001b[0m\u001b[0;34m)\u001b[0m\u001b[0;34m\u001b[0m\u001b[0m\n\u001b[1;32m      2\u001b[0m \u001b[0mprint\u001b[0m\u001b[0;34m(\u001b[0m\u001b[0mdriver\u001b[0m\u001b[0;34m.\u001b[0m\u001b[0mfind_element_by_xpath\u001b[0m\u001b[0;34m(\u001b[0m\u001b[0;34m'//*[@id=\"review\"]/li[2]/div[2]/div/span[1]'\u001b[0m\u001b[0;34m)\u001b[0m\u001b[0;34m.\u001b[0m\u001b[0mtext\u001b[0m\u001b[0;34m)\u001b[0m\u001b[0;34m\u001b[0m\u001b[0m\n\u001b[0;32m----> 3\u001b[0;31m \u001b[0mprint\u001b[0m\u001b[0;34m(\u001b[0m\u001b[0mdriver\u001b[0m\u001b[0;34m.\u001b[0m\u001b[0mfind_element_by_class_name\u001b[0m\u001b[0;34m(\u001b[0m\u001b[0;34m'list-group-item > star-point'\u001b[0m\u001b[0;34m)\u001b[0m\u001b[0;34m.\u001b[0m\u001b[0mtext\u001b[0m\u001b[0;34m)\u001b[0m\u001b[0;34m\u001b[0m\u001b[0m\n\u001b[0m",
      "\u001b[0;32m/Library/Frameworks/Python.framework/Versions/3.6/lib/python3.6/site-packages/selenium/webdriver/remote/webdriver.py\u001b[0m in \u001b[0;36mfind_element_by_class_name\u001b[0;34m(self, name)\u001b[0m\n\u001b[1;32m    555\u001b[0m             \u001b[0melement\u001b[0m \u001b[0;34m=\u001b[0m \u001b[0mdriver\u001b[0m\u001b[0;34m.\u001b[0m\u001b[0mfind_element_by_class_name\u001b[0m\u001b[0;34m(\u001b[0m\u001b[0;34m'foo'\u001b[0m\u001b[0;34m)\u001b[0m\u001b[0;34m\u001b[0m\u001b[0m\n\u001b[1;32m    556\u001b[0m         \"\"\"\n\u001b[0;32m--> 557\u001b[0;31m         \u001b[0;32mreturn\u001b[0m \u001b[0mself\u001b[0m\u001b[0;34m.\u001b[0m\u001b[0mfind_element\u001b[0m\u001b[0;34m(\u001b[0m\u001b[0mby\u001b[0m\u001b[0;34m=\u001b[0m\u001b[0mBy\u001b[0m\u001b[0;34m.\u001b[0m\u001b[0mCLASS_NAME\u001b[0m\u001b[0;34m,\u001b[0m \u001b[0mvalue\u001b[0m\u001b[0;34m=\u001b[0m\u001b[0mname\u001b[0m\u001b[0;34m)\u001b[0m\u001b[0;34m\u001b[0m\u001b[0m\n\u001b[0m\u001b[1;32m    558\u001b[0m \u001b[0;34m\u001b[0m\u001b[0m\n\u001b[1;32m    559\u001b[0m     \u001b[0;32mdef\u001b[0m \u001b[0mfind_elements_by_class_name\u001b[0m\u001b[0;34m(\u001b[0m\u001b[0mself\u001b[0m\u001b[0;34m,\u001b[0m \u001b[0mname\u001b[0m\u001b[0;34m)\u001b[0m\u001b[0;34m:\u001b[0m\u001b[0;34m\u001b[0m\u001b[0m\n",
      "\u001b[0;32m/Library/Frameworks/Python.framework/Versions/3.6/lib/python3.6/site-packages/selenium/webdriver/remote/webdriver.py\u001b[0m in \u001b[0;36mfind_element\u001b[0;34m(self, by, value)\u001b[0m\n\u001b[1;32m    955\u001b[0m         return self.execute(Command.FIND_ELEMENT, {\n\u001b[1;32m    956\u001b[0m             \u001b[0;34m'using'\u001b[0m\u001b[0;34m:\u001b[0m \u001b[0mby\u001b[0m\u001b[0;34m,\u001b[0m\u001b[0;34m\u001b[0m\u001b[0m\n\u001b[0;32m--> 957\u001b[0;31m             'value': value})['value']\n\u001b[0m\u001b[1;32m    958\u001b[0m \u001b[0;34m\u001b[0m\u001b[0m\n\u001b[1;32m    959\u001b[0m     \u001b[0;32mdef\u001b[0m \u001b[0mfind_elements\u001b[0m\u001b[0;34m(\u001b[0m\u001b[0mself\u001b[0m\u001b[0;34m,\u001b[0m \u001b[0mby\u001b[0m\u001b[0;34m=\u001b[0m\u001b[0mBy\u001b[0m\u001b[0;34m.\u001b[0m\u001b[0mID\u001b[0m\u001b[0;34m,\u001b[0m \u001b[0mvalue\u001b[0m\u001b[0;34m=\u001b[0m\u001b[0;32mNone\u001b[0m\u001b[0;34m)\u001b[0m\u001b[0;34m:\u001b[0m\u001b[0;34m\u001b[0m\u001b[0m\n",
      "\u001b[0;32m/Library/Frameworks/Python.framework/Versions/3.6/lib/python3.6/site-packages/selenium/webdriver/remote/webdriver.py\u001b[0m in \u001b[0;36mexecute\u001b[0;34m(self, driver_command, params)\u001b[0m\n\u001b[1;32m    312\u001b[0m         \u001b[0mresponse\u001b[0m \u001b[0;34m=\u001b[0m \u001b[0mself\u001b[0m\u001b[0;34m.\u001b[0m\u001b[0mcommand_executor\u001b[0m\u001b[0;34m.\u001b[0m\u001b[0mexecute\u001b[0m\u001b[0;34m(\u001b[0m\u001b[0mdriver_command\u001b[0m\u001b[0;34m,\u001b[0m \u001b[0mparams\u001b[0m\u001b[0;34m)\u001b[0m\u001b[0;34m\u001b[0m\u001b[0m\n\u001b[1;32m    313\u001b[0m         \u001b[0;32mif\u001b[0m \u001b[0mresponse\u001b[0m\u001b[0;34m:\u001b[0m\u001b[0;34m\u001b[0m\u001b[0m\n\u001b[0;32m--> 314\u001b[0;31m             \u001b[0mself\u001b[0m\u001b[0;34m.\u001b[0m\u001b[0merror_handler\u001b[0m\u001b[0;34m.\u001b[0m\u001b[0mcheck_response\u001b[0m\u001b[0;34m(\u001b[0m\u001b[0mresponse\u001b[0m\u001b[0;34m)\u001b[0m\u001b[0;34m\u001b[0m\u001b[0m\n\u001b[0m\u001b[1;32m    315\u001b[0m             response['value'] = self._unwrap_value(\n\u001b[1;32m    316\u001b[0m                 response.get('value', None))\n",
      "\u001b[0;32m/Library/Frameworks/Python.framework/Versions/3.6/lib/python3.6/site-packages/selenium/webdriver/remote/errorhandler.py\u001b[0m in \u001b[0;36mcheck_response\u001b[0;34m(self, response)\u001b[0m\n\u001b[1;32m    240\u001b[0m                 \u001b[0malert_text\u001b[0m \u001b[0;34m=\u001b[0m \u001b[0mvalue\u001b[0m\u001b[0;34m[\u001b[0m\u001b[0;34m'alert'\u001b[0m\u001b[0;34m]\u001b[0m\u001b[0;34m.\u001b[0m\u001b[0mget\u001b[0m\u001b[0;34m(\u001b[0m\u001b[0;34m'text'\u001b[0m\u001b[0;34m)\u001b[0m\u001b[0;34m\u001b[0m\u001b[0m\n\u001b[1;32m    241\u001b[0m             \u001b[0;32mraise\u001b[0m \u001b[0mexception_class\u001b[0m\u001b[0;34m(\u001b[0m\u001b[0mmessage\u001b[0m\u001b[0;34m,\u001b[0m \u001b[0mscreen\u001b[0m\u001b[0;34m,\u001b[0m \u001b[0mstacktrace\u001b[0m\u001b[0;34m,\u001b[0m \u001b[0malert_text\u001b[0m\u001b[0;34m)\u001b[0m\u001b[0;34m\u001b[0m\u001b[0m\n\u001b[0;32m--> 242\u001b[0;31m         \u001b[0;32mraise\u001b[0m \u001b[0mexception_class\u001b[0m\u001b[0;34m(\u001b[0m\u001b[0mmessage\u001b[0m\u001b[0;34m,\u001b[0m \u001b[0mscreen\u001b[0m\u001b[0;34m,\u001b[0m \u001b[0mstacktrace\u001b[0m\u001b[0;34m)\u001b[0m\u001b[0;34m\u001b[0m\u001b[0m\n\u001b[0m\u001b[1;32m    243\u001b[0m \u001b[0;34m\u001b[0m\u001b[0m\n\u001b[1;32m    244\u001b[0m     \u001b[0;32mdef\u001b[0m \u001b[0m_value_or_default\u001b[0m\u001b[0;34m(\u001b[0m\u001b[0mself\u001b[0m\u001b[0;34m,\u001b[0m \u001b[0mobj\u001b[0m\u001b[0;34m,\u001b[0m \u001b[0mkey\u001b[0m\u001b[0;34m,\u001b[0m \u001b[0mdefault\u001b[0m\u001b[0;34m)\u001b[0m\u001b[0;34m:\u001b[0m\u001b[0;34m\u001b[0m\u001b[0m\n",
      "\u001b[0;31mInvalidSelectorException\u001b[0m: Message: invalid selector: Compound class names not permitted\n  (Session info: chrome=68.0.3440.106)\n  (Driver info: chromedriver=2.39.562713 (dd642283e958a93ebf6891600db055f1f1b4f3b2),platform=Mac OS X 10.13.6 x86_64)\n"
     ]
    }
   ],
   "source": [
    "print(driver.find_element_by_css_selector('#review > li:nth-child(2) > div:nth-child(2) > div > span.total').text)\n",
    "print(driver.find_element_by_xpath('//*[@id=\"review\"]/li[2]/div[2]/div/span[1]').text)\n",
    "print(driver.find_element_by_class_name('list-group-item > star-point').text)"
   ]
  },
  {
   "cell_type": "code",
   "execution_count": 393,
   "metadata": {},
   "outputs": [
    {
     "data": {
      "text/html": [
       "<div>\n",
       "<style scoped>\n",
       "    .dataframe tbody tr th:only-of-type {\n",
       "        vertical-align: middle;\n",
       "    }\n",
       "\n",
       "    .dataframe tbody tr th {\n",
       "        vertical-align: top;\n",
       "    }\n",
       "\n",
       "    .dataframe thead th {\n",
       "        text-align: right;\n",
       "    }\n",
       "</style>\n",
       "<table border=\"1\" class=\"dataframe\">\n",
       "  <thead>\n",
       "    <tr style=\"text-align: right;\">\n",
       "      <th></th>\n",
       "      <th>star</th>\n",
       "    </tr>\n",
       "  </thead>\n",
       "  <tbody>\n",
       "  </tbody>\n",
       "</table>\n",
       "</div>"
      ],
      "text/plain": [
       "Empty DataFrame\n",
       "Columns: [star]\n",
       "Index: []"
      ]
     },
     "execution_count": 393,
     "metadata": {},
     "output_type": "execute_result"
    }
   ],
   "source": [
    "df = pd.DataFrame(columns=[\"star\"])\n",
    "response = requests.get(\"https://www.yogiyo.co.kr/mobile/?utm_source=google&utm_medium=cpc&utm_campaign=sem_bra_orignal&utm_term=%EC%9A%94%EA%B8%B0%EC%9A%94&utm_id=sem_000001&referrer=adjust_tracker%3Dgrm2aa%26adjust_google_network%3Dg%26adjust_google_placement%3D%26adjust_campaign%3Dsem_bra_web_kr_700886066_cpc%26adjust_adgroup%3D38249737818%26adjust_creative%3D%EC%9A%94%EA%B8%B0%EC%9A%94_b&gclid=EAIaIQobChMIv9DaxIL-3AIVA6yWCh0C8glmEAAYASAAEgLbF_D_BwE#/248611/\")\n",
    "dom = BeautifulSoup(response.content, \"html.parser\")\n",
    "keywords = dom.select('.list-group-item.star-point.ng-scope > .star-point > .total')\n",
    "for keyword in keywords:\n",
    "        df.loc[len(df)] = {\n",
    "            \"star\": keyword.select_one(\".full.ng-scope\").text,\n",
    "        }\n",
    "\n",
    "df"
   ]
  },
  {
   "cell_type": "code",
   "execution_count": null,
   "metadata": {},
   "outputs": [],
   "source": [
    "#review > li:nth-child(3)"
   ]
  },
  {
   "cell_type": "code",
   "execution_count": 389,
   "metadata": {},
   "outputs": [
    {
     "ename": "TypeError",
     "evalue": "'str' object is not callable",
     "output_type": "error",
     "traceback": [
      "\u001b[0;31m---------------------------------------------------------------------------\u001b[0m",
      "\u001b[0;31mTypeError\u001b[0m                                 Traceback (most recent call last)",
      "\u001b[0;32m<ipython-input-389-c603fe2989bb>\u001b[0m in \u001b[0;36m<module>\u001b[0;34m()\u001b[0m\n\u001b[0;32m----> 1\u001b[0;31m \u001b[0mdriver\u001b[0m\u001b[0;34m.\u001b[0m\u001b[0mfind_elements\u001b[0m\u001b[0;34m(\u001b[0m\u001b[0mBy\u001b[0m\u001b[0;34m.\u001b[0m\u001b[0mCLASS_NAME\u001b[0m\u001b[0;34m(\u001b[0m\u001b[0;34m\"full.ng-scope\"\u001b[0m\u001b[0;34m)\u001b[0m\u001b[0;34m)\u001b[0m\u001b[0;34m.\u001b[0m\u001b[0msize\u001b[0m\u001b[0;34m(\u001b[0m\u001b[0;34m)\u001b[0m\u001b[0;34m\u001b[0m\u001b[0m\n\u001b[0m",
      "\u001b[0;31mTypeError\u001b[0m: 'str' object is not callable"
     ]
    }
   ],
   "source": [
    "driver.find_elements(By.CLASS_NAME(\"full.ng-scope\")).size()"
   ]
  },
  {
   "cell_type": "code",
   "execution_count": null,
   "metadata": {},
   "outputs": [],
   "source": [
    "#review > li:nth-child(201) > div:nth-child(2) > div > span.total > span:nth-child(1)"
   ]
  },
  {
   "cell_type": "code",
   "execution_count": null,
   "metadata": {},
   "outputs": [],
   "source": []
  },
  {
   "cell_type": "code",
   "execution_count": null,
   "metadata": {},
   "outputs": [],
   "source": []
  },
  {
   "cell_type": "code",
   "execution_count": null,
   "metadata": {},
   "outputs": [],
   "source": []
  },
  {
   "cell_type": "code",
   "execution_count": 286,
   "metadata": {},
   "outputs": [],
   "source": [
    "def yogiyo_crawling(category):\n",
    "    try:\n",
    "        set_location()\n",
    "        go_to_category(category) # 해당 카테고리(음식점 리스트) 페이지로 넘어감 \n",
    "        print(category+'페이지로 넘어가는 중...')\n",
    "        time.sleep(2)\n",
    "\n",
    "        df = pd.DataFrame(columns=['Restaurant','UserID','Menu','Review',\n",
    "                                   'Total','Taste','Quantity','Delivery','Date'])\n",
    "\n",
    "        print('Start {} Crawling...'.format(category))\n",
    "        for i in trange(get_restaurant_count()): # 해당 카테고리의 음식점 개수만큼 loop\n",
    "            try:\n",
    "                cat_page_scroll_repeat(i) # i번째 음식점 위치로 page를 내림\n",
    "                go_to_restaurant(i+2) # i번째 음식점 페이지로 넘어감\n",
    "                go_to_review(i+2) # 해당 음식점의 리뷰페이지로 넘어감\n",
    "                stretch_review_page() # 해당 음식점의 모든 리뷰를 불러옴\n",
    "\n",
    "                for j in trange(get_review_count()):  # 해당 음식점의 리뷰 수 만큼 데이터를 가져옴\n",
    "                    try:\n",
    "                        df.loc[len(df)] = { \n",
    "                            'Restaurant':driver.find_element_by_class_name('restaurant-name').text,\n",
    "                            'UserID':driver.find_element_by_xpath('//*[@id=\"review\"]/li[{}]/div[1]/span[1]'.format(j+2)).text,\n",
    "                            'Menu':driver.find_element_by_xpath('//*[@id=\"review\"]/li[{}]/div[3]'.format(j+2)).text,\n",
    "                            'Total':\n",
    "                            'Review':driver.find_element_by_xpath('//*[@id=\"review\"]/li[{}]/p'.format(j+2)).text,\n",
    "                            'Taste':driver.find_element_by_xpath('//*[@id=\"review\"]/li[{}]/div[2]/div/span[2]/span[3]'.format(j+2)).text,\n",
    "                            'Quantity':driver.find_element_by_xpath('//*[@id=\"review\"]/li[{}]/div[2]/div/span[2]/span[6]'.format(j+2)).text,\n",
    "                            'Delivery':driver.find_element_by_xpath('//*[@id=\"review\"]/li[{}]/div[2]/div/span[2]/span[9]'.format(j+2)).text,\n",
    "                            'Date':driver.find_element_by_xpath('//*[@id=\"review\"]/li[{}]/div[1]/span[2]'.format(j+2)).text,\n",
    "                        }\n",
    "                    except Exception as e:\n",
    "                        print('리뷰 페이지 에러')\n",
    "                        print(e)\n",
    "                        pass\n",
    "\n",
    "                go_back_page() # 해당 음식점 리뷰를 모두 모았으면 다시 음식점 리스트 페이지로 돌아감\n",
    "                print('음식점 리스트 페이지로 돌아가는중...')\n",
    "                time.sleep(2)\n",
    "            except Exception as e:\n",
    "                print('음식점 리스트 페이지 에러')\n",
    "                print(e)\n",
    "                pass\n",
    "            \n",
    "    except Exception as e:\n",
    "        pass\n",
    "    finally:\n",
    "        print('Finish {} Crawling!!!'.format(category))\n",
    "        return df"
   ]
  },
  {
   "cell_type": "code",
   "execution_count": 287,
   "metadata": {
    "scrolled": true
   },
   "outputs": [
    {
     "name": "stdout",
     "output_type": "stream",
     "text": [
      "현재 위치로 설정하는중...\n",
      "현재 위치 설정 완료!\n",
      "중국집페이지로 넘어가는 중...\n"
     ]
    },
    {
     "name": "stderr",
     "output_type": "stream",
     "text": [
      "\r",
      "  0%|          | 0/12 [00:00<?, ?it/s]"
     ]
    },
    {
     "name": "stdout",
     "output_type": "stream",
     "text": [
      "Start 중국집 Crawling...\n",
      "카테고리(음식점 리스트) 페이지 (0,200) 위치로 내리는중...\n",
      "1번째 음식점 페이지로 넘어가는중...\n",
      "1번째 음식점 리뷰 페이지로 넘어가는중...\n"
     ]
    },
    {
     "name": "stderr",
     "output_type": "stream",
     "text": [
      "\n",
      "  0%|          | 0/129 [00:00<?, ?it/s]\u001b[A"
     ]
    },
    {
     "name": "stdout",
     "output_type": "stream",
     "text": [
      "모든 리뷰 불러오는중...\n",
      "리뷰 스크롤 내리는중...\n"
     ]
    },
    {
     "name": "stderr",
     "output_type": "stream",
     "text": [
      "\n",
      "  1%|          | 1/129 [00:01<02:18,  1.08s/it]\u001b[A"
     ]
    },
    {
     "name": "stdout",
     "output_type": "stream",
     "text": [
      "리뷰 스크롤 내리는중...\n"
     ]
    },
    {
     "name": "stderr",
     "output_type": "stream",
     "text": [
      "\n",
      "  2%|▏         | 2/129 [00:02<02:16,  1.08s/it]\u001b[A"
     ]
    },
    {
     "name": "stdout",
     "output_type": "stream",
     "text": [
      "리뷰 스크롤 내리는중...\n"
     ]
    },
    {
     "name": "stderr",
     "output_type": "stream",
     "text": [
      "\n",
      "  2%|▏         | 3/129 [00:03<02:14,  1.07s/it]\u001b[A"
     ]
    },
    {
     "name": "stdout",
     "output_type": "stream",
     "text": [
      "리뷰 스크롤 내리는중...\n"
     ]
    },
    {
     "name": "stderr",
     "output_type": "stream",
     "text": [
      "\n",
      "  3%|▎         | 4/129 [00:04<02:14,  1.07s/it]\u001b[A\n",
      "  5%|▌         | 7/129 [00:04<01:17,  1.58it/s]\u001b[A"
     ]
    },
    {
     "name": "stdout",
     "output_type": "stream",
     "text": [
      "리뷰 스크롤 내리는중...\n",
      "리뷰 스크롤 내리는중...\n",
      "리뷰 스크롤 내리는중...\n",
      "리뷰 스크롤 내리는중...\n",
      "리뷰 스크롤 내리는중...\n"
     ]
    },
    {
     "name": "stderr",
     "output_type": "stream",
     "text": [
      "\n",
      "  7%|▋         | 9/129 [00:10<02:21,  1.18s/it]\u001b[A"
     ]
    },
    {
     "name": "stdout",
     "output_type": "stream",
     "text": [
      "리뷰 스크롤 내리는중...\n"
     ]
    },
    {
     "name": "stderr",
     "output_type": "stream",
     "text": [
      "\n",
      "  8%|▊         | 10/129 [00:17<03:25,  1.73s/it]\u001b[A\n",
      "  9%|▉         | 12/129 [00:17<02:49,  1.45s/it]\u001b[A"
     ]
    },
    {
     "name": "stdout",
     "output_type": "stream",
     "text": [
      "리뷰 스크롤 내리는중...\n",
      "리뷰 스크롤 내리는중...\n",
      "리뷰 스크롤 내리는중...\n",
      "리뷰 스크롤 내리는중...\n",
      "리뷰 스크롤 내리는중...\n"
     ]
    },
    {
     "name": "stderr",
     "output_type": "stream",
     "text": [
      "\n"
     ]
    },
    {
     "ename": "KeyboardInterrupt",
     "evalue": "",
     "output_type": "error",
     "traceback": [
      "\u001b[0;31m---------------------------------------------------------------------------\u001b[0m",
      "\u001b[0;31mKeyboardInterrupt\u001b[0m                         Traceback (most recent call last)",
      "\u001b[0;32m<timed exec>\u001b[0m in \u001b[0;36m<module>\u001b[0;34m()\u001b[0m\n",
      "\u001b[0;32m<ipython-input-286-610094ea33da>\u001b[0m in \u001b[0;36myogiyo_crawling\u001b[0;34m(category)\u001b[0m\n\u001b[1;32m     20\u001b[0m         \u001b[0mtime\u001b[0m\u001b[0;34m.\u001b[0m\u001b[0msleep\u001b[0m\u001b[0;34m(\u001b[0m\u001b[0;36m2\u001b[0m\u001b[0;34m)\u001b[0m\u001b[0;34m\u001b[0m\u001b[0m\n\u001b[1;32m     21\u001b[0m \u001b[0;34m\u001b[0m\u001b[0m\n\u001b[0;32m---> 22\u001b[0;31m         \u001b[0mstretch_review_page\u001b[0m\u001b[0;34m(\u001b[0m\u001b[0;34m)\u001b[0m \u001b[0;31m# 해당 음식점의 모든 리뷰를 불러옴\u001b[0m\u001b[0;34m\u001b[0m\u001b[0m\n\u001b[0m\u001b[1;32m     23\u001b[0m \u001b[0;34m\u001b[0m\u001b[0m\n\u001b[1;32m     24\u001b[0m         \u001b[0;32mfor\u001b[0m \u001b[0mj\u001b[0m \u001b[0;32min\u001b[0m \u001b[0mtrange\u001b[0m\u001b[0;34m(\u001b[0m\u001b[0mget_review_count\u001b[0m\u001b[0;34m(\u001b[0m\u001b[0;34m)\u001b[0m\u001b[0;34m)\u001b[0m\u001b[0;34m:\u001b[0m  \u001b[0;31m# 해당 음식점의 리뷰 수 만큼 데이터를 가져옴\u001b[0m\u001b[0;34m\u001b[0m\u001b[0m\n",
      "\u001b[0;32m<ipython-input-285-f2f78789f3a4>\u001b[0m in \u001b[0;36mstretch_review_page\u001b[0;34m()\u001b[0m\n\u001b[1;32m     54\u001b[0m             \u001b[0mprint\u001b[0m\u001b[0;34m(\u001b[0m\u001b[0;34m'리뷰 스크롤 내리는중...'\u001b[0m\u001b[0;34m)\u001b[0m\u001b[0;34m\u001b[0m\u001b[0m\n\u001b[1;32m     55\u001b[0m             \u001b[0mclick_more_review\u001b[0m\u001b[0;34m(\u001b[0m\u001b[0;34m)\u001b[0m\u001b[0;34m\u001b[0m\u001b[0m\n\u001b[0;32m---> 56\u001b[0;31m             \u001b[0mtime\u001b[0m\u001b[0;34m.\u001b[0m\u001b[0msleep\u001b[0m\u001b[0;34m(\u001b[0m\u001b[0;36m1\u001b[0m\u001b[0;34m)\u001b[0m\u001b[0;34m\u001b[0m\u001b[0m\n\u001b[0m\u001b[1;32m     57\u001b[0m         \u001b[0;32mexcept\u001b[0m \u001b[0mException\u001b[0m \u001b[0;32mas\u001b[0m \u001b[0me\u001b[0m\u001b[0;34m:\u001b[0m\u001b[0;34m\u001b[0m\u001b[0m\n\u001b[1;32m     58\u001b[0m             \u001b[0;32mpass\u001b[0m\u001b[0;34m\u001b[0m\u001b[0m\n",
      "\u001b[0;31mKeyboardInterrupt\u001b[0m: "
     ]
    }
   ],
   "source": [
    "%time chinese_df = yogiyo_crawling('중국집')"
   ]
  },
  {
   "cell_type": "code",
   "execution_count": null,
   "metadata": {},
   "outputs": [],
   "source": []
  },
  {
   "cell_type": "code",
   "execution_count": 231,
   "metadata": {
    "scrolled": false
   },
   "outputs": [
    {
     "ename": "NameError",
     "evalue": "name 'chicken_df' is not defined",
     "output_type": "error",
     "traceback": [
      "\u001b[0;31m---------------------------------------------------------------------------\u001b[0m",
      "\u001b[0;31mNameError\u001b[0m                                 Traceback (most recent call last)",
      "\u001b[0;32m<ipython-input-231-816d313c1004>\u001b[0m in \u001b[0;36m<module>\u001b[0;34m()\u001b[0m\n\u001b[0;32m----> 1\u001b[0;31m \u001b[0mchicken_df\u001b[0m\u001b[0;34m.\u001b[0m\u001b[0mtail\u001b[0m\u001b[0;34m(\u001b[0m\u001b[0;34m)\u001b[0m\u001b[0;34m\u001b[0m\u001b[0m\n\u001b[0m",
      "\u001b[0;31mNameError\u001b[0m: name 'chicken_df' is not defined"
     ]
    }
   ],
   "source": [
    "chicken_df.tail()"
   ]
  },
  {
   "cell_type": "code",
   "execution_count": null,
   "metadata": {},
   "outputs": [],
   "source": []
  },
  {
   "cell_type": "code",
   "execution_count": null,
   "metadata": {},
   "outputs": [],
   "source": [
    "myslack.send_slack('finish!')"
   ]
  },
  {
   "cell_type": "code",
   "execution_count": null,
   "metadata": {},
   "outputs": [],
   "source": []
  },
  {
   "cell_type": "code",
   "execution_count": null,
   "metadata": {},
   "outputs": [],
   "source": []
  },
  {
   "cell_type": "code",
   "execution_count": 49,
   "metadata": {},
   "outputs": [
    {
     "ename": "NoSuchWindowException",
     "evalue": "Message: no such window: target window already closed\nfrom unknown error: web view not found\n  (Session info: chrome=68.0.3440.106)\n  (Driver info: chromedriver=2.39.562713 (dd642283e958a93ebf6891600db055f1f1b4f3b2),platform=Mac OS X 10.13.6 x86_64)\n",
     "output_type": "error",
     "traceback": [
      "\u001b[0;31m---------------------------------------------------------------------------\u001b[0m",
      "\u001b[0;31mNoSuchWindowException\u001b[0m                     Traceback (most recent call last)",
      "\u001b[0;32m<ipython-input-49-c0aea2f911d3>\u001b[0m in \u001b[0;36m<module>\u001b[0;34m()\u001b[0m\n\u001b[0;32m----> 1\u001b[0;31m \u001b[0mdriver\u001b[0m\u001b[0;34m.\u001b[0m\u001b[0mclose\u001b[0m\u001b[0;34m(\u001b[0m\u001b[0;34m)\u001b[0m \u001b[0;31m# 창닫기\u001b[0m\u001b[0;34m\u001b[0m\u001b[0m\n\u001b[0m\u001b[1;32m      2\u001b[0m \u001b[0mdriver\u001b[0m\u001b[0;34m.\u001b[0m\u001b[0mquit\u001b[0m\u001b[0;34m(\u001b[0m\u001b[0;34m)\u001b[0m \u001b[0;31m# 브라우져 닫기\u001b[0m\u001b[0;34m\u001b[0m\u001b[0m\n",
      "\u001b[0;32m/Library/Frameworks/Python.framework/Versions/3.6/lib/python3.6/site-packages/selenium/webdriver/remote/webdriver.py\u001b[0m in \u001b[0;36mclose\u001b[0;34m(self)\u001b[0m\n\u001b[1;32m    679\u001b[0m             \u001b[0mdriver\u001b[0m\u001b[0;34m.\u001b[0m\u001b[0mclose\u001b[0m\u001b[0;34m(\u001b[0m\u001b[0;34m)\u001b[0m\u001b[0;34m\u001b[0m\u001b[0m\n\u001b[1;32m    680\u001b[0m         \"\"\"\n\u001b[0;32m--> 681\u001b[0;31m         \u001b[0mself\u001b[0m\u001b[0;34m.\u001b[0m\u001b[0mexecute\u001b[0m\u001b[0;34m(\u001b[0m\u001b[0mCommand\u001b[0m\u001b[0;34m.\u001b[0m\u001b[0mCLOSE\u001b[0m\u001b[0;34m)\u001b[0m\u001b[0;34m\u001b[0m\u001b[0m\n\u001b[0m\u001b[1;32m    682\u001b[0m \u001b[0;34m\u001b[0m\u001b[0m\n\u001b[1;32m    683\u001b[0m     \u001b[0;32mdef\u001b[0m \u001b[0mquit\u001b[0m\u001b[0;34m(\u001b[0m\u001b[0mself\u001b[0m\u001b[0;34m)\u001b[0m\u001b[0;34m:\u001b[0m\u001b[0;34m\u001b[0m\u001b[0m\n",
      "\u001b[0;32m/Library/Frameworks/Python.framework/Versions/3.6/lib/python3.6/site-packages/selenium/webdriver/remote/webdriver.py\u001b[0m in \u001b[0;36mexecute\u001b[0;34m(self, driver_command, params)\u001b[0m\n\u001b[1;32m    312\u001b[0m         \u001b[0mresponse\u001b[0m \u001b[0;34m=\u001b[0m \u001b[0mself\u001b[0m\u001b[0;34m.\u001b[0m\u001b[0mcommand_executor\u001b[0m\u001b[0;34m.\u001b[0m\u001b[0mexecute\u001b[0m\u001b[0;34m(\u001b[0m\u001b[0mdriver_command\u001b[0m\u001b[0;34m,\u001b[0m \u001b[0mparams\u001b[0m\u001b[0;34m)\u001b[0m\u001b[0;34m\u001b[0m\u001b[0m\n\u001b[1;32m    313\u001b[0m         \u001b[0;32mif\u001b[0m \u001b[0mresponse\u001b[0m\u001b[0;34m:\u001b[0m\u001b[0;34m\u001b[0m\u001b[0m\n\u001b[0;32m--> 314\u001b[0;31m             \u001b[0mself\u001b[0m\u001b[0;34m.\u001b[0m\u001b[0merror_handler\u001b[0m\u001b[0;34m.\u001b[0m\u001b[0mcheck_response\u001b[0m\u001b[0;34m(\u001b[0m\u001b[0mresponse\u001b[0m\u001b[0;34m)\u001b[0m\u001b[0;34m\u001b[0m\u001b[0m\n\u001b[0m\u001b[1;32m    315\u001b[0m             response['value'] = self._unwrap_value(\n\u001b[1;32m    316\u001b[0m                 response.get('value', None))\n",
      "\u001b[0;32m/Library/Frameworks/Python.framework/Versions/3.6/lib/python3.6/site-packages/selenium/webdriver/remote/errorhandler.py\u001b[0m in \u001b[0;36mcheck_response\u001b[0;34m(self, response)\u001b[0m\n\u001b[1;32m    240\u001b[0m                 \u001b[0malert_text\u001b[0m \u001b[0;34m=\u001b[0m \u001b[0mvalue\u001b[0m\u001b[0;34m[\u001b[0m\u001b[0;34m'alert'\u001b[0m\u001b[0;34m]\u001b[0m\u001b[0;34m.\u001b[0m\u001b[0mget\u001b[0m\u001b[0;34m(\u001b[0m\u001b[0;34m'text'\u001b[0m\u001b[0;34m)\u001b[0m\u001b[0;34m\u001b[0m\u001b[0m\n\u001b[1;32m    241\u001b[0m             \u001b[0;32mraise\u001b[0m \u001b[0mexception_class\u001b[0m\u001b[0;34m(\u001b[0m\u001b[0mmessage\u001b[0m\u001b[0;34m,\u001b[0m \u001b[0mscreen\u001b[0m\u001b[0;34m,\u001b[0m \u001b[0mstacktrace\u001b[0m\u001b[0;34m,\u001b[0m \u001b[0malert_text\u001b[0m\u001b[0;34m)\u001b[0m\u001b[0;34m\u001b[0m\u001b[0m\n\u001b[0;32m--> 242\u001b[0;31m         \u001b[0;32mraise\u001b[0m \u001b[0mexception_class\u001b[0m\u001b[0;34m(\u001b[0m\u001b[0mmessage\u001b[0m\u001b[0;34m,\u001b[0m \u001b[0mscreen\u001b[0m\u001b[0;34m,\u001b[0m \u001b[0mstacktrace\u001b[0m\u001b[0;34m)\u001b[0m\u001b[0;34m\u001b[0m\u001b[0m\n\u001b[0m\u001b[1;32m    243\u001b[0m \u001b[0;34m\u001b[0m\u001b[0m\n\u001b[1;32m    244\u001b[0m     \u001b[0;32mdef\u001b[0m \u001b[0m_value_or_default\u001b[0m\u001b[0;34m(\u001b[0m\u001b[0mself\u001b[0m\u001b[0;34m,\u001b[0m \u001b[0mobj\u001b[0m\u001b[0;34m,\u001b[0m \u001b[0mkey\u001b[0m\u001b[0;34m,\u001b[0m \u001b[0mdefault\u001b[0m\u001b[0;34m)\u001b[0m\u001b[0;34m:\u001b[0m\u001b[0;34m\u001b[0m\u001b[0m\n",
      "\u001b[0;31mNoSuchWindowException\u001b[0m: Message: no such window: target window already closed\nfrom unknown error: web view not found\n  (Session info: chrome=68.0.3440.106)\n  (Driver info: chromedriver=2.39.562713 (dd642283e958a93ebf6891600db055f1f1b4f3b2),platform=Mac OS X 10.13.6 x86_64)\n"
     ]
    }
   ],
   "source": [
    "driver.close() # 창닫기\n",
    "driver.quit() # 브라우져 닫기"
   ]
  },
  {
   "cell_type": "code",
   "execution_count": null,
   "metadata": {},
   "outputs": [],
   "source": []
  },
  {
   "cell_type": "markdown",
   "metadata": {},
   "source": [
    "---"
   ]
  },
  {
   "cell_type": "code",
   "execution_count": 358,
   "metadata": {
    "scrolled": true
   },
   "outputs": [],
   "source": [
    "# def yogiyo_crawling(category):\n",
    "#     go_to_category(category) # 해당 카테고리(음식점 리스트) 페이지로 넘어감 \n",
    "#     print(category+'페이지로 넘어가는 중...')\n",
    "#     time.sleep(2)\n",
    "    \n",
    "#     df = pd.DataFrame(columns=['Restaurant','UserID','Menu','Review',\n",
    "#                                'Taste','Quantity','Delivery','Date'])\n",
    "    \n",
    "#     print('Start {} Crawling...'.format(category))\n",
    "#     for i in trange(get_store_count()): # 해당 카테고리의 음식점 개수만큼 돌아감\n",
    "#         try:\n",
    "#             scroll_bottom()\n",
    "#             time.sleep(2)\n",
    "#             go_to_store(i+2) # 순서대로 각 음식점 페이지로 넘어감\n",
    "#             print(str(i+1)+'번째 음식점 페이지로 넘어가는중...')\n",
    "#             time.sleep(2)\n",
    "#             go_to_review() # 해당 음식점의 리뷰페이지로 넘어감\n",
    "#             print('해당 음식점 리뷰 페이지로 넘어가는중...')\n",
    "#             time.sleep(2)\n",
    "#             stretch_review_page() # 해당 음식점의 모든 리뷰를 불러옴\n",
    "            \n",
    "#             for j in trange(get_review_count()):  # 해당 음식점의 리뷰 수 만큼 데이터를 가져옴\n",
    "#                 try:\n",
    "#                     df.loc[len(df)] = { \n",
    "#                         'Restaurant':driver.find_element_by_class_name('restaurant-name').text,\n",
    "#                         'UserID':driver.find_element_by_xpath('//*[@id=\"review\"]/li[{}]/div[1]/span[1]'.format(j+2)).text,\n",
    "#                         'Menu':driver.find_element_by_xpath('//*[@id=\"review\"]/li[{}]/div[3]'.format(j+2)).text,\n",
    "#                         'Review':driver.find_element_by_xpath('//*[@id=\"review\"]/li[{}]/p'.format(j+2)).text,\n",
    "#                         'Taste':driver.find_element_by_xpath('//*[@id=\"review\"]/li[{}]/div[2]/div/span[2]/span[3]'.format(j+2)).text,\n",
    "#                         'Quantity':driver.find_element_by_xpath('//*[@id=\"review\"]/li[{}]/div[2]/div/span[2]/span[6]'.format(j+2)).text,\n",
    "#                         'Delivery':driver.find_element_by_xpath('//*[@id=\"review\"]/li[{}]/div[2]/div/span[2]/span[9]'.format(j+2)).text,\n",
    "#                         'Date':driver.find_element_by_xpath('//*[@id=\"review\"]/li[{}]/div[1]/span[2]'.format(j+2)).text,\n",
    "#                     }\n",
    "#                 except Exception as e:\n",
    "#                     print('리뷰 페이지 에러')\n",
    "#                     print(e)\n",
    "#                     pass\n",
    "                \n",
    "#             go_back_page() # 해당 음식점 리뷰를 모두 모았으면 다시 음식점 리스트 페이지로 돌아감\n",
    "#             print('음식점 리스트 페이지로 돌아가는중...')\n",
    "#             time.sleep(2)\n",
    "#             scroll_bottom()\n",
    "#             time.sleep(2)\n",
    "            \n",
    "#         except Exception as e:\n",
    "#             print('음식점 페이지 에러')\n",
    "#             scroll_bottom()\n",
    "#             print(e)\n",
    "#             pass\n",
    "                \n",
    "#     print('Finish {} Crawling!!!'.format(category))\n",
    "#     return df"
   ]
  },
  {
   "cell_type": "code",
   "execution_count": null,
   "metadata": {},
   "outputs": [],
   "source": []
  }
 ],
 "metadata": {
  "kernelspec": {
   "display_name": "Python 3",
   "language": "python",
   "name": "python3"
  },
  "language_info": {
   "codemirror_mode": {
    "name": "ipython",
    "version": 3
   },
   "file_extension": ".py",
   "mimetype": "text/x-python",
   "name": "python",
   "nbconvert_exporter": "python",
   "pygments_lexer": "ipython3",
   "version": "3.6.4"
  }
 },
 "nbformat": 4,
 "nbformat_minor": 2
}

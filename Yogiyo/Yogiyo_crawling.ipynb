{
 "cells": [
  {
   "cell_type": "code",
   "execution_count": 87,
   "metadata": {},
   "outputs": [],
   "source": [
    "import pandas as pd\n",
    "import myslack\n",
    "import warnings\n",
    "warnings.filterwarnings('ignore')\n",
    "import datetime as dt\n",
    "import pickle\n",
    "import time\n",
    "import re\n",
    "from tqdm import tqdm\n",
    "from tqdm import trange\n",
    "\n",
    "import requests\n",
    "from selenium import webdriver\n",
    "from selenium.webdriver.common.action_chains import ActionChains\n",
    "from selenium.webdriver.common.by import By\n",
    "from selenium.webdriver.support.ui import WebDriverWait\n",
    "from selenium.webdriver.support import expected_conditions as EC"
   ]
  },
  {
   "cell_type": "code",
   "execution_count": 88,
   "metadata": {},
   "outputs": [],
   "source": [
    "driver = webdriver.Chrome()  \n",
    "url = 'https://www.yogiyo.co.kr/mobile/?utm_source=google&utm_medium=cpc&utm_campaign=sem_bra_orignal&utm_term=%EC%9A%94%EA%B8%B0%EC%9A%94&utm_id=sem_000001&referrer=adjust_tracker%3Dgrm2aa%26adjust_google_network%3Dg%26adjust_google_placement%3D%26adjust_campaign%3Dsem_bra_web_kr_700886066_cpc%26adjust_adgroup%3D38249737818%26adjust_creative%3D%EC%9A%94%EA%B8%B0%EC%9A%94_b&gclid=EAIaIQobChMIv9DaxIL-3AIVA6yWCh0C8glmEAAYASAAEgLbF_D_BwE#/%EC%84%9C%EC%9A%B8/138223/'\n",
    "driver.get(url) "
   ]
  },
  {
   "cell_type": "code",
   "execution_count": 89,
   "metadata": {},
   "outputs": [],
   "source": [
    "food_dict = { '프랜차이즈':3, '치킨':4, '피자&양식':5, '중국집':6,\n",
    "              '한식':7, '일식&돈까스':8, '족발&보쌈':9,\n",
    "              '야식':10, '분식':11, '카페&디저트':12 }"
   ]
  },
  {
   "cell_type": "code",
   "execution_count": 90,
   "metadata": {},
   "outputs": [],
   "source": [
    "# 0. 페이지 한번 맨아래로 내리기\n",
    "def scroll_bottom():\n",
    "    driver.execute_script(\"window.scrollTo(0,document.body.scrollHeight);\")\n",
    "\n",
    "# 1. 입력한 위치로 설정하기\n",
    "def set_location(location):\n",
    "    print(location+'으로 위치 설정 하는중...')\n",
    "    driver.find_element_by_css_selector('#search > div > form > input').click()\n",
    "    driver.find_element_by_css_selector('#button_search_address > button.btn-search-location-cancel.btn-search-location.btn.btn-default > span').click()\n",
    "    driver.find_element_by_css_selector('#search > div > form > input').send_keys(location)\n",
    "    driver.find_element_by_css_selector('#button_search_address > button.btn.btn-default.ico-pick').click()\n",
    "    time.sleep(2)\n",
    "    print(location+'으로 위치 설정 완료!')\n",
    "    \n",
    "# 2. 카테고리 페이지로 넘어가기\n",
    "def go_to_category(category):\n",
    "    print(category+' 카테고리 페이지 로드중...')\n",
    "    driver.find_element_by_xpath('//*[@id=\"category\"]/ul/li[{}]/span'.format(food_dict.get(category))).click()\n",
    "    time.sleep(2)\n",
    "    print(category+' 카테고리 페이지 로드 완료!')    \n",
    "\n",
    "# 3. 카테고리(음식점 리스트) 페이지 모두 펼치기\n",
    "def stretch_list_page():\n",
    "    restaurant_count = int(driver.find_element_by_css_selector('#restaurant_count').text)\n",
    "    scroll_count = int((restaurant_count/20))\n",
    "    print('모든 음식점 리스트 불러오기 시작...')\n",
    "    for _ in trange(scroll_count):\n",
    "        try:\n",
    "            scroll_bottom()\n",
    "            time.sleep(3)\n",
    "        except Exception as e:\n",
    "            pass\n",
    "    scroll_bottom()\n",
    "    print('모든 음식점 리스트 불러오기 완료!')\n",
    "    \n",
    "# 4. 해당 카테고리 음식점 리스트 리턴\n",
    "def get_restaurant_list():\n",
    "    restaurant_list=[]\n",
    "    restaurants = driver.find_elements_by_css_selector('#content > div > div.restaurant-list > div.col-sm-6.contract')\n",
    "    for restaurant in restaurants:\n",
    "        restaurant_list.append(restaurant.find_element_by_css_selector('div > table > tbody > tr > td:nth-child(2) > div > div.restaurant-name.ng-binding').text)\n",
    "    return list(set(restaurant_list))\n",
    "\n",
    "# 5. 검색창에 음식점 검색하기\n",
    "def search_restaurant(restaurant_name):\n",
    "    try:\n",
    "        driver.find_element_by_xpath('//*[@id=\"category\"]/ul/li[1]/a').click()\n",
    "        driver.find_element_by_xpath('//*[@id=\"category\"]/ul/li[13]/form/div/input').send_keys(restaurant_name)    \n",
    "        driver.find_element_by_xpath('//*[@id=\"category_search_button\"]').click()\n",
    "    except Exception as e:\n",
    "        print('search_restaurant 에러')\n",
    "    time.sleep(2)\n",
    "\n",
    "# 6. 검색한 음식점 클릭\n",
    "def go_to_restaurant():\n",
    "    try:\n",
    "        driver.find_element_by_xpath('//*[@id=\"content\"]/div/div[4]/div[2]/div').click()\n",
    "    except Exception as e:\n",
    "        print('go_to_restaurant 에러')\n",
    "    time.sleep(2)\n",
    "\n",
    "# 7. 해당 음식점의 리뷰 페이지로 넘어가기\n",
    "def go_to_review():\n",
    "    print('리뷰 페이지 로드중...')\n",
    "    driver.find_element_by_xpath('//*[@id=\"content\"]/div[2]/div[1]/ul/li[2]/a').click()\n",
    "    time.sleep(2)\n",
    "    print('리뷰 페이지 로드 완료!')\n",
    "    \n",
    "# 8. 리뷰 더보기 클릭하기 \n",
    "def click_more_review():\n",
    "    driver.find_element_by_class_name('btn-more').click()\n",
    "    time.sleep(2)\n",
    "    \n",
    "# 9. 리뷰 페이지 모두 펼치기\n",
    "def stretch_review_page():\n",
    "    review_count = int(driver.find_element_by_xpath('//*[@id=\"content\"]/div[2]/div[1]/ul/li[2]/a/span').text)\n",
    "    click_count = int((review_count/10))\n",
    "    print('모든 리뷰 불러오기 시작...')\n",
    "    for _ in trange(click_count):\n",
    "        try:\n",
    "            scroll_bottom()\n",
    "            click_more_review()\n",
    "        except Exception as e:\n",
    "            pass\n",
    "    scroll_bottom()\n",
    "    print('모든 리뷰 불러오기 완료!')\n",
    "        \n",
    "# 10. 해당 음식점의 모든 리뷰 객체 리턴\n",
    "def get_all_review_elements():\n",
    "    reviews = driver.find_elements_by_css_selector('#review > li.list-group-item.star-point.ng-scope')\n",
    "    return reviews\n",
    "        \n",
    "# 11. 페이지 뒤로 가기 (한 음식점 리뷰를 모두 모았으면 다시 음식점 리스트 페이지로 돌아감)\n",
    "def go_back_page():\n",
    "    print('페이지 돌아가기중...')\n",
    "    driver.execute_script(\"window.history.go(-1)\")\n",
    "    time.sleep(3)\n",
    "    print('페이지 돌아가기 완료!')"
   ]
  },
  {
   "cell_type": "markdown",
   "metadata": {},
   "source": [
    "---"
   ]
  },
  {
   "cell_type": "code",
   "execution_count": 91,
   "metadata": {},
   "outputs": [],
   "source": [
    "def yogiyo_crawling(location, category):\n",
    "    df = pd.DataFrame(columns=['Restaurant','UserID','Menu','Review',\n",
    "                                   'Total','Taste','Quantity','Delivery','Date'])\n",
    "    \n",
    "    try:\n",
    "        set_location(location) # 검색할 지역 설정\n",
    "        go_to_category(category) # 해당 카테고리(음식점 리스트) 페이지로 넘어감\n",
    "\n",
    "        print('Start [ {} - {} ] Crawling...'.format(location, category))\n",
    "        \n",
    "        stretch_list_page() # 카테고리(음식점 리스트) 페이지 모두 펼치기\n",
    "        restaurant_list = get_restaurant_list() # 해당 카테고리 음식점 리스트 받아오기\n",
    "        \n",
    "        for restaurant_name in restaurant_list:\n",
    "            try:\n",
    "                print('********** '+restaurant_name+' - '+str(restaurant_list.index(restaurant_name)+1)\n",
    "                      +'/'+str(len(restaurant_list))+' 번째 **********')\n",
    "                \n",
    "                search_restaurant(restaurant_name) # 음식점을 순서대로 검색\n",
    "                go_to_restaurant() # 검색한 음식점 클릭             \n",
    "                go_to_review() # 해당 음식점의 리뷰페이지로 넘어감\n",
    "                stretch_review_page() # 해당 음식점의 모든 리뷰를 불러옴\n",
    "\n",
    "                for review in tqdm(get_all_review_elements()):  # 해당 음식점의 리뷰 수 만큼 데이터를 가져옴\n",
    "                    try:\n",
    "                        df.loc[len(df)] = { \n",
    "                            'Restaurant':driver.find_element_by_class_name('restaurant-name').text,\n",
    "                            'UserID':review.find_element_by_css_selector('span.review-id.ng-binding').text,\n",
    "                            'Menu':review.find_element_by_css_selector('div.order-items.default.ng-binding').text,\n",
    "                            'Review':review.find_element_by_css_selector('p').text,\n",
    "                            'Total':str(len(review.find_elements_by_css_selector('div > span.total > span.full.ng-scope'))),\n",
    "                            'Taste':review.find_element_by_css_selector('div:nth-child(2) > div > span.category > span:nth-child(3)').text,\n",
    "                            'Quantity':review.find_element_by_css_selector('div:nth-child(2) > div > span.category > span:nth-child(6)').text,\n",
    "                            'Delivery':review.find_element_by_css_selector('div:nth-child(2) > div > span.category > span:nth-child(9)').text,\n",
    "                            'Date':review.find_element_by_css_selector('div:nth-child(1) > span.review-time.ng-binding').text,\n",
    "                        }\n",
    "                    except Exception as e:\n",
    "                        print('리뷰 페이지 에러')\n",
    "                        print(e)\n",
    "                        pass\n",
    "                    \n",
    "            except Exception as e:\n",
    "                print('*** '+restaurant_name+' *** 음식점 페이지 에러')\n",
    "                go_back_page()\n",
    "                print(e)\n",
    "                pass\n",
    "            \n",
    "            print('음식점 리스트 페이지로 돌아가는중...')\n",
    "            go_back_page() # 해당 음식점 리뷰를 모두 모았으면 다시 음식점 리스트 페이지로 돌아감\n",
    "            time.sleep(2)\n",
    "            \n",
    "    except Exception as e:\n",
    "        print('음식점 리스트 페이지 에러')\n",
    "        print(e)\n",
    "        pass\n",
    "        \n",
    "    print('End of [ {} {} ] Crawling!'.format(location, category))\n",
    "    myslack.send_slack('{} {} crawling finish!!!'.format(location, category))\n",
    "    return df"
   ]
  },
  {
   "cell_type": "markdown",
   "metadata": {},
   "source": [
    "---"
   ]
  },
  {
   "cell_type": "code",
   "execution_count": null,
   "metadata": {
    "scrolled": true
   },
   "outputs": [
    {
     "name": "stdout",
     "output_type": "stream",
     "text": [
      "역삼동으로 위치 설정 하는중...\n",
      "역삼동으로 위치 설정 완료!\n",
      "족발&보쌈 카테고리 페이지 로드중...\n"
     ]
    },
    {
     "name": "stderr",
     "output_type": "stream",
     "text": [
      "\r",
      "  0%|          | 0/3 [00:00<?, ?it/s]"
     ]
    },
    {
     "name": "stdout",
     "output_type": "stream",
     "text": [
      "족발&보쌈 카테고리 페이지 로드 완료!\n",
      "Start [ 역삼동 - 족발&보쌈 ] Crawling...\n",
      "모든 음식점 리스트 불러오기 시작...\n"
     ]
    },
    {
     "name": "stderr",
     "output_type": "stream",
     "text": [
      "100%|██████████| 3/3 [00:09<00:00,  3.01s/it]\n"
     ]
    },
    {
     "name": "stdout",
     "output_type": "stream",
     "text": [
      "모든 음식점 리스트 불러오기 완료!\n",
      "********** 홍대칼국수와족발-강남점 - 1/60 번째 **********\n",
      "리뷰 페이지 로드중...\n"
     ]
    },
    {
     "name": "stderr",
     "output_type": "stream",
     "text": [
      "\r",
      "  0%|          | 0/34 [00:00<?, ?it/s]"
     ]
    },
    {
     "name": "stdout",
     "output_type": "stream",
     "text": [
      "리뷰 페이지 로드 완료!\n",
      "모든 리뷰 불러오기 시작...\n"
     ]
    },
    {
     "name": "stderr",
     "output_type": "stream",
     "text": [
      "100%|██████████| 34/34 [01:15<00:00,  2.22s/it]\n",
      "  0%|          | 0/342 [00:00<?, ?it/s]"
     ]
    },
    {
     "name": "stdout",
     "output_type": "stream",
     "text": [
      "모든 리뷰 불러오기 완료!\n"
     ]
    },
    {
     "name": "stderr",
     "output_type": "stream",
     "text": [
      "100%|██████████| 342/342 [01:26<00:00,  3.94it/s]\n"
     ]
    },
    {
     "name": "stdout",
     "output_type": "stream",
     "text": [
      "음식점 리스트 페이지로 돌아가는중...\n",
      "페이지 돌아가기중...\n",
      "페이지 돌아가기 완료!\n",
      "********** 장충동왕족발보쌈-강남점 - 2/60 번째 **********\n",
      "리뷰 페이지 로드중...\n"
     ]
    },
    {
     "name": "stderr",
     "output_type": "stream",
     "text": [
      "\r",
      "  0%|          | 0/12 [00:00<?, ?it/s]"
     ]
    },
    {
     "name": "stdout",
     "output_type": "stream",
     "text": [
      "리뷰 페이지 로드 완료!\n",
      "모든 리뷰 불러오기 시작...\n"
     ]
    },
    {
     "name": "stderr",
     "output_type": "stream",
     "text": [
      " 17%|█▋        | 2/12 [00:18<01:31,  9.12s/it]"
     ]
    }
   ],
   "source": [
    "%%time \n",
    "\n",
    "location='역삼동'\n",
    "category='족발&보쌈'\n",
    "\n",
    "yogiyo = yogiyo_crawling(location, category)"
   ]
  },
  {
   "cell_type": "code",
   "execution_count": null,
   "metadata": {
    "scrolled": false
   },
   "outputs": [],
   "source": [
    "yogiyo.tail()"
   ]
  },
  {
   "cell_type": "code",
   "execution_count": null,
   "metadata": {},
   "outputs": [],
   "source": [
    "pickle.dump(yogiyo, open('./data/{}_{}_df.pkl'.format(location, category),'wb'))"
   ]
  },
  {
   "cell_type": "code",
   "execution_count": null,
   "metadata": {},
   "outputs": [],
   "source": [
    "yogiyo_df = pickle.load(open('./data/{}_{}_df.pkl'.format(location, category),'rb'))"
   ]
  },
  {
   "cell_type": "code",
   "execution_count": null,
   "metadata": {},
   "outputs": [],
   "source": [
    "yogiyo_df.tail()"
   ]
  },
  {
   "cell_type": "code",
   "execution_count": null,
   "metadata": {},
   "outputs": [],
   "source": [
    "print(len(yogiyo_df['Restaurant'].unique()))\n",
    "yogiyo_df['Restaurant'].value_counts()"
   ]
  },
  {
   "cell_type": "markdown",
   "metadata": {},
   "source": [
    "---"
   ]
  },
  {
   "cell_type": "code",
   "execution_count": 86,
   "metadata": {},
   "outputs": [],
   "source": [
    "driver.close() # 창닫기\n",
    "driver.quit() # 브라우져 닫기"
   ]
  },
  {
   "cell_type": "markdown",
   "metadata": {},
   "source": [
    "---"
   ]
  }
 ],
 "metadata": {
  "kernelspec": {
   "display_name": "Python 3",
   "language": "python",
   "name": "python3"
  },
  "language_info": {
   "codemirror_mode": {
    "name": "ipython",
    "version": 3
   },
   "file_extension": ".py",
   "mimetype": "text/x-python",
   "name": "python",
   "nbconvert_exporter": "python",
   "pygments_lexer": "ipython3",
   "version": "3.6.4"
  }
 },
 "nbformat": 4,
 "nbformat_minor": 2
}

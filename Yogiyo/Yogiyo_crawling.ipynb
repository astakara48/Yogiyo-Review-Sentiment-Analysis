{
 "cells": [
  {
   "cell_type": "code",
   "execution_count": 222,
   "metadata": {},
   "outputs": [],
   "source": [
    "import pandas as pd\n",
    "import myslack\n",
    "import warnings\n",
    "warnings.filterwarnings('ignore')\n",
    "import datetime as dt\n",
    "import pickle\n",
    "import time\n",
    "import re\n",
    "from tqdm import tqdm\n",
    "from tqdm import trange\n",
    "\n",
    "import requests\n",
    "from selenium import webdriver\n",
    "from selenium.webdriver.common.action_chains import ActionChains\n",
    "from selenium.webdriver.common.by import By\n",
    "from selenium.webdriver.support.ui import WebDriverWait\n",
    "from selenium.webdriver.support import expected_conditions as EC"
   ]
  },
  {
   "cell_type": "code",
   "execution_count": 223,
   "metadata": {},
   "outputs": [],
   "source": [
    "driver = webdriver.Chrome()  \n",
    "url = 'https://www.yogiyo.co.kr/mobile/?utm_source=google&utm_medium=cpc&utm_campaign=sem_bra_orignal&utm_term=%EC%9A%94%EA%B8%B0%EC%9A%94&utm_id=sem_000001&referrer=adjust_tracker%3Dgrm2aa%26adjust_google_network%3Dg%26adjust_google_placement%3D%26adjust_campaign%3Dsem_bra_web_kr_700886066_cpc%26adjust_adgroup%3D38249737818%26adjust_creative%3D%EC%9A%94%EA%B8%B0%EC%9A%94_b&gclid=EAIaIQobChMIv9DaxIL-3AIVA6yWCh0C8glmEAAYASAAEgLbF_D_BwE#/%EC%84%9C%EC%9A%B8/138223/'\n",
    "driver.get(url) "
   ]
  },
  {
   "cell_type": "code",
   "execution_count": 224,
   "metadata": {},
   "outputs": [],
   "source": [
    "food_dict = {\n",
    "    '프랜차이즈':3, '치킨':4, '피자':5, '양식':5, '중국집':6,\n",
    "    '한식':7, '일식':8, '돈가스':8, '족발':9, '보쌈':9, \n",
    "    '야식':10, '분식':11, '카페':12, '디저트':12 }"
   ]
  },
  {
   "cell_type": "code",
   "execution_count": 225,
   "metadata": {},
   "outputs": [],
   "source": [
    "# 입력한 위치로 설정하기\n",
    "def set_location(location):\n",
    "    print(location+'으로 위치 설정 하는중...')\n",
    "    driver.find_element_by_css_selector('#search > div > form > input').click()\n",
    "    driver.find_element_by_css_selector('#button_search_address > button.btn-search-location-cancel.btn-search-location.btn.btn-default > span').click()\n",
    "    driver.find_element_by_css_selector('#search > div > form > input').send_keys(location)\n",
    "    driver.find_element_by_css_selector('#button_search_address > button.btn.btn-default.ico-pick').click()\n",
    "    time.sleep(1)\n",
    "    print(location+'으로 위치 설정 완료!')\n",
    "    \n",
    "# 카테고리 페이지로 넘어가기\n",
    "def go_to_category(category):\n",
    "    print(category+' 카테고리 페이지 로드중...')\n",
    "    driver.find_element_by_xpath('//*[@id=\"category\"]/ul/li[{}]/span'.format(food_dict.get(category))).click()\n",
    "    time.sleep(2)\n",
    "    print(category+' 카테고리 페이지 로드 완료!')\n",
    "\n",
    "# 해당 카테고리의 모든 음식점 객체들을 리턴\n",
    "def get_all_restaurant_elements():\n",
    "    restaurants = driver.find_elements_by_css_selector('#content > div > div.restaurant-list > div.col-sm-6.contract')\n",
    "    return restaurants\n",
    "\n",
    "# 해당 카테고리의 모든 음식점 갯수를 리턴\n",
    "def get_all_restaurant_count():\n",
    "    restaurant_counts = int(driver.find_element_by_css_selector('#restaurant_count').text)\n",
    "    return restaurant_counts\n",
    "\n",
    "# 해당 음식점의 이름을 리턴\n",
    "def get_restaurant_name(restaurant):\n",
    "    restaurant_name = restaurant.find_element_by_class_name('restaurant-name').text\n",
    "    return restaurant_name\n",
    "\n",
    "# 해당 카테고리의 음식점 페이지로 넘어가기    \n",
    "def go_to_restaurant(restaurant):\n",
    "    restaurant_name = get_restaurant_name(restaurant)\n",
    "    print(restaurant_name+' 음식점 페이지 로드중...')\n",
    "    restaurant.click()\n",
    "    time.sleep(3) \n",
    "    print(restaurant_name+' 음식점 페이지 로드 완료!')\n",
    "    \n",
    "# 해당 음식점의 리뷰 페이지로 넘어가기\n",
    "def go_to_review():\n",
    "    print('리뷰 페이지로 로드중...')\n",
    "    driver.find_element_by_xpath('//*[@id=\"content\"]/div[2]/div[1]/ul/li[2]/a').click()\n",
    "    time.sleep(1)\n",
    "    print('리뷰 페이지로 로드 완료!')\n",
    "    \n",
    "# 해당 음식점의 모든 리뷰 객체들\n",
    "def get_all_review_elements():\n",
    "    reviews = driver.find_elements_by_css_selector('#review > li.list-group-item.star-point.ng-scope')\n",
    "    return reviews\n",
    "    \n",
    "# 페이지 한번 맨아래로 내리기\n",
    "def scroll_bottom():\n",
    "    driver.execute_script(\"window.scrollTo(0,document.body.scrollHeight);\")\n",
    "\n",
    "# 카테고리(음식점 리스트) 페이지에서 음식점 리스트 로드하기\n",
    "def cat_page_scroll_repeat(i):\n",
    "    # 브라우저의 스크롤 위치 조절\n",
    "    height=200+118*(i//2)\n",
    "    print('카테고리(음식점 리스트) 페이지 (0,{}) 위치로 내리는중...'.format(height))\n",
    "    driver.execute_script(\"window.scrollTo(0,{})\".format(height))\n",
    "    time.sleep(3)\n",
    "    print('카테고리(음식점 리스트) 페이지 (0,{}) 위치로 내리기 완료!'.format(height))\n",
    "    \n",
    "# 더보기 클릭하기 \n",
    "def click_more_review():\n",
    "    driver.find_element_by_class_name('btn-more').click()\n",
    "    time.sleep(2)\n",
    "\n",
    "# 리뷰 페이지 모두 펼치기\n",
    "def stretch_review_page():\n",
    "    review_count = int(driver.find_element_by_xpath('//*[@id=\"content\"]/div[2]/div[1]/ul/li[2]/a/span').text)\n",
    "    click_count = int((review_count/10))\n",
    "    print('모든 리뷰 불러오기 시작...')\n",
    "    for _ in trange(click_count):\n",
    "        try:\n",
    "            scroll_bottom()\n",
    "            click_more_review()\n",
    "        except Exception as e:\n",
    "            pass\n",
    "    scroll_bottom()\n",
    "    print('모든 리뷰 불러오기 완료!')\n",
    "        \n",
    "# 페이지 뒤로 가기 (한 음식점 리뷰를 모두 모았으면 다시 음식점 리스트 페이지로 돌아감)\n",
    "def go_back_page():\n",
    "    print('페이지 돌아가기중...')\n",
    "    driver.execute_script(\"window.history.go(-1)\")\n",
    "    time.sleep(3)\n",
    "    print('페이지 돌아가기 완료!')\n"
   ]
  },
  {
   "cell_type": "code",
   "execution_count": null,
   "metadata": {},
   "outputs": [],
   "source": []
  },
  {
   "cell_type": "code",
   "execution_count": null,
   "metadata": {},
   "outputs": [],
   "source": []
  },
  {
   "cell_type": "code",
   "execution_count": 219,
   "metadata": {},
   "outputs": [
    {
     "name": "stdout",
     "output_type": "stream",
     "text": [
      "카테고리(음식점 리스트) 페이지 (0,200) 위치로 내리는중...\n",
      "카테고리(음식점 리스트) 페이지 (0,200) 위치로 내리기 완료!\n"
     ]
    }
   ],
   "source": [
    "cat_page_scroll_repeat(0)"
   ]
  },
  {
   "cell_type": "code",
   "execution_count": 220,
   "metadata": {},
   "outputs": [
    {
     "data": {
      "text/plain": [
       "20"
      ]
     },
     "execution_count": 220,
     "metadata": {},
     "output_type": "execute_result"
    }
   ],
   "source": [
    "len(get_all_restaurant_elements())"
   ]
  },
  {
   "cell_type": "code",
   "execution_count": 221,
   "metadata": {
    "scrolled": true
   },
   "outputs": [
    {
     "name": "stdout",
     "output_type": "stream",
     "text": [
      "0 <selenium.webdriver.remote.webelement.WebElement (session=\"68e806577b24087e05bc85d8da9dc7a4\", element=\"0.7309326761676302-1\")>\n",
      "카테고리(음식점 리스트) 페이지 (0,200) 위치로 내리는중...\n",
      "카테고리(음식점 리스트) 페이지 (0,200) 위치로 내리기 완료!\n",
      "7번가피자-잠실새내점 음식점 페이지 로드중...\n",
      "7번가피자-잠실새내점 음식점 페이지 로드 완료!\n",
      "페이지 돌아가기중...\n",
      "페이지 돌아가기 완료!\n",
      "1 <selenium.webdriver.remote.webelement.WebElement (session=\"68e806577b24087e05bc85d8da9dc7a4\", element=\"0.7309326761676302-2\")>\n",
      "카테고리(음식점 리스트) 페이지 (0,200) 위치로 내리는중...\n",
      "카테고리(음식점 리스트) 페이지 (0,200) 위치로 내리기 완료!\n",
      "Message: stale element reference: element is not attached to the page document\n",
      "  (Session info: chrome=68.0.3440.106)\n",
      "  (Driver info: chromedriver=2.39.562713 (dd642283e958a93ebf6891600db055f1f1b4f3b2),platform=Mac OS X 10.13.6 x86_64)\n",
      "\n",
      "2 <selenium.webdriver.remote.webelement.WebElement (session=\"68e806577b24087e05bc85d8da9dc7a4\", element=\"0.7309326761676302-3\")>\n",
      "카테고리(음식점 리스트) 페이지 (0,318) 위치로 내리는중...\n",
      "카테고리(음식점 리스트) 페이지 (0,318) 위치로 내리기 완료!\n",
      "Message: stale element reference: element is not attached to the page document\n",
      "  (Session info: chrome=68.0.3440.106)\n",
      "  (Driver info: chromedriver=2.39.562713 (dd642283e958a93ebf6891600db055f1f1b4f3b2),platform=Mac OS X 10.13.6 x86_64)\n",
      "\n",
      "3 <selenium.webdriver.remote.webelement.WebElement (session=\"68e806577b24087e05bc85d8da9dc7a4\", element=\"0.7309326761676302-4\")>\n",
      "카테고리(음식점 리스트) 페이지 (0,318) 위치로 내리는중...\n",
      "카테고리(음식점 리스트) 페이지 (0,318) 위치로 내리기 완료!\n",
      "Message: stale element reference: element is not attached to the page document\n",
      "  (Session info: chrome=68.0.3440.106)\n",
      "  (Driver info: chromedriver=2.39.562713 (dd642283e958a93ebf6891600db055f1f1b4f3b2),platform=Mac OS X 10.13.6 x86_64)\n",
      "\n",
      "4 <selenium.webdriver.remote.webelement.WebElement (session=\"68e806577b24087e05bc85d8da9dc7a4\", element=\"0.7309326761676302-5\")>\n",
      "카테고리(음식점 리스트) 페이지 (0,436) 위치로 내리는중...\n",
      "카테고리(음식점 리스트) 페이지 (0,436) 위치로 내리기 완료!\n",
      "Message: stale element reference: element is not attached to the page document\n",
      "  (Session info: chrome=68.0.3440.106)\n",
      "  (Driver info: chromedriver=2.39.562713 (dd642283e958a93ebf6891600db055f1f1b4f3b2),platform=Mac OS X 10.13.6 x86_64)\n",
      "\n",
      "5 <selenium.webdriver.remote.webelement.WebElement (session=\"68e806577b24087e05bc85d8da9dc7a4\", element=\"0.7309326761676302-6\")>\n",
      "카테고리(음식점 리스트) 페이지 (0,436) 위치로 내리는중...\n",
      "카테고리(음식점 리스트) 페이지 (0,436) 위치로 내리기 완료!\n",
      "Message: stale element reference: element is not attached to the page document\n",
      "  (Session info: chrome=68.0.3440.106)\n",
      "  (Driver info: chromedriver=2.39.562713 (dd642283e958a93ebf6891600db055f1f1b4f3b2),platform=Mac OS X 10.13.6 x86_64)\n",
      "\n",
      "6 <selenium.webdriver.remote.webelement.WebElement (session=\"68e806577b24087e05bc85d8da9dc7a4\", element=\"0.7309326761676302-7\")>\n",
      "카테고리(음식점 리스트) 페이지 (0,554) 위치로 내리는중...\n"
     ]
    },
    {
     "ename": "KeyboardInterrupt",
     "evalue": "",
     "output_type": "error",
     "traceback": [
      "\u001b[0;31m---------------------------------------------------------------------------\u001b[0m",
      "\u001b[0;31mKeyboardInterrupt\u001b[0m                         Traceback (most recent call last)",
      "\u001b[0;32m<ipython-input-221-b27296aa2668>\u001b[0m in \u001b[0;36m<module>\u001b[0;34m()\u001b[0m\n\u001b[1;32m      2\u001b[0m     \u001b[0;32mtry\u001b[0m\u001b[0;34m:\u001b[0m\u001b[0;34m\u001b[0m\u001b[0m\n\u001b[1;32m      3\u001b[0m         \u001b[0mprint\u001b[0m\u001b[0;34m(\u001b[0m\u001b[0mi\u001b[0m\u001b[0;34m,\u001b[0m\u001b[0mrestaurant\u001b[0m\u001b[0;34m)\u001b[0m\u001b[0;34m\u001b[0m\u001b[0m\n\u001b[0;32m----> 4\u001b[0;31m         \u001b[0mcat_page_scroll_repeat\u001b[0m\u001b[0;34m(\u001b[0m\u001b[0mi\u001b[0m\u001b[0;34m)\u001b[0m\u001b[0;34m\u001b[0m\u001b[0m\n\u001b[0m\u001b[1;32m      5\u001b[0m         \u001b[0mgo_to_restaurant\u001b[0m\u001b[0;34m(\u001b[0m\u001b[0mrestaurant\u001b[0m\u001b[0;34m)\u001b[0m\u001b[0;34m\u001b[0m\u001b[0m\n\u001b[1;32m      6\u001b[0m         \u001b[0mgo_back_page\u001b[0m\u001b[0;34m(\u001b[0m\u001b[0;34m)\u001b[0m\u001b[0;34m\u001b[0m\u001b[0m\n",
      "\u001b[0;32m<ipython-input-218-592761761734>\u001b[0m in \u001b[0;36mcat_page_scroll_repeat\u001b[0;34m(i)\u001b[0m\n\u001b[1;32m     61\u001b[0m     \u001b[0mprint\u001b[0m\u001b[0;34m(\u001b[0m\u001b[0;34m'카테고리(음식점 리스트) 페이지 (0,{}) 위치로 내리는중...'\u001b[0m\u001b[0;34m.\u001b[0m\u001b[0mformat\u001b[0m\u001b[0;34m(\u001b[0m\u001b[0mheight\u001b[0m\u001b[0;34m)\u001b[0m\u001b[0;34m)\u001b[0m\u001b[0;34m\u001b[0m\u001b[0m\n\u001b[1;32m     62\u001b[0m     \u001b[0mdriver\u001b[0m\u001b[0;34m.\u001b[0m\u001b[0mexecute_script\u001b[0m\u001b[0;34m(\u001b[0m\u001b[0;34m\"window.scrollTo(0,{})\"\u001b[0m\u001b[0;34m.\u001b[0m\u001b[0mformat\u001b[0m\u001b[0;34m(\u001b[0m\u001b[0mheight\u001b[0m\u001b[0;34m)\u001b[0m\u001b[0;34m)\u001b[0m\u001b[0;34m\u001b[0m\u001b[0m\n\u001b[0;32m---> 63\u001b[0;31m     \u001b[0mtime\u001b[0m\u001b[0;34m.\u001b[0m\u001b[0msleep\u001b[0m\u001b[0;34m(\u001b[0m\u001b[0;36m3\u001b[0m\u001b[0;34m)\u001b[0m\u001b[0;34m\u001b[0m\u001b[0m\n\u001b[0m\u001b[1;32m     64\u001b[0m     \u001b[0mprint\u001b[0m\u001b[0;34m(\u001b[0m\u001b[0;34m'카테고리(음식점 리스트) 페이지 (0,{}) 위치로 내리기 완료!'\u001b[0m\u001b[0;34m.\u001b[0m\u001b[0mformat\u001b[0m\u001b[0;34m(\u001b[0m\u001b[0mheight\u001b[0m\u001b[0;34m)\u001b[0m\u001b[0;34m)\u001b[0m\u001b[0;34m\u001b[0m\u001b[0m\n\u001b[1;32m     65\u001b[0m \u001b[0;34m\u001b[0m\u001b[0m\n",
      "\u001b[0;31mKeyboardInterrupt\u001b[0m: "
     ]
    }
   ],
   "source": [
    "for i, restaurant in enumerate(get_all_restaurant_elements()): \n",
    "    try:\n",
    "        print(i,restaurant)\n",
    "        cat_page_scroll_repeat(i) \n",
    "        go_to_restaurant(restaurant) \n",
    "        go_back_page() \n",
    "    except Exception as e:\n",
    "        print(e)\n",
    "        pass"
   ]
  },
  {
   "cell_type": "code",
   "execution_count": null,
   "metadata": {},
   "outputs": [],
   "source": []
  },
  {
   "cell_type": "code",
   "execution_count": null,
   "metadata": {},
   "outputs": [],
   "source": []
  },
  {
   "cell_type": "code",
   "execution_count": null,
   "metadata": {},
   "outputs": [],
   "source": []
  },
  {
   "cell_type": "code",
   "execution_count": null,
   "metadata": {},
   "outputs": [],
   "source": []
  },
  {
   "cell_type": "code",
   "execution_count": null,
   "metadata": {},
   "outputs": [],
   "source": []
  },
  {
   "cell_type": "code",
   "execution_count": null,
   "metadata": {},
   "outputs": [],
   "source": []
  },
  {
   "cell_type": "code",
   "execution_count": 183,
   "metadata": {},
   "outputs": [],
   "source": [
    "def yogiyo_crawling(location, category):\n",
    "    set_location(location) \n",
    "    go_to_category(category) # 해당 카테고리(음식점 리스트) 페이지로 넘어감\n",
    "\n",
    "    df = pd.DataFrame(columns=['Restaurant','UserID','Menu','Review',\n",
    "                               'Total','Taste','Quantity','Delivery','Date'])\n",
    "\n",
    "    print('Start {} - {} Crawling...'.format(location, category))\n",
    "    for restaurant, i in tqdm(enumerate(get_all_restaurant_elements())): # 해당 카테고리의 음식점 개수만큼 loop\n",
    "        try:\n",
    "            cat_page_scroll_repeat(i) # i번째 음식점 위치로 page를 내림\n",
    "            go_to_restaurant(restaurant, i) # i번째 음식점 페이지로 넘어감\n",
    "            go_to_review() # 해당 음식점의 리뷰페이지로 넘어감\n",
    "            stretch_review_page() # 해당 음식점의 모든 리뷰를 불러옴\n",
    "\n",
    "            for review in tqdm(get_all_review_elements()):  # 해당 음식점의 리뷰 수 만큼 데이터를 가져옴\n",
    "                try:\n",
    "                    df.loc[len(df)] = { \n",
    "                        'Restaurant':driver.find_element_by_class_name('restaurant-name').text,\n",
    "                        'UserID':review.find_element_by_css_selector('span.review-id.ng-binding').text,\n",
    "                        'Menu':review.find_element_by_css_selector('div.order-items.default.ng-binding').text,\n",
    "                        'Review':review.find_element_by_css_selector('p').text,\n",
    "                        'Total':str(len(review.find_elements_by_css_selector('div > span.total > span.full.ng-scope'))),\n",
    "                        'Taste':review.find_element_by_css_selector('div:nth-child(2) > div > span.category > span:nth-child(3)').text,\n",
    "                        'Quantity':review.find_element_by_css_selector('div:nth-child(2) > div > span.category > span:nth-child(6)').text,\n",
    "                        'Delivery':review.find_element_by_css_selector('div:nth-child(2) > div > span.category > span:nth-child(9)').text,\n",
    "                        'Date':review.find_element_by_css_selector('div:nth-child(1) > span.review-time.ng-binding').text,\n",
    "                    }\n",
    "                except Exception as e:\n",
    "                    print('리뷰 페이지 에러')\n",
    "                    print(e)\n",
    "                    pass\n",
    "                \n",
    "            print('음식점 리스트 페이지로 돌아가는중...')\n",
    "            go_back_page() # 해당 음식점 리뷰를 모두 모았으면 다시 음식점 리스트 페이지로 돌아감\n",
    "            time.sleep(2)\n",
    "            \n",
    "        except Exception as e:\n",
    "            print('음식점 리스트 페이지 에러')\n",
    "            print(e)\n",
    "            pass\n",
    "        \n",
    "    print('End of {} {} Crawling!'.format(location, category))\n",
    "    myslack.send_slack('{} {} crawling finish!!!'.format(location, category))\n",
    "    return df"
   ]
  },
  {
   "cell_type": "code",
   "execution_count": 184,
   "metadata": {
    "scrolled": true
   },
   "outputs": [
    {
     "name": "stdout",
     "output_type": "stream",
     "text": [
      "방이2동으로 위치 설정 하는중...\n",
      "방이2동으로 위치 설정 완료!\n",
      "치킨 카테고리 페이지 로드중...\n"
     ]
    },
    {
     "name": "stderr",
     "output_type": "stream",
     "text": [
      "20it [00:00, 24513.76it/s]"
     ]
    },
    {
     "name": "stdout",
     "output_type": "stream",
     "text": [
      "치킨 카테고리 페이지 로드 완료!\n",
      "Start 방이2동 - 치킨 Crawling...\n",
      "음식점 리스트 페이지 에러\n",
      "unsupported operand type(s) for //: 'WebElement' and 'int'\n",
      "음식점 리스트 페이지 에러\n",
      "unsupported operand type(s) for //: 'WebElement' and 'int'\n",
      "음식점 리스트 페이지 에러\n",
      "unsupported operand type(s) for //: 'WebElement' and 'int'\n",
      "음식점 리스트 페이지 에러\n",
      "unsupported operand type(s) for //: 'WebElement' and 'int'\n",
      "음식점 리스트 페이지 에러\n",
      "unsupported operand type(s) for //: 'WebElement' and 'int'\n",
      "음식점 리스트 페이지 에러\n",
      "unsupported operand type(s) for //: 'WebElement' and 'int'\n",
      "음식점 리스트 페이지 에러\n",
      "unsupported operand type(s) for //: 'WebElement' and 'int'\n",
      "음식점 리스트 페이지 에러\n",
      "unsupported operand type(s) for //: 'WebElement' and 'int'\n",
      "음식점 리스트 페이지 에러\n",
      "unsupported operand type(s) for //: 'WebElement' and 'int'\n",
      "음식점 리스트 페이지 에러\n",
      "unsupported operand type(s) for //: 'WebElement' and 'int'\n",
      "음식점 리스트 페이지 에러\n",
      "unsupported operand type(s) for //: 'WebElement' and 'int'\n",
      "음식점 리스트 페이지 에러\n",
      "unsupported operand type(s) for //: 'WebElement' and 'int'\n",
      "음식점 리스트 페이지 에러\n",
      "unsupported operand type(s) for //: 'WebElement' and 'int'\n",
      "음식점 리스트 페이지 에러\n",
      "unsupported operand type(s) for //: 'WebElement' and 'int'\n",
      "음식점 리스트 페이지 에러\n",
      "unsupported operand type(s) for //: 'WebElement' and 'int'\n",
      "음식점 리스트 페이지 에러\n",
      "unsupported operand type(s) for //: 'WebElement' and 'int'\n",
      "음식점 리스트 페이지 에러\n",
      "unsupported operand type(s) for //: 'WebElement' and 'int'\n",
      "음식점 리스트 페이지 에러\n",
      "unsupported operand type(s) for //: 'WebElement' and 'int'\n",
      "음식점 리스트 페이지 에러\n",
      "unsupported operand type(s) for //: 'WebElement' and 'int'\n",
      "음식점 리스트 페이지 에러\n",
      "unsupported operand type(s) for //: 'WebElement' and 'int'\n",
      "End of 방이2동 치킨 Crawling!\n"
     ]
    },
    {
     "name": "stderr",
     "output_type": "stream",
     "text": [
      "\n"
     ]
    },
    {
     "name": "stdout",
     "output_type": "stream",
     "text": [
      "<Response [200]>\n",
      "CPU times: user 46.6 ms, sys: 10.4 ms, total: 57 ms\n",
      "Wall time: 4.43 s\n"
     ]
    }
   ],
   "source": [
    "%time chinese_df = yogiyo_crawling('방이2동','치킨')"
   ]
  },
  {
   "cell_type": "code",
   "execution_count": null,
   "metadata": {
    "scrolled": false
   },
   "outputs": [],
   "source": [
    "chicken_df.tail()"
   ]
  },
  {
   "cell_type": "code",
   "execution_count": null,
   "metadata": {},
   "outputs": [],
   "source": []
  },
  {
   "cell_type": "code",
   "execution_count": null,
   "metadata": {},
   "outputs": [],
   "source": []
  },
  {
   "cell_type": "code",
   "execution_count": null,
   "metadata": {},
   "outputs": [],
   "source": []
  },
  {
   "cell_type": "code",
   "execution_count": 226,
   "metadata": {},
   "outputs": [],
   "source": [
    "driver.close() # 창닫기\n",
    "driver.quit() # 브라우져 닫기"
   ]
  },
  {
   "cell_type": "code",
   "execution_count": null,
   "metadata": {},
   "outputs": [],
   "source": []
  },
  {
   "cell_type": "markdown",
   "metadata": {},
   "source": [
    "---"
   ]
  },
  {
   "cell_type": "code",
   "execution_count": null,
   "metadata": {},
   "outputs": [],
   "source": []
  }
 ],
 "metadata": {
  "kernelspec": {
   "display_name": "Python 3",
   "language": "python",
   "name": "python3"
  },
  "language_info": {
   "codemirror_mode": {
    "name": "ipython",
    "version": 3
   },
   "file_extension": ".py",
   "mimetype": "text/x-python",
   "name": "python",
   "nbconvert_exporter": "python",
   "pygments_lexer": "ipython3",
   "version": "3.6.4"
  }
 },
 "nbformat": 4,
 "nbformat_minor": 2
}

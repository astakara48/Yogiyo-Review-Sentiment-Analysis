{
 "cells": [
  {
   "cell_type": "markdown",
   "metadata": {},
   "source": [
    "# 역삼동 - 치킨"
   ]
  },
  {
   "cell_type": "code",
   "execution_count": 13,
   "metadata": {},
   "outputs": [],
   "source": [
    "yogiyo_'{} []'. = pickle.load(open('chicken_df_{}_{}.pkl'.format(location, category),'rb'))"
   ]
  },
  {
   "cell_type": "code",
   "execution_count": 14,
   "metadata": {},
   "outputs": [
    {
     "data": {
      "text/html": [
       "<div>\n",
       "<style scoped>\n",
       "    .dataframe tbody tr th:only-of-type {\n",
       "        vertical-align: middle;\n",
       "    }\n",
       "\n",
       "    .dataframe tbody tr th {\n",
       "        vertical-align: top;\n",
       "    }\n",
       "\n",
       "    .dataframe thead th {\n",
       "        text-align: right;\n",
       "    }\n",
       "</style>\n",
       "<table border=\"1\" class=\"dataframe\">\n",
       "  <thead>\n",
       "    <tr style=\"text-align: right;\">\n",
       "      <th></th>\n",
       "      <th>Restaurant</th>\n",
       "      <th>UserID</th>\n",
       "      <th>Menu</th>\n",
       "      <th>Review</th>\n",
       "      <th>Total</th>\n",
       "      <th>Taste</th>\n",
       "      <th>Quantity</th>\n",
       "      <th>Delivery</th>\n",
       "      <th>Date</th>\n",
       "    </tr>\n",
       "  </thead>\n",
       "  <tbody>\n",
       "    <tr>\n",
       "      <th>9927</th>\n",
       "      <td>강남929치킨피자</td>\n",
       "      <td>dp**님</td>\n",
       "      <td>크리스피 순살/1</td>\n",
       "      <td>Delcious! And very impressed the delivery driv...</td>\n",
       "      <td>5</td>\n",
       "      <td>5</td>\n",
       "      <td>5</td>\n",
       "      <td>5</td>\n",
       "      <td>2018년 4월 28일</td>\n",
       "    </tr>\n",
       "    <tr>\n",
       "      <th>9928</th>\n",
       "      <td>강남929치킨피자</td>\n",
       "      <td>pe**님</td>\n",
       "      <td>세트6（슈퍼슈프림＋크리스피후라이드）/1(메뉴 변경 선택(변경 안함))</td>\n",
       "      <td>진짜 맛있네요 치킨 바삭하고 간 적당하고 느끼하지도 않고 피자도 딱히 흠잡을 곳이 ...</td>\n",
       "      <td>5</td>\n",
       "      <td>5</td>\n",
       "      <td>5</td>\n",
       "      <td>5</td>\n",
       "      <td>2018년 4월 27일</td>\n",
       "    </tr>\n",
       "    <tr>\n",
       "      <th>9929</th>\n",
       "      <td>강남929치킨피자</td>\n",
       "      <td>da**님</td>\n",
       "      <td>슈퍼슈프림피자/1</td>\n",
       "      <td>피자 시켰는데 배달 예정시간보다 일찍 왔고 일단 피자가 그림에서처럼 팬피자는 아니고...</td>\n",
       "      <td>4</td>\n",
       "      <td>5</td>\n",
       "      <td>4</td>\n",
       "      <td>5</td>\n",
       "      <td>2018년 4월 25일</td>\n",
       "    </tr>\n",
       "    <tr>\n",
       "      <th>9930</th>\n",
       "      <td>강남929치킨피자</td>\n",
       "      <td>wk**님</td>\n",
       "      <td>슈퍼슈프림피자/1</td>\n",
       "      <td>너무 배고파서 피자를 주문! 강남929 란 처음보는 피자배달 배달도 빨리오고 가격도...</td>\n",
       "      <td>5</td>\n",
       "      <td>5</td>\n",
       "      <td>5</td>\n",
       "      <td>5</td>\n",
       "      <td>2018년 4월 25일</td>\n",
       "    </tr>\n",
       "    <tr>\n",
       "      <th>9931</th>\n",
       "      <td>강남929치킨피자</td>\n",
       "      <td>ci**님</td>\n",
       "      <td>크리스피후라이드/1</td>\n",
       "      <td>퇴근 후 먹는 치킨 배달이 이렇게 빠를 줄이야..요즘 배달 다들 늦는데 이렇게빠르게...</td>\n",
       "      <td>5</td>\n",
       "      <td>5</td>\n",
       "      <td>5</td>\n",
       "      <td>5</td>\n",
       "      <td>2018년 4월 25일</td>\n",
       "    </tr>\n",
       "  </tbody>\n",
       "</table>\n",
       "</div>"
      ],
      "text/plain": [
       "     Restaurant UserID                                    Menu  \\\n",
       "9927  강남929치킨피자  dp**님                               크리스피 순살/1   \n",
       "9928  강남929치킨피자  pe**님  세트6（슈퍼슈프림＋크리스피후라이드）/1(메뉴 변경 선택(변경 안함))   \n",
       "9929  강남929치킨피자  da**님                               슈퍼슈프림피자/1   \n",
       "9930  강남929치킨피자  wk**님                               슈퍼슈프림피자/1   \n",
       "9931  강남929치킨피자  ci**님                              크리스피후라이드/1   \n",
       "\n",
       "                                                 Review Total Taste Quantity  \\\n",
       "9927  Delcious! And very impressed the delivery driv...     5     5        5   \n",
       "9928  진짜 맛있네요 치킨 바삭하고 간 적당하고 느끼하지도 않고 피자도 딱히 흠잡을 곳이 ...     5     5        5   \n",
       "9929  피자 시켰는데 배달 예정시간보다 일찍 왔고 일단 피자가 그림에서처럼 팬피자는 아니고...     4     5        4   \n",
       "9930  너무 배고파서 피자를 주문! 강남929 란 처음보는 피자배달 배달도 빨리오고 가격도...     5     5        5   \n",
       "9931  퇴근 후 먹는 치킨 배달이 이렇게 빠를 줄이야..요즘 배달 다들 늦는데 이렇게빠르게...     5     5        5   \n",
       "\n",
       "     Delivery          Date  \n",
       "9927        5  2018년 4월 28일  \n",
       "9928        5  2018년 4월 27일  \n",
       "9929        5  2018년 4월 25일  \n",
       "9930        5  2018년 4월 25일  \n",
       "9931        5  2018년 4월 25일  "
      ]
     },
     "execution_count": 14,
     "metadata": {},
     "output_type": "execute_result"
    }
   ],
   "source": [
    "yogiyo_df.tail()"
   ]
  },
  {
   "cell_type": "code",
   "execution_count": null,
   "metadata": {},
   "outputs": [],
   "source": []
  }
 ],
 "metadata": {
  "kernelspec": {
   "display_name": "Python 3",
   "language": "python",
   "name": "python3"
  },
  "language_info": {
   "codemirror_mode": {
    "name": "ipython",
    "version": 3
   },
   "file_extension": ".py",
   "mimetype": "text/x-python",
   "name": "python",
   "nbconvert_exporter": "python",
   "pygments_lexer": "ipython3",
   "version": "3.6.4"
  }
 },
 "nbformat": 4,
 "nbformat_minor": 2
}

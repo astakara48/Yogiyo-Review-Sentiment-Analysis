{
 "cells": [
  {
   "cell_type": "code",
   "execution_count": 1,
   "metadata": {},
   "outputs": [],
   "source": [
    "import pandas as pd\n",
    "import myslack\n",
    "import warnings\n",
    "warnings.filterwarnings('ignore')\n",
    "import datetime as dt\n",
    "import pickle\n",
    "import time\n",
    "import re\n",
    "from tqdm import tqdm\n",
    "from tqdm import trange\n",
    "\n",
    "import requests\n",
    "from selenium import webdriver\n",
    "from selenium.webdriver.common.action_chains import ActionChains\n",
    "from selenium.webdriver.common.by import By\n",
    "from selenium.webdriver.support.ui import WebDriverWait\n",
    "from selenium.webdriver.support import expected_conditions as EC"
   ]
  },
  {
   "cell_type": "code",
   "execution_count": 2,
   "metadata": {},
   "outputs": [],
   "source": [
    "driver = webdriver.Chrome()  \n",
    "url = 'https://www.yogiyo.co.kr/mobile/?utm_source=google&utm_medium=cpc&utm_campaign=sem_bra_orignal&utm_term=%EC%9A%94%EA%B8%B0%EC%9A%94&utm_id=sem_000001&referrer=adjust_tracker%3Dgrm2aa%26adjust_google_network%3Dg%26adjust_google_placement%3D%26adjust_campaign%3Dsem_bra_web_kr_700886066_cpc%26adjust_adgroup%3D38249737818%26adjust_creative%3D%EC%9A%94%EA%B8%B0%EC%9A%94_b&gclid=EAIaIQobChMIv9DaxIL-3AIVA6yWCh0C8glmEAAYASAAEgLbF_D_BwE#/%EC%84%9C%EC%9A%B8/138223/'\n",
    "driver.get(url) "
   ]
  },
  {
   "cell_type": "code",
   "execution_count": 3,
   "metadata": {},
   "outputs": [],
   "source": [
    "food_dict = {\n",
    "    '프랜차이즈':3, '치킨':4, '피자':5, '양식':5, '중국집':6,\n",
    "    '한식':7, '일식':8, '돈가스':8, '족발':9, '보쌈':9, \n",
    "    '야식':10, '분식':11, '카페':12, '디저트':12 }"
   ]
  },
  {
   "cell_type": "code",
   "execution_count": null,
   "metadata": {},
   "outputs": [],
   "source": []
  },
  {
   "cell_type": "code",
   "execution_count": 23,
   "metadata": {},
   "outputs": [
    {
     "data": {
      "text/plain": [
       "77"
      ]
     },
     "execution_count": 23,
     "metadata": {},
     "output_type": "execute_result"
    }
   ],
   "source": [
    "int(driver.find_element_by_css_selector('#restaurant_count').text)"
   ]
  },
  {
   "cell_type": "code",
   "execution_count": 29,
   "metadata": {},
   "outputs": [
    {
     "name": "stderr",
     "output_type": "stream",
     "text": [
      "\r",
      "  0%|          | 0/3 [00:00<?, ?it/s]"
     ]
    },
    {
     "name": "stdout",
     "output_type": "stream",
     "text": [
      "모든 음식점 리스트 불러오기 시작...\n"
     ]
    },
    {
     "name": "stderr",
     "output_type": "stream",
     "text": [
      "100%|██████████| 3/3 [00:09<00:00,  3.01s/it]"
     ]
    },
    {
     "name": "stdout",
     "output_type": "stream",
     "text": [
      "모든 음식점 리스트 불러오기 완료!\n"
     ]
    },
    {
     "name": "stderr",
     "output_type": "stream",
     "text": [
      "\n"
     ]
    }
   ],
   "source": [
    "stretch_list_page()"
   ]
  },
  {
   "cell_type": "code",
   "execution_count": 31,
   "metadata": {},
   "outputs": [
    {
     "data": {
      "text/plain": [
       "76"
      ]
     },
     "execution_count": 31,
     "metadata": {},
     "output_type": "execute_result"
    }
   ],
   "source": [
    "len(get_restaurant_list())"
   ]
  },
  {
   "cell_type": "code",
   "execution_count": null,
   "metadata": {},
   "outputs": [],
   "source": []
  },
  {
   "cell_type": "code",
   "execution_count": null,
   "metadata": {},
   "outputs": [],
   "source": []
  },
  {
   "cell_type": "code",
   "execution_count": 37,
   "metadata": {},
   "outputs": [
    {
     "name": "stdout",
     "output_type": "stream",
     "text": [
      "방이2동으로 위치 설정 하는중...\n",
      "방이2동으로 위치 설정 완료!\n"
     ]
    }
   ],
   "source": [
    "set_location('방이2동')"
   ]
  },
  {
   "cell_type": "code",
   "execution_count": 38,
   "metadata": {},
   "outputs": [
    {
     "name": "stdout",
     "output_type": "stream",
     "text": [
      "치킨 카테고리 페이지 로드중...\n",
      "치킨 카테고리 페이지 로드 완료!\n"
     ]
    }
   ],
   "source": [
    "go_to_category('치킨')"
   ]
  },
  {
   "cell_type": "code",
   "execution_count": 41,
   "metadata": {},
   "outputs": [
    {
     "name": "stderr",
     "output_type": "stream",
     "text": [
      "\r",
      "  0%|          | 0/3 [00:00<?, ?it/s]"
     ]
    },
    {
     "name": "stdout",
     "output_type": "stream",
     "text": [
      "모든 음식점 리스트 불러오기 시작...\n"
     ]
    },
    {
     "name": "stderr",
     "output_type": "stream",
     "text": [
      "100%|██████████| 3/3 [00:09<00:00,  3.01s/it]"
     ]
    },
    {
     "name": "stdout",
     "output_type": "stream",
     "text": [
      "모든 음식점 리스트 불러오기 완료!\n"
     ]
    },
    {
     "name": "stderr",
     "output_type": "stream",
     "text": [
      "\n"
     ]
    }
   ],
   "source": [
    "stretch_list_page()"
   ]
  },
  {
   "cell_type": "code",
   "execution_count": 44,
   "metadata": {},
   "outputs": [],
   "source": [
    "restaurant_list = get_restaurant_list()"
   ]
  },
  {
   "cell_type": "code",
   "execution_count": 45,
   "metadata": {},
   "outputs": [],
   "source": [
    "search_restaurant(restaurant_list[0])"
   ]
  },
  {
   "cell_type": "code",
   "execution_count": 46,
   "metadata": {},
   "outputs": [],
   "source": [
    "go_to_restaurant()"
   ]
  },
  {
   "cell_type": "code",
   "execution_count": 47,
   "metadata": {},
   "outputs": [
    {
     "name": "stdout",
     "output_type": "stream",
     "text": [
      "리뷰 페이지로 로드중...\n",
      "리뷰 페이지로 로드 완료!\n"
     ]
    }
   ],
   "source": [
    "go_to_review()"
   ]
  },
  {
   "cell_type": "code",
   "execution_count": null,
   "metadata": {},
   "outputs": [],
   "source": [
    "get_all_review_elements()"
   ]
  },
  {
   "cell_type": "code",
   "execution_count": 49,
   "metadata": {},
   "outputs": [
    {
     "name": "stderr",
     "output_type": "stream",
     "text": [
      "\r",
      "  0%|          | 0/49 [00:00<?, ?it/s]"
     ]
    },
    {
     "name": "stdout",
     "output_type": "stream",
     "text": [
      "모든 리뷰 불러오기 시작...\n"
     ]
    },
    {
     "name": "stderr",
     "output_type": "stream",
     "text": [
      "100%|██████████| 49/49 [06:02<00:00,  7.41s/it]"
     ]
    },
    {
     "name": "stdout",
     "output_type": "stream",
     "text": [
      "모든 리뷰 불러오기 완료!\n"
     ]
    },
    {
     "name": "stderr",
     "output_type": "stream",
     "text": [
      "\n"
     ]
    }
   ],
   "source": [
    "stretch_review_page()"
   ]
  },
  {
   "cell_type": "code",
   "execution_count": null,
   "metadata": {},
   "outputs": [],
   "source": []
  },
  {
   "cell_type": "code",
   "execution_count": null,
   "metadata": {},
   "outputs": [],
   "source": []
  },
  {
   "cell_type": "code",
   "execution_count": 56,
   "metadata": {},
   "outputs": [],
   "source": [
    "# 0. 페이지 한번 맨아래로 내리기\n",
    "def scroll_bottom():\n",
    "    driver.execute_script(\"window.scrollTo(0,document.body.scrollHeight);\")\n",
    "\n",
    "# 1. 입력한 위치로 설정하기\n",
    "def set_location(location):\n",
    "    print(location+'으로 위치 설정 하는중...')\n",
    "    driver.find_element_by_css_selector('#search > div > form > input').click()\n",
    "    driver.find_element_by_css_selector('#button_search_address > button.btn-search-location-cancel.btn-search-location.btn.btn-default > span').click()\n",
    "    driver.find_element_by_css_selector('#search > div > form > input').send_keys(location)\n",
    "    driver.find_element_by_css_selector('#button_search_address > button.btn.btn-default.ico-pick').click()\n",
    "    time.sleep(1)\n",
    "    print(location+'으로 위치 설정 완료!')\n",
    "    \n",
    "# 2. 카테고리 페이지로 넘어가기\n",
    "def go_to_category(category):\n",
    "    print(category+' 카테고리 페이지 로드중...')\n",
    "    driver.find_element_by_xpath('//*[@id=\"category\"]/ul/li[{}]/span'.format(food_dict.get(category))).click()\n",
    "    time.sleep(1)\n",
    "    print(category+' 카테고리 페이지 로드 완료!')    \n",
    "\n",
    "# 3. 카테고리(음식점 리스트) 페이지 모두 펼치기\n",
    "def stretch_list_page():\n",
    "    restaurant_count = int(driver.find_element_by_css_selector('#restaurant_count').text)\n",
    "    scroll_count = int((restaurant_count/20))\n",
    "    print('모든 음식점 리스트 불러오기 시작...')\n",
    "    for _ in trange(scroll_count):\n",
    "        try:\n",
    "            scroll_bottom()\n",
    "            time.sleep(2.5)\n",
    "        except Exception as e:\n",
    "            pass\n",
    "    scroll_bottom()\n",
    "    print('모든 음식점 리스트 불러오기 완료!')\n",
    "    \n",
    "# 4. 해당 카테고리 음식점 리스트 리턴\n",
    "def get_restaurant_list():\n",
    "    restaurant_list=[]\n",
    "    restaurants = driver.find_elements_by_css_selector('#content > div > div.restaurant-list > div.col-sm-6.contract')\n",
    "    for restaurant in restaurants:\n",
    "        restaurant_list.append(restaurant.find_element_by_css_selector('div > table > tbody > tr > td:nth-child(2) > div > div.restaurant-name.ng-binding').text)\n",
    "    return restaurant_list\n",
    "\n",
    "# 5. 검색창에 음식점 검색하기\n",
    "def search_restaurant(restaurant_name):\n",
    "    driver.find_element_by_xpath('//*[@id=\"category\"]/ul/li[1]/a').click()\n",
    "    driver.find_element_by_xpath('//*[@id=\"category\"]/ul/li[13]/form/div/input').send_keys(restaurant_name)    \n",
    "    driver.find_element_by_xpath('//*[@id=\"category_search_button\"]').click()\n",
    "    time.sleep(2)\n",
    "\n",
    "# 6. 검색한 음식점 클릭\n",
    "def go_to_restaurant():\n",
    "    driver.find_element_by_xpath('//*[@id=\"content\"]/div/div[4]/div[2]/div').click()\n",
    "    time.sleep(1)\n",
    "\n",
    "# 7. 해당 음식점의 리뷰 페이지로 넘어가기\n",
    "def go_to_review():\n",
    "    print('리뷰 페이지로 로드중...')\n",
    "    driver.find_element_by_xpath('//*[@id=\"content\"]/div[2]/div[1]/ul/li[2]/a').click()\n",
    "    time.sleep(1)\n",
    "    print('리뷰 페이지로 로드 완료!')\n",
    "    \n",
    "# 8. 리뷰 더보기 클릭하기 \n",
    "def click_more_review():\n",
    "    driver.find_element_by_class_name('btn-more').click()\n",
    "    time.sleep(2)\n",
    "    \n",
    "# 9. 리뷰 페이지 모두 펼치기\n",
    "def stretch_review_page():\n",
    "    review_count = int(driver.find_element_by_xpath('//*[@id=\"content\"]/div[2]/div[1]/ul/li[2]/a/span').text)\n",
    "    click_count = int((review_count/10))\n",
    "    print('모든 리뷰 불러오기 시작...')\n",
    "    for _ in trange(click_count):\n",
    "        try:\n",
    "            scroll_bottom()\n",
    "            click_more_review()\n",
    "        except Exception as e:\n",
    "            pass\n",
    "    scroll_bottom()\n",
    "    print('모든 리뷰 불러오기 완료!')\n",
    "        \n",
    "# 10. 해당 음식점의 모든 리뷰 객체 리턴\n",
    "def get_all_review_elements():\n",
    "    reviews = driver.find_elements_by_css_selector('#review > li.list-group-item.star-point.ng-scope')\n",
    "    return reviews\n",
    "        \n",
    "# 11. 페이지 뒤로 가기 (한 음식점 리뷰를 모두 모았으면 다시 음식점 리스트 페이지로 돌아감)\n",
    "def go_back_page():\n",
    "    print('페이지 돌아가기중...')\n",
    "    driver.execute_script(\"window.history.go(-1)\")\n",
    "    time.sleep(3)\n",
    "    print('페이지 돌아가기 완료!')"
   ]
  },
  {
   "cell_type": "code",
   "execution_count": null,
   "metadata": {},
   "outputs": [],
   "source": []
  },
  {
   "cell_type": "code",
   "execution_count": 57,
   "metadata": {},
   "outputs": [],
   "source": [
    "def yogiyo_crawling(location, category):\n",
    "    set_location(location) \n",
    "    go_to_category(category) # 해당 카테고리(음식점 리스트) 페이지로 넘어감\n",
    "\n",
    "    df = pd.DataFrame(columns=['Restaurant','UserID','Menu','Review',\n",
    "                               'Total','Taste','Quantity','Delivery','Date'])\n",
    "\n",
    "    print('Start {} - {} Crawling...'.format(location, category))\n",
    "    try:\n",
    "        stretch_list_page() # 카테고리(음식점 리스트) 페이지 모두 펼치기\n",
    "        restaurant_list = get_restaurant_list() # 해당 카테고리 음식점 리스트 받아오기\n",
    "        \n",
    "        for restaurant_name in restaurant_list:\n",
    "            search_restaurant(restaurant_name) # 음식점을 순서대로 검색\n",
    "            go_to_restaurant() # 검색한 음식점 클릭             \n",
    "            go_to_review() # 해당 음식점의 리뷰페이지로 넘어감\n",
    "            stretch_review_page() # 해당 음식점의 모든 리뷰를 불러옴\n",
    "\n",
    "            for review in tqdm(get_all_review_elements()):  # 해당 음식점의 리뷰 수 만큼 데이터를 가져옴\n",
    "                try:\n",
    "                    df.loc[len(df)] = { \n",
    "                        'Restaurant':driver.find_element_by_class_name('restaurant-name').text,\n",
    "                        'UserID':review.find_element_by_css_selector('span.review-id.ng-binding').text,\n",
    "                        'Menu':review.find_element_by_css_selector('div.order-items.default.ng-binding').text,\n",
    "                        'Review':review.find_element_by_css_selector('p').text,\n",
    "                        'Total':str(len(review.find_elements_by_css_selector('div > span.total > span.full.ng-scope'))),\n",
    "                        'Taste':review.find_element_by_css_selector('div:nth-child(2) > div > span.category > span:nth-child(3)').text,\n",
    "                        'Quantity':review.find_element_by_css_selector('div:nth-child(2) > div > span.category > span:nth-child(6)').text,\n",
    "                        'Delivery':review.find_element_by_css_selector('div:nth-child(2) > div > span.category > span:nth-child(9)').text,\n",
    "                        'Date':review.find_element_by_css_selector('div:nth-child(1) > span.review-time.ng-binding').text,\n",
    "                    }\n",
    "                except Exception as e:\n",
    "                    print('리뷰 페이지 에러')\n",
    "                    print(e)\n",
    "                    pass\n",
    "\n",
    "            print('음식점 리스트 페이지로 돌아가는중...')\n",
    "            go_back_page() # 해당 음식점 리뷰를 모두 모았으면 다시 음식점 리스트 페이지로 돌아감\n",
    "            time.sleep(2)\n",
    "            \n",
    "    except Exception as e:\n",
    "        print('음식점 리스트 페이지 에러')\n",
    "        print(e)\n",
    "        pass\n",
    "        \n",
    "    print('End of {} {} Crawling!'.format(location, category))\n",
    "    myslack.send_slack('{} {} crawling finish!!!'.format(location, category))\n",
    "    return df"
   ]
  },
  {
   "cell_type": "code",
   "execution_count": null,
   "metadata": {
    "scrolled": true
   },
   "outputs": [
    {
     "name": "stdout",
     "output_type": "stream",
     "text": [
      "방이2동으로 위치 설정 하는중...\n",
      "방이2동으로 위치 설정 완료!\n",
      "치킨 카테고리 페이지 로드중...\n"
     ]
    },
    {
     "name": "stderr",
     "output_type": "stream",
     "text": [
      "\r",
      "  0%|          | 0/3 [00:00<?, ?it/s]"
     ]
    },
    {
     "name": "stdout",
     "output_type": "stream",
     "text": [
      "치킨 카테고리 페이지 로드 완료!\n",
      "Start 방이2동 - 치킨 Crawling...\n",
      "모든 음식점 리스트 불러오기 시작...\n"
     ]
    },
    {
     "name": "stderr",
     "output_type": "stream",
     "text": [
      "100%|██████████| 3/3 [00:07<00:00,  2.51s/it]\n"
     ]
    },
    {
     "name": "stdout",
     "output_type": "stream",
     "text": [
      "모든 음식점 리스트 불러오기 완료!\n",
      "리뷰 페이지로 로드중...\n"
     ]
    },
    {
     "name": "stderr",
     "output_type": "stream",
     "text": [
      "\r",
      "  0%|          | 0/49 [00:00<?, ?it/s]"
     ]
    },
    {
     "name": "stdout",
     "output_type": "stream",
     "text": [
      "리뷰 페이지로 로드 완료!\n",
      "모든 리뷰 불러오기 시작...\n"
     ]
    },
    {
     "name": "stderr",
     "output_type": "stream",
     "text": [
      "100%|██████████| 49/49 [03:32<00:00,  4.34s/it]\n",
      "  0%|          | 0/498 [00:00<?, ?it/s]"
     ]
    },
    {
     "name": "stdout",
     "output_type": "stream",
     "text": [
      "모든 리뷰 불러오기 완료!\n"
     ]
    },
    {
     "name": "stderr",
     "output_type": "stream",
     "text": [
      "100%|██████████| 498/498 [02:18<00:00,  3.59it/s]\n"
     ]
    },
    {
     "name": "stdout",
     "output_type": "stream",
     "text": [
      "음식점 리스트 페이지로 돌아가는중...\n",
      "페이지 돌아가기중...\n",
      "페이지 돌아가기 완료!\n",
      "리뷰 페이지로 로드중...\n"
     ]
    },
    {
     "name": "stderr",
     "output_type": "stream",
     "text": [
      "\r",
      "  0%|          | 0/34 [00:00<?, ?it/s]"
     ]
    },
    {
     "name": "stdout",
     "output_type": "stream",
     "text": [
      "리뷰 페이지로 로드 완료!\n",
      "모든 리뷰 불러오기 시작...\n"
     ]
    },
    {
     "name": "stderr",
     "output_type": "stream",
     "text": [
      "100%|██████████| 34/34 [01:09<00:00,  2.06s/it]\n",
      "  0%|          | 1/341 [00:00<00:59,  5.69it/s]"
     ]
    },
    {
     "name": "stdout",
     "output_type": "stream",
     "text": [
      "모든 리뷰 불러오기 완료!\n"
     ]
    },
    {
     "name": "stderr",
     "output_type": "stream",
     "text": [
      "100%|██████████| 341/341 [01:14<00:00,  4.56it/s]\n"
     ]
    },
    {
     "name": "stdout",
     "output_type": "stream",
     "text": [
      "음식점 리스트 페이지로 돌아가는중...\n",
      "페이지 돌아가기중...\n",
      "페이지 돌아가기 완료!\n",
      "리뷰 페이지로 로드중...\n"
     ]
    },
    {
     "name": "stderr",
     "output_type": "stream",
     "text": [
      "\r",
      "  0%|          | 0/37 [00:00<?, ?it/s]"
     ]
    },
    {
     "name": "stdout",
     "output_type": "stream",
     "text": [
      "리뷰 페이지로 로드 완료!\n",
      "모든 리뷰 불러오기 시작...\n"
     ]
    },
    {
     "name": "stderr",
     "output_type": "stream",
     "text": [
      "100%|██████████| 37/37 [04:32<00:00,  7.36s/it]\n",
      "  0%|          | 0/377 [00:00<?, ?it/s]"
     ]
    },
    {
     "name": "stdout",
     "output_type": "stream",
     "text": [
      "모든 리뷰 불러오기 완료!\n"
     ]
    },
    {
     "name": "stderr",
     "output_type": "stream",
     "text": [
      "100%|██████████| 377/377 [01:39<00:00,  3.79it/s]\n"
     ]
    },
    {
     "name": "stdout",
     "output_type": "stream",
     "text": [
      "음식점 리스트 페이지로 돌아가는중...\n",
      "페이지 돌아가기중...\n",
      "페이지 돌아가기 완료!\n",
      "리뷰 페이지로 로드중...\n"
     ]
    },
    {
     "name": "stderr",
     "output_type": "stream",
     "text": [
      "\r",
      "  0%|          | 0/20 [00:00<?, ?it/s]"
     ]
    },
    {
     "name": "stdout",
     "output_type": "stream",
     "text": [
      "리뷰 페이지로 로드 완료!\n",
      "모든 리뷰 불러오기 시작...\n"
     ]
    },
    {
     "name": "stderr",
     "output_type": "stream",
     "text": [
      " 45%|████▌     | 9/20 [01:03<01:17,  7.07s/it]"
     ]
    }
   ],
   "source": [
    "%time chinese_df = yogiyo_crawling('방이2동','치킨')"
   ]
  },
  {
   "cell_type": "code",
   "execution_count": null,
   "metadata": {
    "scrolled": false
   },
   "outputs": [],
   "source": [
    "chicken_df.tail()"
   ]
  },
  {
   "cell_type": "code",
   "execution_count": null,
   "metadata": {},
   "outputs": [],
   "source": []
  },
  {
   "cell_type": "code",
   "execution_count": null,
   "metadata": {},
   "outputs": [],
   "source": []
  },
  {
   "cell_type": "code",
   "execution_count": null,
   "metadata": {},
   "outputs": [],
   "source": []
  },
  {
   "cell_type": "code",
   "execution_count": null,
   "metadata": {},
   "outputs": [],
   "source": []
  },
  {
   "cell_type": "code",
   "execution_count": null,
   "metadata": {},
   "outputs": [],
   "source": []
  },
  {
   "cell_type": "code",
   "execution_count": null,
   "metadata": {},
   "outputs": [],
   "source": []
  },
  {
   "cell_type": "code",
   "execution_count": null,
   "metadata": {},
   "outputs": [],
   "source": []
  },
  {
   "cell_type": "code",
   "execution_count": 208,
   "metadata": {},
   "outputs": [
    {
     "ename": "WebDriverException",
     "evalue": "Message: chrome not reachable\n  (Session info: chrome=68.0.3440.106)\n  (Driver info: chromedriver=2.39.562713 (dd642283e958a93ebf6891600db055f1f1b4f3b2),platform=Mac OS X 10.13.6 x86_64)\n",
     "output_type": "error",
     "traceback": [
      "\u001b[0;31m---------------------------------------------------------------------------\u001b[0m",
      "\u001b[0;31mWebDriverException\u001b[0m                        Traceback (most recent call last)",
      "\u001b[0;32m<ipython-input-208-c0aea2f911d3>\u001b[0m in \u001b[0;36m<module>\u001b[0;34m()\u001b[0m\n\u001b[0;32m----> 1\u001b[0;31m \u001b[0mdriver\u001b[0m\u001b[0;34m.\u001b[0m\u001b[0mclose\u001b[0m\u001b[0;34m(\u001b[0m\u001b[0;34m)\u001b[0m \u001b[0;31m# 창닫기\u001b[0m\u001b[0;34m\u001b[0m\u001b[0m\n\u001b[0m\u001b[1;32m      2\u001b[0m \u001b[0mdriver\u001b[0m\u001b[0;34m.\u001b[0m\u001b[0mquit\u001b[0m\u001b[0;34m(\u001b[0m\u001b[0;34m)\u001b[0m \u001b[0;31m# 브라우져 닫기\u001b[0m\u001b[0;34m\u001b[0m\u001b[0m\n",
      "\u001b[0;32m/Library/Frameworks/Python.framework/Versions/3.6/lib/python3.6/site-packages/selenium/webdriver/remote/webdriver.py\u001b[0m in \u001b[0;36mclose\u001b[0;34m(self)\u001b[0m\n\u001b[1;32m    679\u001b[0m             \u001b[0mdriver\u001b[0m\u001b[0;34m.\u001b[0m\u001b[0mclose\u001b[0m\u001b[0;34m(\u001b[0m\u001b[0;34m)\u001b[0m\u001b[0;34m\u001b[0m\u001b[0m\n\u001b[1;32m    680\u001b[0m         \"\"\"\n\u001b[0;32m--> 681\u001b[0;31m         \u001b[0mself\u001b[0m\u001b[0;34m.\u001b[0m\u001b[0mexecute\u001b[0m\u001b[0;34m(\u001b[0m\u001b[0mCommand\u001b[0m\u001b[0;34m.\u001b[0m\u001b[0mCLOSE\u001b[0m\u001b[0;34m)\u001b[0m\u001b[0;34m\u001b[0m\u001b[0m\n\u001b[0m\u001b[1;32m    682\u001b[0m \u001b[0;34m\u001b[0m\u001b[0m\n\u001b[1;32m    683\u001b[0m     \u001b[0;32mdef\u001b[0m \u001b[0mquit\u001b[0m\u001b[0;34m(\u001b[0m\u001b[0mself\u001b[0m\u001b[0;34m)\u001b[0m\u001b[0;34m:\u001b[0m\u001b[0;34m\u001b[0m\u001b[0m\n",
      "\u001b[0;32m/Library/Frameworks/Python.framework/Versions/3.6/lib/python3.6/site-packages/selenium/webdriver/remote/webdriver.py\u001b[0m in \u001b[0;36mexecute\u001b[0;34m(self, driver_command, params)\u001b[0m\n\u001b[1;32m    312\u001b[0m         \u001b[0mresponse\u001b[0m \u001b[0;34m=\u001b[0m \u001b[0mself\u001b[0m\u001b[0;34m.\u001b[0m\u001b[0mcommand_executor\u001b[0m\u001b[0;34m.\u001b[0m\u001b[0mexecute\u001b[0m\u001b[0;34m(\u001b[0m\u001b[0mdriver_command\u001b[0m\u001b[0;34m,\u001b[0m \u001b[0mparams\u001b[0m\u001b[0;34m)\u001b[0m\u001b[0;34m\u001b[0m\u001b[0m\n\u001b[1;32m    313\u001b[0m         \u001b[0;32mif\u001b[0m \u001b[0mresponse\u001b[0m\u001b[0;34m:\u001b[0m\u001b[0;34m\u001b[0m\u001b[0m\n\u001b[0;32m--> 314\u001b[0;31m             \u001b[0mself\u001b[0m\u001b[0;34m.\u001b[0m\u001b[0merror_handler\u001b[0m\u001b[0;34m.\u001b[0m\u001b[0mcheck_response\u001b[0m\u001b[0;34m(\u001b[0m\u001b[0mresponse\u001b[0m\u001b[0;34m)\u001b[0m\u001b[0;34m\u001b[0m\u001b[0m\n\u001b[0m\u001b[1;32m    315\u001b[0m             response['value'] = self._unwrap_value(\n\u001b[1;32m    316\u001b[0m                 response.get('value', None))\n",
      "\u001b[0;32m/Library/Frameworks/Python.framework/Versions/3.6/lib/python3.6/site-packages/selenium/webdriver/remote/errorhandler.py\u001b[0m in \u001b[0;36mcheck_response\u001b[0;34m(self, response)\u001b[0m\n\u001b[1;32m    240\u001b[0m                 \u001b[0malert_text\u001b[0m \u001b[0;34m=\u001b[0m \u001b[0mvalue\u001b[0m\u001b[0;34m[\u001b[0m\u001b[0;34m'alert'\u001b[0m\u001b[0;34m]\u001b[0m\u001b[0;34m.\u001b[0m\u001b[0mget\u001b[0m\u001b[0;34m(\u001b[0m\u001b[0;34m'text'\u001b[0m\u001b[0;34m)\u001b[0m\u001b[0;34m\u001b[0m\u001b[0m\n\u001b[1;32m    241\u001b[0m             \u001b[0;32mraise\u001b[0m \u001b[0mexception_class\u001b[0m\u001b[0;34m(\u001b[0m\u001b[0mmessage\u001b[0m\u001b[0;34m,\u001b[0m \u001b[0mscreen\u001b[0m\u001b[0;34m,\u001b[0m \u001b[0mstacktrace\u001b[0m\u001b[0;34m,\u001b[0m \u001b[0malert_text\u001b[0m\u001b[0;34m)\u001b[0m\u001b[0;34m\u001b[0m\u001b[0m\n\u001b[0;32m--> 242\u001b[0;31m         \u001b[0;32mraise\u001b[0m \u001b[0mexception_class\u001b[0m\u001b[0;34m(\u001b[0m\u001b[0mmessage\u001b[0m\u001b[0;34m,\u001b[0m \u001b[0mscreen\u001b[0m\u001b[0;34m,\u001b[0m \u001b[0mstacktrace\u001b[0m\u001b[0;34m)\u001b[0m\u001b[0;34m\u001b[0m\u001b[0m\n\u001b[0m\u001b[1;32m    243\u001b[0m \u001b[0;34m\u001b[0m\u001b[0m\n\u001b[1;32m    244\u001b[0m     \u001b[0;32mdef\u001b[0m \u001b[0m_value_or_default\u001b[0m\u001b[0;34m(\u001b[0m\u001b[0mself\u001b[0m\u001b[0;34m,\u001b[0m \u001b[0mobj\u001b[0m\u001b[0;34m,\u001b[0m \u001b[0mkey\u001b[0m\u001b[0;34m,\u001b[0m \u001b[0mdefault\u001b[0m\u001b[0;34m)\u001b[0m\u001b[0;34m:\u001b[0m\u001b[0;34m\u001b[0m\u001b[0m\n",
      "\u001b[0;31mWebDriverException\u001b[0m: Message: chrome not reachable\n  (Session info: chrome=68.0.3440.106)\n  (Driver info: chromedriver=2.39.562713 (dd642283e958a93ebf6891600db055f1f1b4f3b2),platform=Mac OS X 10.13.6 x86_64)\n"
     ]
    }
   ],
   "source": [
    "driver.close() # 창닫기\n",
    "driver.quit() # 브라우져 닫기"
   ]
  },
  {
   "cell_type": "code",
   "execution_count": null,
   "metadata": {},
   "outputs": [],
   "source": []
  },
  {
   "cell_type": "markdown",
   "metadata": {},
   "source": [
    "---"
   ]
  },
  {
   "cell_type": "code",
   "execution_count": null,
   "metadata": {},
   "outputs": [],
   "source": []
  }
 ],
 "metadata": {
  "kernelspec": {
   "display_name": "Python 3",
   "language": "python",
   "name": "python3"
  },
  "language_info": {
   "codemirror_mode": {
    "name": "ipython",
    "version": 3
   },
   "file_extension": ".py",
   "mimetype": "text/x-python",
   "name": "python",
   "nbconvert_exporter": "python",
   "pygments_lexer": "ipython3",
   "version": "3.6.4"
  }
 },
 "nbformat": 4,
 "nbformat_minor": 2
}

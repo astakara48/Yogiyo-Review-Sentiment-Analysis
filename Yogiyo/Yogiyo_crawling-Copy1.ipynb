{
 "cells": [
  {
   "cell_type": "code",
   "execution_count": 3,
   "metadata": {},
   "outputs": [],
   "source": [
    "import pandas as pd\n",
    "from bs4 import BeautifulSoup\n",
    "import requests\n",
    "from selenium import webdriver\n",
    "import myslack\n",
    "import datetime as dt\n",
    "import pickle\n",
    "import time\n",
    "import re\n",
    "from tqdm import trange"
   ]
  },
  {
   "cell_type": "code",
   "execution_count": 4,
   "metadata": {},
   "outputs": [],
   "source": [
    "driver = webdriver.Chrome()  \n",
    "url = 'https://www.yogiyo.co.kr/mobile/?utm_source=google&utm_medium=cpc&utm_campaign=sem_bra_orignal&utm_term=%EC%9A%94%EA%B8%B0%EC%9A%94&utm_id=sem_000001&referrer=adjust_tracker%3Dgrm2aa%26adjust_google_network%3Dg%26adjust_google_placement%3D%26adjust_campaign%3Dsem_bra_web_kr_700886066_cpc%26adjust_adgroup%3D38249737818%26adjust_creative%3D%EC%9A%94%EA%B8%B0%EC%9A%94_b&gclid=EAIaIQobChMIv9DaxIL-3AIVA6yWCh0C8glmEAAYASAAEgLbF_D_BwE#/%EC%84%9C%EC%9A%B8/138223/'\n",
    "driver.get(url) "
   ]
  },
  {
   "cell_type": "code",
   "execution_count": 5,
   "metadata": {},
   "outputs": [],
   "source": [
    "# 검색창에 음식점 검색하기\n",
    "def search_restaurant(restaurant_name):\n",
    "    driver.find_element_by_xpath('//*[@id=\"category\"]/ul/li[1]/a').click()\n",
    "    driver.find_element_by_xpath('//*[@id=\"category\"]/ul/li[13]/form/div/input').send_keys(restaurant_name)    \n",
    "    driver.find_element_by_xpath('//*[@id=\"category_search_button\"]').click()    \n",
    "    \n",
    "# 검색한 음식점 페이지로 넘어가기    \n",
    "def go_to_store(storenum):\n",
    "    driver.find_element_by_xpath('//*[@id=\"content\"]/div/div[4]/div[2]/div').click()\n",
    "    \n",
    "# 해당 음식점의 리뷰 페이지로 넘어가기\n",
    "def go_to_review():\n",
    "    driver.find_element_by_xpath('//*[@id=\"content\"]/div[2]/div[1]/ul/li[2]/a').click()\n",
    "    \n",
    "# 해당 음식점의 리뷰 갯수 저장\n",
    "def get_review_count():\n",
    "    return int(driver.find_element_by_xpath('//*[@id=\"content\"]/div[2]/div[1]/ul/li[2]/a/span').text) \n",
    "    \n",
    "# 페이지 맨아래로 내리기\n",
    "def scroll_bottom():\n",
    "    driver.execute_script(\"window.scrollTo(0,document.body.scrollHeight);\")\n",
    "    \n",
    "# 더보기 클릭하기 \n",
    "def click_more_review():\n",
    "    driver.find_element_by_class_name('btn-more').click()    \n",
    "\n",
    "# 리뷰 페이지 모두 펼치기\n",
    "def stretch_review_page():\n",
    "    review_count = int(driver.find_element_by_xpath('//*[@id=\"content\"]/div[2]/div[1]/ul/li[2]/a/span').text)\n",
    "    click_count = int((review_count/10))\n",
    "    print('모든 리뷰 불러오는중...')\n",
    "    for _ in trange(click_count):\n",
    "        click_more_review()\n",
    "        time.sleep(0.1)\n",
    "    print('모든 리뷰 불러오기 성공!')\n",
    "        \n",
    "# 페이지 뒤로 가기 (한 음식점 리뷰를 모두 모았으면 다시 음식점 리스트 페이지로 돌아감)\n",
    "def go_back_page():\n",
    "    driver.execute_script(\"window.history.go(-1)\")    "
   ]
  },
  {
   "cell_type": "code",
   "execution_count": null,
   "metadata": {},
   "outputs": [],
   "source": []
  },
  {
   "cell_type": "code",
   "execution_count": 6,
   "metadata": {
    "scrolled": true
   },
   "outputs": [],
   "source": [
    "def yogiyo_crawling(category):\n",
    "    go_to_category(category) # 해당 카테고리(음식점 리스트) 페이지로 넘어감 \n",
    "    print(category+'페이지로 넘어가는 중...')\n",
    "    time.sleep(2) \n",
    "    scroll_bottom()\n",
    "    \n",
    "    df = pd.DataFrame(columns=['Restaurant','UserID','Menu','Review',\n",
    "                               'Taste','Quantity','Delivery','Date'])\n",
    "    \n",
    "    print('Start {} Crawling...'.format(category))\n",
    "    for i in trange(get_store_count()): # 해당 카테고리의 음식점 개수만큼 돌아감\n",
    "        try:\n",
    "            go_to_store(i+2) # 순서대로 각 음식점 페이지로 넘어감\n",
    "            print(str(i+1)+'번째 음식점 페이지로 넘어가는중...')\n",
    "            time.sleep(2)\n",
    "            go_to_review() # 해당 음식점의 리뷰페이지로 넘어감\n",
    "            print('해당 음식점 리뷰 페이지로 넘어가는중...')\n",
    "            time.sleep(2)\n",
    "            stretch_review_page() # 해당 음식점의 모든 리뷰를 불러옴\n",
    "            \n",
    "            for j in trange(get_review_count()):  # 해당 음식점의 리뷰 수 만큼 데이터를 가져옴\n",
    "                try:\n",
    "                    df.loc[len(df)] = { \n",
    "                        'Restaurant':driver.find_element_by_class_name('restaurant-name').text,\n",
    "                        'UserID':driver.find_element_by_xpath('//*[@id=\"review\"]/li[{}]/div[1]/span[1]'.format(j+2)).text,\n",
    "                        'Menu':driver.find_element_by_xpath('//*[@id=\"review\"]/li[{}]/div[3]'.format(j+2)).text,\n",
    "                        'Review':driver.find_element_by_xpath('//*[@id=\"review\"]/li[{}]/p'.format(j+2)).text,\n",
    "                        'Taste':driver.find_element_by_xpath('//*[@id=\"review\"]/li[{}]/div[2]/div/span[2]/span[3]'.format(j+2)).text,\n",
    "                        'Quantity':driver.find_element_by_xpath('//*[@id=\"review\"]/li[{}]/div[2]/div/span[2]/span[6]'.format(j+2)).text,\n",
    "                        'Delivery':driver.find_element_by_xpath('//*[@id=\"review\"]/li[{}]/div[2]/div/span[2]/span[9]'.format(j+2)).text,\n",
    "                        'Date':driver.find_element_by_xpath('//*[@id=\"review\"]/li[{}]/div[1]/span[2]'.format(j+2)).text,\n",
    "                    }\n",
    "                except Exception as e:\n",
    "                    print('리뷰 페이지 에러')\n",
    "                    print(e)\n",
    "                    pass\n",
    "                \n",
    "            go_back_page() # 해당 음식점 리뷰를 모두 모았으면 다시 음식점 리스트 페이지로 돌아감\n",
    "            print('음식점 리스트 페이지로 돌아가는중...')\n",
    "            time.sleep(2)\n",
    "            \n",
    "        except Exception as e:\n",
    "            print('음식점 페이지 에러')\n",
    "            print(e)\n",
    "            pass\n",
    "                \n",
    "    print('Finish {} Crawling!!!'.format(category))\n",
    "    return df"
   ]
  },
  {
   "cell_type": "code",
   "execution_count": null,
   "metadata": {},
   "outputs": [],
   "source": []
  },
  {
   "cell_type": "code",
   "execution_count": 7,
   "metadata": {},
   "outputs": [
    {
     "ename": "NameError",
     "evalue": "name 'go_to_category' is not defined",
     "output_type": "error",
     "traceback": [
      "\u001b[0;31m---------------------------------------------------------------------------\u001b[0m",
      "\u001b[0;31mNameError\u001b[0m                                 Traceback (most recent call last)",
      "\u001b[0;32m<ipython-input-7-f74da63993c9>\u001b[0m in \u001b[0;36m<module>\u001b[0;34m()\u001b[0m\n\u001b[0;32m----> 1\u001b[0;31m \u001b[0mchicken_df\u001b[0m \u001b[0;34m=\u001b[0m \u001b[0myogiyo_crawling\u001b[0m\u001b[0;34m(\u001b[0m\u001b[0;34m'치킨'\u001b[0m\u001b[0;34m)\u001b[0m\u001b[0;34m\u001b[0m\u001b[0m\n\u001b[0m",
      "\u001b[0;32m<ipython-input-6-153e4f7a935d>\u001b[0m in \u001b[0;36myogiyo_crawling\u001b[0;34m(category)\u001b[0m\n\u001b[1;32m      1\u001b[0m \u001b[0;32mdef\u001b[0m \u001b[0myogiyo_crawling\u001b[0m\u001b[0;34m(\u001b[0m\u001b[0mcategory\u001b[0m\u001b[0;34m)\u001b[0m\u001b[0;34m:\u001b[0m\u001b[0;34m\u001b[0m\u001b[0m\n\u001b[0;32m----> 2\u001b[0;31m     \u001b[0mgo_to_category\u001b[0m\u001b[0;34m(\u001b[0m\u001b[0mcategory\u001b[0m\u001b[0;34m)\u001b[0m \u001b[0;31m# 해당 카테고리(음식점 리스트) 페이지로 넘어감\u001b[0m\u001b[0;34m\u001b[0m\u001b[0m\n\u001b[0m\u001b[1;32m      3\u001b[0m     \u001b[0mprint\u001b[0m\u001b[0;34m(\u001b[0m\u001b[0mcategory\u001b[0m\u001b[0;34m+\u001b[0m\u001b[0;34m'페이지로 넘어가는 중...'\u001b[0m\u001b[0;34m)\u001b[0m\u001b[0;34m\u001b[0m\u001b[0m\n\u001b[1;32m      4\u001b[0m     \u001b[0mtime\u001b[0m\u001b[0;34m.\u001b[0m\u001b[0msleep\u001b[0m\u001b[0;34m(\u001b[0m\u001b[0;36m2\u001b[0m\u001b[0;34m)\u001b[0m\u001b[0;34m\u001b[0m\u001b[0m\n\u001b[1;32m      5\u001b[0m     \u001b[0mscroll_bottom\u001b[0m\u001b[0;34m(\u001b[0m\u001b[0;34m)\u001b[0m\u001b[0;34m\u001b[0m\u001b[0m\n",
      "\u001b[0;31mNameError\u001b[0m: name 'go_to_category' is not defined"
     ]
    }
   ],
   "source": [
    "chicken_df = yogiyo_crawling('치킨')"
   ]
  },
  {
   "cell_type": "code",
   "execution_count": null,
   "metadata": {},
   "outputs": [],
   "source": []
  },
  {
   "cell_type": "code",
   "execution_count": null,
   "metadata": {},
   "outputs": [],
   "source": []
  },
  {
   "cell_type": "code",
   "execution_count": null,
   "metadata": {},
   "outputs": [],
   "source": []
  },
  {
   "cell_type": "code",
   "execution_count": null,
   "metadata": {},
   "outputs": [],
   "source": []
  },
  {
   "cell_type": "code",
   "execution_count": null,
   "metadata": {},
   "outputs": [],
   "source": []
  },
  {
   "cell_type": "code",
   "execution_count": 160,
   "metadata": {},
   "outputs": [],
   "source": [
    "driver.close() # 창닫기\n",
    "driver.quit() # 브라우져 닫기"
   ]
  },
  {
   "cell_type": "code",
   "execution_count": null,
   "metadata": {},
   "outputs": [],
   "source": []
  },
  {
   "cell_type": "code",
   "execution_count": null,
   "metadata": {},
   "outputs": [],
   "source": []
  }
 ],
 "metadata": {
  "kernelspec": {
   "display_name": "Python 3",
   "language": "python",
   "name": "python3"
  },
  "language_info": {
   "codemirror_mode": {
    "name": "ipython",
    "version": 3
   },
   "file_extension": ".py",
   "mimetype": "text/x-python",
   "name": "python",
   "nbconvert_exporter": "python",
   "pygments_lexer": "ipython3",
   "version": "3.6.4"
  }
 },
 "nbformat": 4,
 "nbformat_minor": 2
}

{
 "cells": [
  {
   "cell_type": "code",
   "execution_count": 210,
   "metadata": {},
   "outputs": [],
   "source": [
    "import pandas as pd\n",
    "from bs4 import BeautifulSoup\n",
    "import requests\n",
    "from selenium import webdriver\n",
    "from selenium.webdriver.support.ui import WebDriverWait\n",
    "from selenium.webdriver.support import expected_conditions as EC\n",
    "from selenium.webdriver.common.by import By\n",
    "import myslack\n",
    "import datetime as dt\n",
    "import pickle\n",
    "import time\n",
    "import re\n",
    "from tqdm import trange"
   ]
  },
  {
   "cell_type": "code",
   "execution_count": 225,
   "metadata": {},
   "outputs": [],
   "source": [
    "driver = webdriver.Chrome()  \n",
    "url = 'https://www.yogiyo.co.kr/mobile/?utm_source=google&utm_medium=cpc&utm_campaign=sem_bra_orignal&utm_term=%EC%9A%94%EA%B8%B0%EC%9A%94&utm_id=sem_000001&referrer=adjust_tracker%3Dgrm2aa%26adjust_google_network%3Dg%26adjust_google_placement%3D%26adjust_campaign%3Dsem_bra_web_kr_700886066_cpc%26adjust_adgroup%3D38249737818%26adjust_creative%3D%EC%9A%94%EA%B8%B0%EC%9A%94_b&gclid=EAIaIQobChMIv9DaxIL-3AIVA6yWCh0C8glmEAAYASAAEgLbF_D_BwE#/%EC%84%9C%EC%9A%B8/138223/'\n",
    "driver.get(url) "
   ]
  },
  {
   "cell_type": "code",
   "execution_count": 226,
   "metadata": {},
   "outputs": [],
   "source": [
    "food_dict = {\n",
    "    '프랜차이즈':3, '치킨':4, '피자':5, '양식':5, '중국집':6,\n",
    "    '한식':7, '일식':8, '돈가스':8, '족발':9, '보쌈':9, \n",
    "    '야식':10, '분식':11, '카페':12, '디저트':12 }"
   ]
  },
  {
   "cell_type": "code",
   "execution_count": 227,
   "metadata": {},
   "outputs": [],
   "source": [
    "# 현재 위치로 설정하기\n",
    "def set_location():\n",
    "    driver.find_element_by_xpath('//*[@id=\"search\"]/div/span[1]/button').click()\n",
    "    print('현재 위치로 설정하는중...')\n",
    "    time.sleep(5)\n",
    "    print('현재 위치 설정 완료!')\n",
    "    \n",
    "# 카테고리 페이지로 넘어가기\n",
    "def go_to_category(category):\n",
    "    driver.find_element_by_xpath('//*[@id=\"category\"]/ul/li[{}]/span'.format(food_dict.get(category))).click()\n",
    "\n",
    "# 해당 카테고리의 음식점 갯수 저장\n",
    "def get_restaurant_count():\n",
    "    return int(driver.find_element_by_xpath('//*[@id=\"restaurant_count\"]').text)    \n",
    "    \n",
    "# 해당 카테고리의 음식점 페이지로 넘어가기    \n",
    "def go_to_restaurant(restaurantnum):\n",
    "    driver.find_element_by_xpath('//*[@id=\"content\"]/div/div[4]/div[{}]/div'.format(restaurantnum)).click()\n",
    "    \n",
    "# 해당 음식점의 리뷰 페이지로 넘어가기\n",
    "def go_to_review():\n",
    "    driver.find_element_by_xpath('//*[@id=\"content\"]/div[2]/div[1]/ul/li[2]/a').click()\n",
    "    \n",
    "# 해당 음식점의 리뷰 갯수 반환\n",
    "def get_review_count():\n",
    "    return int(driver.find_element_by_xpath('//*[@id=\"content\"]/div[2]/div[1]/ul/li[2]/a/span').text)\n",
    "    \n",
    "# 페이지 한번 맨아래로 내리기\n",
    "def scroll_bottom():\n",
    "    driver.execute_script(\"window.scrollTo(0,document.body.scrollHeight);\")\n",
    "\n",
    "# 카테고리(음식점 리스트) 페이지에서 음식점 리스트 로드하기\n",
    "def cat_page_scroll_repeat(restaurant_count):\n",
    "    # 브라우저의 스크롤 위치 조절\n",
    "    height=200+118*(restaurant_count//2)\n",
    "    driver.execute_script(\"window.scrollTo(0,{})\".format(height))\n",
    "    print('카테고리(음식점 리스트) 페이지 (0,{}) 위치로 내리는중...'.format(height))\n",
    "    time.sleep(3)\n",
    "    \n",
    "# 더보기 클릭하기 \n",
    "def click_more_review():\n",
    "    driver.find_element_by_class_name('btn-more').click()    \n",
    "\n",
    "# 리뷰 페이지 모두 펼치기\n",
    "def stretch_review_page():\n",
    "    review_count = int(driver.find_element_by_xpath('//*[@id=\"content\"]/div[2]/div[1]/ul/li[2]/a/span').text)\n",
    "    click_count = int((review_count/10))\n",
    "    print('모든 리뷰 불러오는중...')\n",
    "    for _ in trange(click_count):\n",
    "        try:\n",
    "            scroll_bottom()\n",
    "            print('리뷰 스크롤 내리는중...')\n",
    "            click_more_review()\n",
    "            time.sleep(1)\n",
    "        except Exception as e:\n",
    "            pass\n",
    "    print('모든 리뷰 불러오기 성공!')\n",
    "        \n",
    "# 페이지 뒤로 가기 (한 음식점 리뷰를 모두 모았으면 다시 음식점 리스트 페이지로 돌아감)\n",
    "def go_back_page():\n",
    "    driver.execute_script(\"window.history.go(-1)\")    "
   ]
  },
  {
   "cell_type": "code",
   "execution_count": null,
   "metadata": {},
   "outputs": [],
   "source": []
  },
  {
   "cell_type": "code",
   "execution_count": 228,
   "metadata": {},
   "outputs": [],
   "source": [
    "def yogiyo_crawling(category):\n",
    "    set_location()\n",
    "    go_to_category(category) # 해당 카테고리(음식점 리스트) 페이지로 넘어감 \n",
    "    print(category+'페이지로 넘어가는 중...')\n",
    "    time.sleep(2)\n",
    "    \n",
    "    df = pd.DataFrame(columns=['Restaurant','UserID','Menu','Review',\n",
    "                               'Taste','Quantity','Delivery','Date'])\n",
    "    \n",
    "    print('Start {} Crawling...'.format(category))\n",
    "    for i in trange(get_restaurant_count()): # 해당 카테고리의 음식점 개수만큼 돌아감\n",
    "        cat_page_scroll_repeat(i) # i번째 음식점 위치로 page를 내림\n",
    "        \n",
    "        go_to_restaurant(i+2) # 순서대로 각 음식점 페이지로 넘어감\n",
    "        print(str(i+1)+'번째 음식점 페이지로 넘어가는중...')\n",
    "        time.sleep(2)\n",
    "        \n",
    "        go_to_review() # 해당 음식점의 리뷰페이지로 넘어감\n",
    "        print(str(i+1)+'번째 음식점 리뷰 페이지로 넘어가는중...')\n",
    "        time.sleep(2)\n",
    "        \n",
    "        stretch_review_page() # 해당 음식점의 모든 리뷰를 불러옴\n",
    "\n",
    "        for j in trange(get_review_count()):  # 해당 음식점의 리뷰 수 만큼 데이터를 가져옴\n",
    "            try:\n",
    "                df.loc[len(df)] = { \n",
    "                    'Restaurant':driver.find_element_by_class_name('restaurant-name').text,\n",
    "                    'UserID':driver.find_element_by_xpath('//*[@id=\"review\"]/li[{}]/div[1]/span[1]'.format(j+2)).text,\n",
    "                    'Menu':driver.find_element_by_xpath('//*[@id=\"review\"]/li[{}]/div[3]'.format(j+2)).text,\n",
    "                    'Review':driver.find_element_by_xpath('//*[@id=\"review\"]/li[{}]/p'.format(j+2)).text,\n",
    "                    'Taste':driver.find_element_by_xpath('//*[@id=\"review\"]/li[{}]/div[2]/div/span[2]/span[3]'.format(j+2)).text,\n",
    "                    'Quantity':driver.find_element_by_xpath('//*[@id=\"review\"]/li[{}]/div[2]/div/span[2]/span[6]'.format(j+2)).text,\n",
    "                    'Delivery':driver.find_element_by_xpath('//*[@id=\"review\"]/li[{}]/div[2]/div/span[2]/span[9]'.format(j+2)).text,\n",
    "                    'Date':driver.find_element_by_xpath('//*[@id=\"review\"]/li[{}]/div[1]/span[2]'.format(j+2)).text,\n",
    "                }\n",
    "            except Exception as e:\n",
    "                print('리뷰 페이지 에러')\n",
    "                print(e)\n",
    "                pass\n",
    "\n",
    "        go_back_page() # 해당 음식점 리뷰를 모두 모았으면 다시 음식점 리스트 페이지로 돌아감\n",
    "        print('음식점 리스트 페이지로 돌아가는중...')\n",
    "        time.sleep(2)\n",
    "                \n",
    "    print('Finish {} Crawling!!!'.format(category))\n",
    "    return df"
   ]
  },
  {
   "cell_type": "code",
   "execution_count": null,
   "metadata": {
    "scrolled": false
   },
   "outputs": [],
   "source": [
    "# for i in range(get_restaurant_count()):\n",
    "#     cat_page_scroll_repeat(i)\n",
    "#     driver.find_element_by_xpath('//*[@id=\"content\"]/div/div[4]/div[{}]/div'.format(i+2)).click()\n",
    "#     time.sleep(1)\n",
    "#     print(str(i+1)+'번째 음식점 {} 방문'.format(driver.find_element_by_class_name('restaurant-name').text))\n",
    "#     go_back_page()\n",
    "#     time.sleep(2)"
   ]
  },
  {
   "cell_type": "code",
   "execution_count": null,
   "metadata": {
    "scrolled": true
   },
   "outputs": [
    {
     "name": "stdout",
     "output_type": "stream",
     "text": [
      "현재 위치로 설정하는중...\n"
     ]
    },
    {
     "name": "stderr",
     "output_type": "stream",
     "text": [
      "\r",
      " 55%|█████▌    | 273/496 [00:29<00:23,  9.36it/s]"
     ]
    },
    {
     "name": "stdout",
     "output_type": "stream",
     "text": [
      "현재 위치 설정 완료!\n",
      "치킨페이지로 넘어가는 중...\n"
     ]
    },
    {
     "name": "stderr",
     "output_type": "stream",
     "text": [
      "\n",
      "  0%|          | 0/77 [00:00<?, ?it/s]\u001b[A"
     ]
    },
    {
     "name": "stdout",
     "output_type": "stream",
     "text": [
      "Start 치킨 Crawling...\n",
      "카테고리(음식점 리스트) 페이지 (0,200) 위치로 내리는중...\n",
      "1번째 음식점 페이지로 넘어가는중...\n"
     ]
    },
    {
     "name": "stderr",
     "output_type": "stream",
     "text": [
      "\n",
      "Exception in thread Thread-257:\n",
      "Traceback (most recent call last):\n",
      "  File \"/Library/Frameworks/Python.framework/Versions/3.6/lib/python3.6/threading.py\", line 916, in _bootstrap_inner\n",
      "    self.run()\n",
      "  File \"/Library/Frameworks/Python.framework/Versions/3.6/lib/python3.6/site-packages/tqdm/_tqdm.py\", line 144, in run\n",
      "    for instance in self.tqdm_cls._instances:\n",
      "  File \"/Library/Frameworks/Python.framework/Versions/3.6/lib/python3.6/_weakrefset.py\", line 60, in __iter__\n",
      "    for itemref in self.data:\n",
      "RuntimeError: Set changed size during iteration\n",
      "\n"
     ]
    },
    {
     "name": "stdout",
     "output_type": "stream",
     "text": [
      "1번째 음식점 리뷰 페이지로 넘어가는중...\n"
     ]
    },
    {
     "name": "stderr",
     "output_type": "stream",
     "text": [
      "\n",
      "  0%|          | 0/49 [00:00<?, ?it/s]\u001b[A"
     ]
    },
    {
     "name": "stdout",
     "output_type": "stream",
     "text": [
      "모든 리뷰 불러오는중...\n",
      "리뷰 스크롤 내리는중...\n"
     ]
    },
    {
     "name": "stderr",
     "output_type": "stream",
     "text": [
      "\n",
      "  2%|▏         | 1/49 [00:01<00:51,  1.07s/it]\u001b[A"
     ]
    },
    {
     "name": "stdout",
     "output_type": "stream",
     "text": [
      "리뷰 스크롤 내리는중...\n"
     ]
    },
    {
     "name": "stderr",
     "output_type": "stream",
     "text": [
      "\n",
      "  4%|▍         | 2/49 [00:02<00:50,  1.07s/it]\u001b[A"
     ]
    },
    {
     "name": "stdout",
     "output_type": "stream",
     "text": [
      "리뷰 스크롤 내리는중...\n"
     ]
    },
    {
     "name": "stderr",
     "output_type": "stream",
     "text": [
      "\n",
      "  6%|▌         | 3/49 [00:03<00:49,  1.07s/it]\u001b[A"
     ]
    },
    {
     "name": "stdout",
     "output_type": "stream",
     "text": [
      "리뷰 스크롤 내리는중...\n"
     ]
    },
    {
     "name": "stderr",
     "output_type": "stream",
     "text": [
      "\n",
      "  8%|▊         | 4/49 [00:04<00:47,  1.06s/it]\u001b[A"
     ]
    },
    {
     "name": "stdout",
     "output_type": "stream",
     "text": [
      "리뷰 스크롤 내리는중...\n"
     ]
    },
    {
     "name": "stderr",
     "output_type": "stream",
     "text": [
      "\n",
      " 10%|█         | 5/49 [00:05<00:46,  1.06s/it]\u001b[A"
     ]
    },
    {
     "name": "stdout",
     "output_type": "stream",
     "text": [
      "리뷰 스크롤 내리는중...\n"
     ]
    },
    {
     "name": "stderr",
     "output_type": "stream",
     "text": [
      "\n",
      " 12%|█▏        | 6/49 [00:06<00:45,  1.06s/it]\u001b[A"
     ]
    },
    {
     "name": "stdout",
     "output_type": "stream",
     "text": [
      "리뷰 스크롤 내리는중...\n"
     ]
    },
    {
     "name": "stderr",
     "output_type": "stream",
     "text": [
      "\n",
      " 14%|█▍        | 7/49 [00:07<00:44,  1.06s/it]\u001b[A"
     ]
    },
    {
     "name": "stdout",
     "output_type": "stream",
     "text": [
      "리뷰 스크롤 내리는중...\n"
     ]
    },
    {
     "name": "stderr",
     "output_type": "stream",
     "text": [
      "\n",
      " 16%|█▋        | 8/49 [00:08<00:43,  1.06s/it]\u001b[A"
     ]
    },
    {
     "name": "stdout",
     "output_type": "stream",
     "text": [
      "리뷰 스크롤 내리는중...\n"
     ]
    },
    {
     "name": "stderr",
     "output_type": "stream",
     "text": [
      "\n",
      " 18%|█▊        | 9/49 [00:09<00:42,  1.06s/it]\u001b[A"
     ]
    },
    {
     "name": "stdout",
     "output_type": "stream",
     "text": [
      "리뷰 스크롤 내리는중...\n"
     ]
    },
    {
     "name": "stderr",
     "output_type": "stream",
     "text": [
      "\n",
      " 20%|██        | 10/49 [00:10<00:41,  1.06s/it]\u001b[A"
     ]
    },
    {
     "name": "stdout",
     "output_type": "stream",
     "text": [
      "리뷰 스크롤 내리는중...\n"
     ]
    },
    {
     "name": "stderr",
     "output_type": "stream",
     "text": [
      "\n",
      " 22%|██▏       | 11/49 [00:11<00:40,  1.06s/it]\u001b[A"
     ]
    },
    {
     "name": "stdout",
     "output_type": "stream",
     "text": [
      "리뷰 스크롤 내리는중...\n"
     ]
    },
    {
     "name": "stderr",
     "output_type": "stream",
     "text": [
      "\n",
      " 24%|██▍       | 12/49 [00:12<00:39,  1.06s/it]\u001b[A"
     ]
    },
    {
     "name": "stdout",
     "output_type": "stream",
     "text": [
      "리뷰 스크롤 내리는중...\n"
     ]
    },
    {
     "name": "stderr",
     "output_type": "stream",
     "text": [
      "\n",
      " 27%|██▋       | 13/49 [00:13<00:38,  1.06s/it]\u001b[A"
     ]
    },
    {
     "name": "stdout",
     "output_type": "stream",
     "text": [
      "리뷰 스크롤 내리는중...\n"
     ]
    },
    {
     "name": "stderr",
     "output_type": "stream",
     "text": [
      "\n",
      " 29%|██▊       | 14/49 [00:14<00:37,  1.06s/it]\u001b[A"
     ]
    },
    {
     "name": "stdout",
     "output_type": "stream",
     "text": [
      "리뷰 스크롤 내리는중...\n"
     ]
    },
    {
     "name": "stderr",
     "output_type": "stream",
     "text": [
      "\n",
      " 31%|███       | 15/49 [00:15<00:36,  1.06s/it]\u001b[A"
     ]
    },
    {
     "name": "stdout",
     "output_type": "stream",
     "text": [
      "리뷰 스크롤 내리는중...\n"
     ]
    },
    {
     "name": "stderr",
     "output_type": "stream",
     "text": [
      "\n",
      " 33%|███▎      | 16/49 [00:16<00:34,  1.06s/it]\u001b[A"
     ]
    },
    {
     "name": "stdout",
     "output_type": "stream",
     "text": [
      "리뷰 스크롤 내리는중...\n"
     ]
    },
    {
     "name": "stderr",
     "output_type": "stream",
     "text": [
      "\n",
      " 35%|███▍      | 17/49 [00:18<00:33,  1.06s/it]\u001b[A"
     ]
    },
    {
     "name": "stdout",
     "output_type": "stream",
     "text": [
      "리뷰 스크롤 내리는중...\n"
     ]
    },
    {
     "name": "stderr",
     "output_type": "stream",
     "text": [
      "\n",
      " 37%|███▋      | 18/49 [00:19<00:32,  1.06s/it]\u001b[A"
     ]
    },
    {
     "name": "stdout",
     "output_type": "stream",
     "text": [
      "리뷰 스크롤 내리는중...\n"
     ]
    },
    {
     "name": "stderr",
     "output_type": "stream",
     "text": [
      "\n",
      " 39%|███▉      | 19/49 [00:20<00:31,  1.06s/it]\u001b[A"
     ]
    },
    {
     "name": "stdout",
     "output_type": "stream",
     "text": [
      "리뷰 스크롤 내리는중...\n"
     ]
    },
    {
     "name": "stderr",
     "output_type": "stream",
     "text": [
      "\n",
      " 41%|████      | 20/49 [00:21<00:30,  1.06s/it]\u001b[A"
     ]
    },
    {
     "name": "stdout",
     "output_type": "stream",
     "text": [
      "리뷰 스크롤 내리는중...\n"
     ]
    },
    {
     "name": "stderr",
     "output_type": "stream",
     "text": [
      "\n",
      " 43%|████▎     | 21/49 [00:22<00:29,  1.06s/it]\u001b[A"
     ]
    },
    {
     "name": "stdout",
     "output_type": "stream",
     "text": [
      "리뷰 스크롤 내리는중...\n"
     ]
    },
    {
     "name": "stderr",
     "output_type": "stream",
     "text": [
      "\n",
      " 45%|████▍     | 22/49 [00:23<00:28,  1.06s/it]\u001b[A"
     ]
    },
    {
     "name": "stdout",
     "output_type": "stream",
     "text": [
      "리뷰 스크롤 내리는중...\n"
     ]
    },
    {
     "name": "stderr",
     "output_type": "stream",
     "text": [
      "\n",
      " 47%|████▋     | 23/49 [00:24<00:27,  1.06s/it]\u001b[A"
     ]
    },
    {
     "name": "stdout",
     "output_type": "stream",
     "text": [
      "리뷰 스크롤 내리는중...\n"
     ]
    },
    {
     "name": "stderr",
     "output_type": "stream",
     "text": [
      "\n",
      " 49%|████▉     | 24/49 [00:25<00:26,  1.06s/it]\u001b[A"
     ]
    },
    {
     "name": "stdout",
     "output_type": "stream",
     "text": [
      "리뷰 스크롤 내리는중...\n"
     ]
    },
    {
     "name": "stderr",
     "output_type": "stream",
     "text": [
      "\n",
      " 51%|█████     | 25/49 [00:26<00:25,  1.06s/it]\u001b[A"
     ]
    },
    {
     "name": "stdout",
     "output_type": "stream",
     "text": [
      "리뷰 스크롤 내리는중...\n"
     ]
    },
    {
     "name": "stderr",
     "output_type": "stream",
     "text": [
      "\n",
      " 53%|█████▎    | 26/49 [00:27<00:24,  1.06s/it]\u001b[A"
     ]
    },
    {
     "name": "stdout",
     "output_type": "stream",
     "text": [
      "리뷰 스크롤 내리는중...\n"
     ]
    },
    {
     "name": "stderr",
     "output_type": "stream",
     "text": [
      "\n",
      " 55%|█████▌    | 27/49 [00:28<00:23,  1.06s/it]\u001b[A"
     ]
    },
    {
     "name": "stdout",
     "output_type": "stream",
     "text": [
      "리뷰 스크롤 내리는중...\n"
     ]
    },
    {
     "name": "stderr",
     "output_type": "stream",
     "text": [
      "\n",
      " 57%|█████▋    | 28/49 [00:29<00:22,  1.06s/it]\u001b[A"
     ]
    },
    {
     "name": "stdout",
     "output_type": "stream",
     "text": [
      "리뷰 스크롤 내리는중...\n"
     ]
    },
    {
     "name": "stderr",
     "output_type": "stream",
     "text": [
      "\n",
      " 59%|█████▉    | 29/49 [00:30<00:21,  1.06s/it]\u001b[A"
     ]
    },
    {
     "name": "stdout",
     "output_type": "stream",
     "text": [
      "리뷰 스크롤 내리는중...\n"
     ]
    },
    {
     "name": "stderr",
     "output_type": "stream",
     "text": [
      "\n",
      " 61%|██████    | 30/49 [00:31<00:20,  1.06s/it]\u001b[A"
     ]
    },
    {
     "name": "stdout",
     "output_type": "stream",
     "text": [
      "리뷰 스크롤 내리는중...\n"
     ]
    },
    {
     "name": "stderr",
     "output_type": "stream",
     "text": [
      "\n",
      " 63%|██████▎   | 31/49 [00:32<00:19,  1.06s/it]\u001b[A"
     ]
    },
    {
     "name": "stdout",
     "output_type": "stream",
     "text": [
      "리뷰 스크롤 내리는중...\n"
     ]
    },
    {
     "name": "stderr",
     "output_type": "stream",
     "text": [
      "\n",
      " 65%|██████▌   | 32/49 [00:34<00:18,  1.06s/it]\u001b[A"
     ]
    },
    {
     "name": "stdout",
     "output_type": "stream",
     "text": [
      "리뷰 스크롤 내리는중...\n"
     ]
    },
    {
     "name": "stderr",
     "output_type": "stream",
     "text": [
      "\n",
      " 67%|██████▋   | 33/49 [00:35<00:17,  1.06s/it]\u001b[A"
     ]
    },
    {
     "name": "stdout",
     "output_type": "stream",
     "text": [
      "리뷰 스크롤 내리는중...\n"
     ]
    },
    {
     "name": "stderr",
     "output_type": "stream",
     "text": [
      "\n",
      " 69%|██████▉   | 34/49 [00:36<00:15,  1.06s/it]\u001b[A"
     ]
    },
    {
     "name": "stdout",
     "output_type": "stream",
     "text": [
      "리뷰 스크롤 내리는중...\n"
     ]
    },
    {
     "name": "stderr",
     "output_type": "stream",
     "text": [
      "\n",
      " 71%|███████▏  | 35/49 [00:37<00:14,  1.06s/it]\u001b[A"
     ]
    },
    {
     "name": "stdout",
     "output_type": "stream",
     "text": [
      "리뷰 스크롤 내리는중...\n"
     ]
    },
    {
     "name": "stderr",
     "output_type": "stream",
     "text": [
      "\n",
      " 73%|███████▎  | 36/49 [00:38<00:13,  1.06s/it]\u001b[A"
     ]
    },
    {
     "name": "stdout",
     "output_type": "stream",
     "text": [
      "리뷰 스크롤 내리는중...\n"
     ]
    },
    {
     "name": "stderr",
     "output_type": "stream",
     "text": [
      "\n",
      " 76%|███████▌  | 37/49 [00:39<00:12,  1.06s/it]\u001b[A"
     ]
    },
    {
     "name": "stdout",
     "output_type": "stream",
     "text": [
      "리뷰 스크롤 내리는중...\n"
     ]
    },
    {
     "name": "stderr",
     "output_type": "stream",
     "text": [
      "\n",
      " 78%|███████▊  | 38/49 [00:40<00:11,  1.06s/it]\u001b[A"
     ]
    },
    {
     "name": "stdout",
     "output_type": "stream",
     "text": [
      "리뷰 스크롤 내리는중...\n"
     ]
    },
    {
     "name": "stderr",
     "output_type": "stream",
     "text": [
      "\n",
      " 80%|███████▉  | 39/49 [00:41<00:10,  1.06s/it]\u001b[A"
     ]
    },
    {
     "name": "stdout",
     "output_type": "stream",
     "text": [
      "리뷰 스크롤 내리는중...\n"
     ]
    },
    {
     "name": "stderr",
     "output_type": "stream",
     "text": [
      "\n",
      " 82%|████████▏ | 40/49 [00:42<00:09,  1.06s/it]\u001b[A"
     ]
    },
    {
     "name": "stdout",
     "output_type": "stream",
     "text": [
      "리뷰 스크롤 내리는중...\n"
     ]
    },
    {
     "name": "stderr",
     "output_type": "stream",
     "text": [
      "\n",
      " 84%|████████▎ | 41/49 [00:43<00:08,  1.06s/it]\u001b[A"
     ]
    },
    {
     "name": "stdout",
     "output_type": "stream",
     "text": [
      "리뷰 스크롤 내리는중...\n"
     ]
    },
    {
     "name": "stderr",
     "output_type": "stream",
     "text": [
      "\n",
      " 86%|████████▌ | 42/49 [00:44<00:07,  1.06s/it]\u001b[A"
     ]
    },
    {
     "name": "stdout",
     "output_type": "stream",
     "text": [
      "리뷰 스크롤 내리는중...\n"
     ]
    },
    {
     "name": "stderr",
     "output_type": "stream",
     "text": [
      "\n",
      " 88%|████████▊ | 43/49 [00:45<00:06,  1.06s/it]\u001b[A"
     ]
    },
    {
     "name": "stdout",
     "output_type": "stream",
     "text": [
      "리뷰 스크롤 내리는중...\n"
     ]
    },
    {
     "name": "stderr",
     "output_type": "stream",
     "text": [
      "\n",
      " 90%|████████▉ | 44/49 [00:46<00:05,  1.06s/it]\u001b[A"
     ]
    },
    {
     "name": "stdout",
     "output_type": "stream",
     "text": [
      "리뷰 스크롤 내리는중...\n"
     ]
    },
    {
     "name": "stderr",
     "output_type": "stream",
     "text": [
      "\n",
      " 92%|█████████▏| 45/49 [00:47<00:04,  1.06s/it]\u001b[A"
     ]
    },
    {
     "name": "stdout",
     "output_type": "stream",
     "text": [
      "리뷰 스크롤 내리는중...\n"
     ]
    },
    {
     "name": "stderr",
     "output_type": "stream",
     "text": [
      "\n",
      " 94%|█████████▍| 46/49 [00:48<00:03,  1.06s/it]\u001b[A"
     ]
    },
    {
     "name": "stdout",
     "output_type": "stream",
     "text": [
      "리뷰 스크롤 내리는중...\n"
     ]
    },
    {
     "name": "stderr",
     "output_type": "stream",
     "text": [
      "\n",
      " 96%|█████████▌| 47/49 [00:50<00:02,  1.06s/it]\u001b[A"
     ]
    },
    {
     "name": "stdout",
     "output_type": "stream",
     "text": [
      "리뷰 스크롤 내리는중...\n"
     ]
    },
    {
     "name": "stderr",
     "output_type": "stream",
     "text": [
      "\n",
      " 98%|█████████▊| 48/49 [00:51<00:01,  1.06s/it]\u001b[A"
     ]
    },
    {
     "name": "stdout",
     "output_type": "stream",
     "text": [
      "리뷰 스크롤 내리는중...\n"
     ]
    },
    {
     "name": "stderr",
     "output_type": "stream",
     "text": [
      "\n",
      "100%|██████████| 49/49 [00:52<00:00,  1.06s/it]\u001b[A\n",
      "\u001b[A\n",
      "  0%|          | 0/496 [00:00<?, ?it/s]\u001b[A"
     ]
    },
    {
     "name": "stdout",
     "output_type": "stream",
     "text": [
      "모든 리뷰 불러오기 성공!\n"
     ]
    },
    {
     "name": "stderr",
     "output_type": "stream",
     "text": [
      "\n",
      "  0%|          | 1/496 [00:00<02:22,  3.47it/s]\u001b[A\n",
      "  0%|          | 2/496 [00:00<02:09,  3.81it/s]\u001b[A\n",
      "  1%|          | 3/496 [00:00<02:07,  3.88it/s]\u001b[A\n",
      "  1%|          | 4/496 [00:01<02:06,  3.90it/s]\u001b[A\n",
      "  1%|          | 5/496 [00:01<02:05,  3.90it/s]\u001b[A\n",
      "  1%|          | 6/496 [00:01<02:03,  3.95it/s]\u001b[A\n",
      "  1%|▏         | 7/496 [00:01<02:02,  3.99it/s]\u001b[A\n",
      "  2%|▏         | 8/496 [00:01<02:01,  4.01it/s]\u001b[A\n",
      "  2%|▏         | 9/496 [00:02<02:02,  3.99it/s]\u001b[A\n",
      "  2%|▏         | 10/496 [00:02<02:01,  3.99it/s]\u001b[A\n",
      "  2%|▏         | 11/496 [00:02<02:00,  4.02it/s]\u001b[A\n",
      "  2%|▏         | 12/496 [00:02<01:59,  4.03it/s]\u001b[A\n",
      "  3%|▎         | 13/496 [00:03<01:59,  4.05it/s]\u001b[A\n",
      "  3%|▎         | 14/496 [00:03<01:58,  4.06it/s]\u001b[A\n",
      "  3%|▎         | 15/496 [00:03<01:57,  4.08it/s]\u001b[A\n",
      "  3%|▎         | 16/496 [00:03<01:58,  4.06it/s]\u001b[A\n",
      "  3%|▎         | 17/496 [00:04<01:57,  4.07it/s]\u001b[A\n",
      "  4%|▎         | 18/496 [00:04<01:57,  4.07it/s]\u001b[A\n",
      "  4%|▍         | 19/496 [00:04<01:56,  4.09it/s]\u001b[A\n",
      "  4%|▍         | 20/496 [00:04<01:56,  4.09it/s]\u001b[A\n",
      "  4%|▍         | 21/496 [00:05<01:55,  4.10it/s]\u001b[A\n",
      "  4%|▍         | 22/496 [00:05<01:56,  4.07it/s]\u001b[A\n",
      "  5%|▍         | 23/496 [00:05<01:56,  4.08it/s]\u001b[A\n",
      "  5%|▍         | 24/496 [00:05<01:55,  4.08it/s]\u001b[A\n",
      "  5%|▌         | 25/496 [00:06<01:55,  4.09it/s]\u001b[A\n",
      "  5%|▌         | 26/496 [00:06<01:54,  4.10it/s]\u001b[A\n",
      "  5%|▌         | 27/496 [00:06<01:54,  4.10it/s]\u001b[A\n",
      "  6%|▌         | 28/496 [00:06<01:55,  4.07it/s]\u001b[A\n",
      "  6%|▌         | 29/496 [00:07<01:54,  4.07it/s]\u001b[A\n",
      "  6%|▌         | 30/496 [00:07<01:54,  4.07it/s]\u001b[A\n",
      "  6%|▋         | 31/496 [00:07<01:54,  4.08it/s]\u001b[A\n",
      "  6%|▋         | 32/496 [00:07<01:53,  4.08it/s]\u001b[A\n",
      "  7%|▋         | 33/496 [00:08<01:53,  4.08it/s]\u001b[A\n",
      "  7%|▋         | 34/496 [00:08<01:53,  4.06it/s]\u001b[A\n",
      "  7%|▋         | 35/496 [00:08<01:53,  4.06it/s]\u001b[A\n",
      "  7%|▋         | 36/496 [00:08<01:53,  4.07it/s]\u001b[A\n",
      "  7%|▋         | 37/496 [00:09<01:52,  4.07it/s]\u001b[A\n",
      "  8%|▊         | 38/496 [00:09<01:52,  4.07it/s]\u001b[A\n",
      "  8%|▊         | 39/496 [00:09<01:52,  4.08it/s]\u001b[A\n",
      "  8%|▊         | 40/496 [00:09<01:52,  4.06it/s]\u001b[A\n",
      "  8%|▊         | 41/496 [00:10<01:52,  4.06it/s]\u001b[A\n",
      "  8%|▊         | 42/496 [00:10<01:51,  4.07it/s]\u001b[A\n",
      "  9%|▊         | 43/496 [00:10<01:51,  4.07it/s]\u001b[A\n",
      "  9%|▉         | 44/496 [00:10<01:50,  4.07it/s]\u001b[A\n",
      "  9%|▉         | 45/496 [00:11<01:50,  4.08it/s]\u001b[A\n",
      "  9%|▉         | 46/496 [00:11<01:50,  4.07it/s]\u001b[A\n",
      "  9%|▉         | 47/496 [00:11<01:50,  4.06it/s]\u001b[A\n",
      " 10%|▉         | 48/496 [00:11<01:50,  4.06it/s]\u001b[A\n",
      " 10%|▉         | 49/496 [00:12<01:49,  4.07it/s]\u001b[A\n",
      " 10%|█         | 50/496 [00:12<01:49,  4.07it/s]\u001b[A\n",
      " 10%|█         | 51/496 [00:12<01:49,  4.07it/s]\u001b[A\n",
      " 10%|█         | 52/496 [00:12<01:49,  4.06it/s]\u001b[A\n",
      " 11%|█         | 53/496 [00:13<01:49,  4.05it/s]\u001b[A\n",
      " 11%|█         | 54/496 [00:13<01:48,  4.06it/s]\u001b[A\n",
      " 11%|█         | 55/496 [00:13<01:48,  4.05it/s]\u001b[A\n",
      " 11%|█▏        | 56/496 [00:13<01:48,  4.05it/s]\u001b[A\n",
      " 11%|█▏        | 57/496 [00:14<01:48,  4.06it/s]\u001b[A\n",
      " 12%|█▏        | 58/496 [00:14<01:48,  4.04it/s]\u001b[A\n",
      " 12%|█▏        | 59/496 [00:14<01:48,  4.04it/s]\u001b[A\n",
      " 12%|█▏        | 60/496 [00:14<01:47,  4.05it/s]\u001b[A\n",
      " 12%|█▏        | 61/496 [00:15<01:47,  4.04it/s]\u001b[A\n",
      " 12%|█▎        | 62/496 [00:15<01:47,  4.04it/s]\u001b[A\n",
      " 13%|█▎        | 63/496 [00:15<01:47,  4.04it/s]\u001b[A\n",
      " 13%|█▎        | 64/496 [00:15<01:47,  4.03it/s]\u001b[A\n",
      " 13%|█▎        | 65/496 [00:16<01:46,  4.03it/s]\u001b[A\n",
      " 13%|█▎        | 66/496 [00:16<01:46,  4.03it/s]\u001b[A\n",
      " 14%|█▎        | 67/496 [00:16<01:46,  4.03it/s]\u001b[A\n",
      " 14%|█▎        | 68/496 [00:16<01:46,  4.04it/s]\u001b[A\n",
      " 14%|█▍        | 69/496 [00:17<01:46,  4.03it/s]\u001b[A\n",
      " 14%|█▍        | 70/496 [00:17<01:45,  4.03it/s]\u001b[A\n",
      " 14%|█▍        | 71/496 [00:17<01:45,  4.03it/s]\u001b[A\n",
      " 15%|█▍        | 72/496 [00:17<01:45,  4.03it/s]\u001b[A\n",
      " 15%|█▍        | 73/496 [00:18<01:44,  4.03it/s]\u001b[A\n",
      " 15%|█▍        | 74/496 [00:18<01:44,  4.04it/s]\u001b[A\n",
      " 15%|█▌        | 75/496 [00:18<01:44,  4.02it/s]\u001b[A\n",
      " 15%|█▌        | 76/496 [00:18<01:44,  4.03it/s]\u001b[A\n",
      " 16%|█▌        | 77/496 [00:19<01:44,  4.03it/s]\u001b[A\n",
      " 16%|█▌        | 78/496 [00:19<01:43,  4.03it/s]\u001b[A\n",
      " 16%|█▌        | 79/496 [00:19<01:43,  4.03it/s]\u001b[A\n",
      " 16%|█▌        | 80/496 [00:19<01:43,  4.03it/s]\u001b[A\n",
      " 16%|█▋        | 81/496 [00:20<01:43,  4.02it/s]\u001b[A\n",
      " 17%|█▋        | 82/496 [00:20<01:42,  4.02it/s]\u001b[A\n",
      " 17%|█▋        | 83/496 [00:20<01:42,  4.02it/s]\u001b[A\n",
      " 17%|█▋        | 84/496 [00:20<01:42,  4.02it/s]\u001b[A\n",
      " 17%|█▋        | 85/496 [00:21<01:42,  4.02it/s]\u001b[A\n",
      " 17%|█▋        | 86/496 [00:21<01:41,  4.03it/s]\u001b[A\n",
      " 18%|█▊        | 87/496 [00:21<01:41,  4.02it/s]\u001b[A\n",
      " 18%|█▊        | 88/496 [00:21<01:41,  4.02it/s]\u001b[A\n",
      " 18%|█▊        | 89/496 [00:22<01:41,  4.02it/s]\u001b[A\n",
      " 18%|█▊        | 90/496 [00:22<01:41,  4.02it/s]\u001b[A\n",
      " 18%|█▊        | 91/496 [00:22<01:40,  4.02it/s]\u001b[A\n",
      " 19%|█▊        | 92/496 [00:22<01:40,  4.02it/s]\u001b[A\n",
      " 19%|█▉        | 93/496 [00:23<01:40,  4.01it/s]\u001b[A\n",
      " 19%|█▉        | 94/496 [00:23<01:40,  4.01it/s]\u001b[A\n",
      " 19%|█▉        | 95/496 [00:23<01:40,  4.01it/s]\u001b[A\n",
      " 19%|█▉        | 96/496 [00:23<01:39,  4.01it/s]\u001b[A\n",
      " 20%|█▉        | 97/496 [00:24<01:39,  4.01it/s]\u001b[A\n",
      " 20%|█▉        | 98/496 [00:24<01:39,  4.01it/s]\u001b[A\n",
      " 20%|█▉        | 99/496 [00:24<01:39,  4.00it/s]\u001b[A\n",
      " 20%|██        | 100/496 [00:24<01:38,  4.00it/s]\u001b[A\n",
      " 20%|██        | 101/496 [00:25<01:38,  4.00it/s]\u001b[A\n",
      " 21%|██        | 102/496 [00:25<01:38,  4.00it/s]\u001b[A\n",
      " 21%|██        | 103/496 [00:25<01:38,  4.00it/s]\u001b[A\n",
      " 21%|██        | 104/496 [00:25<01:37,  4.00it/s]\u001b[A\n",
      " 21%|██        | 105/496 [00:26<01:37,  4.00it/s]\u001b[A\n",
      " 21%|██▏       | 106/496 [00:26<01:37,  3.99it/s]\u001b[A\n",
      " 22%|██▏       | 107/496 [00:26<01:37,  3.99it/s]\u001b[A\n",
      " 22%|██▏       | 108/496 [00:27<01:37,  3.99it/s]\u001b[A\n",
      " 22%|██▏       | 109/496 [00:27<01:36,  3.99it/s]\u001b[A\n",
      " 22%|██▏       | 110/496 [00:27<01:36,  3.99it/s]\u001b[A\n",
      " 22%|██▏       | 111/496 [00:27<01:36,  4.00it/s]\u001b[A\n",
      " 23%|██▎       | 112/496 [00:28<01:36,  3.99it/s]\u001b[A\n",
      " 23%|██▎       | 113/496 [00:28<01:36,  3.99it/s]\u001b[A\n",
      " 23%|██▎       | 114/496 [00:28<01:35,  3.99it/s]\u001b[A\n",
      " 23%|██▎       | 115/496 [00:28<01:35,  3.99it/s]\u001b[A\n",
      " 23%|██▎       | 116/496 [00:29<01:35,  3.99it/s]\u001b[A\n",
      " 24%|██▎       | 117/496 [00:29<01:34,  3.99it/s]\u001b[A\n",
      " 24%|██▍       | 118/496 [00:29<01:34,  3.98it/s]\u001b[A\n",
      " 24%|██▍       | 119/496 [00:29<01:34,  3.98it/s]\u001b[A\n",
      " 24%|██▍       | 120/496 [00:30<01:34,  3.98it/s]\u001b[A\n",
      " 24%|██▍       | 121/496 [00:30<01:34,  3.98it/s]\u001b[A\n",
      " 25%|██▍       | 122/496 [00:30<01:33,  3.98it/s]\u001b[A\n",
      " 25%|██▍       | 123/496 [00:30<01:33,  3.98it/s]\u001b[A\n",
      " 25%|██▌       | 124/496 [00:31<01:33,  3.98it/s]\u001b[A\n",
      " 25%|██▌       | 125/496 [00:31<01:33,  3.98it/s]\u001b[A\n",
      " 25%|██▌       | 126/496 [00:31<01:33,  3.98it/s]\u001b[A\n",
      " 26%|██▌       | 127/496 [00:31<01:32,  3.98it/s]\u001b[A\n",
      " 26%|██▌       | 128/496 [00:32<01:32,  3.98it/s]\u001b[A\n",
      " 26%|██▌       | 129/496 [00:32<01:32,  3.98it/s]\u001b[A\n",
      " 26%|██▌       | 130/496 [00:32<01:32,  3.98it/s]\u001b[A\n",
      " 26%|██▋       | 131/496 [00:32<01:31,  3.97it/s]\u001b[A\n",
      " 27%|██▋       | 132/496 [00:33<01:31,  3.97it/s]\u001b[A\n",
      " 27%|██▋       | 133/496 [00:33<01:31,  3.97it/s]\u001b[A\n",
      " 27%|██▋       | 134/496 [00:33<01:31,  3.97it/s]\u001b[A\n",
      " 27%|██▋       | 135/496 [00:33<01:30,  3.97it/s]\u001b[A\n",
      " 27%|██▋       | 136/496 [00:34<01:30,  3.97it/s]\u001b[A\n",
      " 28%|██▊       | 137/496 [00:34<01:30,  3.97it/s]\u001b[A\n",
      " 28%|██▊       | 138/496 [00:34<01:30,  3.97it/s]\u001b[A\n",
      " 28%|██▊       | 139/496 [00:35<01:30,  3.97it/s]\u001b[A\n",
      " 28%|██▊       | 140/496 [00:35<01:29,  3.97it/s]\u001b[A\n",
      " 28%|██▊       | 141/496 [00:35<01:29,  3.97it/s]\u001b[A\n",
      " 29%|██▊       | 142/496 [00:35<01:29,  3.97it/s]\u001b[A\n",
      " 29%|██▉       | 143/496 [00:36<01:28,  3.97it/s]\u001b[A\n",
      " 29%|██▉       | 144/496 [00:36<01:28,  3.96it/s]\u001b[A\n",
      " 29%|██▉       | 145/496 [00:36<01:28,  3.96it/s]\u001b[A\n",
      " 29%|██▉       | 146/496 [00:36<01:28,  3.96it/s]\u001b[A\n",
      " 30%|██▉       | 147/496 [00:37<01:28,  3.96it/s]\u001b[A\n",
      " 30%|██▉       | 148/496 [00:37<01:27,  3.96it/s]\u001b[A\n",
      " 30%|███       | 149/496 [00:37<01:27,  3.96it/s]\u001b[A\n",
      " 30%|███       | 150/496 [00:37<01:27,  3.96it/s]\u001b[A\n",
      " 30%|███       | 151/496 [00:38<01:27,  3.96it/s]\u001b[A\n",
      " 31%|███       | 152/496 [00:38<01:26,  3.96it/s]\u001b[A\n",
      " 31%|███       | 153/496 [00:38<01:26,  3.96it/s]\u001b[A\n",
      " 31%|███       | 154/496 [00:38<01:26,  3.96it/s]\u001b[A\n",
      " 31%|███▏      | 155/496 [00:39<01:26,  3.96it/s]\u001b[A\n",
      " 31%|███▏      | 156/496 [00:39<01:25,  3.96it/s]\u001b[A\n"
     ]
    },
    {
     "name": "stderr",
     "output_type": "stream",
     "text": [
      " 32%|███▏      | 157/496 [00:39<01:25,  3.96it/s]\u001b[A\n",
      " 32%|███▏      | 158/496 [00:39<01:25,  3.96it/s]\u001b[A\n",
      " 32%|███▏      | 159/496 [00:40<01:25,  3.96it/s]\u001b[A\n",
      " 32%|███▏      | 160/496 [00:40<01:24,  3.95it/s]\u001b[A\n",
      " 32%|███▏      | 161/496 [00:40<01:24,  3.95it/s]\u001b[A\n",
      " 33%|███▎      | 162/496 [00:40<01:24,  3.95it/s]\u001b[A\n",
      " 33%|███▎      | 163/496 [00:41<01:24,  3.95it/s]\u001b[A\n",
      " 33%|███▎      | 164/496 [00:41<01:24,  3.95it/s]\u001b[A\n",
      " 33%|███▎      | 165/496 [00:41<01:23,  3.95it/s]\u001b[A\n",
      " 33%|███▎      | 166/496 [00:42<01:23,  3.94it/s]\u001b[A\n",
      " 34%|███▎      | 167/496 [00:42<01:23,  3.94it/s]\u001b[A\n",
      " 34%|███▍      | 168/496 [00:42<01:23,  3.94it/s]\u001b[A\n",
      " 34%|███▍      | 169/496 [00:42<01:23,  3.94it/s]\u001b[A\n",
      " 34%|███▍      | 170/496 [00:43<01:22,  3.94it/s]\u001b[A\n",
      " 34%|███▍      | 171/496 [00:43<01:22,  3.94it/s]\u001b[A\n",
      " 35%|███▍      | 172/496 [00:43<01:22,  3.93it/s]\u001b[A\n",
      " 35%|███▍      | 173/496 [00:43<01:22,  3.93it/s]\u001b[A\n",
      " 35%|███▌      | 174/496 [00:44<01:22,  3.93it/s]\u001b[A\n",
      " 35%|███▌      | 175/496 [00:44<01:21,  3.93it/s]\u001b[A\n",
      " 35%|███▌      | 176/496 [00:44<01:21,  3.93it/s]\u001b[A\n",
      " 36%|███▌      | 177/496 [00:45<01:21,  3.93it/s]\u001b[A\n",
      " 36%|███▌      | 178/496 [00:45<01:21,  3.92it/s]\u001b[A\n",
      " 36%|███▌      | 179/496 [00:45<01:20,  3.92it/s]\u001b[A\n",
      " 36%|███▋      | 180/496 [00:45<01:20,  3.92it/s]\u001b[A\n",
      " 36%|███▋      | 181/496 [00:46<01:20,  3.92it/s]\u001b[A\n",
      " 37%|███▋      | 182/496 [00:46<01:20,  3.92it/s]\u001b[A\n",
      " 37%|███▋      | 183/496 [00:46<01:19,  3.92it/s]\u001b[A\n",
      " 37%|███▋      | 184/496 [00:46<01:19,  3.92it/s]\u001b[A\n",
      " 37%|███▋      | 185/496 [00:47<01:19,  3.91it/s]\u001b[A\n",
      " 38%|███▊      | 186/496 [00:47<01:19,  3.91it/s]\u001b[A\n",
      " 38%|███▊      | 187/496 [00:47<01:19,  3.91it/s]\u001b[A\n",
      " 38%|███▊      | 188/496 [00:48<01:18,  3.91it/s]\u001b[A\n",
      " 38%|███▊      | 189/496 [00:48<01:18,  3.91it/s]\u001b[A\n",
      " 38%|███▊      | 190/496 [00:48<01:18,  3.91it/s]\u001b[A\n",
      " 39%|███▊      | 191/496 [00:48<01:18,  3.91it/s]\u001b[A\n",
      " 39%|███▊      | 192/496 [00:49<01:17,  3.90it/s]\u001b[A\n",
      " 39%|███▉      | 193/496 [00:49<01:17,  3.90it/s]\u001b[A\n",
      " 39%|███▉      | 194/496 [00:49<01:17,  3.90it/s]\u001b[A\n",
      " 39%|███▉      | 195/496 [00:50<01:17,  3.90it/s]\u001b[A\n",
      " 40%|███▉      | 196/496 [00:50<01:16,  3.90it/s]\u001b[A\n",
      " 40%|███▉      | 197/496 [00:50<01:16,  3.90it/s]\u001b[A\n",
      " 40%|███▉      | 198/496 [00:50<01:16,  3.90it/s]\u001b[A\n",
      " 40%|████      | 199/496 [00:51<01:16,  3.89it/s]\u001b[A\n",
      " 40%|████      | 200/496 [00:51<01:16,  3.89it/s]\u001b[A\n",
      " 41%|████      | 201/496 [00:51<01:15,  3.89it/s]\u001b[A\n",
      " 41%|████      | 202/496 [00:51<01:15,  3.89it/s]\u001b[A\n",
      " 41%|████      | 203/496 [00:52<01:15,  3.89it/s]\u001b[A\n",
      " 41%|████      | 204/496 [00:52<01:15,  3.88it/s]\u001b[A\n",
      " 41%|████▏     | 205/496 [00:52<01:14,  3.88it/s]\u001b[A\n",
      " 42%|████▏     | 206/496 [00:53<01:14,  3.88it/s]\u001b[A\n",
      " 42%|████▏     | 207/496 [00:53<01:14,  3.88it/s]\u001b[A\n",
      " 42%|████▏     | 208/496 [00:53<01:14,  3.88it/s]\u001b[A\n",
      " 42%|████▏     | 209/496 [00:53<01:13,  3.88it/s]\u001b[A\n",
      " 42%|████▏     | 210/496 [00:54<01:13,  3.88it/s]\u001b[A\n",
      " 43%|████▎     | 211/496 [00:54<01:13,  3.88it/s]\u001b[A\n",
      " 43%|████▎     | 212/496 [00:54<01:13,  3.87it/s]\u001b[A\n",
      " 43%|████▎     | 213/496 [00:54<01:13,  3.87it/s]\u001b[A\n",
      " 43%|████▎     | 214/496 [00:55<01:12,  3.87it/s]\u001b[A\n",
      " 43%|████▎     | 215/496 [00:55<01:12,  3.87it/s]\u001b[A\n",
      " 44%|████▎     | 216/496 [00:55<01:12,  3.87it/s]\u001b[A\n",
      " 44%|████▍     | 217/496 [00:56<01:12,  3.87it/s]\u001b[A\n",
      " 44%|████▍     | 218/496 [00:56<01:11,  3.87it/s]\u001b[A\n",
      " 44%|████▍     | 219/496 [00:56<01:11,  3.87it/s]\u001b[A\n",
      " 44%|████▍     | 220/496 [00:56<01:11,  3.87it/s]\u001b[A\n",
      " 45%|████▍     | 221/496 [00:57<01:11,  3.87it/s]\u001b[A\n",
      " 45%|████▍     | 222/496 [00:57<01:10,  3.86it/s]\u001b[A\n",
      " 45%|████▍     | 223/496 [00:57<01:10,  3.86it/s]\u001b[A\n",
      " 45%|████▌     | 224/496 [00:57<01:10,  3.86it/s]\u001b[A\n",
      " 45%|████▌     | 225/496 [00:58<01:10,  3.86it/s]\u001b[A\n",
      " 46%|████▌     | 226/496 [00:58<01:09,  3.86it/s]\u001b[A\n",
      " 46%|████▌     | 227/496 [00:58<01:09,  3.86it/s]\u001b[A\n",
      " 46%|████▌     | 228/496 [00:59<01:09,  3.86it/s]\u001b[A\n",
      " 46%|████▌     | 229/496 [00:59<01:09,  3.86it/s]\u001b[A\n",
      " 46%|████▋     | 230/496 [00:59<01:09,  3.85it/s]\u001b[A\n",
      " 47%|████▋     | 231/496 [00:59<01:08,  3.85it/s]\u001b[A\n",
      " 47%|████▋     | 232/496 [01:00<01:08,  3.85it/s]\u001b[A\n",
      " 47%|████▋     | 233/496 [01:00<01:08,  3.85it/s]\u001b[A\n",
      " 47%|████▋     | 234/496 [01:00<01:08,  3.85it/s]\u001b[A\n",
      " 47%|████▋     | 235/496 [01:01<01:07,  3.85it/s]\u001b[A\n",
      " 48%|████▊     | 236/496 [01:01<01:07,  3.85it/s]\u001b[A\n",
      " 48%|████▊     | 237/496 [01:01<01:07,  3.84it/s]\u001b[A\n",
      " 48%|████▊     | 238/496 [01:01<01:07,  3.84it/s]\u001b[A\n",
      " 48%|████▊     | 239/496 [01:02<01:06,  3.84it/s]\u001b[A\n",
      " 48%|████▊     | 240/496 [01:02<01:06,  3.84it/s]\u001b[A\n",
      " 49%|████▊     | 241/496 [01:02<01:06,  3.84it/s]\u001b[A\n",
      " 49%|████▉     | 242/496 [01:03<01:06,  3.84it/s]\u001b[A\n",
      " 49%|████▉     | 243/496 [01:03<01:05,  3.84it/s]\u001b[A\n",
      " 49%|████▉     | 244/496 [01:03<01:05,  3.84it/s]\u001b[A\n",
      " 49%|████▉     | 245/496 [01:03<01:05,  3.84it/s]\u001b[A\n",
      " 50%|████▉     | 246/496 [01:04<01:05,  3.83it/s]\u001b[A\n",
      " 50%|████▉     | 247/496 [01:04<01:04,  3.83it/s]\u001b[A\n",
      " 50%|█████     | 248/496 [01:04<01:04,  3.83it/s]\u001b[A\n",
      " 50%|█████     | 249/496 [01:04<01:04,  3.83it/s]\u001b[A\n",
      " 50%|█████     | 250/496 [01:05<01:04,  3.83it/s]\u001b[A\n",
      " 51%|█████     | 251/496 [01:05<01:03,  3.83it/s]\u001b[A\n",
      " 51%|█████     | 252/496 [01:05<01:03,  3.83it/s]\u001b[A\n",
      " 51%|█████     | 253/496 [01:06<01:03,  3.83it/s]\u001b[A\n",
      " 51%|█████     | 254/496 [01:06<01:03,  3.83it/s]\u001b[A\n",
      " 51%|█████▏    | 255/496 [01:06<01:02,  3.83it/s]\u001b[A\n",
      " 52%|█████▏    | 256/496 [01:06<01:02,  3.83it/s]\u001b[A\n",
      " 52%|█████▏    | 257/496 [01:07<01:02,  3.83it/s]\u001b[A\n",
      " 52%|█████▏    | 258/496 [01:07<01:02,  3.83it/s]\u001b[A\n",
      " 52%|█████▏    | 259/496 [01:07<01:02,  3.82it/s]\u001b[A\n",
      " 52%|█████▏    | 260/496 [01:08<01:01,  3.82it/s]\u001b[A\n",
      " 53%|█████▎    | 261/496 [01:08<01:01,  3.82it/s]\u001b[A\n",
      " 53%|█████▎    | 262/496 [01:08<01:01,  3.82it/s]\u001b[A\n",
      " 53%|█████▎    | 263/496 [01:08<01:01,  3.82it/s]\u001b[A\n",
      " 53%|█████▎    | 264/496 [01:09<01:00,  3.82it/s]\u001b[A\n",
      " 53%|█████▎    | 265/496 [01:09<01:00,  3.82it/s]\u001b[A\n",
      " 54%|█████▎    | 266/496 [01:09<01:00,  3.81it/s]\u001b[A\n",
      " 54%|█████▍    | 267/496 [01:10<01:00,  3.81it/s]\u001b[A\n",
      " 54%|█████▍    | 268/496 [01:10<00:59,  3.81it/s]\u001b[A\n",
      " 54%|█████▍    | 269/496 [01:10<00:59,  3.81it/s]\u001b[A\n",
      " 54%|█████▍    | 270/496 [01:10<00:59,  3.81it/s]\u001b[A\n",
      " 55%|█████▍    | 271/496 [01:11<00:59,  3.81it/s]\u001b[A\n",
      " 55%|█████▍    | 272/496 [01:11<00:58,  3.81it/s]\u001b[A\n",
      " 55%|█████▌    | 273/496 [01:11<00:58,  3.81it/s]\u001b[A\n",
      " 55%|█████▌    | 274/496 [01:11<00:58,  3.81it/s]\u001b[A\n",
      " 55%|█████▌    | 275/496 [01:12<00:58,  3.81it/s]\u001b[A\n",
      " 56%|█████▌    | 276/496 [01:12<00:57,  3.80it/s]\u001b[A\n",
      " 56%|█████▌    | 277/496 [01:12<00:57,  3.80it/s]\u001b[A\n",
      " 56%|█████▌    | 278/496 [01:13<00:57,  3.80it/s]\u001b[A\n",
      " 56%|█████▋    | 279/496 [01:13<00:57,  3.80it/s]\u001b[A\n",
      " 56%|█████▋    | 280/496 [01:13<00:56,  3.80it/s]\u001b[A\n",
      " 57%|█████▋    | 281/496 [01:13<00:56,  3.80it/s]\u001b[A\n",
      " 57%|█████▋    | 282/496 [01:14<00:56,  3.80it/s]\u001b[A\n",
      " 57%|█████▋    | 283/496 [01:14<00:56,  3.80it/s]\u001b[A\n",
      " 57%|█████▋    | 284/496 [01:14<00:55,  3.80it/s]\u001b[A\n",
      " 57%|█████▋    | 285/496 [01:15<00:55,  3.80it/s]\u001b[A\n",
      " 58%|█████▊    | 286/496 [01:15<00:55,  3.80it/s]\u001b[A\n",
      " 58%|█████▊    | 287/496 [01:15<00:55,  3.80it/s]\u001b[A\n",
      " 58%|█████▊    | 288/496 [01:15<00:54,  3.79it/s]\u001b[A\n",
      " 58%|█████▊    | 289/496 [01:16<00:54,  3.79it/s]\u001b[A\n",
      " 58%|█████▊    | 290/496 [01:16<00:54,  3.79it/s]\u001b[A\n",
      " 59%|█████▊    | 291/496 [01:16<00:54,  3.79it/s]\u001b[A\n",
      " 59%|█████▉    | 292/496 [01:17<00:53,  3.79it/s]\u001b[A\n",
      " 59%|█████▉    | 293/496 [01:17<00:53,  3.79it/s]\u001b[A\n",
      " 59%|█████▉    | 294/496 [01:17<00:53,  3.79it/s]\u001b[A\n",
      " 59%|█████▉    | 295/496 [01:17<00:53,  3.79it/s]\u001b[A\n",
      " 60%|█████▉    | 296/496 [01:18<00:52,  3.79it/s]\u001b[A\n",
      " 60%|█████▉    | 297/496 [01:18<00:52,  3.79it/s]\u001b[A\n",
      " 60%|██████    | 298/496 [01:18<00:52,  3.79it/s]\u001b[A\n",
      " 60%|██████    | 299/496 [01:18<00:52,  3.79it/s]\u001b[A\n",
      " 60%|██████    | 300/496 [01:19<00:51,  3.78it/s]\u001b[A\n",
      " 61%|██████    | 301/496 [01:19<00:51,  3.78it/s]\u001b[A\n",
      " 61%|██████    | 302/496 [01:19<00:51,  3.78it/s]\u001b[A\n",
      " 61%|██████    | 303/496 [01:20<00:51,  3.78it/s]\u001b[A\n",
      " 61%|██████▏   | 304/496 [01:20<00:50,  3.78it/s]\u001b[A\n",
      " 61%|██████▏   | 305/496 [01:20<00:50,  3.78it/s]\u001b[A\n",
      " 62%|██████▏   | 306/496 [01:20<00:50,  3.78it/s]\u001b[A\n",
      " 62%|██████▏   | 307/496 [01:21<00:50,  3.78it/s]\u001b[A\n",
      " 62%|██████▏   | 308/496 [01:21<00:49,  3.78it/s]\u001b[A\n",
      " 62%|██████▏   | 309/496 [01:21<00:49,  3.78it/s]\u001b[A\n",
      " 62%|██████▎   | 310/496 [01:22<00:49,  3.78it/s]\u001b[A\n"
     ]
    },
    {
     "name": "stderr",
     "output_type": "stream",
     "text": [
      " 63%|██████▎   | 311/496 [01:22<00:48,  3.78it/s]\u001b[A\n",
      " 63%|██████▎   | 312/496 [01:22<00:48,  3.78it/s]\u001b[A\n",
      " 63%|██████▎   | 313/496 [01:22<00:48,  3.77it/s]\u001b[A\n",
      " 63%|██████▎   | 314/496 [01:23<00:48,  3.77it/s]\u001b[A\n",
      " 64%|██████▎   | 315/496 [01:23<00:47,  3.77it/s]\u001b[A\n",
      " 64%|██████▎   | 316/496 [01:23<00:47,  3.77it/s]\u001b[A\n",
      " 64%|██████▍   | 317/496 [01:24<00:47,  3.77it/s]\u001b[A\n",
      " 64%|██████▍   | 318/496 [01:24<00:47,  3.77it/s]\u001b[A\n",
      " 64%|██████▍   | 319/496 [01:24<00:46,  3.77it/s]\u001b[A\n",
      " 65%|██████▍   | 320/496 [01:24<00:46,  3.77it/s]\u001b[A\n",
      " 65%|██████▍   | 321/496 [01:25<00:46,  3.77it/s]\u001b[A\n",
      " 65%|██████▍   | 322/496 [01:25<00:46,  3.77it/s]\u001b[A\n",
      " 65%|██████▌   | 323/496 [01:25<00:45,  3.76it/s]\u001b[A\n",
      " 65%|██████▌   | 324/496 [01:26<00:45,  3.76it/s]\u001b[A\n",
      " 66%|██████▌   | 325/496 [01:26<00:45,  3.76it/s]\u001b[A\n",
      " 66%|██████▌   | 326/496 [01:26<00:45,  3.76it/s]\u001b[A\n",
      " 66%|██████▌   | 327/496 [01:26<00:44,  3.76it/s]\u001b[A\n",
      " 66%|██████▌   | 328/496 [01:27<00:44,  3.76it/s]\u001b[A\n",
      " 66%|██████▋   | 329/496 [01:27<00:44,  3.76it/s]\u001b[A\n",
      " 67%|██████▋   | 330/496 [01:27<00:44,  3.76it/s]\u001b[A\n",
      " 67%|██████▋   | 331/496 [01:28<00:43,  3.76it/s]\u001b[A\n",
      " 67%|██████▋   | 332/496 [01:28<00:43,  3.76it/s]\u001b[A\n",
      " 67%|██████▋   | 333/496 [01:28<00:43,  3.76it/s]\u001b[A\n",
      " 67%|██████▋   | 334/496 [01:28<00:43,  3.75it/s]\u001b[A\n",
      " 68%|██████▊   | 335/496 [01:29<00:42,  3.75it/s]\u001b[A\n",
      " 68%|██████▊   | 336/496 [01:29<00:42,  3.75it/s]\u001b[A\n",
      " 68%|██████▊   | 337/496 [01:29<00:42,  3.75it/s]\u001b[A\n",
      " 68%|██████▊   | 338/496 [01:30<00:42,  3.75it/s]\u001b[A\n",
      " 68%|██████▊   | 339/496 [01:30<00:41,  3.75it/s]\u001b[A\n",
      " 69%|██████▊   | 340/496 [01:30<00:41,  3.75it/s]\u001b[A\n",
      " 69%|██████▉   | 341/496 [01:30<00:41,  3.75it/s]\u001b[A\n",
      " 69%|██████▉   | 342/496 [01:31<00:41,  3.75it/s]\u001b[A\n",
      " 69%|██████▉   | 343/496 [01:31<00:40,  3.75it/s]\u001b[A\n",
      " 69%|██████▉   | 344/496 [01:31<00:40,  3.75it/s]\u001b[A\n",
      " 70%|██████▉   | 345/496 [01:32<00:40,  3.74it/s]\u001b[A\n",
      " 70%|██████▉   | 346/496 [01:32<00:40,  3.74it/s]\u001b[A\n",
      " 70%|██████▉   | 347/496 [01:32<00:39,  3.74it/s]\u001b[A\n",
      " 70%|███████   | 348/496 [01:32<00:39,  3.74it/s]\u001b[A\n",
      " 70%|███████   | 349/496 [01:33<00:39,  3.74it/s]\u001b[A\n",
      " 71%|███████   | 350/496 [01:33<00:39,  3.74it/s]\u001b[A\n",
      " 71%|███████   | 351/496 [01:33<00:38,  3.74it/s]\u001b[A\n",
      " 71%|███████   | 352/496 [01:34<00:38,  3.74it/s]\u001b[A\n",
      " 71%|███████   | 353/496 [01:34<00:38,  3.74it/s]\u001b[A\n",
      " 71%|███████▏  | 354/496 [01:34<00:38,  3.74it/s]\u001b[A\n",
      " 72%|███████▏  | 355/496 [01:35<00:37,  3.74it/s]\u001b[A\n",
      " 72%|███████▏  | 356/496 [01:35<00:37,  3.74it/s]\u001b[A\n",
      " 72%|███████▏  | 357/496 [01:35<00:37,  3.73it/s]\u001b[A\n",
      " 72%|███████▏  | 358/496 [01:35<00:36,  3.73it/s]\u001b[A\n",
      " 72%|███████▏  | 359/496 [01:36<00:36,  3.73it/s]\u001b[A\n",
      " 73%|███████▎  | 360/496 [01:36<00:36,  3.73it/s]\u001b[A\n",
      " 73%|███████▎  | 361/496 [01:36<00:36,  3.73it/s]\u001b[A\n",
      " 73%|███████▎  | 362/496 [01:37<00:35,  3.73it/s]\u001b[A\n",
      " 73%|███████▎  | 363/496 [01:37<00:35,  3.73it/s]\u001b[A\n",
      " 73%|███████▎  | 364/496 [01:37<00:35,  3.73it/s]\u001b[A\n",
      " 74%|███████▎  | 365/496 [01:37<00:35,  3.72it/s]\u001b[A\n",
      " 74%|███████▍  | 366/496 [01:38<00:34,  3.72it/s]\u001b[A\n",
      " 74%|███████▍  | 367/496 [01:38<00:34,  3.72it/s]\u001b[A\n",
      " 74%|███████▍  | 368/496 [01:38<00:34,  3.72it/s]\u001b[A\n",
      " 74%|███████▍  | 369/496 [01:39<00:34,  3.72it/s]\u001b[A\n",
      " 75%|███████▍  | 370/496 [01:39<00:33,  3.72it/s]\u001b[A\n",
      " 75%|███████▍  | 371/496 [01:39<00:33,  3.72it/s]\u001b[A\n",
      " 75%|███████▌  | 372/496 [01:40<00:33,  3.72it/s]\u001b[A\n",
      " 75%|███████▌  | 373/496 [01:40<00:33,  3.71it/s]\u001b[A\n",
      " 75%|███████▌  | 374/496 [01:40<00:32,  3.71it/s]\u001b[A\n",
      " 76%|███████▌  | 375/496 [01:41<00:32,  3.71it/s]\u001b[A\n",
      " 76%|███████▌  | 376/496 [01:41<00:32,  3.71it/s]\u001b[A\n",
      " 76%|███████▌  | 377/496 [01:41<00:32,  3.71it/s]\u001b[A\n",
      " 76%|███████▌  | 378/496 [01:41<00:31,  3.71it/s]\u001b[A\n",
      " 76%|███████▋  | 379/496 [01:42<00:31,  3.71it/s]\u001b[A\n",
      " 77%|███████▋  | 380/496 [01:42<00:31,  3.71it/s]\u001b[A\n",
      " 77%|███████▋  | 381/496 [01:42<00:31,  3.70it/s]\u001b[A\n",
      " 77%|███████▋  | 382/496 [01:43<00:30,  3.70it/s]\u001b[A\n",
      " 77%|███████▋  | 383/496 [01:43<00:30,  3.70it/s]\u001b[A\n",
      " 77%|███████▋  | 384/496 [01:43<00:30,  3.70it/s]\u001b[A\n",
      " 78%|███████▊  | 385/496 [01:44<00:30,  3.70it/s]\u001b[A\n",
      " 78%|███████▊  | 386/496 [01:44<00:29,  3.70it/s]\u001b[A\n",
      " 78%|███████▊  | 387/496 [01:44<00:29,  3.70it/s]\u001b[A\n",
      " 78%|███████▊  | 388/496 [01:45<00:29,  3.69it/s]\u001b[A\n",
      " 78%|███████▊  | 389/496 [01:45<00:28,  3.69it/s]\u001b[A\n",
      " 79%|███████▊  | 390/496 [01:45<00:28,  3.69it/s]\u001b[A\n",
      " 79%|███████▉  | 391/496 [01:45<00:28,  3.69it/s]\u001b[A\n",
      " 79%|███████▉  | 392/496 [01:46<00:28,  3.69it/s]\u001b[A\n",
      " 79%|███████▉  | 393/496 [01:46<00:27,  3.69it/s]\u001b[A\n",
      " 79%|███████▉  | 394/496 [01:46<00:27,  3.69it/s]\u001b[A\n",
      " 80%|███████▉  | 395/496 [01:47<00:27,  3.69it/s]\u001b[A\n",
      " 80%|███████▉  | 396/496 [01:47<00:27,  3.69it/s]\u001b[A\n",
      " 80%|████████  | 397/496 [01:47<00:26,  3.68it/s]\u001b[A\n",
      " 80%|████████  | 398/496 [01:48<00:26,  3.68it/s]\u001b[A\n",
      " 80%|████████  | 399/496 [01:48<00:26,  3.68it/s]\u001b[A\n",
      " 81%|████████  | 400/496 [01:48<00:26,  3.68it/s]\u001b[A\n",
      " 81%|████████  | 401/496 [01:48<00:25,  3.68it/s]\u001b[A\n",
      " 81%|████████  | 402/496 [01:49<00:25,  3.68it/s]\u001b[A\n",
      " 81%|████████▏ | 403/496 [01:49<00:25,  3.68it/s]\u001b[A\n",
      " 81%|████████▏ | 404/496 [01:49<00:25,  3.68it/s]\u001b[A\n",
      " 82%|████████▏ | 405/496 [01:50<00:24,  3.67it/s]\u001b[A\n",
      " 82%|████████▏ | 406/496 [01:50<00:24,  3.67it/s]\u001b[A\n",
      " 82%|████████▏ | 407/496 [01:50<00:24,  3.67it/s]\u001b[A\n",
      " 82%|████████▏ | 408/496 [01:51<00:23,  3.67it/s]\u001b[A\n",
      " 82%|████████▏ | 409/496 [01:51<00:23,  3.67it/s]\u001b[A\n",
      " 83%|████████▎ | 410/496 [01:51<00:23,  3.67it/s]\u001b[A\n",
      " 83%|████████▎ | 411/496 [01:52<00:23,  3.67it/s]\u001b[A\n",
      " 83%|████████▎ | 412/496 [01:52<00:22,  3.67it/s]\u001b[A\n",
      " 83%|████████▎ | 413/496 [01:52<00:22,  3.66it/s]\u001b[A\n",
      " 83%|████████▎ | 414/496 [01:53<00:22,  3.66it/s]\u001b[A\n",
      " 84%|████████▎ | 415/496 [01:53<00:22,  3.66it/s]\u001b[A\n",
      " 84%|████████▍ | 416/496 [01:53<00:21,  3.66it/s]\u001b[A\n",
      " 84%|████████▍ | 417/496 [01:53<00:21,  3.66it/s]\u001b[A\n",
      " 84%|████████▍ | 418/496 [01:54<00:21,  3.66it/s]\u001b[A\n",
      " 84%|████████▍ | 419/496 [01:54<00:21,  3.66it/s]\u001b[A\n",
      " 85%|████████▍ | 420/496 [01:54<00:20,  3.66it/s]\u001b[A\n",
      " 85%|████████▍ | 421/496 [01:55<00:20,  3.66it/s]\u001b[A\n",
      " 85%|████████▌ | 422/496 [01:55<00:20,  3.65it/s]\u001b[A\n",
      " 85%|████████▌ | 423/496 [01:55<00:19,  3.65it/s]\u001b[A\n",
      " 85%|████████▌ | 424/496 [01:56<00:19,  3.65it/s]\u001b[A\n",
      " 86%|████████▌ | 425/496 [01:56<00:19,  3.65it/s]\u001b[A\n",
      " 86%|████████▌ | 426/496 [01:56<00:19,  3.65it/s]\u001b[A\n",
      " 86%|████████▌ | 427/496 [01:56<00:18,  3.65it/s]\u001b[A\n",
      " 86%|████████▋ | 428/496 [01:57<00:18,  3.65it/s]\u001b[A\n",
      " 86%|████████▋ | 429/496 [01:57<00:18,  3.65it/s]\u001b[A\n",
      " 87%|████████▋ | 430/496 [01:57<00:18,  3.64it/s]\u001b[A\n",
      " 87%|████████▋ | 431/496 [01:58<00:17,  3.64it/s]\u001b[A\n",
      " 87%|████████▋ | 432/496 [01:58<00:17,  3.64it/s]\u001b[A\n",
      " 87%|████████▋ | 433/496 [01:58<00:17,  3.64it/s]\u001b[A\n",
      " 88%|████████▊ | 434/496 [01:59<00:17,  3.64it/s]\u001b[A\n",
      " 88%|████████▊ | 435/496 [01:59<00:16,  3.64it/s]\u001b[A\n",
      " 88%|████████▊ | 436/496 [01:59<00:16,  3.64it/s]\u001b[A\n",
      " 88%|████████▊ | 437/496 [02:00<00:16,  3.64it/s]\u001b[A\n",
      " 88%|████████▊ | 438/496 [02:00<00:15,  3.64it/s]\u001b[A\n",
      " 89%|████████▊ | 439/496 [02:00<00:15,  3.64it/s]\u001b[A\n",
      " 89%|████████▊ | 440/496 [02:01<00:15,  3.63it/s]\u001b[A\n",
      " 89%|████████▉ | 441/496 [02:01<00:15,  3.63it/s]\u001b[A\n",
      " 89%|████████▉ | 442/496 [02:01<00:14,  3.63it/s]\u001b[A\n",
      " 89%|████████▉ | 443/496 [02:02<00:14,  3.63it/s]\u001b[A\n",
      " 90%|████████▉ | 444/496 [02:02<00:14,  3.63it/s]\u001b[A\n",
      " 90%|████████▉ | 445/496 [02:02<00:14,  3.63it/s]\u001b[A\n",
      " 90%|████████▉ | 446/496 [02:02<00:13,  3.63it/s]\u001b[A\n",
      " 90%|█████████ | 447/496 [02:03<00:13,  3.63it/s]\u001b[A\n",
      " 90%|█████████ | 448/496 [02:03<00:13,  3.63it/s]\u001b[A\n",
      " 91%|█████████ | 449/496 [02:03<00:12,  3.63it/s]\u001b[A\n",
      " 91%|█████████ | 450/496 [02:04<00:12,  3.62it/s]\u001b[A\n",
      " 91%|█████████ | 451/496 [02:04<00:12,  3.62it/s]\u001b[A\n",
      " 91%|█████████ | 452/496 [02:04<00:12,  3.62it/s]\u001b[A\n",
      " 91%|█████████▏| 453/496 [02:05<00:11,  3.62it/s]\u001b[A\n",
      " 92%|█████████▏| 454/496 [02:05<00:11,  3.62it/s]\u001b[A\n",
      " 92%|█████████▏| 455/496 [02:05<00:11,  3.62it/s]\u001b[A\n",
      " 92%|█████████▏| 456/496 [02:06<00:11,  3.62it/s]\u001b[A\n",
      " 92%|█████████▏| 457/496 [02:06<00:10,  3.62it/s]\u001b[A\n",
      " 92%|█████████▏| 458/496 [02:06<00:10,  3.62it/s]\u001b[A\n",
      " 93%|█████████▎| 459/496 [02:06<00:10,  3.61it/s]\u001b[A\n",
      " 93%|█████████▎| 460/496 [02:07<00:09,  3.61it/s]\u001b[A\n",
      " 93%|█████████▎| 461/496 [02:07<00:09,  3.61it/s]\u001b[A\n",
      " 93%|█████████▎| 462/496 [02:07<00:09,  3.61it/s]\u001b[A\n",
      " 93%|█████████▎| 463/496 [02:08<00:09,  3.61it/s]\u001b[A\n",
      " 94%|█████████▎| 464/496 [02:08<00:08,  3.61it/s]\u001b[A\n"
     ]
    },
    {
     "name": "stderr",
     "output_type": "stream",
     "text": [
      " 94%|█████████▍| 465/496 [02:08<00:08,  3.61it/s]\u001b[A\n",
      " 94%|█████████▍| 466/496 [02:09<00:08,  3.61it/s]\u001b[A\n",
      " 94%|█████████▍| 467/496 [02:09<00:08,  3.61it/s]\u001b[A\n",
      " 94%|█████████▍| 468/496 [02:09<00:07,  3.61it/s]\u001b[A\n",
      " 95%|█████████▍| 469/496 [02:10<00:07,  3.60it/s]\u001b[A\n",
      " 95%|█████████▍| 470/496 [02:10<00:07,  3.60it/s]\u001b[A\n",
      " 95%|█████████▍| 471/496 [02:10<00:06,  3.60it/s]\u001b[A\n",
      " 95%|█████████▌| 472/496 [02:11<00:06,  3.60it/s]\u001b[A\n",
      " 95%|█████████▌| 473/496 [02:11<00:06,  3.60it/s]\u001b[A\n",
      " 96%|█████████▌| 474/496 [02:11<00:06,  3.60it/s]\u001b[A\n",
      " 96%|█████████▌| 475/496 [02:12<00:05,  3.60it/s]\u001b[A\n",
      " 96%|█████████▌| 476/496 [02:12<00:05,  3.60it/s]\u001b[A\n",
      " 96%|█████████▌| 477/496 [02:12<00:05,  3.60it/s]\u001b[A\n",
      " 96%|█████████▋| 478/496 [02:12<00:05,  3.60it/s]\u001b[A\n",
      " 97%|█████████▋| 479/496 [02:13<00:04,  3.60it/s]\u001b[A\n",
      " 97%|█████████▋| 480/496 [02:13<00:04,  3.59it/s]\u001b[A\n",
      " 97%|█████████▋| 481/496 [02:13<00:04,  3.59it/s]\u001b[A\n",
      " 97%|█████████▋| 482/496 [02:14<00:03,  3.59it/s]\u001b[A\n",
      " 97%|█████████▋| 483/496 [02:14<00:03,  3.59it/s]\u001b[A\n",
      " 98%|█████████▊| 484/496 [02:14<00:03,  3.59it/s]\u001b[A\n",
      " 98%|█████████▊| 485/496 [02:15<00:03,  3.59it/s]\u001b[A\n",
      " 98%|█████████▊| 486/496 [02:15<00:02,  3.59it/s]\u001b[A\n",
      " 98%|█████████▊| 487/496 [02:15<00:02,  3.59it/s]\u001b[A\n",
      " 98%|█████████▊| 488/496 [02:16<00:02,  3.59it/s]\u001b[A\n",
      " 99%|█████████▊| 489/496 [02:16<00:01,  3.59it/s]\u001b[A\n",
      " 99%|█████████▉| 490/496 [02:16<00:01,  3.59it/s]\u001b[A\n",
      " 99%|█████████▉| 491/496 [02:16<00:01,  3.58it/s]\u001b[A\n",
      " 99%|█████████▉| 492/496 [02:17<00:01,  3.58it/s]\u001b[A\n",
      " 99%|█████████▉| 493/496 [02:17<00:00,  3.58it/s]\u001b[A\n",
      "100%|█████████▉| 494/496 [02:17<00:00,  3.58it/s]\u001b[A\n",
      "100%|█████████▉| 495/496 [02:18<00:00,  3.58it/s]\u001b[A\n",
      "100%|██████████| 496/496 [02:18<00:00,  3.58it/s]\u001b[A\n",
      "\u001b[A"
     ]
    },
    {
     "name": "stdout",
     "output_type": "stream",
     "text": [
      "음식점 리스트 페이지로 돌아가는중...\n"
     ]
    },
    {
     "name": "stderr",
     "output_type": "stream",
     "text": [
      "\r",
      "  1%|▏         | 1/77 [03:20<4:13:34, 200.19s/it]"
     ]
    },
    {
     "name": "stdout",
     "output_type": "stream",
     "text": [
      "카테고리(음식점 리스트) 페이지 (0,200) 위치로 내리는중...\n",
      "2번째 음식점 페이지로 넘어가는중...\n",
      "2번째 음식점 리뷰 페이지로 넘어가는중...\n"
     ]
    },
    {
     "name": "stderr",
     "output_type": "stream",
     "text": [
      "\n",
      "  0%|          | 0/34 [00:00<?, ?it/s]\u001b[A"
     ]
    },
    {
     "name": "stdout",
     "output_type": "stream",
     "text": [
      "모든 리뷰 불러오는중...\n",
      "리뷰 스크롤 내리는중...\n"
     ]
    },
    {
     "name": "stderr",
     "output_type": "stream",
     "text": [
      "\n",
      "  3%|▎         | 1/34 [00:01<00:35,  1.06s/it]\u001b[A"
     ]
    },
    {
     "name": "stdout",
     "output_type": "stream",
     "text": [
      "리뷰 스크롤 내리는중...\n"
     ]
    },
    {
     "name": "stderr",
     "output_type": "stream",
     "text": [
      "\n",
      "  6%|▌         | 2/34 [00:02<00:33,  1.06s/it]\u001b[A"
     ]
    },
    {
     "name": "stdout",
     "output_type": "stream",
     "text": [
      "리뷰 스크롤 내리는중...\n"
     ]
    },
    {
     "name": "stderr",
     "output_type": "stream",
     "text": [
      "\n",
      "  9%|▉         | 3/34 [00:03<00:32,  1.06s/it]\u001b[A"
     ]
    },
    {
     "name": "stdout",
     "output_type": "stream",
     "text": [
      "리뷰 스크롤 내리는중...\n"
     ]
    },
    {
     "name": "stderr",
     "output_type": "stream",
     "text": [
      "\n",
      " 12%|█▏        | 4/34 [00:04<00:31,  1.06s/it]\u001b[A"
     ]
    },
    {
     "name": "stdout",
     "output_type": "stream",
     "text": [
      "리뷰 스크롤 내리는중...\n"
     ]
    },
    {
     "name": "stderr",
     "output_type": "stream",
     "text": [
      "\n",
      " 15%|█▍        | 5/34 [00:05<00:30,  1.05s/it]\u001b[A"
     ]
    },
    {
     "name": "stdout",
     "output_type": "stream",
     "text": [
      "리뷰 스크롤 내리는중...\n"
     ]
    },
    {
     "name": "stderr",
     "output_type": "stream",
     "text": [
      "\n",
      " 18%|█▊        | 6/34 [00:06<00:29,  1.06s/it]\u001b[A"
     ]
    },
    {
     "name": "stdout",
     "output_type": "stream",
     "text": [
      "리뷰 스크롤 내리는중...\n"
     ]
    },
    {
     "name": "stderr",
     "output_type": "stream",
     "text": [
      "\n",
      " 21%|██        | 7/34 [00:07<00:28,  1.06s/it]\u001b[A"
     ]
    },
    {
     "name": "stdout",
     "output_type": "stream",
     "text": [
      "리뷰 스크롤 내리는중...\n"
     ]
    },
    {
     "name": "stderr",
     "output_type": "stream",
     "text": [
      "\n",
      " 24%|██▎       | 8/34 [00:08<00:27,  1.05s/it]\u001b[A"
     ]
    },
    {
     "name": "stdout",
     "output_type": "stream",
     "text": [
      "리뷰 스크롤 내리는중...\n"
     ]
    },
    {
     "name": "stderr",
     "output_type": "stream",
     "text": [
      "\n",
      " 26%|██▋       | 9/34 [00:09<00:26,  1.05s/it]\u001b[A"
     ]
    },
    {
     "name": "stdout",
     "output_type": "stream",
     "text": [
      "리뷰 스크롤 내리는중...\n"
     ]
    },
    {
     "name": "stderr",
     "output_type": "stream",
     "text": [
      "\n",
      " 29%|██▉       | 10/34 [00:10<00:25,  1.05s/it]\u001b[A"
     ]
    },
    {
     "name": "stdout",
     "output_type": "stream",
     "text": [
      "리뷰 스크롤 내리는중...\n"
     ]
    },
    {
     "name": "stderr",
     "output_type": "stream",
     "text": [
      "\n",
      " 32%|███▏      | 11/34 [00:11<00:24,  1.06s/it]\u001b[A"
     ]
    },
    {
     "name": "stdout",
     "output_type": "stream",
     "text": [
      "리뷰 스크롤 내리는중...\n"
     ]
    },
    {
     "name": "stderr",
     "output_type": "stream",
     "text": [
      "\n",
      " 35%|███▌      | 12/34 [00:12<00:23,  1.06s/it]\u001b[A"
     ]
    },
    {
     "name": "stdout",
     "output_type": "stream",
     "text": [
      "리뷰 스크롤 내리는중...\n"
     ]
    },
    {
     "name": "stderr",
     "output_type": "stream",
     "text": [
      "\n",
      " 38%|███▊      | 13/34 [00:13<00:22,  1.06s/it]\u001b[A"
     ]
    },
    {
     "name": "stdout",
     "output_type": "stream",
     "text": [
      "리뷰 스크롤 내리는중...\n"
     ]
    },
    {
     "name": "stderr",
     "output_type": "stream",
     "text": [
      "\n",
      " 41%|████      | 14/34 [00:14<00:21,  1.06s/it]\u001b[A"
     ]
    },
    {
     "name": "stdout",
     "output_type": "stream",
     "text": [
      "리뷰 스크롤 내리는중...\n"
     ]
    },
    {
     "name": "stderr",
     "output_type": "stream",
     "text": [
      "\n",
      " 44%|████▍     | 15/34 [00:15<00:20,  1.06s/it]\u001b[A"
     ]
    },
    {
     "name": "stdout",
     "output_type": "stream",
     "text": [
      "리뷰 스크롤 내리는중...\n"
     ]
    },
    {
     "name": "stderr",
     "output_type": "stream",
     "text": [
      "\n",
      " 47%|████▋     | 16/34 [00:16<00:19,  1.06s/it]\u001b[A"
     ]
    },
    {
     "name": "stdout",
     "output_type": "stream",
     "text": [
      "리뷰 스크롤 내리는중...\n"
     ]
    },
    {
     "name": "stderr",
     "output_type": "stream",
     "text": [
      "\n",
      " 50%|█████     | 17/34 [00:17<00:17,  1.06s/it]\u001b[A"
     ]
    },
    {
     "name": "stdout",
     "output_type": "stream",
     "text": [
      "리뷰 스크롤 내리는중...\n"
     ]
    },
    {
     "name": "stderr",
     "output_type": "stream",
     "text": [
      "\n",
      " 53%|█████▎    | 18/34 [00:19<00:16,  1.06s/it]\u001b[A"
     ]
    },
    {
     "name": "stdout",
     "output_type": "stream",
     "text": [
      "리뷰 스크롤 내리는중...\n"
     ]
    },
    {
     "name": "stderr",
     "output_type": "stream",
     "text": [
      "\n",
      " 56%|█████▌    | 19/34 [00:20<00:15,  1.06s/it]\u001b[A"
     ]
    },
    {
     "name": "stdout",
     "output_type": "stream",
     "text": [
      "리뷰 스크롤 내리는중...\n"
     ]
    },
    {
     "name": "stderr",
     "output_type": "stream",
     "text": [
      "\n",
      " 59%|█████▉    | 20/34 [00:21<00:14,  1.06s/it]\u001b[A"
     ]
    },
    {
     "name": "stdout",
     "output_type": "stream",
     "text": [
      "리뷰 스크롤 내리는중...\n"
     ]
    },
    {
     "name": "stderr",
     "output_type": "stream",
     "text": [
      "\n",
      " 62%|██████▏   | 21/34 [00:22<00:13,  1.06s/it]\u001b[A"
     ]
    },
    {
     "name": "stdout",
     "output_type": "stream",
     "text": [
      "리뷰 스크롤 내리는중...\n"
     ]
    },
    {
     "name": "stderr",
     "output_type": "stream",
     "text": [
      "\n",
      " 65%|██████▍   | 22/34 [00:23<00:12,  1.06s/it]\u001b[A"
     ]
    },
    {
     "name": "stdout",
     "output_type": "stream",
     "text": [
      "리뷰 스크롤 내리는중...\n"
     ]
    },
    {
     "name": "stderr",
     "output_type": "stream",
     "text": [
      "\n",
      " 68%|██████▊   | 23/34 [00:24<00:11,  1.06s/it]\u001b[A"
     ]
    },
    {
     "name": "stdout",
     "output_type": "stream",
     "text": [
      "리뷰 스크롤 내리는중...\n"
     ]
    },
    {
     "name": "stderr",
     "output_type": "stream",
     "text": [
      "\n",
      " 71%|███████   | 24/34 [00:25<00:10,  1.06s/it]\u001b[A"
     ]
    },
    {
     "name": "stdout",
     "output_type": "stream",
     "text": [
      "리뷰 스크롤 내리는중...\n"
     ]
    },
    {
     "name": "stderr",
     "output_type": "stream",
     "text": [
      "\n",
      " 74%|███████▎  | 25/34 [00:26<00:09,  1.06s/it]\u001b[A"
     ]
    },
    {
     "name": "stdout",
     "output_type": "stream",
     "text": [
      "리뷰 스크롤 내리는중...\n"
     ]
    },
    {
     "name": "stderr",
     "output_type": "stream",
     "text": [
      "\n",
      " 76%|███████▋  | 26/34 [00:27<00:08,  1.06s/it]\u001b[A"
     ]
    },
    {
     "name": "stdout",
     "output_type": "stream",
     "text": [
      "리뷰 스크롤 내리는중...\n"
     ]
    },
    {
     "name": "stderr",
     "output_type": "stream",
     "text": [
      "\n",
      " 79%|███████▉  | 27/34 [00:28<00:07,  1.06s/it]\u001b[A"
     ]
    },
    {
     "name": "stdout",
     "output_type": "stream",
     "text": [
      "리뷰 스크롤 내리는중...\n"
     ]
    },
    {
     "name": "stderr",
     "output_type": "stream",
     "text": [
      "\n",
      " 82%|████████▏ | 28/34 [00:29<00:06,  1.06s/it]\u001b[A"
     ]
    },
    {
     "name": "stdout",
     "output_type": "stream",
     "text": [
      "리뷰 스크롤 내리는중...\n"
     ]
    },
    {
     "name": "stderr",
     "output_type": "stream",
     "text": [
      "\n",
      " 85%|████████▌ | 29/34 [00:30<00:05,  1.06s/it]\u001b[A"
     ]
    },
    {
     "name": "stdout",
     "output_type": "stream",
     "text": [
      "리뷰 스크롤 내리는중...\n"
     ]
    },
    {
     "name": "stderr",
     "output_type": "stream",
     "text": [
      "\n",
      " 88%|████████▊ | 30/34 [00:31<00:04,  1.06s/it]\u001b[A"
     ]
    },
    {
     "name": "stdout",
     "output_type": "stream",
     "text": [
      "리뷰 스크롤 내리는중...\n"
     ]
    },
    {
     "name": "stderr",
     "output_type": "stream",
     "text": [
      "\n",
      " 91%|█████████ | 31/34 [00:32<00:03,  1.06s/it]\u001b[A"
     ]
    },
    {
     "name": "stdout",
     "output_type": "stream",
     "text": [
      "리뷰 스크롤 내리는중...\n"
     ]
    },
    {
     "name": "stderr",
     "output_type": "stream",
     "text": [
      "\n",
      " 94%|█████████▍| 32/34 [00:33<00:02,  1.06s/it]\u001b[A"
     ]
    },
    {
     "name": "stdout",
     "output_type": "stream",
     "text": [
      "리뷰 스크롤 내리는중...\n"
     ]
    },
    {
     "name": "stderr",
     "output_type": "stream",
     "text": [
      "\n",
      " 97%|█████████▋| 33/34 [00:35<00:01,  1.06s/it]\u001b[A"
     ]
    },
    {
     "name": "stdout",
     "output_type": "stream",
     "text": [
      "리뷰 스크롤 내리는중...\n"
     ]
    },
    {
     "name": "stderr",
     "output_type": "stream",
     "text": [
      "\n",
      "100%|██████████| 34/34 [00:36<00:00,  1.06s/it]\u001b[A\n",
      "\u001b[A\n",
      "  0%|          | 0/340 [00:00<?, ?it/s]\u001b[A"
     ]
    },
    {
     "name": "stdout",
     "output_type": "stream",
     "text": [
      "모든 리뷰 불러오기 성공!\n"
     ]
    },
    {
     "name": "stderr",
     "output_type": "stream",
     "text": [
      "\n",
      "  0%|          | 1/340 [00:00<01:34,  3.61it/s]\u001b[A\n",
      "  1%|          | 2/340 [00:00<01:23,  4.03it/s]\u001b[A\n",
      "  1%|          | 3/340 [00:00<01:18,  4.32it/s]\u001b[A\n",
      "  1%|          | 4/340 [00:00<01:20,  4.18it/s]\u001b[A\n",
      "  1%|▏         | 5/340 [00:01<01:19,  4.24it/s]\u001b[A\n",
      "  2%|▏         | 6/340 [00:01<01:18,  4.25it/s]\u001b[A\n",
      "  2%|▏         | 7/340 [00:01<01:18,  4.24it/s]\u001b[A\n",
      "  2%|▏         | 8/340 [00:01<01:20,  4.13it/s]\u001b[A\n",
      "  3%|▎         | 9/340 [00:02<01:19,  4.16it/s]\u001b[A\n",
      "  3%|▎         | 10/340 [00:02<01:17,  4.23it/s]\u001b[A\n",
      "  3%|▎         | 11/340 [00:02<01:19,  4.15it/s]\u001b[A\n",
      "  4%|▎         | 12/340 [00:02<01:18,  4.18it/s]\u001b[A\n",
      "  4%|▍         | 13/340 [00:03<01:17,  4.20it/s]\u001b[A\n",
      "  4%|▍         | 14/340 [00:03<01:17,  4.22it/s]\u001b[A\n",
      "  4%|▍         | 15/340 [00:03<01:16,  4.26it/s]\u001b[A\n",
      "  5%|▍         | 16/340 [00:03<01:15,  4.26it/s]\u001b[A\n",
      "  5%|▌         | 17/340 [00:03<01:15,  4.27it/s]\u001b[A\n",
      "  5%|▌         | 18/340 [00:04<01:15,  4.28it/s]\u001b[A\n",
      "  6%|▌         | 19/340 [00:04<01:14,  4.28it/s]\u001b[A\n",
      "  6%|▌         | 20/340 [00:04<01:14,  4.28it/s]\u001b[A\n",
      "  6%|▌         | 21/340 [00:04<01:14,  4.26it/s]\u001b[A\n",
      "  6%|▋         | 22/340 [00:05<01:14,  4.26it/s]\u001b[A\n",
      "  7%|▋         | 23/340 [00:05<01:14,  4.26it/s]\u001b[A\n",
      "  7%|▋         | 24/340 [00:05<01:14,  4.26it/s]\u001b[A\n",
      "  7%|▋         | 25/340 [00:05<01:13,  4.27it/s]\u001b[A\n",
      "  8%|▊         | 26/340 [00:06<01:13,  4.27it/s]\u001b[A\n",
      "  8%|▊         | 27/340 [00:06<01:13,  4.27it/s]\u001b[A\n",
      "  8%|▊         | 28/340 [00:06<01:12,  4.28it/s]\u001b[A\n",
      "  9%|▊         | 29/340 [00:06<01:12,  4.27it/s]\u001b[A\n",
      "  9%|▉         | 30/340 [00:07<01:12,  4.28it/s]\u001b[A\n",
      "  9%|▉         | 31/340 [00:07<01:12,  4.27it/s]\u001b[A\n",
      "  9%|▉         | 32/340 [00:07<01:12,  4.27it/s]\u001b[A\n",
      " 10%|▉         | 33/340 [00:07<01:11,  4.27it/s]\u001b[A\n",
      " 10%|█         | 34/340 [00:07<01:11,  4.27it/s]\u001b[A\n",
      " 10%|█         | 35/340 [00:08<01:11,  4.27it/s]\u001b[A\n",
      " 11%|█         | 36/340 [00:08<01:11,  4.27it/s]\u001b[A\n",
      " 11%|█         | 37/340 [00:08<01:11,  4.27it/s]\u001b[A\n",
      " 11%|█         | 38/340 [00:08<01:10,  4.26it/s]\u001b[A\n",
      " 11%|█▏        | 39/340 [00:09<01:10,  4.26it/s]\u001b[A\n",
      " 12%|█▏        | 40/340 [00:09<01:10,  4.26it/s]\u001b[A\n",
      " 12%|█▏        | 41/340 [00:09<01:10,  4.25it/s]\u001b[A\n",
      " 12%|█▏        | 42/340 [00:09<01:10,  4.24it/s]\u001b[A\n",
      " 13%|█▎        | 43/340 [00:10<01:10,  4.24it/s]\u001b[A\n",
      " 13%|█▎        | 44/340 [00:10<01:10,  4.20it/s]\u001b[A\n",
      " 13%|█▎        | 45/340 [00:10<01:10,  4.21it/s]\u001b[A\n",
      " 14%|█▎        | 46/340 [00:10<01:09,  4.21it/s]\u001b[A\n",
      " 14%|█▍        | 47/340 [00:11<01:09,  4.21it/s]\u001b[A\n",
      " 14%|█▍        | 48/340 [00:11<01:09,  4.21it/s]\u001b[A\n",
      " 14%|█▍        | 49/340 [00:11<01:09,  4.21it/s]\u001b[A\n",
      " 15%|█▍        | 50/340 [00:11<01:08,  4.21it/s]\u001b[A\n",
      " 15%|█▌        | 51/340 [00:12<01:08,  4.21it/s]\u001b[A\n",
      " 15%|█▌        | 52/340 [00:12<01:08,  4.20it/s]\u001b[A\n",
      " 16%|█▌        | 53/340 [00:12<01:08,  4.20it/s]\u001b[A\n",
      " 16%|█▌        | 54/340 [00:12<01:08,  4.20it/s]\u001b[A\n",
      " 16%|█▌        | 55/340 [00:13<01:07,  4.20it/s]\u001b[A\n",
      " 16%|█▋        | 56/340 [00:13<01:07,  4.20it/s]\u001b[A\n",
      " 17%|█▋        | 57/340 [00:13<01:07,  4.20it/s]\u001b[A\n",
      " 17%|█▋        | 58/340 [00:13<01:07,  4.19it/s]\u001b[A\n",
      " 17%|█▋        | 59/340 [00:14<01:07,  4.19it/s]\u001b[A\n",
      " 18%|█▊        | 60/340 [00:14<01:06,  4.18it/s]\u001b[A\n",
      " 18%|█▊        | 61/340 [00:14<01:06,  4.18it/s]\u001b[A\n",
      " 18%|█▊        | 62/340 [00:14<01:06,  4.17it/s]\u001b[A\n",
      " 19%|█▊        | 63/340 [00:15<01:06,  4.14it/s]\u001b[A\n",
      " 19%|█▉        | 64/340 [00:15<01:06,  4.14it/s]\u001b[A\n",
      " 19%|█▉        | 65/340 [00:15<01:06,  4.14it/s]\u001b[A\n",
      " 19%|█▉        | 66/340 [00:15<01:06,  4.14it/s]\u001b[A\n",
      " 20%|█▉        | 67/340 [00:16<01:05,  4.14it/s]\u001b[A\n",
      " 20%|██        | 68/340 [00:16<01:05,  4.14it/s]\u001b[A\n",
      " 20%|██        | 69/340 [00:16<01:05,  4.14it/s]\u001b[A\n",
      " 21%|██        | 70/340 [00:16<01:05,  4.13it/s]\u001b[A\n",
      " 21%|██        | 71/340 [00:17<01:05,  4.13it/s]\u001b[A\n",
      " 21%|██        | 72/340 [00:17<01:04,  4.12it/s]\u001b[A\n",
      " 21%|██▏       | 73/340 [00:17<01:04,  4.12it/s]\u001b[A\n",
      " 22%|██▏       | 74/340 [00:17<01:04,  4.12it/s]\u001b[A\n",
      " 22%|██▏       | 75/340 [00:18<01:04,  4.11it/s]\u001b[A\n",
      " 22%|██▏       | 76/340 [00:18<01:04,  4.11it/s]\u001b[A\n",
      " 23%|██▎       | 77/340 [00:18<01:04,  4.11it/s]\u001b[A\n",
      " 23%|██▎       | 78/340 [00:19<01:03,  4.10it/s]\u001b[A\n",
      " 23%|██▎       | 79/340 [00:19<01:03,  4.10it/s]\u001b[A\n",
      " 24%|██▎       | 80/340 [00:19<01:03,  4.09it/s]\u001b[A\n",
      " 24%|██▍       | 81/340 [00:19<01:03,  4.09it/s]\u001b[A\n",
      " 24%|██▍       | 82/340 [00:20<01:03,  4.09it/s]\u001b[A\n",
      " 24%|██▍       | 83/340 [00:20<01:02,  4.09it/s]\u001b[A\n",
      " 25%|██▍       | 84/340 [00:20<01:03,  4.06it/s]\u001b[A\n",
      " 25%|██▌       | 85/340 [00:20<01:02,  4.05it/s]\u001b[A\n",
      " 25%|██▌       | 86/340 [00:21<01:02,  4.05it/s]\u001b[A\n",
      " 26%|██▌       | 87/340 [00:21<01:02,  4.06it/s]\u001b[A\n",
      " 26%|██▌       | 88/340 [00:21<01:02,  4.06it/s]\u001b[A\n",
      " 26%|██▌       | 89/340 [00:21<01:01,  4.06it/s]\u001b[A\n",
      " 26%|██▋       | 90/340 [00:22<01:01,  4.06it/s]\u001b[A\n",
      " 27%|██▋       | 91/340 [00:22<01:01,  4.05it/s]\u001b[A\n",
      " 27%|██▋       | 92/340 [00:22<01:01,  4.05it/s]\u001b[A\n",
      " 27%|██▋       | 93/340 [00:22<01:00,  4.05it/s]\u001b[A\n",
      " 28%|██▊       | 94/340 [00:23<01:00,  4.05it/s]\u001b[A\n",
      " 28%|██▊       | 95/340 [00:23<01:00,  4.05it/s]\u001b[A\n",
      " 28%|██▊       | 96/340 [00:23<01:00,  4.05it/s]\u001b[A\n",
      " 29%|██▊       | 97/340 [00:23<01:00,  4.05it/s]\u001b[A\n",
      " 29%|██▉       | 98/340 [00:24<00:59,  4.04it/s]\u001b[A\n",
      " 29%|██▉       | 99/340 [00:24<00:59,  4.04it/s]\u001b[A\n",
      " 29%|██▉       | 100/340 [00:24<00:59,  4.02it/s]\u001b[A\n",
      " 30%|██▉       | 101/340 [00:25<00:59,  4.02it/s]\u001b[A\n",
      " 30%|███       | 102/340 [00:25<00:59,  4.02it/s]\u001b[A\n",
      " 30%|███       | 103/340 [00:25<00:58,  4.02it/s]\u001b[A\n",
      " 31%|███       | 104/340 [00:25<00:58,  4.02it/s]\u001b[A\n",
      " 31%|███       | 105/340 [00:26<00:58,  4.02it/s]\u001b[A\n",
      " 31%|███       | 106/340 [00:26<00:58,  4.02it/s]\u001b[A\n",
      " 31%|███▏      | 107/340 [00:26<00:58,  4.01it/s]\u001b[A\n",
      " 32%|███▏      | 108/340 [00:26<00:57,  4.01it/s]\u001b[A\n",
      " 32%|███▏      | 109/340 [00:27<00:57,  4.00it/s]\u001b[A\n",
      " 32%|███▏      | 110/340 [00:27<00:57,  4.00it/s]\u001b[A\n",
      " 33%|███▎      | 111/340 [00:27<00:57,  4.00it/s]\u001b[A\n",
      " 33%|███▎      | 112/340 [00:27<00:56,  4.00it/s]\u001b[A\n",
      " 33%|███▎      | 113/340 [00:28<00:56,  4.00it/s]\u001b[A\n",
      " 34%|███▎      | 114/340 [00:28<00:56,  4.00it/s]\u001b[A\n",
      " 34%|███▍      | 115/340 [00:28<00:56,  4.00it/s]\u001b[A\n",
      " 34%|███▍      | 116/340 [00:28<00:55,  4.00it/s]\u001b[A\n",
      " 34%|███▍      | 117/340 [00:29<00:55,  4.00it/s]\u001b[A\n",
      " 35%|███▍      | 118/340 [00:29<00:55,  3.99it/s]\u001b[A\n",
      " 35%|███▌      | 119/340 [00:29<00:55,  3.99it/s]\u001b[A\n",
      " 35%|███▌      | 120/340 [00:30<00:55,  3.99it/s]\u001b[A\n",
      " 36%|███▌      | 121/340 [00:30<00:54,  3.99it/s]\u001b[A\n",
      " 36%|███▌      | 122/340 [00:30<00:54,  3.99it/s]\u001b[A\n",
      " 36%|███▌      | 123/340 [00:30<00:54,  3.99it/s]\u001b[A\n",
      " 36%|███▋      | 124/340 [00:31<00:54,  3.99it/s]\u001b[A\n",
      " 37%|███▋      | 125/340 [00:31<00:53,  3.99it/s]\u001b[A\n",
      " 37%|███▋      | 126/340 [00:31<00:53,  3.99it/s]\u001b[A\n",
      " 37%|███▋      | 127/340 [00:31<00:53,  3.98it/s]\u001b[A\n",
      " 38%|███▊      | 128/340 [00:32<00:53,  3.98it/s]\u001b[A\n",
      " 38%|███▊      | 129/340 [00:32<00:53,  3.98it/s]\u001b[A\n",
      " 38%|███▊      | 130/340 [00:32<00:52,  3.98it/s]\u001b[A\n",
      " 39%|███▊      | 131/340 [00:32<00:52,  3.98it/s]\u001b[A\n",
      " 39%|███▉      | 132/340 [00:33<00:52,  3.98it/s]\u001b[A\n",
      " 39%|███▉      | 133/340 [00:33<00:51,  3.98it/s]\u001b[A\n",
      " 39%|███▉      | 134/340 [00:33<00:51,  3.98it/s]\u001b[A\n",
      " 40%|███▉      | 135/340 [00:33<00:51,  3.98it/s]\u001b[A\n",
      " 40%|████      | 136/340 [00:34<00:51,  3.98it/s]\u001b[A\n",
      " 40%|████      | 137/340 [00:34<00:50,  3.98it/s]\u001b[A\n",
      " 41%|████      | 138/340 [00:34<00:50,  3.98it/s]\u001b[A\n",
      " 41%|████      | 139/340 [00:34<00:50,  3.98it/s]\u001b[A\n",
      " 41%|████      | 140/340 [00:35<00:50,  3.98it/s]\u001b[A\n",
      " 41%|████▏     | 141/340 [00:35<00:49,  3.98it/s]\u001b[A\n",
      " 42%|████▏     | 142/340 [00:35<00:49,  3.98it/s]\u001b[A\n",
      " 42%|████▏     | 143/340 [00:35<00:49,  3.98it/s]\u001b[A\n",
      " 42%|████▏     | 144/340 [00:36<00:49,  3.98it/s]\u001b[A\n",
      " 43%|████▎     | 145/340 [00:36<00:49,  3.98it/s]\u001b[A\n",
      " 43%|████▎     | 146/340 [00:36<00:48,  3.97it/s]\u001b[A\n",
      " 43%|████▎     | 147/340 [00:37<00:48,  3.96it/s]\u001b[A\n",
      " 44%|████▎     | 148/340 [00:37<00:48,  3.96it/s]\u001b[A\n",
      " 44%|████▍     | 149/340 [00:37<00:48,  3.95it/s]\u001b[A\n",
      " 44%|████▍     | 150/340 [00:37<00:48,  3.95it/s]\u001b[A\n",
      " 44%|████▍     | 151/340 [00:38<00:47,  3.94it/s]\u001b[A\n",
      " 45%|████▍     | 152/340 [00:38<00:47,  3.94it/s]\u001b[A\n",
      " 45%|████▌     | 153/340 [00:38<00:47,  3.94it/s]\u001b[A\n",
      " 45%|████▌     | 154/340 [00:39<00:47,  3.94it/s]\u001b[A\n",
      " 46%|████▌     | 155/340 [00:39<00:47,  3.93it/s]\u001b[A\n",
      " 46%|████▌     | 156/340 [00:39<00:46,  3.93it/s]\u001b[A\n"
     ]
    },
    {
     "name": "stderr",
     "output_type": "stream",
     "text": [
      " 46%|████▌     | 157/340 [00:39<00:46,  3.93it/s]\u001b[A\n",
      " 46%|████▋     | 158/340 [00:40<00:46,  3.92it/s]\u001b[A\n",
      " 47%|████▋     | 159/340 [00:40<00:46,  3.92it/s]\u001b[A\n",
      " 47%|████▋     | 160/340 [00:40<00:45,  3.92it/s]\u001b[A\n",
      " 47%|████▋     | 161/340 [00:41<00:45,  3.92it/s]\u001b[A\n",
      " 48%|████▊     | 162/340 [00:41<00:45,  3.91it/s]\u001b[A\n",
      " 48%|████▊     | 163/340 [00:41<00:45,  3.92it/s]\u001b[A\n",
      " 48%|████▊     | 164/340 [00:41<00:45,  3.91it/s]\u001b[A\n",
      " 49%|████▊     | 165/340 [00:42<00:44,  3.91it/s]\u001b[A\n",
      " 49%|████▉     | 166/340 [00:42<00:44,  3.91it/s]\u001b[A\n",
      " 49%|████▉     | 167/340 [00:42<00:44,  3.90it/s]\u001b[A\n",
      " 49%|████▉     | 168/340 [00:43<00:44,  3.90it/s]\u001b[A\n",
      " 50%|████▉     | 169/340 [00:43<00:43,  3.90it/s]\u001b[A\n",
      " 50%|█████     | 170/340 [00:43<00:43,  3.89it/s]\u001b[A\n",
      " 50%|█████     | 171/340 [00:43<00:43,  3.90it/s]\u001b[A\n",
      " 51%|█████     | 172/340 [00:44<00:43,  3.89it/s]\u001b[A\n",
      " 51%|█████     | 173/340 [00:44<00:42,  3.89it/s]\u001b[A\n",
      " 51%|█████     | 174/340 [00:44<00:42,  3.89it/s]\u001b[A\n",
      " 51%|█████▏    | 175/340 [00:45<00:42,  3.88it/s]\u001b[A\n",
      " 52%|█████▏    | 176/340 [00:45<00:42,  3.88it/s]\u001b[A\n",
      " 52%|█████▏    | 177/340 [00:45<00:42,  3.88it/s]\u001b[A\n",
      " 52%|█████▏    | 178/340 [00:45<00:41,  3.87it/s]\u001b[A\n",
      " 53%|█████▎    | 179/340 [00:46<00:41,  3.87it/s]\u001b[A\n",
      " 53%|█████▎    | 180/340 [00:46<00:41,  3.87it/s]\u001b[A\n",
      " 53%|█████▎    | 181/340 [00:46<00:41,  3.87it/s]\u001b[A\n",
      " 54%|█████▎    | 182/340 [00:47<00:40,  3.87it/s]\u001b[A\n",
      " 54%|█████▍    | 183/340 [00:47<00:40,  3.87it/s]\u001b[A\n",
      " 54%|█████▍    | 184/340 [00:47<00:40,  3.87it/s]\u001b[A\n",
      " 54%|█████▍    | 185/340 [00:47<00:40,  3.87it/s]\u001b[A\n",
      " 55%|█████▍    | 186/340 [00:48<00:39,  3.86it/s]\u001b[A\n",
      " 55%|█████▌    | 187/340 [00:48<00:39,  3.86it/s]\u001b[A\n",
      " 55%|█████▌    | 188/340 [00:48<00:39,  3.86it/s]\u001b[A\n",
      " 56%|█████▌    | 189/340 [00:48<00:39,  3.86it/s]\u001b[A\n",
      " 56%|█████▌    | 190/340 [00:49<00:38,  3.85it/s]\u001b[A\n",
      " 56%|█████▌    | 191/340 [00:49<00:38,  3.85it/s]\u001b[A\n",
      " 56%|█████▋    | 192/340 [00:49<00:38,  3.85it/s]\u001b[A\n",
      " 57%|█████▋    | 193/340 [00:50<00:38,  3.85it/s]\u001b[A\n",
      " 57%|█████▋    | 194/340 [00:50<00:37,  3.85it/s]\u001b[A\n",
      " 57%|█████▋    | 195/340 [00:50<00:37,  3.84it/s]\u001b[A\n",
      " 58%|█████▊    | 196/340 [00:51<00:37,  3.84it/s]\u001b[A\n",
      " 58%|█████▊    | 197/340 [00:51<00:37,  3.84it/s]\u001b[A\n",
      " 58%|█████▊    | 198/340 [00:51<00:36,  3.84it/s]\u001b[A\n",
      " 59%|█████▊    | 199/340 [00:51<00:36,  3.84it/s]\u001b[A\n",
      " 59%|█████▉    | 200/340 [00:52<00:36,  3.84it/s]\u001b[A\n",
      " 59%|█████▉    | 201/340 [00:52<00:36,  3.83it/s]\u001b[A\n",
      " 59%|█████▉    | 202/340 [00:52<00:36,  3.83it/s]\u001b[A\n",
      " 60%|█████▉    | 203/340 [00:52<00:35,  3.83it/s]\u001b[A\n",
      " 60%|██████    | 204/340 [00:53<00:35,  3.83it/s]\u001b[A\n",
      " 60%|██████    | 205/340 [00:53<00:35,  3.83it/s]\u001b[A\n",
      " 61%|██████    | 206/340 [00:53<00:34,  3.83it/s]\u001b[A\n",
      " 61%|██████    | 207/340 [00:54<00:34,  3.83it/s]\u001b[A\n",
      " 61%|██████    | 208/340 [00:54<00:34,  3.83it/s]\u001b[A\n",
      " 61%|██████▏   | 209/340 [00:54<00:34,  3.82it/s]\u001b[A\n",
      " 62%|██████▏   | 210/340 [00:54<00:33,  3.83it/s]\u001b[A\n",
      " 62%|██████▏   | 211/340 [00:55<00:33,  3.82it/s]\u001b[A\n",
      " 62%|██████▏   | 212/340 [00:55<00:33,  3.82it/s]\u001b[A\n",
      " 63%|██████▎   | 213/340 [00:55<00:33,  3.82it/s]\u001b[A\n",
      " 63%|██████▎   | 214/340 [00:56<00:32,  3.82it/s]\u001b[A\n",
      " 63%|██████▎   | 215/340 [00:56<00:32,  3.81it/s]\u001b[A\n",
      " 64%|██████▎   | 216/340 [00:56<00:32,  3.81it/s]\u001b[A\n",
      " 64%|██████▍   | 217/340 [00:57<00:32,  3.81it/s]\u001b[A\n",
      " 64%|██████▍   | 218/340 [00:57<00:32,  3.80it/s]\u001b[A\n",
      " 64%|██████▍   | 219/340 [00:57<00:31,  3.79it/s]\u001b[A\n",
      " 65%|██████▍   | 220/340 [00:57<00:31,  3.80it/s]\u001b[A\n",
      " 65%|██████▌   | 221/340 [00:58<00:31,  3.80it/s]\u001b[A\n",
      " 65%|██████▌   | 222/340 [00:58<00:31,  3.79it/s]\u001b[A\n",
      " 66%|██████▌   | 223/340 [00:58<00:30,  3.79it/s]\u001b[A\n",
      " 66%|██████▌   | 224/340 [00:59<00:30,  3.79it/s]\u001b[A\n",
      " 66%|██████▌   | 225/340 [00:59<00:30,  3.79it/s]\u001b[A\n",
      " 66%|██████▋   | 226/340 [00:59<00:30,  3.79it/s]\u001b[A\n",
      " 67%|██████▋   | 227/340 [00:59<00:29,  3.78it/s]\u001b[A\n",
      " 67%|██████▋   | 228/340 [01:00<00:29,  3.79it/s]\u001b[A\n",
      " 67%|██████▋   | 229/340 [01:00<00:29,  3.78it/s]\u001b[A\n",
      " 68%|██████▊   | 230/340 [01:00<00:29,  3.78it/s]\u001b[A\n",
      " 68%|██████▊   | 231/340 [01:01<00:28,  3.78it/s]\u001b[A\n",
      " 68%|██████▊   | 232/340 [01:01<00:28,  3.78it/s]\u001b[A\n",
      " 69%|██████▊   | 233/340 [01:01<00:28,  3.78it/s]\u001b[A\n",
      " 69%|██████▉   | 234/340 [01:02<00:28,  3.77it/s]\u001b[A\n",
      " 69%|██████▉   | 235/340 [01:02<00:27,  3.78it/s]\u001b[A\n",
      " 69%|██████▉   | 236/340 [01:02<00:27,  3.77it/s]\u001b[A\n",
      " 70%|██████▉   | 237/340 [01:02<00:27,  3.77it/s]\u001b[A\n",
      " 70%|███████   | 238/340 [01:03<00:27,  3.77it/s]\u001b[A\n",
      " 70%|███████   | 239/340 [01:03<00:26,  3.77it/s]\u001b[A\n",
      " 71%|███████   | 240/340 [01:03<00:26,  3.77it/s]\u001b[A\n",
      " 71%|███████   | 241/340 [01:04<00:26,  3.76it/s]\u001b[A\n",
      " 71%|███████   | 242/340 [01:04<00:26,  3.76it/s]\u001b[A\n",
      " 71%|███████▏  | 243/340 [01:04<00:25,  3.76it/s]\u001b[A\n",
      " 72%|███████▏  | 244/340 [01:04<00:25,  3.76it/s]\u001b[A\n",
      " 72%|███████▏  | 245/340 [01:05<00:25,  3.76it/s]\u001b[A\n",
      " 72%|███████▏  | 246/340 [01:05<00:25,  3.76it/s]\u001b[A\n",
      " 73%|███████▎  | 247/340 [01:05<00:24,  3.75it/s]\u001b[A\n",
      " 73%|███████▎  | 248/340 [01:06<00:24,  3.75it/s]\u001b[A\n",
      " 73%|███████▎  | 249/340 [01:06<00:24,  3.75it/s]\u001b[A\n",
      " 74%|███████▎  | 250/340 [01:06<00:24,  3.75it/s]\u001b[A\n",
      " 74%|███████▍  | 251/340 [01:07<00:23,  3.74it/s]\u001b[A\n",
      " 74%|███████▍  | 252/340 [01:07<00:23,  3.74it/s]\u001b[A\n",
      " 74%|███████▍  | 253/340 [01:07<00:23,  3.75it/s]\u001b[A\n",
      " 75%|███████▍  | 254/340 [01:07<00:22,  3.74it/s]\u001b[A\n",
      " 75%|███████▌  | 255/340 [01:08<00:22,  3.74it/s]\u001b[A\n",
      " 75%|███████▌  | 256/340 [01:08<00:22,  3.74it/s]\u001b[A\n",
      " 76%|███████▌  | 257/340 [01:08<00:22,  3.74it/s]\u001b[A\n",
      " 76%|███████▌  | 258/340 [01:08<00:21,  3.74it/s]\u001b[A\n",
      " 76%|███████▌  | 259/340 [01:09<00:21,  3.74it/s]\u001b[A\n",
      " 76%|███████▋  | 260/340 [01:09<00:21,  3.74it/s]\u001b[A\n",
      " 77%|███████▋  | 261/340 [01:09<00:21,  3.74it/s]\u001b[A\n",
      " 77%|███████▋  | 262/340 [01:10<00:20,  3.73it/s]\u001b[A\n",
      " 77%|███████▋  | 263/340 [01:10<00:20,  3.74it/s]\u001b[A\n",
      " 78%|███████▊  | 264/340 [01:10<00:20,  3.73it/s]\u001b[A\n",
      " 78%|███████▊  | 265/340 [01:10<00:20,  3.73it/s]\u001b[A\n",
      " 78%|███████▊  | 266/340 [01:11<00:19,  3.73it/s]\u001b[A\n",
      " 79%|███████▊  | 267/340 [01:11<00:19,  3.73it/s]\u001b[A\n",
      " 79%|███████▉  | 268/340 [01:11<00:19,  3.73it/s]\u001b[A\n",
      " 79%|███████▉  | 269/340 [01:12<00:19,  3.73it/s]\u001b[A\n",
      " 79%|███████▉  | 270/340 [01:12<00:18,  3.73it/s]\u001b[A\n",
      " 80%|███████▉  | 271/340 [01:12<00:18,  3.73it/s]\u001b[A\n",
      " 80%|████████  | 272/340 [01:13<00:18,  3.73it/s]\u001b[A\n",
      " 80%|████████  | 273/340 [01:13<00:17,  3.73it/s]\u001b[A\n",
      " 81%|████████  | 274/340 [01:13<00:17,  3.72it/s]\u001b[A\n",
      " 81%|████████  | 275/340 [01:13<00:17,  3.72it/s]\u001b[A\n",
      " 81%|████████  | 276/340 [01:14<00:17,  3.72it/s]\u001b[A\n",
      " 81%|████████▏ | 277/340 [01:14<00:16,  3.72it/s]\u001b[A\n",
      " 82%|████████▏ | 278/340 [01:14<00:16,  3.72it/s]\u001b[A\n",
      " 82%|████████▏ | 279/340 [01:14<00:16,  3.72it/s]\u001b[A\n",
      " 82%|████████▏ | 280/340 [01:15<00:16,  3.72it/s]\u001b[A\n",
      " 83%|████████▎ | 281/340 [01:15<00:15,  3.72it/s]\u001b[A\n",
      " 83%|████████▎ | 282/340 [01:15<00:15,  3.72it/s]\u001b[A\n",
      " 83%|████████▎ | 283/340 [01:16<00:15,  3.72it/s]\u001b[A\n",
      " 84%|████████▎ | 284/340 [01:16<00:15,  3.72it/s]\u001b[A\n",
      " 84%|████████▍ | 285/340 [01:16<00:14,  3.72it/s]\u001b[A\n",
      " 84%|████████▍ | 286/340 [01:16<00:14,  3.72it/s]\u001b[A\n",
      " 84%|████████▍ | 287/340 [01:17<00:14,  3.71it/s]\u001b[A\n",
      " 85%|████████▍ | 288/340 [01:17<00:13,  3.71it/s]\u001b[A\n",
      " 85%|████████▌ | 289/340 [01:17<00:13,  3.71it/s]\u001b[A\n",
      " 85%|████████▌ | 290/340 [01:18<00:13,  3.71it/s]\u001b[A"
     ]
    }
   ],
   "source": [
    "%time chicken_df = yogiyo_crawling('치킨')"
   ]
  },
  {
   "cell_type": "code",
   "execution_count": null,
   "metadata": {},
   "outputs": [],
   "source": []
  },
  {
   "cell_type": "code",
   "execution_count": null,
   "metadata": {
    "scrolled": false
   },
   "outputs": [],
   "source": [
    "chicken_df.tail()"
   ]
  },
  {
   "cell_type": "code",
   "execution_count": null,
   "metadata": {},
   "outputs": [],
   "source": []
  },
  {
   "cell_type": "code",
   "execution_count": null,
   "metadata": {},
   "outputs": [],
   "source": [
    "myslack.send_slack('finish!')"
   ]
  },
  {
   "cell_type": "code",
   "execution_count": null,
   "metadata": {},
   "outputs": [],
   "source": []
  },
  {
   "cell_type": "code",
   "execution_count": null,
   "metadata": {},
   "outputs": [],
   "source": []
  },
  {
   "cell_type": "code",
   "execution_count": 49,
   "metadata": {},
   "outputs": [
    {
     "ename": "NoSuchWindowException",
     "evalue": "Message: no such window: target window already closed\nfrom unknown error: web view not found\n  (Session info: chrome=68.0.3440.106)\n  (Driver info: chromedriver=2.39.562713 (dd642283e958a93ebf6891600db055f1f1b4f3b2),platform=Mac OS X 10.13.6 x86_64)\n",
     "output_type": "error",
     "traceback": [
      "\u001b[0;31m---------------------------------------------------------------------------\u001b[0m",
      "\u001b[0;31mNoSuchWindowException\u001b[0m                     Traceback (most recent call last)",
      "\u001b[0;32m<ipython-input-49-c0aea2f911d3>\u001b[0m in \u001b[0;36m<module>\u001b[0;34m()\u001b[0m\n\u001b[0;32m----> 1\u001b[0;31m \u001b[0mdriver\u001b[0m\u001b[0;34m.\u001b[0m\u001b[0mclose\u001b[0m\u001b[0;34m(\u001b[0m\u001b[0;34m)\u001b[0m \u001b[0;31m# 창닫기\u001b[0m\u001b[0;34m\u001b[0m\u001b[0m\n\u001b[0m\u001b[1;32m      2\u001b[0m \u001b[0mdriver\u001b[0m\u001b[0;34m.\u001b[0m\u001b[0mquit\u001b[0m\u001b[0;34m(\u001b[0m\u001b[0;34m)\u001b[0m \u001b[0;31m# 브라우져 닫기\u001b[0m\u001b[0;34m\u001b[0m\u001b[0m\n",
      "\u001b[0;32m/Library/Frameworks/Python.framework/Versions/3.6/lib/python3.6/site-packages/selenium/webdriver/remote/webdriver.py\u001b[0m in \u001b[0;36mclose\u001b[0;34m(self)\u001b[0m\n\u001b[1;32m    679\u001b[0m             \u001b[0mdriver\u001b[0m\u001b[0;34m.\u001b[0m\u001b[0mclose\u001b[0m\u001b[0;34m(\u001b[0m\u001b[0;34m)\u001b[0m\u001b[0;34m\u001b[0m\u001b[0m\n\u001b[1;32m    680\u001b[0m         \"\"\"\n\u001b[0;32m--> 681\u001b[0;31m         \u001b[0mself\u001b[0m\u001b[0;34m.\u001b[0m\u001b[0mexecute\u001b[0m\u001b[0;34m(\u001b[0m\u001b[0mCommand\u001b[0m\u001b[0;34m.\u001b[0m\u001b[0mCLOSE\u001b[0m\u001b[0;34m)\u001b[0m\u001b[0;34m\u001b[0m\u001b[0m\n\u001b[0m\u001b[1;32m    682\u001b[0m \u001b[0;34m\u001b[0m\u001b[0m\n\u001b[1;32m    683\u001b[0m     \u001b[0;32mdef\u001b[0m \u001b[0mquit\u001b[0m\u001b[0;34m(\u001b[0m\u001b[0mself\u001b[0m\u001b[0;34m)\u001b[0m\u001b[0;34m:\u001b[0m\u001b[0;34m\u001b[0m\u001b[0m\n",
      "\u001b[0;32m/Library/Frameworks/Python.framework/Versions/3.6/lib/python3.6/site-packages/selenium/webdriver/remote/webdriver.py\u001b[0m in \u001b[0;36mexecute\u001b[0;34m(self, driver_command, params)\u001b[0m\n\u001b[1;32m    312\u001b[0m         \u001b[0mresponse\u001b[0m \u001b[0;34m=\u001b[0m \u001b[0mself\u001b[0m\u001b[0;34m.\u001b[0m\u001b[0mcommand_executor\u001b[0m\u001b[0;34m.\u001b[0m\u001b[0mexecute\u001b[0m\u001b[0;34m(\u001b[0m\u001b[0mdriver_command\u001b[0m\u001b[0;34m,\u001b[0m \u001b[0mparams\u001b[0m\u001b[0;34m)\u001b[0m\u001b[0;34m\u001b[0m\u001b[0m\n\u001b[1;32m    313\u001b[0m         \u001b[0;32mif\u001b[0m \u001b[0mresponse\u001b[0m\u001b[0;34m:\u001b[0m\u001b[0;34m\u001b[0m\u001b[0m\n\u001b[0;32m--> 314\u001b[0;31m             \u001b[0mself\u001b[0m\u001b[0;34m.\u001b[0m\u001b[0merror_handler\u001b[0m\u001b[0;34m.\u001b[0m\u001b[0mcheck_response\u001b[0m\u001b[0;34m(\u001b[0m\u001b[0mresponse\u001b[0m\u001b[0;34m)\u001b[0m\u001b[0;34m\u001b[0m\u001b[0m\n\u001b[0m\u001b[1;32m    315\u001b[0m             response['value'] = self._unwrap_value(\n\u001b[1;32m    316\u001b[0m                 response.get('value', None))\n",
      "\u001b[0;32m/Library/Frameworks/Python.framework/Versions/3.6/lib/python3.6/site-packages/selenium/webdriver/remote/errorhandler.py\u001b[0m in \u001b[0;36mcheck_response\u001b[0;34m(self, response)\u001b[0m\n\u001b[1;32m    240\u001b[0m                 \u001b[0malert_text\u001b[0m \u001b[0;34m=\u001b[0m \u001b[0mvalue\u001b[0m\u001b[0;34m[\u001b[0m\u001b[0;34m'alert'\u001b[0m\u001b[0;34m]\u001b[0m\u001b[0;34m.\u001b[0m\u001b[0mget\u001b[0m\u001b[0;34m(\u001b[0m\u001b[0;34m'text'\u001b[0m\u001b[0;34m)\u001b[0m\u001b[0;34m\u001b[0m\u001b[0m\n\u001b[1;32m    241\u001b[0m             \u001b[0;32mraise\u001b[0m \u001b[0mexception_class\u001b[0m\u001b[0;34m(\u001b[0m\u001b[0mmessage\u001b[0m\u001b[0;34m,\u001b[0m \u001b[0mscreen\u001b[0m\u001b[0;34m,\u001b[0m \u001b[0mstacktrace\u001b[0m\u001b[0;34m,\u001b[0m \u001b[0malert_text\u001b[0m\u001b[0;34m)\u001b[0m\u001b[0;34m\u001b[0m\u001b[0m\n\u001b[0;32m--> 242\u001b[0;31m         \u001b[0;32mraise\u001b[0m \u001b[0mexception_class\u001b[0m\u001b[0;34m(\u001b[0m\u001b[0mmessage\u001b[0m\u001b[0;34m,\u001b[0m \u001b[0mscreen\u001b[0m\u001b[0;34m,\u001b[0m \u001b[0mstacktrace\u001b[0m\u001b[0;34m)\u001b[0m\u001b[0;34m\u001b[0m\u001b[0m\n\u001b[0m\u001b[1;32m    243\u001b[0m \u001b[0;34m\u001b[0m\u001b[0m\n\u001b[1;32m    244\u001b[0m     \u001b[0;32mdef\u001b[0m \u001b[0m_value_or_default\u001b[0m\u001b[0;34m(\u001b[0m\u001b[0mself\u001b[0m\u001b[0;34m,\u001b[0m \u001b[0mobj\u001b[0m\u001b[0;34m,\u001b[0m \u001b[0mkey\u001b[0m\u001b[0;34m,\u001b[0m \u001b[0mdefault\u001b[0m\u001b[0;34m)\u001b[0m\u001b[0;34m:\u001b[0m\u001b[0;34m\u001b[0m\u001b[0m\n",
      "\u001b[0;31mNoSuchWindowException\u001b[0m: Message: no such window: target window already closed\nfrom unknown error: web view not found\n  (Session info: chrome=68.0.3440.106)\n  (Driver info: chromedriver=2.39.562713 (dd642283e958a93ebf6891600db055f1f1b4f3b2),platform=Mac OS X 10.13.6 x86_64)\n"
     ]
    }
   ],
   "source": [
    "driver.close() # 창닫기\n",
    "driver.quit() # 브라우져 닫기"
   ]
  },
  {
   "cell_type": "code",
   "execution_count": null,
   "metadata": {},
   "outputs": [],
   "source": []
  },
  {
   "cell_type": "markdown",
   "metadata": {},
   "source": [
    "---"
   ]
  },
  {
   "cell_type": "code",
   "execution_count": 358,
   "metadata": {
    "scrolled": true
   },
   "outputs": [],
   "source": [
    "# def yogiyo_crawling(category):\n",
    "#     go_to_category(category) # 해당 카테고리(음식점 리스트) 페이지로 넘어감 \n",
    "#     print(category+'페이지로 넘어가는 중...')\n",
    "#     time.sleep(2)\n",
    "    \n",
    "#     df = pd.DataFrame(columns=['Restaurant','UserID','Menu','Review',\n",
    "#                                'Taste','Quantity','Delivery','Date'])\n",
    "    \n",
    "#     print('Start {} Crawling...'.format(category))\n",
    "#     for i in trange(get_store_count()): # 해당 카테고리의 음식점 개수만큼 돌아감\n",
    "#         try:\n",
    "#             scroll_bottom()\n",
    "#             time.sleep(2)\n",
    "#             go_to_store(i+2) # 순서대로 각 음식점 페이지로 넘어감\n",
    "#             print(str(i+1)+'번째 음식점 페이지로 넘어가는중...')\n",
    "#             time.sleep(2)\n",
    "#             go_to_review() # 해당 음식점의 리뷰페이지로 넘어감\n",
    "#             print('해당 음식점 리뷰 페이지로 넘어가는중...')\n",
    "#             time.sleep(2)\n",
    "#             stretch_review_page() # 해당 음식점의 모든 리뷰를 불러옴\n",
    "            \n",
    "#             for j in trange(get_review_count()):  # 해당 음식점의 리뷰 수 만큼 데이터를 가져옴\n",
    "#                 try:\n",
    "#                     df.loc[len(df)] = { \n",
    "#                         'Restaurant':driver.find_element_by_class_name('restaurant-name').text,\n",
    "#                         'UserID':driver.find_element_by_xpath('//*[@id=\"review\"]/li[{}]/div[1]/span[1]'.format(j+2)).text,\n",
    "#                         'Menu':driver.find_element_by_xpath('//*[@id=\"review\"]/li[{}]/div[3]'.format(j+2)).text,\n",
    "#                         'Review':driver.find_element_by_xpath('//*[@id=\"review\"]/li[{}]/p'.format(j+2)).text,\n",
    "#                         'Taste':driver.find_element_by_xpath('//*[@id=\"review\"]/li[{}]/div[2]/div/span[2]/span[3]'.format(j+2)).text,\n",
    "#                         'Quantity':driver.find_element_by_xpath('//*[@id=\"review\"]/li[{}]/div[2]/div/span[2]/span[6]'.format(j+2)).text,\n",
    "#                         'Delivery':driver.find_element_by_xpath('//*[@id=\"review\"]/li[{}]/div[2]/div/span[2]/span[9]'.format(j+2)).text,\n",
    "#                         'Date':driver.find_element_by_xpath('//*[@id=\"review\"]/li[{}]/div[1]/span[2]'.format(j+2)).text,\n",
    "#                     }\n",
    "#                 except Exception as e:\n",
    "#                     print('리뷰 페이지 에러')\n",
    "#                     print(e)\n",
    "#                     pass\n",
    "                \n",
    "#             go_back_page() # 해당 음식점 리뷰를 모두 모았으면 다시 음식점 리스트 페이지로 돌아감\n",
    "#             print('음식점 리스트 페이지로 돌아가는중...')\n",
    "#             time.sleep(2)\n",
    "#             scroll_bottom()\n",
    "#             time.sleep(2)\n",
    "            \n",
    "#         except Exception as e:\n",
    "#             print('음식점 페이지 에러')\n",
    "#             scroll_bottom()\n",
    "#             print(e)\n",
    "#             pass\n",
    "                \n",
    "#     print('Finish {} Crawling!!!'.format(category))\n",
    "#     return df"
   ]
  },
  {
   "cell_type": "code",
   "execution_count": null,
   "metadata": {},
   "outputs": [],
   "source": []
  }
 ],
 "metadata": {
  "kernelspec": {
   "display_name": "Python 3",
   "language": "python",
   "name": "python3"
  },
  "language_info": {
   "codemirror_mode": {
    "name": "ipython",
    "version": 3
   },
   "file_extension": ".py",
   "mimetype": "text/x-python",
   "name": "python",
   "nbconvert_exporter": "python",
   "pygments_lexer": "ipython3",
   "version": "3.6.4"
  }
 },
 "nbformat": 4,
 "nbformat_minor": 2
}

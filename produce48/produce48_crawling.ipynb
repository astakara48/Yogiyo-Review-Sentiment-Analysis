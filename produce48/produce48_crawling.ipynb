{
 "cells": [
  {
   "cell_type": "code",
   "execution_count": 639,
   "metadata": {},
   "outputs": [],
   "source": [
    "import pandas as pd\n",
    "from bs4 import BeautifulSoup\n",
    "import requests\n",
    "from selenium import webdriver\n",
    "import myslack\n",
    "import datetime as dt\n",
    "import pickle\n",
    "import time\n",
    "import re\n",
    "from tqdm import trange"
   ]
  },
  {
   "cell_type": "code",
   "execution_count": 664,
   "metadata": {},
   "outputs": [],
   "source": [
    "driver = webdriver.Chrome()  \n",
    "url = 'http://produce48.mnet.com/pc/profile/0'\n",
    "driver.get(url) "
   ]
  },
  {
   "cell_type": "code",
   "execution_count": 850,
   "metadata": {},
   "outputs": [
    {
     "data": {
      "text/plain": [
       "(8493, 425)"
      ]
     },
     "execution_count": 850,
     "metadata": {},
     "output_type": "execute_result"
    }
   ],
   "source": [
    "review_count = int(driver.find_element_by_xpath('//*[@id=\"comment\"]/div/h2/strong').text)\n",
    "comment_page_count = int(review_count/20)+1\n",
    "review_count, comment_page_count"
   ]
  },
  {
   "cell_type": "code",
   "execution_count": 851,
   "metadata": {},
   "outputs": [],
   "source": [
    "def open_all_comment():\n",
    "    print('이전 댓글 모두 불러오기 시작...')    \n",
    "    for _ in trange(comment_page_count):\n",
    "        try:\n",
    "            driver.execute_script(\"window.scrollTo(0,document.body.scrollHeight);\")\n",
    "            driver.find_element_by_xpath('//*[@id=\"comment\"]/div/div[2]/div/a').click()\n",
    "            time.sleep(0.3)\n",
    "        except Exception as e:\n",
    "            print(e)\n",
    "            time.sleep(1)\n",
    "            pass\n",
    "    driver.execute_script(\"window.scrollTo(0,document.body.scrollHeight);\")\n",
    "    print('이전 댓글 모두 불러오기 성공!')"
   ]
  },
  {
   "cell_type": "code",
   "execution_count": 852,
   "metadata": {
    "scrolled": true
   },
   "outputs": [],
   "source": [
    "def make_produce48_df(trainee_name):\n",
    "    print(trainee_name+'의 댓글 수: '+str(review_count))\n",
    "    open_all_comment()\n",
    "    \n",
    "    print('making dataframe...')\n",
    "    df = pd.DataFrame(columns=['User_ID','Comment','Date'])\n",
    "    for i in trange(review_count):\n",
    "        try:\n",
    "            df.loc[len(df)] = { \n",
    "            'User_ID':driver.find_element_by_xpath('//*[@id=\"comment\"]/div/div[2]/dl[{}]/dd/strong'.format(i+1)).text,\n",
    "            'Comment':driver.find_element_by_xpath('//*[@id=\"comment\"]/div/div[2]/dl[{}]/dd/p'.format(i+1)).text,\n",
    "            'Date':driver.find_element_by_xpath('//*[@id=\"comment\"]/div/div[2]/dl[{}]/dd/span'.format(i+1)).text.split(' ')[0],\n",
    "            }\n",
    "        except Exception as e:\n",
    "            print(e)\n",
    "            pass\n",
    "    print('making dataframe done!')\n",
    "    return df"
   ]
  },
  {
   "cell_type": "code",
   "execution_count": 853,
   "metadata": {},
   "outputs": [
    {
     "data": {
      "text/plain": [
       "('KANG_HYE_WON', '강혜원', '에잇디')"
      ]
     },
     "execution_count": 853,
     "metadata": {},
     "output_type": "execute_result"
    }
   ],
   "source": [
    "def make_df_name():\n",
    "    eng_name = \\\n",
    "    re.sub(\"[^a-zA-Z]\",\" \",driver.find_element_by_xpath('//*[@id=\"content\"]/div[2]/div[2]/div[1]/dl[2]/dt/p[2]').text).strip()\n",
    "    result = eng_name.replace(' ','_')\n",
    "    return result\n",
    "\n",
    "name = driver.find_element_by_xpath('//*[@id=\"content\"]/div[2]/div[2]/div[1]/dl[2]/dt/p[2]/span').text\n",
    "agency = driver.find_element_by_xpath('//*[@id=\"content\"]/div[2]/div[2]/h4/span').text\n",
    "\n",
    "make_df_name(), name, agency"
   ]
  },
  {
   "cell_type": "code",
   "execution_count": null,
   "metadata": {},
   "outputs": [],
   "source": []
  },
  {
   "cell_type": "code",
   "execution_count": 854,
   "metadata": {
    "scrolled": false
   },
   "outputs": [
    {
     "name": "stderr",
     "output_type": "stream",
     "text": [
      "\r",
      "  0%|          | 0/425 [00:00<?, ?it/s]"
     ]
    },
    {
     "name": "stdout",
     "output_type": "stream",
     "text": [
      "강혜원의 댓글 수: 8493\n",
      "이전 댓글 모두 불러오기 시작...\n"
     ]
    },
    {
     "name": "stderr",
     "output_type": "stream",
     "text": [
      " 96%|█████████▌| 406/425 [35:14<01:38,  5.21s/it]"
     ]
    },
    {
     "name": "stdout",
     "output_type": "stream",
     "text": [
      "Message: no such element: Unable to locate element: {\"method\":\"xpath\",\"selector\":\"//*[@id=\"comment\"]/div/div[2]/div/a\"}\n",
      "  (Session info: chrome=68.0.3440.106)\n",
      "  (Driver info: chromedriver=2.39.562713 (dd642283e958a93ebf6891600db055f1f1b4f3b2),platform=Mac OS X 10.13.6 x86_64)\n",
      "\n"
     ]
    },
    {
     "name": "stderr",
     "output_type": "stream",
     "text": [
      "100%|██████████| 425/425 [36:38<00:00,  5.17s/it]\n",
      "  0%|          | 0/8493 [00:00<?, ?it/s]"
     ]
    },
    {
     "name": "stdout",
     "output_type": "stream",
     "text": [
      "이전 댓글 모두 불러오기 성공!\n",
      "making dataframe...\n"
     ]
    },
    {
     "name": "stderr",
     "output_type": "stream",
     "text": [
      "100%|██████████| 8493/8493 [6:34:08<00:00,  2.78s/it]  "
     ]
    },
    {
     "name": "stdout",
     "output_type": "stream",
     "text": [
      "making dataframe done!\n",
      "CPU times: user 1min 2s, sys: 5.35 s, total: 1min 7s\n",
      "Wall time: 7h 10min 48s\n"
     ]
    },
    {
     "name": "stderr",
     "output_type": "stream",
     "text": [
      "\n"
     ]
    }
   ],
   "source": [
    "%time KANG_HYE_WON = make_produce48_df(name)"
   ]
  },
  {
   "cell_type": "code",
   "execution_count": 855,
   "metadata": {},
   "outputs": [
    {
     "data": {
      "text/plain": [
       "(8493, 3)"
      ]
     },
     "execution_count": 855,
     "metadata": {},
     "output_type": "execute_result"
    }
   ],
   "source": [
    "KANG_HYE_WON.shape"
   ]
  },
  {
   "cell_type": "code",
   "execution_count": 856,
   "metadata": {},
   "outputs": [
    {
     "data": {
      "text/html": [
       "<div>\n",
       "<style scoped>\n",
       "    .dataframe tbody tr th:only-of-type {\n",
       "        vertical-align: middle;\n",
       "    }\n",
       "\n",
       "    .dataframe tbody tr th {\n",
       "        vertical-align: top;\n",
       "    }\n",
       "\n",
       "    .dataframe thead th {\n",
       "        text-align: right;\n",
       "    }\n",
       "</style>\n",
       "<table border=\"1\" class=\"dataframe\">\n",
       "  <thead>\n",
       "    <tr style=\"text-align: right;\">\n",
       "      <th></th>\n",
       "      <th>User_ID</th>\n",
       "      <th>Comment</th>\n",
       "      <th>Date</th>\n",
       "    </tr>\n",
       "  </thead>\n",
       "  <tbody>\n",
       "    <tr>\n",
       "      <th>8488</th>\n",
       "      <td>권양수</td>\n",
       "      <td>오 괜찮타 예도 안구정화 갑이내</td>\n",
       "      <td>2018-05-12</td>\n",
       "    </tr>\n",
       "    <tr>\n",
       "      <th>8489</th>\n",
       "      <td>김윤호</td>\n",
       "      <td>제발 덕후들이라면 강혜원 응원합시다</td>\n",
       "      <td>2018-05-12</td>\n",
       "    </tr>\n",
       "    <tr>\n",
       "      <th>8490</th>\n",
       "      <td>서상우</td>\n",
       "      <td>매력 있네요. 예쁘삼. ㅎ</td>\n",
       "      <td>2018-05-12</td>\n",
       "    </tr>\n",
       "    <tr>\n",
       "      <th>8491</th>\n",
       "      <td>salsaaabill.l</td>\n",
       "      <td>It is so cute</td>\n",
       "      <td>2018-05-11</td>\n",
       "    </tr>\n",
       "    <tr>\n",
       "      <th>8492</th>\n",
       "      <td>강선덕</td>\n",
       "      <td>완전 만찢녀 청순 귀염귀염~</td>\n",
       "      <td>2018-05-11</td>\n",
       "    </tr>\n",
       "  </tbody>\n",
       "</table>\n",
       "</div>"
      ],
      "text/plain": [
       "            User_ID              Comment        Date\n",
       "8488            권양수    오 괜찮타 예도 안구정화 갑이내  2018-05-12\n",
       "8489            김윤호  제발 덕후들이라면 강혜원 응원합시다  2018-05-12\n",
       "8490            서상우       매력 있네요. 예쁘삼. ㅎ  2018-05-12\n",
       "8491  salsaaabill.l        It is so cute  2018-05-11\n",
       "8492            강선덕      완전 만찢녀 청순 귀염귀염~  2018-05-11"
      ]
     },
     "execution_count": 856,
     "metadata": {},
     "output_type": "execute_result"
    }
   ],
   "source": [
    "KANG_HYE_WON.tail()"
   ]
  },
  {
   "cell_type": "code",
   "execution_count": 857,
   "metadata": {},
   "outputs": [],
   "source": [
    "pickle.dump(KANG_HYE_WON, open('./produce48/에잇디/KANG_HYE_WON.pkl','wb'))"
   ]
  },
  {
   "cell_type": "code",
   "execution_count": 858,
   "metadata": {},
   "outputs": [],
   "source": [
    "KANG_HYE_WON_df = pickle.load(open('./produce48/에잇디/KANG_HYE_WON.pkl','rb'))"
   ]
  },
  {
   "cell_type": "code",
   "execution_count": 859,
   "metadata": {
    "scrolled": true
   },
   "outputs": [
    {
     "name": "stdout",
     "output_type": "stream",
     "text": [
      "<Response [200]>\n"
     ]
    }
   ],
   "source": [
    "myslack.send_slack('{} finish!'.format(make_df_name()))"
   ]
  },
  {
   "cell_type": "code",
   "execution_count": 860,
   "metadata": {},
   "outputs": [
    {
     "data": {
      "text/html": [
       "<div>\n",
       "<style scoped>\n",
       "    .dataframe tbody tr th:only-of-type {\n",
       "        vertical-align: middle;\n",
       "    }\n",
       "\n",
       "    .dataframe tbody tr th {\n",
       "        vertical-align: top;\n",
       "    }\n",
       "\n",
       "    .dataframe thead th {\n",
       "        text-align: right;\n",
       "    }\n",
       "</style>\n",
       "<table border=\"1\" class=\"dataframe\">\n",
       "  <thead>\n",
       "    <tr style=\"text-align: right;\">\n",
       "      <th></th>\n",
       "      <th>User_ID</th>\n",
       "      <th>Comment</th>\n",
       "      <th>Date</th>\n",
       "    </tr>\n",
       "  </thead>\n",
       "  <tbody>\n",
       "    <tr>\n",
       "      <th>8488</th>\n",
       "      <td>권양수</td>\n",
       "      <td>오 괜찮타 예도 안구정화 갑이내</td>\n",
       "      <td>2018-05-12</td>\n",
       "    </tr>\n",
       "    <tr>\n",
       "      <th>8489</th>\n",
       "      <td>김윤호</td>\n",
       "      <td>제발 덕후들이라면 강혜원 응원합시다</td>\n",
       "      <td>2018-05-12</td>\n",
       "    </tr>\n",
       "    <tr>\n",
       "      <th>8490</th>\n",
       "      <td>서상우</td>\n",
       "      <td>매력 있네요. 예쁘삼. ㅎ</td>\n",
       "      <td>2018-05-12</td>\n",
       "    </tr>\n",
       "    <tr>\n",
       "      <th>8491</th>\n",
       "      <td>salsaaabill.l</td>\n",
       "      <td>It is so cute</td>\n",
       "      <td>2018-05-11</td>\n",
       "    </tr>\n",
       "    <tr>\n",
       "      <th>8492</th>\n",
       "      <td>강선덕</td>\n",
       "      <td>완전 만찢녀 청순 귀염귀염~</td>\n",
       "      <td>2018-05-11</td>\n",
       "    </tr>\n",
       "  </tbody>\n",
       "</table>\n",
       "</div>"
      ],
      "text/plain": [
       "            User_ID              Comment        Date\n",
       "8488            권양수    오 괜찮타 예도 안구정화 갑이내  2018-05-12\n",
       "8489            김윤호  제발 덕후들이라면 강혜원 응원합시다  2018-05-12\n",
       "8490            서상우       매력 있네요. 예쁘삼. ㅎ  2018-05-12\n",
       "8491  salsaaabill.l        It is so cute  2018-05-11\n",
       "8492            강선덕      완전 만찢녀 청순 귀염귀염~  2018-05-11"
      ]
     },
     "execution_count": 860,
     "metadata": {},
     "output_type": "execute_result"
    }
   ],
   "source": [
    "KANG_HYE_WON_df.tail()"
   ]
  },
  {
   "cell_type": "code",
   "execution_count": null,
   "metadata": {},
   "outputs": [],
   "source": []
  },
  {
   "cell_type": "code",
   "execution_count": null,
   "metadata": {},
   "outputs": [],
   "source": []
  },
  {
   "cell_type": "code",
   "execution_count": null,
   "metadata": {},
   "outputs": [],
   "source": []
  },
  {
   "cell_type": "code",
   "execution_count": 861,
   "metadata": {},
   "outputs": [],
   "source": [
    "driver.close() # 창닫기\n",
    "driver.quit() # 브라우져 닫기"
   ]
  },
  {
   "cell_type": "code",
   "execution_count": null,
   "metadata": {},
   "outputs": [],
   "source": []
  }
 ],
 "metadata": {
  "kernelspec": {
   "display_name": "Python 3",
   "language": "python",
   "name": "python3"
  },
  "language_info": {
   "codemirror_mode": {
    "name": "ipython",
    "version": 3
   },
   "file_extension": ".py",
   "mimetype": "text/x-python",
   "name": "python",
   "nbconvert_exporter": "python",
   "pygments_lexer": "ipython3",
   "version": "3.6.4"
  }
 },
 "nbformat": 4,
 "nbformat_minor": 2
}

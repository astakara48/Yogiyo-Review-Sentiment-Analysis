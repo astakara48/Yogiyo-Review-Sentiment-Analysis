{
 "cells": [
  {
   "cell_type": "code",
   "execution_count": 1,
   "metadata": {},
   "outputs": [],
   "source": [
    "import pandas as pd\n",
    "from bs4 import BeautifulSoup\n",
    "import requests\n",
    "from selenium import webdriver\n",
    "import myslack\n",
    "import datetime as dt\n",
    "import pickle\n",
    "import time\n",
    "import re\n",
    "from tqdm import trange"
   ]
  },
  {
   "cell_type": "code",
   "execution_count": 2,
   "metadata": {},
   "outputs": [],
   "source": [
    "driver = webdriver.Chrome()  \n",
    "url = 'http://produce48.mnet.com/pc/profile/0'\n",
    "driver.get(url) "
   ]
  },
  {
   "cell_type": "code",
   "execution_count": 143,
   "metadata": {},
   "outputs": [
    {
     "data": {
      "text/plain": [
       "(6244, 313)"
      ]
     },
     "execution_count": 143,
     "metadata": {},
     "output_type": "execute_result"
    }
   ],
   "source": [
    "review_count = int(driver.find_element_by_xpath('//*[@id=\"comment\"]/div/h2/strong').text)\n",
    "comment_page_count = int(review_count/20)+1\n",
    "review_count, comment_page_count"
   ]
  },
  {
   "cell_type": "code",
   "execution_count": 144,
   "metadata": {},
   "outputs": [],
   "source": [
    "def open_all_comment():\n",
    "    print('이전 댓글 모두 불러오기 시작...')    \n",
    "    for _ in trange(comment_page_count):\n",
    "        try:\n",
    "            driver.execute_script(\"window.scrollTo(0,document.body.scrollHeight);\")\n",
    "            driver.find_element_by_xpath('//*[@id=\"comment\"]/div/div[2]/div/a').click()\n",
    "            time.sleep(0.3)\n",
    "        except Exception as e:\n",
    "            print(e)\n",
    "            time.sleep(1)\n",
    "            pass\n",
    "    driver.execute_script(\"window.scrollTo(0,document.body.scrollHeight);\")\n",
    "    print('이전 댓글 모두 불러오기 성공!')"
   ]
  },
  {
   "cell_type": "code",
   "execution_count": 145,
   "metadata": {
    "scrolled": true
   },
   "outputs": [],
   "source": [
    "def make_produce48_df(trainee_name):\n",
    "    print(trainee_name+'의 댓글 수: '+str(review_count))\n",
    "    open_all_comment()\n",
    "    \n",
    "    print('making dataframe...')\n",
    "    df = pd.DataFrame(columns=['User_ID','Comment','Date'])\n",
    "    for i in trange(review_count):\n",
    "        try:\n",
    "            df.loc[len(df)] = { \n",
    "            'User_ID':driver.find_element_by_xpath('//*[@id=\"comment\"]/div/div[2]/dl[{}]/dd/strong'.format(i+1)).text,\n",
    "            'Comment':driver.find_element_by_xpath('//*[@id=\"comment\"]/div/div[2]/dl[{}]/dd/p'.format(i+1)).text,\n",
    "            'Date':driver.find_element_by_xpath('//*[@id=\"comment\"]/div/div[2]/dl[{}]/dd/span'.format(i+1)).text.split(' ')[0],\n",
    "            }\n",
    "        except Exception as e:\n",
    "            print(e)\n",
    "            pass\n",
    "    print('making dataframe done!')\n",
    "    return df"
   ]
  },
  {
   "cell_type": "code",
   "execution_count": 146,
   "metadata": {},
   "outputs": [
    {
     "data": {
      "text/plain": [
       "('KO_YU_JIN', '고유진', '블록베리 크리에이티브')"
      ]
     },
     "execution_count": 146,
     "metadata": {},
     "output_type": "execute_result"
    }
   ],
   "source": [
    "def make_df_name():\n",
    "    eng_name = \\\n",
    "    re.sub(\"[^a-zA-Z]\",\" \",driver.find_element_by_xpath('//*[@id=\"content\"]/div[2]/div[2]/div[1]/dl[2]/dt/p[2]').text).strip()\n",
    "    result = eng_name.replace(' ','_')\n",
    "    return result\n",
    "\n",
    "name = driver.find_element_by_xpath('//*[@id=\"content\"]/div[2]/div[2]/div[1]/dl[2]/dt/p[2]/span').text\n",
    "agency = driver.find_element_by_xpath('//*[@id=\"content\"]/div[2]/div[2]/h4/span').text\n",
    "\n",
    "make_df_name(), name, agency"
   ]
  },
  {
   "cell_type": "code",
   "execution_count": null,
   "metadata": {},
   "outputs": [],
   "source": []
  },
  {
   "cell_type": "code",
   "execution_count": 147,
   "metadata": {
    "scrolled": true
   },
   "outputs": [
    {
     "name": "stderr",
     "output_type": "stream",
     "text": [
      "\r",
      "  0%|          | 0/313 [00:00<?, ?it/s]"
     ]
    },
    {
     "name": "stdout",
     "output_type": "stream",
     "text": [
      "고유진의 댓글 수: 6244\n",
      "이전 댓글 모두 불러오기 시작...\n"
     ]
    },
    {
     "name": "stderr",
     "output_type": "stream",
     "text": [
      "100%|██████████| 313/313 [20:25<00:00,  3.92s/it]\n",
      "  0%|          | 0/6244 [00:00<?, ?it/s]"
     ]
    },
    {
     "name": "stdout",
     "output_type": "stream",
     "text": [
      "이전 댓글 모두 불러오기 성공!\n",
      "making dataframe...\n"
     ]
    },
    {
     "name": "stderr",
     "output_type": "stream",
     "text": [
      "100%|██████████| 6244/6244 [1:31:16<00:00,  1.14it/s]"
     ]
    },
    {
     "name": "stdout",
     "output_type": "stream",
     "text": [
      "making dataframe done!\n",
      "CPU times: user 50.5 s, sys: 4.2 s, total: 54.7 s\n",
      "Wall time: 1h 51min 42s\n"
     ]
    },
    {
     "name": "stderr",
     "output_type": "stream",
     "text": [
      "\n"
     ]
    }
   ],
   "source": [
    "%time KO_YU_JIN = make_produce48_df(name)"
   ]
  },
  {
   "cell_type": "code",
   "execution_count": 148,
   "metadata": {},
   "outputs": [
    {
     "data": {
      "text/plain": [
       "(6244, 3)"
      ]
     },
     "execution_count": 148,
     "metadata": {},
     "output_type": "execute_result"
    }
   ],
   "source": [
    "KO_YU_JIN.shape"
   ]
  },
  {
   "cell_type": "code",
   "execution_count": 149,
   "metadata": {},
   "outputs": [
    {
     "data": {
      "text/html": [
       "<div>\n",
       "<style scoped>\n",
       "    .dataframe tbody tr th:only-of-type {\n",
       "        vertical-align: middle;\n",
       "    }\n",
       "\n",
       "    .dataframe tbody tr th {\n",
       "        vertical-align: top;\n",
       "    }\n",
       "\n",
       "    .dataframe thead th {\n",
       "        text-align: right;\n",
       "    }\n",
       "</style>\n",
       "<table border=\"1\" class=\"dataframe\">\n",
       "  <thead>\n",
       "    <tr style=\"text-align: right;\">\n",
       "      <th></th>\n",
       "      <th>User_ID</th>\n",
       "      <th>Comment</th>\n",
       "      <th>Date</th>\n",
       "    </tr>\n",
       "  </thead>\n",
       "  <tbody>\n",
       "    <tr>\n",
       "      <th>6239</th>\n",
       "      <td>Hanan</td>\n",
       "      <td>♡♡♡</td>\n",
       "      <td>2018-05-11</td>\n",
       "    </tr>\n",
       "    <tr>\n",
       "      <th>6240</th>\n",
       "      <td>조유진</td>\n",
       "      <td>유진아 데뷔하자!!!!</td>\n",
       "      <td>2018-05-11</td>\n",
       "    </tr>\n",
       "    <tr>\n",
       "      <th>6241</th>\n",
       "      <td>조유진</td>\n",
       "      <td>유진아ㅜㅜㅠㅠㅠㅠㅠ 언니가 많이 사랑해!!!!! 데뷔하자!!!!!!</td>\n",
       "      <td>2018-05-11</td>\n",
       "    </tr>\n",
       "    <tr>\n",
       "      <th>6242</th>\n",
       "      <td>keemhans.</td>\n",
       "      <td>아름다운</td>\n",
       "      <td>2018-05-11</td>\n",
       "    </tr>\n",
       "    <tr>\n",
       "      <th>6243</th>\n",
       "      <td>최원정</td>\n",
       "      <td>good~~</td>\n",
       "      <td>2018-05-11</td>\n",
       "    </tr>\n",
       "  </tbody>\n",
       "</table>\n",
       "</div>"
      ],
      "text/plain": [
       "        User_ID                                Comment        Date\n",
       "6239      Hanan                                    ♡♡♡  2018-05-11\n",
       "6240        조유진                           유진아 데뷔하자!!!!  2018-05-11\n",
       "6241        조유진  유진아ㅜㅜㅠㅠㅠㅠㅠ 언니가 많이 사랑해!!!!! 데뷔하자!!!!!!  2018-05-11\n",
       "6242  keemhans.                                   아름다운  2018-05-11\n",
       "6243        최원정                                 good~~  2018-05-11"
      ]
     },
     "execution_count": 149,
     "metadata": {},
     "output_type": "execute_result"
    }
   ],
   "source": [
    "KO_YU_JIN.tail()"
   ]
  },
  {
   "cell_type": "code",
   "execution_count": 150,
   "metadata": {},
   "outputs": [],
   "source": [
    "pickle.dump(KO_YU_JIN, open('./produce48/블록베리 크리에이티브/KO_YU_JIN.pkl','wb'))"
   ]
  },
  {
   "cell_type": "code",
   "execution_count": 151,
   "metadata": {},
   "outputs": [],
   "source": [
    "KO_YU_JIN_df = pickle.load(open('./produce48/블록베리 크리에이티브/KO_YU_JIN.pkl','rb'))"
   ]
  },
  {
   "cell_type": "code",
   "execution_count": 152,
   "metadata": {
    "scrolled": false
   },
   "outputs": [
    {
     "name": "stdout",
     "output_type": "stream",
     "text": [
      "<Response [200]>\n"
     ]
    }
   ],
   "source": [
    "myslack.send_slack('{} finish!'.format(make_df_name()))"
   ]
  },
  {
   "cell_type": "code",
   "execution_count": 153,
   "metadata": {
    "scrolled": true
   },
   "outputs": [
    {
     "data": {
      "text/html": [
       "<div>\n",
       "<style scoped>\n",
       "    .dataframe tbody tr th:only-of-type {\n",
       "        vertical-align: middle;\n",
       "    }\n",
       "\n",
       "    .dataframe tbody tr th {\n",
       "        vertical-align: top;\n",
       "    }\n",
       "\n",
       "    .dataframe thead th {\n",
       "        text-align: right;\n",
       "    }\n",
       "</style>\n",
       "<table border=\"1\" class=\"dataframe\">\n",
       "  <thead>\n",
       "    <tr style=\"text-align: right;\">\n",
       "      <th></th>\n",
       "      <th>User_ID</th>\n",
       "      <th>Comment</th>\n",
       "      <th>Date</th>\n",
       "    </tr>\n",
       "  </thead>\n",
       "  <tbody>\n",
       "    <tr>\n",
       "      <th>6239</th>\n",
       "      <td>Hanan</td>\n",
       "      <td>♡♡♡</td>\n",
       "      <td>2018-05-11</td>\n",
       "    </tr>\n",
       "    <tr>\n",
       "      <th>6240</th>\n",
       "      <td>조유진</td>\n",
       "      <td>유진아 데뷔하자!!!!</td>\n",
       "      <td>2018-05-11</td>\n",
       "    </tr>\n",
       "    <tr>\n",
       "      <th>6241</th>\n",
       "      <td>조유진</td>\n",
       "      <td>유진아ㅜㅜㅠㅠㅠㅠㅠ 언니가 많이 사랑해!!!!! 데뷔하자!!!!!!</td>\n",
       "      <td>2018-05-11</td>\n",
       "    </tr>\n",
       "    <tr>\n",
       "      <th>6242</th>\n",
       "      <td>keemhans.</td>\n",
       "      <td>아름다운</td>\n",
       "      <td>2018-05-11</td>\n",
       "    </tr>\n",
       "    <tr>\n",
       "      <th>6243</th>\n",
       "      <td>최원정</td>\n",
       "      <td>good~~</td>\n",
       "      <td>2018-05-11</td>\n",
       "    </tr>\n",
       "  </tbody>\n",
       "</table>\n",
       "</div>"
      ],
      "text/plain": [
       "        User_ID                                Comment        Date\n",
       "6239      Hanan                                    ♡♡♡  2018-05-11\n",
       "6240        조유진                           유진아 데뷔하자!!!!  2018-05-11\n",
       "6241        조유진  유진아ㅜㅜㅠㅠㅠㅠㅠ 언니가 많이 사랑해!!!!! 데뷔하자!!!!!!  2018-05-11\n",
       "6242  keemhans.                                   아름다운  2018-05-11\n",
       "6243        최원정                                 good~~  2018-05-11"
      ]
     },
     "execution_count": 153,
     "metadata": {},
     "output_type": "execute_result"
    }
   ],
   "source": [
    "KO_YU_JIN_df.tail()"
   ]
  },
  {
   "cell_type": "code",
   "execution_count": null,
   "metadata": {},
   "outputs": [],
   "source": []
  },
  {
   "cell_type": "code",
   "execution_count": null,
   "metadata": {},
   "outputs": [],
   "source": []
  },
  {
   "cell_type": "code",
   "execution_count": null,
   "metadata": {},
   "outputs": [],
   "source": []
  },
  {
   "cell_type": "code",
   "execution_count": null,
   "metadata": {},
   "outputs": [],
   "source": []
  },
  {
   "cell_type": "code",
   "execution_count": 154,
   "metadata": {},
   "outputs": [],
   "source": [
    "driver.close() # 창닫기\n",
    "driver.quit() # 브라우져 닫기"
   ]
  },
  {
   "cell_type": "code",
   "execution_count": null,
   "metadata": {},
   "outputs": [],
   "source": []
  }
 ],
 "metadata": {
  "kernelspec": {
   "display_name": "Python 3",
   "language": "python",
   "name": "python3"
  },
  "language_info": {
   "codemirror_mode": {
    "name": "ipython",
    "version": 3
   },
   "file_extension": ".py",
   "mimetype": "text/x-python",
   "name": "python",
   "nbconvert_exporter": "python",
   "pygments_lexer": "ipython3",
   "version": "3.6.4"
  }
 },
 "nbformat": 4,
 "nbformat_minor": 2
}

{
 "cells": [
  {
   "cell_type": "code",
   "execution_count": 1,
   "metadata": {},
   "outputs": [],
   "source": [
    "import pandas as pd\n",
    "from bs4 import BeautifulSoup\n",
    "import requests\n",
    "from selenium import webdriver\n",
    "import myslack\n",
    "import datetime as dt\n",
    "import pickle\n",
    "import time\n",
    "import re\n",
    "from tqdm import trange"
   ]
  },
  {
   "cell_type": "code",
   "execution_count": 2,
   "metadata": {},
   "outputs": [],
   "source": [
    "driver = webdriver.Chrome()  \n",
    "url = 'http://produce48.mnet.com/pc/profile/0'\n",
    "driver.get(url) "
   ]
  },
  {
   "cell_type": "code",
   "execution_count": 84,
   "metadata": {},
   "outputs": [
    {
     "data": {
      "text/plain": [
       "(4362, 219)"
      ]
     },
     "execution_count": 84,
     "metadata": {},
     "output_type": "execute_result"
    }
   ],
   "source": [
    "review_count = int(driver.find_element_by_xpath('//*[@id=\"comment\"]/div/h2/strong').text)\n",
    "comment_page_count = int(review_count/20)+1\n",
    "review_count, comment_page_count"
   ]
  },
  {
   "cell_type": "code",
   "execution_count": 85,
   "metadata": {},
   "outputs": [],
   "source": [
    "def open_all_comment():\n",
    "    print('이전 댓글 모두 불러오기 시작...')    \n",
    "    for _ in trange(comment_page_count):\n",
    "        try:\n",
    "            driver.execute_script(\"window.scrollTo(0,document.body.scrollHeight);\")\n",
    "            driver.find_element_by_xpath('//*[@id=\"comment\"]/div/div[2]/div/a').click()\n",
    "            time.sleep(0.3)\n",
    "        except Exception as e:\n",
    "            print(e)\n",
    "            time.sleep(1)\n",
    "            pass\n",
    "    driver.execute_script(\"window.scrollTo(0,document.body.scrollHeight);\")\n",
    "    print('이전 댓글 모두 불러오기 성공!')"
   ]
  },
  {
   "cell_type": "code",
   "execution_count": 86,
   "metadata": {
    "scrolled": true
   },
   "outputs": [],
   "source": [
    "def make_produce48_df(trainee_name):\n",
    "    print(trainee_name+'의 댓글 수: '+str(review_count))\n",
    "    open_all_comment()\n",
    "    \n",
    "    print('making dataframe...')\n",
    "    df = pd.DataFrame(columns=['User_ID','Comment','Date'])\n",
    "    for i in trange(review_count):\n",
    "        try:\n",
    "            df.loc[len(df)] = { \n",
    "            'User_ID':driver.find_element_by_xpath('//*[@id=\"comment\"]/div/div[2]/dl[{}]/dd/strong'.format(i+1)).text,\n",
    "            'Comment':driver.find_element_by_xpath('//*[@id=\"comment\"]/div/div[2]/dl[{}]/dd/p'.format(i+1)).text,\n",
    "            'Date':driver.find_element_by_xpath('//*[@id=\"comment\"]/div/div[2]/dl[{}]/dd/span'.format(i+1)).text.split(' ')[0],\n",
    "            }\n",
    "        except Exception as e:\n",
    "            print(e)\n",
    "            pass\n",
    "    print('making dataframe done!')\n",
    "    return df"
   ]
  },
  {
   "cell_type": "code",
   "execution_count": 87,
   "metadata": {},
   "outputs": [
    {
     "data": {
      "text/plain": [
       "('MURASE_SAE', '무라세 사에', 'NMB48')"
      ]
     },
     "execution_count": 87,
     "metadata": {},
     "output_type": "execute_result"
    }
   ],
   "source": [
    "def make_df_name():\n",
    "    eng_name = \\\n",
    "    re.sub(\"[^a-zA-Z]\",\" \",driver.find_element_by_xpath('//*[@id=\"content\"]/div[2]/div[2]/div[1]/dl[2]/dt/p[2]').text).strip()\n",
    "    result = eng_name.replace(' ','_')\n",
    "    return result\n",
    "\n",
    "name = driver.find_element_by_xpath('//*[@id=\"content\"]/div[2]/div[2]/div[1]/dl[2]/dt/p[2]/span').text\n",
    "agency = driver.find_element_by_xpath('//*[@id=\"content\"]/div[2]/div[2]/h4/span').text\n",
    "\n",
    "make_df_name(), name, agency"
   ]
  },
  {
   "cell_type": "code",
   "execution_count": null,
   "metadata": {},
   "outputs": [],
   "source": []
  },
  {
   "cell_type": "code",
   "execution_count": 88,
   "metadata": {
    "scrolled": true
   },
   "outputs": [
    {
     "name": "stderr",
     "output_type": "stream",
     "text": [
      "\r",
      "  0%|          | 0/219 [00:00<?, ?it/s]"
     ]
    },
    {
     "name": "stdout",
     "output_type": "stream",
     "text": [
      "무라세 사에의 댓글 수: 4362\n",
      "이전 댓글 모두 불러오기 시작...\n"
     ]
    },
    {
     "name": "stderr",
     "output_type": "stream",
     "text": [
      "100%|█████████▉| 218/219 [16:34<00:04,  4.56s/it]"
     ]
    },
    {
     "name": "stdout",
     "output_type": "stream",
     "text": [
      "Message: no such element: Unable to locate element: {\"method\":\"xpath\",\"selector\":\"//*[@id=\"comment\"]/div/div[2]/div/a\"}\n",
      "  (Session info: chrome=68.0.3440.106)\n",
      "  (Driver info: chromedriver=2.39.562713 (dd642283e958a93ebf6891600db055f1f1b4f3b2),platform=Mac OS X 10.13.6 x86_64)\n",
      "\n"
     ]
    },
    {
     "name": "stderr",
     "output_type": "stream",
     "text": [
      "100%|██████████| 219/219 [16:35<00:00,  4.54s/it]\n",
      "  0%|          | 0/4362 [00:00<?, ?it/s]"
     ]
    },
    {
     "name": "stdout",
     "output_type": "stream",
     "text": [
      "이전 댓글 모두 불러오기 성공!\n",
      "making dataframe...\n"
     ]
    },
    {
     "name": "stderr",
     "output_type": "stream",
     "text": [
      "100%|██████████| 4362/4362 [48:27<00:00,  1.50it/s] "
     ]
    },
    {
     "name": "stdout",
     "output_type": "stream",
     "text": [
      "making dataframe done!\n",
      "CPU times: user 37.2 s, sys: 3.22 s, total: 40.4 s\n",
      "Wall time: 1h 5min 2s\n"
     ]
    },
    {
     "name": "stderr",
     "output_type": "stream",
     "text": [
      "\n"
     ]
    }
   ],
   "source": [
    "%time MURASE_SAE = make_produce48_df(name)"
   ]
  },
  {
   "cell_type": "code",
   "execution_count": 89,
   "metadata": {},
   "outputs": [
    {
     "data": {
      "text/plain": [
       "(4362, 3)"
      ]
     },
     "execution_count": 89,
     "metadata": {},
     "output_type": "execute_result"
    }
   ],
   "source": [
    "MURASE_SAE.shape"
   ]
  },
  {
   "cell_type": "code",
   "execution_count": 90,
   "metadata": {},
   "outputs": [
    {
     "data": {
      "text/html": [
       "<div>\n",
       "<style scoped>\n",
       "    .dataframe tbody tr th:only-of-type {\n",
       "        vertical-align: middle;\n",
       "    }\n",
       "\n",
       "    .dataframe tbody tr th {\n",
       "        vertical-align: top;\n",
       "    }\n",
       "\n",
       "    .dataframe thead th {\n",
       "        text-align: right;\n",
       "    }\n",
       "</style>\n",
       "<table border=\"1\" class=\"dataframe\">\n",
       "  <thead>\n",
       "    <tr style=\"text-align: right;\">\n",
       "      <th></th>\n",
       "      <th>User_ID</th>\n",
       "      <th>Comment</th>\n",
       "      <th>Date</th>\n",
       "    </tr>\n",
       "  </thead>\n",
       "  <tbody>\n",
       "    <tr>\n",
       "      <th>4357</th>\n",
       "      <td>정동욱</td>\n",
       "      <td>뽑고싶은분이 너무 많네요ㅎㅎ 예쁘십니다!</td>\n",
       "      <td>2018-05-13</td>\n",
       "    </tr>\n",
       "    <tr>\n",
       "      <th>4358</th>\n",
       "      <td>김윤호</td>\n",
       "      <td>사에삐는 워낙 이쁘니까</td>\n",
       "      <td>2018-05-13</td>\n",
       "    </tr>\n",
       "    <tr>\n",
       "      <th>4359</th>\n",
       "      <td>메리</td>\n",
       "      <td>사에삐 귀여워요ㅠㅠㅠㅠ소중한 한표 많이많이 투표합시다 ㅜㅜㅜㅜ 사에 데뷔하자ㅠㅠㅠㅠ...</td>\n",
       "      <td>2018-05-13</td>\n",
       "    </tr>\n",
       "    <tr>\n",
       "      <th>4360</th>\n",
       "      <td>Kyoungsurk Kam</td>\n",
       "      <td>앞으로 기대할께요...열심히 해주시기를^^</td>\n",
       "      <td>2018-05-13</td>\n",
       "    </tr>\n",
       "    <tr>\n",
       "      <th>4361</th>\n",
       "      <td>이유림</td>\n",
       "      <td>사에 너무 예쁘고 귀엽지 않나요 여러분의 한표를 던져주세요 너무 센스있고 귀여운 아...</td>\n",
       "      <td>2018-05-13</td>\n",
       "    </tr>\n",
       "  </tbody>\n",
       "</table>\n",
       "</div>"
      ],
      "text/plain": [
       "             User_ID                                            Comment  \\\n",
       "4357             정동욱                             뽑고싶은분이 너무 많네요ㅎㅎ 예쁘십니다!   \n",
       "4358             김윤호                                       사에삐는 워낙 이쁘니까   \n",
       "4359              메리  사에삐 귀여워요ㅠㅠㅠㅠ소중한 한표 많이많이 투표합시다 ㅜㅜㅜㅜ 사에 데뷔하자ㅠㅠㅠㅠ...   \n",
       "4360  Kyoungsurk Kam                            앞으로 기대할께요...열심히 해주시기를^^   \n",
       "4361             이유림  사에 너무 예쁘고 귀엽지 않나요 여러분의 한표를 던져주세요 너무 센스있고 귀여운 아...   \n",
       "\n",
       "            Date  \n",
       "4357  2018-05-13  \n",
       "4358  2018-05-13  \n",
       "4359  2018-05-13  \n",
       "4360  2018-05-13  \n",
       "4361  2018-05-13  "
      ]
     },
     "execution_count": 90,
     "metadata": {},
     "output_type": "execute_result"
    }
   ],
   "source": [
    "MURASE_SAE.tail()"
   ]
  },
  {
   "cell_type": "code",
   "execution_count": 91,
   "metadata": {},
   "outputs": [],
   "source": [
    "pickle.dump(MURASE_SAE, open('./produce48/NMB48/MURASE_SAE.pkl','wb'))"
   ]
  },
  {
   "cell_type": "code",
   "execution_count": 92,
   "metadata": {},
   "outputs": [],
   "source": [
    "MURASE_SAE_df = pickle.load(open('./produce48/NMB48/MURASE_SAE.pkl','rb'))"
   ]
  },
  {
   "cell_type": "code",
   "execution_count": 93,
   "metadata": {
    "scrolled": true
   },
   "outputs": [
    {
     "name": "stdout",
     "output_type": "stream",
     "text": [
      "<Response [200]>\n"
     ]
    }
   ],
   "source": [
    "myslack.send_slack('{} finish!'.format(make_df_name()))"
   ]
  },
  {
   "cell_type": "code",
   "execution_count": 94,
   "metadata": {},
   "outputs": [
    {
     "data": {
      "text/html": [
       "<div>\n",
       "<style scoped>\n",
       "    .dataframe tbody tr th:only-of-type {\n",
       "        vertical-align: middle;\n",
       "    }\n",
       "\n",
       "    .dataframe tbody tr th {\n",
       "        vertical-align: top;\n",
       "    }\n",
       "\n",
       "    .dataframe thead th {\n",
       "        text-align: right;\n",
       "    }\n",
       "</style>\n",
       "<table border=\"1\" class=\"dataframe\">\n",
       "  <thead>\n",
       "    <tr style=\"text-align: right;\">\n",
       "      <th></th>\n",
       "      <th>User_ID</th>\n",
       "      <th>Comment</th>\n",
       "      <th>Date</th>\n",
       "    </tr>\n",
       "  </thead>\n",
       "  <tbody>\n",
       "    <tr>\n",
       "      <th>4357</th>\n",
       "      <td>정동욱</td>\n",
       "      <td>뽑고싶은분이 너무 많네요ㅎㅎ 예쁘십니다!</td>\n",
       "      <td>2018-05-13</td>\n",
       "    </tr>\n",
       "    <tr>\n",
       "      <th>4358</th>\n",
       "      <td>김윤호</td>\n",
       "      <td>사에삐는 워낙 이쁘니까</td>\n",
       "      <td>2018-05-13</td>\n",
       "    </tr>\n",
       "    <tr>\n",
       "      <th>4359</th>\n",
       "      <td>메리</td>\n",
       "      <td>사에삐 귀여워요ㅠㅠㅠㅠ소중한 한표 많이많이 투표합시다 ㅜㅜㅜㅜ 사에 데뷔하자ㅠㅠㅠㅠ...</td>\n",
       "      <td>2018-05-13</td>\n",
       "    </tr>\n",
       "    <tr>\n",
       "      <th>4360</th>\n",
       "      <td>Kyoungsurk Kam</td>\n",
       "      <td>앞으로 기대할께요...열심히 해주시기를^^</td>\n",
       "      <td>2018-05-13</td>\n",
       "    </tr>\n",
       "    <tr>\n",
       "      <th>4361</th>\n",
       "      <td>이유림</td>\n",
       "      <td>사에 너무 예쁘고 귀엽지 않나요 여러분의 한표를 던져주세요 너무 센스있고 귀여운 아...</td>\n",
       "      <td>2018-05-13</td>\n",
       "    </tr>\n",
       "  </tbody>\n",
       "</table>\n",
       "</div>"
      ],
      "text/plain": [
       "             User_ID                                            Comment  \\\n",
       "4357             정동욱                             뽑고싶은분이 너무 많네요ㅎㅎ 예쁘십니다!   \n",
       "4358             김윤호                                       사에삐는 워낙 이쁘니까   \n",
       "4359              메리  사에삐 귀여워요ㅠㅠㅠㅠ소중한 한표 많이많이 투표합시다 ㅜㅜㅜㅜ 사에 데뷔하자ㅠㅠㅠㅠ...   \n",
       "4360  Kyoungsurk Kam                            앞으로 기대할께요...열심히 해주시기를^^   \n",
       "4361             이유림  사에 너무 예쁘고 귀엽지 않나요 여러분의 한표를 던져주세요 너무 센스있고 귀여운 아...   \n",
       "\n",
       "            Date  \n",
       "4357  2018-05-13  \n",
       "4358  2018-05-13  \n",
       "4359  2018-05-13  \n",
       "4360  2018-05-13  \n",
       "4361  2018-05-13  "
      ]
     },
     "execution_count": 94,
     "metadata": {},
     "output_type": "execute_result"
    }
   ],
   "source": [
    "MURASE_SAE_df.tail()"
   ]
  },
  {
   "cell_type": "code",
   "execution_count": null,
   "metadata": {},
   "outputs": [],
   "source": []
  },
  {
   "cell_type": "code",
   "execution_count": null,
   "metadata": {},
   "outputs": [],
   "source": []
  },
  {
   "cell_type": "code",
   "execution_count": null,
   "metadata": {},
   "outputs": [],
   "source": []
  },
  {
   "cell_type": "code",
   "execution_count": 95,
   "metadata": {},
   "outputs": [],
   "source": [
    "driver.close() # 창닫기\n",
    "driver.quit() # 브라우져 닫기"
   ]
  },
  {
   "cell_type": "code",
   "execution_count": null,
   "metadata": {},
   "outputs": [],
   "source": []
  }
 ],
 "metadata": {
  "kernelspec": {
   "display_name": "Python 3",
   "language": "python",
   "name": "python3"
  },
  "language_info": {
   "codemirror_mode": {
    "name": "ipython",
    "version": 3
   },
   "file_extension": ".py",
   "mimetype": "text/x-python",
   "name": "python",
   "nbconvert_exporter": "python",
   "pygments_lexer": "ipython3",
   "version": "3.6.4"
  }
 },
 "nbformat": 4,
 "nbformat_minor": 2
}

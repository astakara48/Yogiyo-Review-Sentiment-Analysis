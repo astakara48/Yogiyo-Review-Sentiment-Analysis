{
 "cells": [
  {
   "cell_type": "code",
   "execution_count": 1,
   "metadata": {},
   "outputs": [],
   "source": [
    "import pandas as pd\n",
    "from bs4 import BeautifulSoup\n",
    "import requests\n",
    "from selenium import webdriver\n",
    "import myslack\n",
    "import datetime as dt\n",
    "import pickle\n",
    "import time\n",
    "import re\n",
    "from tqdm import trange"
   ]
  },
  {
   "cell_type": "code",
   "execution_count": 2,
   "metadata": {},
   "outputs": [],
   "source": [
    "driver = webdriver.Chrome()  \n",
    "url = 'http://produce48.mnet.com/pc/profile/0'\n",
    "driver.get(url) "
   ]
  },
  {
   "cell_type": "code",
   "execution_count": 58,
   "metadata": {},
   "outputs": [
    {
     "data": {
      "text/plain": [
       "(7828, 392)"
      ]
     },
     "execution_count": 58,
     "metadata": {},
     "output_type": "execute_result"
    }
   ],
   "source": [
    "review_count = int(driver.find_element_by_xpath('//*[@id=\"comment\"]/div/h2/strong').text)\n",
    "comment_page_count = int(review_count/20)+1\n",
    "review_count, comment_page_count"
   ]
  },
  {
   "cell_type": "code",
   "execution_count": 59,
   "metadata": {},
   "outputs": [],
   "source": [
    "def open_all_comment():\n",
    "    print('이전 댓글 모두 불러오기 시작...')    \n",
    "    for _ in trange(comment_page_count):\n",
    "        try:\n",
    "            driver.execute_script(\"window.scrollTo(0,document.body.scrollHeight);\")\n",
    "            driver.find_element_by_xpath('//*[@id=\"comment\"]/div/div[2]/div/a').click()\n",
    "            time.sleep(0.3)\n",
    "        except Exception as e:\n",
    "            print(e)\n",
    "            time.sleep(1)\n",
    "            pass\n",
    "    driver.execute_script(\"window.scrollTo(0,document.body.scrollHeight);\")\n",
    "    print('이전 댓글 모두 불러오기 성공!')"
   ]
  },
  {
   "cell_type": "code",
   "execution_count": 60,
   "metadata": {
    "scrolled": true
   },
   "outputs": [],
   "source": [
    "def make_produce48_df(trainee_name):\n",
    "    print(trainee_name+'의 댓글 수: '+str(review_count))\n",
    "    open_all_comment()\n",
    "    \n",
    "    print('making dataframe...')\n",
    "    df = pd.DataFrame(columns=['User_ID','Comment','Date'])\n",
    "    for i in trange(review_count):\n",
    "        try:\n",
    "            df.loc[len(df)] = { \n",
    "            'User_ID':driver.find_element_by_xpath('//*[@id=\"comment\"]/div/div[2]/dl[{}]/dd/strong'.format(i+1)).text,\n",
    "            'Comment':driver.find_element_by_xpath('//*[@id=\"comment\"]/div/div[2]/dl[{}]/dd/p'.format(i+1)).text,\n",
    "            'Date':driver.find_element_by_xpath('//*[@id=\"comment\"]/div/div[2]/dl[{}]/dd/span'.format(i+1)).text.split(' ')[0],\n",
    "            }\n",
    "        except Exception as e:\n",
    "            print(e)\n",
    "            pass\n",
    "    print('making dataframe done!')\n",
    "    return df"
   ]
  },
  {
   "cell_type": "code",
   "execution_count": 61,
   "metadata": {},
   "outputs": [
    {
     "data": {
      "text/plain": [
       "('KIM_MIN_JU', '김민주', '얼반웍스')"
      ]
     },
     "execution_count": 61,
     "metadata": {},
     "output_type": "execute_result"
    }
   ],
   "source": [
    "def make_df_name():\n",
    "    eng_name = \\\n",
    "    re.sub(\"[^a-zA-Z]\",\" \",driver.find_element_by_xpath('//*[@id=\"content\"]/div[2]/div[2]/div[1]/dl[2]/dt/p[2]').text).strip()\n",
    "    result = eng_name.replace(' ','_')\n",
    "    return result\n",
    "\n",
    "name = driver.find_element_by_xpath('//*[@id=\"content\"]/div[2]/div[2]/div[1]/dl[2]/dt/p[2]/span').text\n",
    "agency = driver.find_element_by_xpath('//*[@id=\"content\"]/div[2]/div[2]/h4/span').text\n",
    "\n",
    "make_df_name(), name, agency"
   ]
  },
  {
   "cell_type": "code",
   "execution_count": null,
   "metadata": {},
   "outputs": [],
   "source": []
  },
  {
   "cell_type": "code",
   "execution_count": null,
   "metadata": {
    "scrolled": true
   },
   "outputs": [
    {
     "name": "stderr",
     "output_type": "stream",
     "text": [
      "\r",
      "  0%|          | 0/392 [00:00<?, ?it/s]"
     ]
    },
    {
     "name": "stdout",
     "output_type": "stream",
     "text": [
      "김민주의 댓글 수: 7828\n",
      "이전 댓글 모두 불러오기 시작...\n"
     ]
    },
    {
     "name": "stderr",
     "output_type": "stream",
     "text": [
      "  3%|▎         | 10/392 [00:58<37:18,  5.86s/it]"
     ]
    },
    {
     "name": "stdout",
     "output_type": "stream",
     "text": [
      "Message: no such element: Unable to locate element: {\"method\":\"xpath\",\"selector\":\"//*[@id=\"comment\"]/div/div[2]/div/a\"}\n",
      "  (Session info: chrome=68.0.3440.106)\n",
      "  (Driver info: chromedriver=2.39.562713 (dd642283e958a93ebf6891600db055f1f1b4f3b2),platform=Mac OS X 10.13.6 x86_64)\n",
      "\n"
     ]
    },
    {
     "name": "stderr",
     "output_type": "stream",
     "text": [
      "100%|█████████▉| 391/392 [33:47<00:05,  5.18s/it]"
     ]
    },
    {
     "name": "stdout",
     "output_type": "stream",
     "text": [
      "Message: no such element: Unable to locate element: {\"method\":\"xpath\",\"selector\":\"//*[@id=\"comment\"]/div/div[2]/div/a\"}\n",
      "  (Session info: chrome=68.0.3440.106)\n",
      "  (Driver info: chromedriver=2.39.562713 (dd642283e958a93ebf6891600db055f1f1b4f3b2),platform=Mac OS X 10.13.6 x86_64)\n",
      "\n"
     ]
    },
    {
     "name": "stderr",
     "output_type": "stream",
     "text": [
      "100%|██████████| 392/392 [33:49<00:00,  5.18s/it]\n",
      "  0%|          | 0/7828 [00:00<?, ?it/s]"
     ]
    },
    {
     "name": "stdout",
     "output_type": "stream",
     "text": [
      "이전 댓글 모두 불러오기 성공!\n",
      "making dataframe...\n"
     ]
    },
    {
     "name": "stderr",
     "output_type": "stream",
     "text": [
      " 59%|█████▉    | 4616/7828 [1:37:53<1:08:07,  1.27s/it]"
     ]
    }
   ],
   "source": [
    "%time KIM_MIN_JU = make_produce48_df(name)"
   ]
  },
  {
   "cell_type": "code",
   "execution_count": null,
   "metadata": {},
   "outputs": [],
   "source": [
    "KIM_MIN_JU.shape"
   ]
  },
  {
   "cell_type": "code",
   "execution_count": null,
   "metadata": {},
   "outputs": [],
   "source": [
    "KIM_MIN_JU.tail()"
   ]
  },
  {
   "cell_type": "code",
   "execution_count": null,
   "metadata": {},
   "outputs": [],
   "source": [
    "pickle.dump(KIM_MIN_JU, open('./produce48/얼반웍스/KIM_MIN_JU.pkl','wb'))"
   ]
  },
  {
   "cell_type": "code",
   "execution_count": null,
   "metadata": {},
   "outputs": [],
   "source": [
    "KIM_MIN_JU_df = pickle.load(open('./produce48/얼반웍스/KIM_MIN_JU.pkl','rb'))"
   ]
  },
  {
   "cell_type": "code",
   "execution_count": null,
   "metadata": {
    "scrolled": true
   },
   "outputs": [],
   "source": [
    "myslack.send_slack('{} finish!'.format(make_df_name()))"
   ]
  },
  {
   "cell_type": "code",
   "execution_count": null,
   "metadata": {},
   "outputs": [],
   "source": [
    "KIM_MIN_JU_df.tail()"
   ]
  },
  {
   "cell_type": "code",
   "execution_count": null,
   "metadata": {},
   "outputs": [],
   "source": []
  },
  {
   "cell_type": "code",
   "execution_count": null,
   "metadata": {},
   "outputs": [],
   "source": []
  },
  {
   "cell_type": "code",
   "execution_count": null,
   "metadata": {},
   "outputs": [],
   "source": []
  },
  {
   "cell_type": "code",
   "execution_count": 663,
   "metadata": {},
   "outputs": [],
   "source": [
    "driver.close() # 창닫기\n",
    "driver.quit() # 브라우져 닫기"
   ]
  },
  {
   "cell_type": "code",
   "execution_count": null,
   "metadata": {},
   "outputs": [],
   "source": []
  }
 ],
 "metadata": {
  "kernelspec": {
   "display_name": "Python 3",
   "language": "python",
   "name": "python3"
  },
  "language_info": {
   "codemirror_mode": {
    "name": "ipython",
    "version": 3
   },
   "file_extension": ".py",
   "mimetype": "text/x-python",
   "name": "python",
   "nbconvert_exporter": "python",
   "pygments_lexer": "ipython3",
   "version": "3.6.4"
  }
 },
 "nbformat": 4,
 "nbformat_minor": 2
}

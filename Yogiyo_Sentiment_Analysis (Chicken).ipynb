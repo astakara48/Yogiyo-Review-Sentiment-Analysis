{
 "cells": [
  {
   "cell_type": "code",
   "execution_count": 148,
   "metadata": {},
   "outputs": [],
   "source": [
    "from tqdm import tqdm\n",
    "\n",
    "import konlpy\n",
    "import pickle\n",
    "import re\n",
    "\n",
    "from konlpy.tag import Hannanum, Kkma, Komoran, Mecab, Twitter\n",
    "hannanum = Hannanum()\n",
    "kkma = Kkma()\n",
    "twitter = Twitter()\n",
    "\n",
    "import xgboost\n",
    "import lightgbm\n",
    "from sklearn.naive_bayes import MultinomialNB\n",
    "from sklearn.svm import SVC\n",
    "from sklearn.feature_extraction.text import CountVectorizer, TfidfVectorizer\n",
    "from sklearn.pipeline import Pipeline\n",
    "from scipy.sparse import csr_matrix\n",
    "from sklearn.metrics import classification_report,confusion_matrix,accuracy_score"
   ]
  },
  {
   "cell_type": "markdown",
   "metadata": {},
   "source": [
    "---"
   ]
  },
  {
   "cell_type": "markdown",
   "metadata": {},
   "source": [
    "# Train (강남3구 - 치킨)"
   ]
  },
  {
   "cell_type": "markdown",
   "metadata": {},
   "source": [
    "### 강남구"
   ]
  },
  {
   "cell_type": "code",
   "execution_count": 199,
   "metadata": {},
   "outputs": [],
   "source": [
    "def make_train_dataset(gu_list, category):\n",
    "    train_df = pd.DataFrame()\n",
    "    \n",
    "    for gu in gu_list:\n",
    "        if gu=='송파구':\n",
    "            dong_list=['가락동','거여동','마천동','문정동','방이동','삼전동','석촌동','송파동','오금동','오륜동','잠실동','장지동','풍납동']\n",
    "        elif gu=='강남구':\n",
    "            dong_list=['역삼동','개포동','청담동','삼성동','대치동','신사동','논현동','압구정동','세곡동','자곡동','율현동','일원동','수서동','도곡동']\n",
    "        elif gu=='서초구':\n",
    "            dong_list=['반포동','내곡동','방배동','서초동','신원동','양재동','염곡동','우면동','원지동','잠원동']\n",
    "            \n",
    "        for dong in dong_list:\n",
    "            df = pickle.load(open('./data/{}/{} {}_{}_df.pkl'.format(gu,gu,dong,category),'rb'))\n",
    "            train_df = pd.concat([train_df,df],axis=0)\n",
    "    \n",
    "    train_df = train_df.reset_index().drop(columns='index')\n",
    "    train_df.index += 1\n",
    "    return train_df\n",
    "\n",
    "def make_test_dataset(gu_list, category):\n",
    "    test_df = pd.DataFrame()\n",
    "    \n",
    "    for gu in gu_list:\n",
    "        if gu=='광진구':\n",
    "            dong_list=['화양동']\n",
    "            \n",
    "        for dong in dong_list:\n",
    "            df = pickle.load(open('./data/{}/{} {}_{}_df.pkl'.format(gu,gu,dong,category),'rb'))\n",
    "            test_df = pd.concat([test_df,df],axis=0)\n",
    "    \n",
    "    test_df = test_df.reset_index().drop(columns='index')\n",
    "    test_df.index += 1\n",
    "    return test_df\n",
    "\n",
    "def seperate_positive_neutral_negative_point(df,column):\n",
    "#     df[column] = df[column].astype('int')\n",
    "    df.loc[df[column] == '2', column] = '1'    \n",
    "    df.loc[df[column] == '4', column] = '5'\n",
    "    return df"
   ]
  },
  {
   "cell_type": "code",
   "execution_count": 217,
   "metadata": {},
   "outputs": [
    {
     "name": "stdout",
     "output_type": "stream",
     "text": [
      "CPU times: user 1.16 s, sys: 164 ms, total: 1.33 s\n",
      "Wall time: 1.33 s\n"
     ]
    }
   ],
   "source": [
    "%%time\n",
    "\n",
    "gu_list=['송파구','강남구','서초구']\n",
    "category='치킨'\n",
    "\n",
    "train_df = make_train_dataset(gu_list, category)\n",
    "train_df = seperate_positive_neutral_negative_point(train_df,'Total')"
   ]
  },
  {
   "cell_type": "code",
   "execution_count": 218,
   "metadata": {},
   "outputs": [
    {
     "data": {
      "text/html": [
       "<div>\n",
       "<style scoped>\n",
       "    .dataframe tbody tr th:only-of-type {\n",
       "        vertical-align: middle;\n",
       "    }\n",
       "\n",
       "    .dataframe tbody tr th {\n",
       "        vertical-align: top;\n",
       "    }\n",
       "\n",
       "    .dataframe thead th {\n",
       "        text-align: right;\n",
       "    }\n",
       "</style>\n",
       "<table border=\"1\" class=\"dataframe\">\n",
       "  <thead>\n",
       "    <tr style=\"text-align: right;\">\n",
       "      <th></th>\n",
       "      <th>Restaurant</th>\n",
       "      <th>UserID</th>\n",
       "      <th>Menu</th>\n",
       "      <th>Review</th>\n",
       "      <th>Total</th>\n",
       "      <th>Taste</th>\n",
       "      <th>Quantity</th>\n",
       "      <th>Delivery</th>\n",
       "      <th>Date</th>\n",
       "    </tr>\n",
       "  </thead>\n",
       "  <tbody>\n",
       "    <tr>\n",
       "      <th>186343</th>\n",
       "      <td>원엔원치킨-본점</td>\n",
       "      <td>bm**님</td>\n",
       "      <td>양념 치킨（1kg）/1</td>\n",
       "      <td>양은진짜 역대급으로 많네요 근데 먹고 아플꺼같은 느낌입니다 ...</td>\n",
       "      <td>1</td>\n",
       "      <td>2</td>\n",
       "      <td>5</td>\n",
       "      <td>3</td>\n",
       "      <td>2017년 12월 16일</td>\n",
       "    </tr>\n",
       "    <tr>\n",
       "      <th>186344</th>\n",
       "      <td>원엔원치킨-본점</td>\n",
       "      <td>wo**님</td>\n",
       "      <td>세트메뉴1（필로바베큐컴비네이션 R＋후라이드치킨）/1</td>\n",
       "      <td>치킨도 괜찮고, 피자는 도우가 패스츄리라서 신기하네요. 맛있고 양도 괜찮았습니다.</td>\n",
       "      <td>5</td>\n",
       "      <td>5</td>\n",
       "      <td>5</td>\n",
       "      <td>4</td>\n",
       "      <td>2017년 12월 16일</td>\n",
       "    </tr>\n",
       "    <tr>\n",
       "      <th>186345</th>\n",
       "      <td>원엔원치킨-본점</td>\n",
       "      <td>dm**님</td>\n",
       "      <td>후라이드 치킨 （1kg）/2</td>\n",
       "      <td>치킨을 딱 본 순간 거뭇한 튀김옷에서 오래된 기름이 사용되었음을 알았습니다 치킨도 ...</td>\n",
       "      <td>5</td>\n",
       "      <td>5</td>\n",
       "      <td>5</td>\n",
       "      <td>5</td>\n",
       "      <td>2017년 12월 16일</td>\n",
       "    </tr>\n",
       "    <tr>\n",
       "      <th>186346</th>\n",
       "      <td>원엔원치킨-본점</td>\n",
       "      <td>pi**님</td>\n",
       "      <td>세트메뉴1（아라비안고로곤졸라 L＋후라이드치킨）/1</td>\n",
       "      <td>음... 여러가지 상호명을 쓰지만 한집인가보네요. 피자는 라지라고 적어놨지만 레귤러...</td>\n",
       "      <td>5</td>\n",
       "      <td>4</td>\n",
       "      <td>4</td>\n",
       "      <td>4</td>\n",
       "      <td>2017년 12월 14일</td>\n",
       "    </tr>\n",
       "    <tr>\n",
       "      <th>186347</th>\n",
       "      <td>원엔원치킨-본점</td>\n",
       "      <td>si**님</td>\n",
       "      <td>후라이드＋양념（2마리）/1</td>\n",
       "      <td>양념이랑.후라이드 맛있네요 배달도 빠르고 양이진짜 엄청많아요</td>\n",
       "      <td>5</td>\n",
       "      <td>5</td>\n",
       "      <td>5</td>\n",
       "      <td>5</td>\n",
       "      <td>2017년 12월 14일</td>\n",
       "    </tr>\n",
       "  </tbody>\n",
       "</table>\n",
       "</div>"
      ],
      "text/plain": [
       "       Restaurant UserID                          Menu  \\\n",
       "186343   원엔원치킨-본점  bm**님                  양념 치킨（1kg）/1   \n",
       "186344   원엔원치킨-본점  wo**님  세트메뉴1（필로바베큐컴비네이션 R＋후라이드치킨）/1   \n",
       "186345   원엔원치킨-본점  dm**님               후라이드 치킨 （1kg）/2   \n",
       "186346   원엔원치킨-본점  pi**님   세트메뉴1（아라비안고로곤졸라 L＋후라이드치킨）/1   \n",
       "186347   원엔원치킨-본점  si**님                후라이드＋양념（2마리）/1   \n",
       "\n",
       "                                                   Review Total Taste  \\\n",
       "186343               양은진짜 역대급으로 많네요 근데 먹고 아플꺼같은 느낌입니다 ...     1     2   \n",
       "186344      치킨도 괜찮고, 피자는 도우가 패스츄리라서 신기하네요. 맛있고 양도 괜찮았습니다.     5     5   \n",
       "186345  치킨을 딱 본 순간 거뭇한 튀김옷에서 오래된 기름이 사용되었음을 알았습니다 치킨도 ...     5     5   \n",
       "186346  음... 여러가지 상호명을 쓰지만 한집인가보네요. 피자는 라지라고 적어놨지만 레귤러...     5     4   \n",
       "186347                  양념이랑.후라이드 맛있네요 배달도 빠르고 양이진짜 엄청많아요     5     5   \n",
       "\n",
       "       Quantity Delivery           Date  \n",
       "186343        5        3  2017년 12월 16일  \n",
       "186344        5        4  2017년 12월 16일  \n",
       "186345        5        5  2017년 12월 16일  \n",
       "186346        4        4  2017년 12월 14일  \n",
       "186347        5        5  2017년 12월 14일  "
      ]
     },
     "execution_count": 218,
     "metadata": {},
     "output_type": "execute_result"
    }
   ],
   "source": [
    "train_df.tail()"
   ]
  },
  {
   "cell_type": "code",
   "execution_count": 219,
   "metadata": {
    "scrolled": true
   },
   "outputs": [
    {
     "data": {
      "text/plain": [
       "5    158023\n",
       "3     14459\n",
       "1     13865\n",
       "Name: Total, dtype: int64"
      ]
     },
     "execution_count": 219,
     "metadata": {},
     "output_type": "execute_result"
    }
   ],
   "source": [
    "train_df['Total'].value_counts()"
   ]
  },
  {
   "cell_type": "code",
   "execution_count": null,
   "metadata": {},
   "outputs": [],
   "source": []
  },
  {
   "cell_type": "markdown",
   "metadata": {
    "cell_style": "split"
   },
   "source": [
    "## hannanum"
   ]
  },
  {
   "cell_type": "markdown",
   "metadata": {
    "cell_style": "split"
   },
   "source": [
    "## twitter"
   ]
  },
  {
   "cell_type": "code",
   "execution_count": 220,
   "metadata": {
    "cell_style": "split"
   },
   "outputs": [
    {
     "data": {
      "text/plain": [
       "['양도작고', '고', '계란찜이너무작아서']"
      ]
     },
     "execution_count": 220,
     "metadata": {},
     "output_type": "execute_result"
    }
   ],
   "source": [
    "hannanum.nouns(train_df['Review'][1])"
   ]
  },
  {
   "cell_type": "code",
   "execution_count": 221,
   "metadata": {
    "cell_style": "split"
   },
   "outputs": [
    {
     "data": {
      "text/plain": [
       "['양도', '작고', '고기', '계란찜', '너무']"
      ]
     },
     "execution_count": 221,
     "metadata": {},
     "output_type": "execute_result"
    }
   ],
   "source": [
    "twitter.nouns(train_df['Review'][1])"
   ]
  },
  {
   "cell_type": "code",
   "execution_count": 222,
   "metadata": {
    "cell_style": "split",
    "scrolled": true
   },
   "outputs": [
    {
     "data": {
      "text/plain": [
       "['양도작고',\n",
       " '고',\n",
       " '이',\n",
       " '기',\n",
       " '도',\n",
       " '딱딱하',\n",
       " '어',\n",
       " '고',\n",
       " '.....',\n",
       " '계란찜이너무작아서',\n",
       " '아쉽',\n",
       " '었어',\n",
       " '요',\n",
       " '....']"
      ]
     },
     "execution_count": 222,
     "metadata": {},
     "output_type": "execute_result"
    }
   ],
   "source": [
    "hannanum.morphs(train_df['Review'][1])"
   ]
  },
  {
   "cell_type": "code",
   "execution_count": 223,
   "metadata": {
    "cell_style": "split"
   },
   "outputs": [
    {
     "data": {
      "text/plain": [
       "['양도',\n",
       " '작고',\n",
       " '고기',\n",
       " '도',\n",
       " '딱딱하고',\n",
       " '.....',\n",
       " '계란찜',\n",
       " '이',\n",
       " '너무',\n",
       " '작아',\n",
       " '서',\n",
       " '아쉬웠',\n",
       " '어요',\n",
       " '....']"
      ]
     },
     "execution_count": 223,
     "metadata": {},
     "output_type": "execute_result"
    }
   ],
   "source": [
    "twitter.morphs(train_df['Review'][1])"
   ]
  },
  {
   "cell_type": "code",
   "execution_count": 236,
   "metadata": {
    "scrolled": true
   },
   "outputs": [
    {
     "data": {
      "text/html": [
       "<div>\n",
       "<style scoped>\n",
       "    .dataframe tbody tr th:only-of-type {\n",
       "        vertical-align: middle;\n",
       "    }\n",
       "\n",
       "    .dataframe tbody tr th {\n",
       "        vertical-align: top;\n",
       "    }\n",
       "\n",
       "    .dataframe thead th {\n",
       "        text-align: right;\n",
       "    }\n",
       "</style>\n",
       "<table border=\"1\" class=\"dataframe\">\n",
       "  <thead>\n",
       "    <tr style=\"text-align: right;\">\n",
       "      <th></th>\n",
       "      <th>Restaurant</th>\n",
       "      <th>UserID</th>\n",
       "      <th>Menu</th>\n",
       "      <th>Review</th>\n",
       "      <th>Total</th>\n",
       "      <th>Taste</th>\n",
       "      <th>Quantity</th>\n",
       "      <th>Delivery</th>\n",
       "      <th>Date</th>\n",
       "    </tr>\n",
       "  </thead>\n",
       "  <tbody>\n",
       "    <tr>\n",
       "      <th>1</th>\n",
       "      <td>홍초불닭</td>\n",
       "      <td>fa**님</td>\n",
       "      <td>세트（기본메뉴 小＋계란찜＋주먹밥）/1(맛 선택(순한맛),추가 선택(치즈 추가),메뉴...</td>\n",
       "      <td>양도작고 고기도 딱딱하고..... 계란찜이너무작아서 아쉬웠어요....</td>\n",
       "      <td>1</td>\n",
       "      <td>2</td>\n",
       "      <td>1</td>\n",
       "      <td>4</td>\n",
       "      <td>4일 전</td>\n",
       "    </tr>\n",
       "    <tr>\n",
       "      <th>2</th>\n",
       "      <td>홍초불닭</td>\n",
       "      <td>ii**님</td>\n",
       "      <td>세트（기본메뉴 小＋계란찜＋주먹밥）/1(맛 선택(매운맛),메뉴 선택(양념구이불족발))</td>\n",
       "      <td>최악 새벽 3시 47분에 주문 오전 6시 4분에 배달 심지어 메뉴도 잘못... 2만...</td>\n",
       "      <td>1</td>\n",
       "      <td>1</td>\n",
       "      <td>1</td>\n",
       "      <td>1</td>\n",
       "      <td>2018년 8월 10일</td>\n",
       "    </tr>\n",
       "    <tr>\n",
       "      <th>3</th>\n",
       "      <td>홍초불닭</td>\n",
       "      <td>dd**님</td>\n",
       "      <td>세트（기본메뉴 小＋계란찜＋주먹밥）/1(맛 선택(중간맛),추가 선택(치즈 추가),메뉴...</td>\n",
       "      <td>오랜만에 맛 있네요 ^^</td>\n",
       "      <td>3</td>\n",
       "      <td>4</td>\n",
       "      <td>3</td>\n",
       "      <td>3</td>\n",
       "      <td>2018년 8월 5일</td>\n",
       "    </tr>\n",
       "    <tr>\n",
       "      <th>4</th>\n",
       "      <td>홍초불닭</td>\n",
       "      <td>손님</td>\n",
       "      <td>세트（기본메뉴 小＋계란찜＋주먹밥）/1(맛 선택(중간맛),추가 선택(치즈 추가),메뉴...</td>\n",
       "      <td>음식도 많고 맛있어요</td>\n",
       "      <td>5</td>\n",
       "      <td>4</td>\n",
       "      <td>4</td>\n",
       "      <td>4</td>\n",
       "      <td>2018년 8월 2일</td>\n",
       "    </tr>\n",
       "    <tr>\n",
       "      <th>5</th>\n",
       "      <td>홍초불닭</td>\n",
       "      <td>js**님</td>\n",
       "      <td>세트（기본메뉴 小＋계란찜＋주먹밥）/1(맛 선택(중간맛),추가 선택(치즈 추가),메뉴...</td>\n",
       "      <td>쿨피스 2개 시켰는데 큰거 2개에 작은거 하나 더 주셨어욤ㅎㅎㅎ 무뼈닭발인데 뼈가 ...</td>\n",
       "      <td>5</td>\n",
       "      <td>4</td>\n",
       "      <td>4</td>\n",
       "      <td>4</td>\n",
       "      <td>2018년 7월 25일</td>\n",
       "    </tr>\n",
       "    <tr>\n",
       "      <th>6</th>\n",
       "      <td>홍초불닭</td>\n",
       "      <td>2g**님</td>\n",
       "      <td>세트（기본메뉴 小＋계란찜＋주먹밥）/1(맛 선택(순한맛),메뉴 선택(무뼈닭발))</td>\n",
       "      <td>너무나 맛있네여</td>\n",
       "      <td>5</td>\n",
       "      <td>4</td>\n",
       "      <td>4</td>\n",
       "      <td>4</td>\n",
       "      <td>2018년 7월 10일</td>\n",
       "    </tr>\n",
       "    <tr>\n",
       "      <th>7</th>\n",
       "      <td>홍초불닭</td>\n",
       "      <td>tb**님</td>\n",
       "      <td>세트（기본메뉴 小＋계란찜＋주먹밥）/1(맛 선택(순한맛),메뉴 선택(무뼈닭발))</td>\n",
       "      <td>닭발 밑에 파가 잇어 달달한맛이나서 확실히 호불호가 갈리는 맛이지만 제 입맛에는 괜...</td>\n",
       "      <td>5</td>\n",
       "      <td>4</td>\n",
       "      <td>4</td>\n",
       "      <td>4</td>\n",
       "      <td>2018년 6월 12일</td>\n",
       "    </tr>\n",
       "    <tr>\n",
       "      <th>8</th>\n",
       "      <td>홍초불닭</td>\n",
       "      <td>co**님</td>\n",
       "      <td>세트（기본메뉴 小＋계란찜＋주먹밥）/1(맛 선택(순한맛),메뉴 선택(순살불닭))</td>\n",
       "      <td>양이나 배달은 좋았는데 맛이 제 취향이 아니네요...</td>\n",
       "      <td>3</td>\n",
       "      <td>3</td>\n",
       "      <td>4</td>\n",
       "      <td>4</td>\n",
       "      <td>2018년 5월 26일</td>\n",
       "    </tr>\n",
       "    <tr>\n",
       "      <th>9</th>\n",
       "      <td>홍초불닭</td>\n",
       "      <td>mi**님</td>\n",
       "      <td>오돌뼈/1(사이즈 선택(小),맛 선택(매운맛)),주먹밥/2</td>\n",
       "      <td>야식으로 술 안주로 딱이네요ㅠㅎ</td>\n",
       "      <td>5</td>\n",
       "      <td>5</td>\n",
       "      <td>5</td>\n",
       "      <td>5</td>\n",
       "      <td>2018년 5월 17일</td>\n",
       "    </tr>\n",
       "    <tr>\n",
       "      <th>10</th>\n",
       "      <td>홍초불닭</td>\n",
       "      <td>yu**님</td>\n",
       "      <td>무뼈닭발/1(사이즈 선택(小),맛 선택(순한맛),추가 선택(치즈 추가)),쿨피스/1</td>\n",
       "      <td>맛나요.......</td>\n",
       "      <td>3</td>\n",
       "      <td>4</td>\n",
       "      <td>4</td>\n",
       "      <td>4</td>\n",
       "      <td>2018년 5월 16일</td>\n",
       "    </tr>\n",
       "    <tr>\n",
       "      <th>11</th>\n",
       "      <td>홍초불닭</td>\n",
       "      <td>du**님</td>\n",
       "      <td>세트（기본메뉴 大＋계란찜＋주먹밥）/1(맛 선택(중간맛),추가 선택(치즈 추가),메뉴...</td>\n",
       "      <td>여기 정말 별루네요 시켜주고 욕먹기 딱이에요. 별점주기도 아까움 빠른배달만 좋음 대...</td>\n",
       "      <td>1</td>\n",
       "      <td>2</td>\n",
       "      <td>1</td>\n",
       "      <td>3</td>\n",
       "      <td>2018년 5월 14일</td>\n",
       "    </tr>\n",
       "    <tr>\n",
       "      <th>12</th>\n",
       "      <td>홍초불닭</td>\n",
       "      <td>wh**님</td>\n",
       "      <td>무뼈닭발/1(사이즈 선택(小),맛 선택(매운맛)),김치주먹밥/1,콜라 500mL/1</td>\n",
       "      <td>별 하나도 주기 아깝네요. 맛도 없고 한두개 집어 먹고 버렸네요 양이 많은지 알았는...</td>\n",
       "      <td>1</td>\n",
       "      <td>1</td>\n",
       "      <td>1</td>\n",
       "      <td>3</td>\n",
       "      <td>2018년 5월 13일</td>\n",
       "    </tr>\n",
       "    <tr>\n",
       "      <th>13</th>\n",
       "      <td>홍초불닭</td>\n",
       "      <td>hj**님</td>\n",
       "      <td>세트（기본메뉴 小＋계란찜＋주먹밥）/1(맛 선택(매운맛),추가 선택(치즈 추가),메뉴...</td>\n",
       "      <td>리뷰가왜안좋은지모르겠네; 세트시켜먹었는데 2만원에 이정도면 요즘 혜자아닌가.. 한가...</td>\n",
       "      <td>5</td>\n",
       "      <td>4</td>\n",
       "      <td>3</td>\n",
       "      <td>4</td>\n",
       "      <td>2018년 4월 14일</td>\n",
       "    </tr>\n",
       "    <tr>\n",
       "      <th>14</th>\n",
       "      <td>홍초불닭</td>\n",
       "      <td>do**님</td>\n",
       "      <td>세트（기본메뉴 大＋계란찜＋주먹밥）/1(맛 선택(순한맛),메뉴 선택(무뼈닭발))</td>\n",
       "      <td>무뼈 닭발 시켰는데 뼈가 조금씩 있네요..;; 타서 그런지 까만 부분은 먹기가 좀 ...</td>\n",
       "      <td>3</td>\n",
       "      <td>2</td>\n",
       "      <td>2</td>\n",
       "      <td>5</td>\n",
       "      <td>2018년 2월 3일</td>\n",
       "    </tr>\n",
       "    <tr>\n",
       "      <th>15</th>\n",
       "      <td>홍초불닭</td>\n",
       "      <td>go**님</td>\n",
       "      <td></td>\n",
       "      <td>매우맛있진않았지만 매콤한게 좋았어요</td>\n",
       "      <td>5</td>\n",
       "      <td></td>\n",
       "      <td></td>\n",
       "      <td></td>\n",
       "      <td>2017년 9월 16일</td>\n",
       "    </tr>\n",
       "    <tr>\n",
       "      <th>16</th>\n",
       "      <td>홍초불닭</td>\n",
       "      <td>um**님</td>\n",
       "      <td>순살불닭/1(사이즈 선택(大),맛 선택(중간맛))</td>\n",
       "      <td>예전 프랜차이즈였던 홍초불닭과 어떤 관계가 있는지는 모르겠지만 맛은 전혀 다릅니다....</td>\n",
       "      <td>1</td>\n",
       "      <td></td>\n",
       "      <td></td>\n",
       "      <td></td>\n",
       "      <td>2017년 4월 21일</td>\n",
       "    </tr>\n",
       "    <tr>\n",
       "      <th>17</th>\n",
       "      <td>치킨매니아-강남송파점</td>\n",
       "      <td>ch**님</td>\n",
       "      <td>새우치킨/1(한마리／순살(한마리))</td>\n",
       "      <td>맛있어요ㅎㅎㅎㅎㅎㅎ</td>\n",
       "      <td>5</td>\n",
       "      <td>4</td>\n",
       "      <td>5</td>\n",
       "      <td>5</td>\n",
       "      <td>4일 전</td>\n",
       "    </tr>\n",
       "    <tr>\n",
       "      <th>18</th>\n",
       "      <td>치킨매니아-강남송파점</td>\n",
       "      <td>li**님</td>\n",
       "      <td>간장치킨/1(한마리／순살(순살))</td>\n",
       "      <td>간장치킨이 너무 맛있어요</td>\n",
       "      <td>5</td>\n",
       "      <td>3</td>\n",
       "      <td>3</td>\n",
       "      <td>3</td>\n",
       "      <td>5일 전</td>\n",
       "    </tr>\n",
       "    <tr>\n",
       "      <th>19</th>\n",
       "      <td>치킨매니아-강남송파점</td>\n",
       "      <td>li**님</td>\n",
       "      <td>간장치킨/1(한마리／순살(순살))</td>\n",
       "      <td>딱딱한 것만 아니면 좋아요</td>\n",
       "      <td>5</td>\n",
       "      <td>3</td>\n",
       "      <td>3</td>\n",
       "      <td>3</td>\n",
       "      <td>5일 전</td>\n",
       "    </tr>\n",
       "    <tr>\n",
       "      <th>20</th>\n",
       "      <td>치킨매니아-강남송파점</td>\n",
       "      <td>ak**님</td>\n",
       "      <td>새우치킨/1(한마리／순살(한마리),치킨과 함께 주문시 할인!(떠먹는 피자),소스 추...</td>\n",
       "      <td>배달기사님 인상좋으셔서 좋겠다 했는데 다신 여기서 안시켜먹을려고요 이게무슨 밀가루반...</td>\n",
       "      <td>1</td>\n",
       "      <td>1</td>\n",
       "      <td>1</td>\n",
       "      <td>3</td>\n",
       "      <td>2018년 8월 9일</td>\n",
       "    </tr>\n",
       "    <tr>\n",
       "      <th>21</th>\n",
       "      <td>치킨매니아-강남송파점</td>\n",
       "      <td>co**님</td>\n",
       "      <td></td>\n",
       "      <td>원래 그런 치킨인지는 모르겠으나 두조각째 먹다가 너무 딱딱하고 질겨서 다버렸습니다 ...</td>\n",
       "      <td>1</td>\n",
       "      <td>1</td>\n",
       "      <td>3</td>\n",
       "      <td>1</td>\n",
       "      <td>2018년 7월 31일</td>\n",
       "    </tr>\n",
       "    <tr>\n",
       "      <th>22</th>\n",
       "      <td>치킨매니아-강남송파점</td>\n",
       "      <td>zr**님</td>\n",
       "      <td>새우치킨/1(한마리／순살(한마리))</td>\n",
       "      <td>맛있게 잘먹었습니다!!!</td>\n",
       "      <td>5</td>\n",
       "      <td>4</td>\n",
       "      <td>4</td>\n",
       "      <td>4</td>\n",
       "      <td>2018년 7월 21일</td>\n",
       "    </tr>\n",
       "    <tr>\n",
       "      <th>23</th>\n",
       "      <td>치킨매니아-강남송파점</td>\n",
       "      <td>li**님</td>\n",
       "      <td>간장치킨/1(한마리／순살(순살))</td>\n",
       "      <td>좀 딱딱했지만 맛있었어요</td>\n",
       "      <td>5</td>\n",
       "      <td>4</td>\n",
       "      <td>3</td>\n",
       "      <td>3</td>\n",
       "      <td>2018년 7월 15일</td>\n",
       "    </tr>\n",
       "    <tr>\n",
       "      <th>24</th>\n",
       "      <td>치킨매니아-강남송파점</td>\n",
       "      <td>dm**님</td>\n",
       "      <td>새우치킨/1(한마리／순살(순살))</td>\n",
       "      <td>맛있고 배달도 친절한데 가격이 너무 비싸요</td>\n",
       "      <td>5</td>\n",
       "      <td>5</td>\n",
       "      <td>5</td>\n",
       "      <td>5</td>\n",
       "      <td>2018년 7월 14일</td>\n",
       "    </tr>\n",
       "    <tr>\n",
       "      <th>25</th>\n",
       "      <td>치킨매니아-강남송파점</td>\n",
       "      <td>yo**님</td>\n",
       "      <td>새우치킨/1(한마리／순살(순살)),순살치즈오븐구이/1,핫 후라이드 반마리/1(소스 ...</td>\n",
       "      <td>역시 맛있고 친절해요 ^^</td>\n",
       "      <td>5</td>\n",
       "      <td>5</td>\n",
       "      <td>5</td>\n",
       "      <td>5</td>\n",
       "      <td>2018년 7월 14일</td>\n",
       "    </tr>\n",
       "    <tr>\n",
       "      <th>26</th>\n",
       "      <td>치킨매니아-강남송파점</td>\n",
       "      <td>do**님</td>\n",
       "      <td></td>\n",
       "      <td>1시간 20분. 넘어도. 안와서 취소했는데. 취소. 잘해줘서. 좋아요</td>\n",
       "      <td>1</td>\n",
       "      <td>2</td>\n",
       "      <td>2</td>\n",
       "      <td>1</td>\n",
       "      <td>2018년 7월 5일</td>\n",
       "    </tr>\n",
       "    <tr>\n",
       "      <th>27</th>\n",
       "      <td>치킨매니아-강남송파점</td>\n",
       "      <td>ga**님</td>\n",
       "      <td>새우치킨/1(한마리／순살(순살))</td>\n",
       "      <td>배달이 조금 느리긴했지만 맛있습니다.</td>\n",
       "      <td>5</td>\n",
       "      <td>4</td>\n",
       "      <td>4</td>\n",
       "      <td>3</td>\n",
       "      <td>2018년 7월 1일</td>\n",
       "    </tr>\n",
       "    <tr>\n",
       "      <th>28</th>\n",
       "      <td>치킨매니아-강남송파점</td>\n",
       "      <td>kj**님</td>\n",
       "      <td>매니아 순살파닭/1</td>\n",
       "      <td>맛있었어요. 파도 많고 고기도 많고 맛있었습니다!</td>\n",
       "      <td>5</td>\n",
       "      <td>5</td>\n",
       "      <td>5</td>\n",
       "      <td>5</td>\n",
       "      <td>2018년 6월 29일</td>\n",
       "    </tr>\n",
       "    <tr>\n",
       "      <th>29</th>\n",
       "      <td>치킨매니아-강남송파점</td>\n",
       "      <td>ja**님</td>\n",
       "      <td>새우치킨/1(한마리／순살(순살))</td>\n",
       "      <td>다른지점에서 먹다가 거기인줄 알고 시켰는데 맛이달라 너무 아쉬웠네요. 소스가 너무 ...</td>\n",
       "      <td>3</td>\n",
       "      <td>1</td>\n",
       "      <td>3</td>\n",
       "      <td>3</td>\n",
       "      <td>2018년 6월 24일</td>\n",
       "    </tr>\n",
       "    <tr>\n",
       "      <th>30</th>\n",
       "      <td>치킨매니아-강남송파점</td>\n",
       "      <td>om**님</td>\n",
       "      <td>새우치킨/1(한마리／순살(한마리))</td>\n",
       "      <td>괜찮았어요..너무 기대했나보아요</td>\n",
       "      <td>5</td>\n",
       "      <td>4</td>\n",
       "      <td>4</td>\n",
       "      <td>4</td>\n",
       "      <td>2018년 6월 19일</td>\n",
       "    </tr>\n",
       "    <tr>\n",
       "      <th>...</th>\n",
       "      <td>...</td>\n",
       "      <td>...</td>\n",
       "      <td>...</td>\n",
       "      <td>...</td>\n",
       "      <td>...</td>\n",
       "      <td>...</td>\n",
       "      <td>...</td>\n",
       "      <td>...</td>\n",
       "      <td>...</td>\n",
       "    </tr>\n",
       "    <tr>\n",
       "      <th>186318</th>\n",
       "      <td>JH양동시장통닭</td>\n",
       "      <td>fi**님</td>\n",
       "      <td>양동시장통닭/1(파／떡사리 추가(파 추가)),코카콜라 1.25L/1</td>\n",
       "      <td>광주에서 먹던맛 생각해서 시켰는데 기름 밖에없네여 통닭이에요 비싸고 별로였어요</td>\n",
       "      <td>1</td>\n",
       "      <td></td>\n",
       "      <td></td>\n",
       "      <td></td>\n",
       "      <td>2015년 11월 28일</td>\n",
       "    </tr>\n",
       "    <tr>\n",
       "      <th>186319</th>\n",
       "      <td>JH양동시장통닭</td>\n",
       "      <td>ji**님</td>\n",
       "      <td>양동시장통닭/1(파／떡사리 추가(파 추가))</td>\n",
       "      <td>맛있어요~^^둘이먹었는데 양도적당해요</td>\n",
       "      <td>5</td>\n",
       "      <td></td>\n",
       "      <td></td>\n",
       "      <td></td>\n",
       "      <td>2015년 11월 26일</td>\n",
       "    </tr>\n",
       "    <tr>\n",
       "      <th>186320</th>\n",
       "      <td>JH양동시장통닭</td>\n",
       "      <td>in**님</td>\n",
       "      <td>양동후라이드/1,모듬감자튀김 R/1</td>\n",
       "      <td>감자튀김 기대많이 했는데 진짜 먹을수없을만큼 맛이 써요. 2만이상 주문했는데 대실망...</td>\n",
       "      <td>1</td>\n",
       "      <td></td>\n",
       "      <td></td>\n",
       "      <td></td>\n",
       "      <td>2015년 11월 20일</td>\n",
       "    </tr>\n",
       "    <tr>\n",
       "      <th>186321</th>\n",
       "      <td>JH양동시장통닭</td>\n",
       "      <td>fa**님</td>\n",
       "      <td>양동시장통닭/1,양동순살양념오븐바베큐/1(맛 조절 선택(무난한맛),파／떡사리 추가(...</td>\n",
       "      <td>겁나맛있어서 리뷰쓰며 또 주문함ㅋㅋㅋ 순살양념에 파추가해서 먹으니 겁나맛있음ㅋㅋ 뜨...</td>\n",
       "      <td>5</td>\n",
       "      <td></td>\n",
       "      <td></td>\n",
       "      <td></td>\n",
       "      <td>2015년 11월 16일</td>\n",
       "    </tr>\n",
       "    <tr>\n",
       "      <th>186322</th>\n",
       "      <td>JH양동시장통닭</td>\n",
       "      <td>in**님</td>\n",
       "      <td></td>\n",
       "      <td>40분 걸린다더니 한시간 넘게 걸리고. 다 식어서와서 딱딱 ㅡ.ㅡ</td>\n",
       "      <td>1</td>\n",
       "      <td></td>\n",
       "      <td></td>\n",
       "      <td></td>\n",
       "      <td>2015년 11월 12일</td>\n",
       "    </tr>\n",
       "    <tr>\n",
       "      <th>186323</th>\n",
       "      <td>JH양동시장통닭</td>\n",
       "      <td>ct**님</td>\n",
       "      <td>양동순살양념오븐바베큐/1(맛 조절 선택(살짝매운맛),파／떡사리 추가(떡사리 추가))</td>\n",
       "      <td>살짝매운이 생각보다 많이 맵네요. 그래도 맛잇어요~</td>\n",
       "      <td>5</td>\n",
       "      <td></td>\n",
       "      <td></td>\n",
       "      <td></td>\n",
       "      <td>2015년 11월 10일</td>\n",
       "    </tr>\n",
       "    <tr>\n",
       "      <th>186324</th>\n",
       "      <td>JH양동시장통닭</td>\n",
       "      <td>cc**님</td>\n",
       "      <td>양동후라이드/1</td>\n",
       "      <td>조각으로 오는군요..</td>\n",
       "      <td>3</td>\n",
       "      <td></td>\n",
       "      <td></td>\n",
       "      <td></td>\n",
       "      <td>2015년 11월 3일</td>\n",
       "    </tr>\n",
       "    <tr>\n",
       "      <th>186325</th>\n",
       "      <td>JH양동시장통닭</td>\n",
       "      <td>wa**님</td>\n",
       "      <td>양동후라이드/1</td>\n",
       "      <td>진짜마시따ㅡㅡ 살찐다ㅠㅠ</td>\n",
       "      <td>5</td>\n",
       "      <td></td>\n",
       "      <td></td>\n",
       "      <td></td>\n",
       "      <td>2015년 11월 2일</td>\n",
       "    </tr>\n",
       "    <tr>\n",
       "      <th>186326</th>\n",
       "      <td>JH양동시장통닭</td>\n",
       "      <td>wa**님</td>\n",
       "      <td>양동후라이드/1</td>\n",
       "      <td>쩔어...</td>\n",
       "      <td>5</td>\n",
       "      <td></td>\n",
       "      <td></td>\n",
       "      <td></td>\n",
       "      <td>2015년 10월 23일</td>\n",
       "    </tr>\n",
       "    <tr>\n",
       "      <th>186327</th>\n",
       "      <td>JH양동시장통닭</td>\n",
       "      <td>dj**님</td>\n",
       "      <td></td>\n",
       "      <td>굳</td>\n",
       "      <td>5</td>\n",
       "      <td></td>\n",
       "      <td></td>\n",
       "      <td></td>\n",
       "      <td>2015년 10월 23일</td>\n",
       "    </tr>\n",
       "    <tr>\n",
       "      <th>186328</th>\n",
       "      <td>JH양동시장통닭</td>\n",
       "      <td>sk**님</td>\n",
       "      <td></td>\n",
       "      <td>폭탄맛 시켜먹었어요 닭도 떡도 짱입니다</td>\n",
       "      <td>5</td>\n",
       "      <td></td>\n",
       "      <td></td>\n",
       "      <td></td>\n",
       "      <td>2015년 10월 22일</td>\n",
       "    </tr>\n",
       "    <tr>\n",
       "      <th>186329</th>\n",
       "      <td>JH양동시장통닭</td>\n",
       "      <td>sk**님</td>\n",
       "      <td>양동순살양념오븐바베큐/1(맛 조절 선택(무난한맛))</td>\n",
       "      <td>좋아요</td>\n",
       "      <td>5</td>\n",
       "      <td></td>\n",
       "      <td></td>\n",
       "      <td></td>\n",
       "      <td>2015년 10월 13일</td>\n",
       "    </tr>\n",
       "    <tr>\n",
       "      <th>186330</th>\n",
       "      <td>JH양동시장통닭</td>\n",
       "      <td>손님</td>\n",
       "      <td></td>\n",
       "      <td>맛있어요</td>\n",
       "      <td>5</td>\n",
       "      <td></td>\n",
       "      <td></td>\n",
       "      <td></td>\n",
       "      <td>2015년 10월 12일</td>\n",
       "    </tr>\n",
       "    <tr>\n",
       "      <th>186331</th>\n",
       "      <td>JH양동시장통닭</td>\n",
       "      <td>lo**님</td>\n",
       "      <td></td>\n",
       "      <td>사진은 못찍엇는데 걍 개맛잇네요</td>\n",
       "      <td>5</td>\n",
       "      <td></td>\n",
       "      <td></td>\n",
       "      <td></td>\n",
       "      <td>2015년 10월 5일</td>\n",
       "    </tr>\n",
       "    <tr>\n",
       "      <th>186332</th>\n",
       "      <td>JH양동시장통닭</td>\n",
       "      <td>ll**님</td>\n",
       "      <td>양동순살오븐바베큐/1(파／떡사리 추가(떡사리 추가)),새우튀김 10개/1</td>\n",
       "      <td>담백하고 맛나요~</td>\n",
       "      <td>5</td>\n",
       "      <td></td>\n",
       "      <td></td>\n",
       "      <td></td>\n",
       "      <td>2015년 10월 4일</td>\n",
       "    </tr>\n",
       "    <tr>\n",
       "      <th>186333</th>\n",
       "      <td>JH양동시장통닭</td>\n",
       "      <td>xj**님</td>\n",
       "      <td>양동후라이드/1</td>\n",
       "      <td>후라이드 시켰는데 엄청 바삭하고 맛있어요!!</td>\n",
       "      <td>5</td>\n",
       "      <td></td>\n",
       "      <td></td>\n",
       "      <td></td>\n",
       "      <td>2015년 9월 29일</td>\n",
       "    </tr>\n",
       "    <tr>\n",
       "      <th>186334</th>\n",
       "      <td>원엔원치킨-본점</td>\n",
       "      <td>rm**님</td>\n",
       "      <td>후라이드＋양념（2마리）（2kg）/1</td>\n",
       "      <td>신촌점 맛있을줄몰랐는데 존맛..!♡</td>\n",
       "      <td>5</td>\n",
       "      <td>5</td>\n",
       "      <td>5</td>\n",
       "      <td>5</td>\n",
       "      <td>2017년 12월 28일</td>\n",
       "    </tr>\n",
       "    <tr>\n",
       "      <th>186335</th>\n",
       "      <td>원엔원치킨-본점</td>\n",
       "      <td>pi**님</td>\n",
       "      <td>후라이드＋양념（2마리）（2kg）/1</td>\n",
       "      <td>양이 어마어마 합니다. 정말 잘먹는 성인 남자 3명이서 배터지는지 알았어요. 양념소...</td>\n",
       "      <td>5</td>\n",
       "      <td>4</td>\n",
       "      <td>5</td>\n",
       "      <td>3</td>\n",
       "      <td>2017년 12월 25일</td>\n",
       "    </tr>\n",
       "    <tr>\n",
       "      <th>186336</th>\n",
       "      <td>원엔원치킨-본점</td>\n",
       "      <td>hy**님</td>\n",
       "      <td>세트메뉴1（필로매운쉬림프 R＋후라이드치킨）/1</td>\n",
       "      <td>맛이나 배달이나 모두 괜찮네요 종종 시켜먹을게요</td>\n",
       "      <td>5</td>\n",
       "      <td>3</td>\n",
       "      <td>4</td>\n",
       "      <td>4</td>\n",
       "      <td>2017년 12월 20일</td>\n",
       "    </tr>\n",
       "    <tr>\n",
       "      <th>186337</th>\n",
       "      <td>원엔원치킨-본점</td>\n",
       "      <td>손님</td>\n",
       "      <td>후라이드＋양념（2마리）（2kg）/1</td>\n",
       "      <td>배달빨리와서좋네요 음식 너무 맛있어요!</td>\n",
       "      <td>5</td>\n",
       "      <td>5</td>\n",
       "      <td>5</td>\n",
       "      <td>5</td>\n",
       "      <td>2017년 12월 20일</td>\n",
       "    </tr>\n",
       "    <tr>\n",
       "      <th>186338</th>\n",
       "      <td>원엔원치킨-본점</td>\n",
       "      <td>손님</td>\n",
       "      <td>후라이드＋양념（2마리）（2kg）/1</td>\n",
       "      <td>맛잇어요ㅋㅋㅋㅋㅋㅋ</td>\n",
       "      <td>5</td>\n",
       "      <td>5</td>\n",
       "      <td>5</td>\n",
       "      <td>5</td>\n",
       "      <td>2017년 12월 19일</td>\n",
       "    </tr>\n",
       "    <tr>\n",
       "      <th>186339</th>\n",
       "      <td>원엔원치킨-본점</td>\n",
       "      <td>sh**님</td>\n",
       "      <td>세트메뉴3（필로매운쉬림프 L＋파닭치킨）/1</td>\n",
       "      <td>배달이너무 느려서 다식어서 별로...</td>\n",
       "      <td>3</td>\n",
       "      <td>4</td>\n",
       "      <td>4</td>\n",
       "      <td>2</td>\n",
       "      <td>2017년 12월 17일</td>\n",
       "    </tr>\n",
       "    <tr>\n",
       "      <th>186340</th>\n",
       "      <td>원엔원치킨-본점</td>\n",
       "      <td>my**님</td>\n",
       "      <td></td>\n",
       "      <td>정말최고입니다 맛있어요</td>\n",
       "      <td>5</td>\n",
       "      <td>5</td>\n",
       "      <td>5</td>\n",
       "      <td>5</td>\n",
       "      <td>2017년 12월 17일</td>\n",
       "    </tr>\n",
       "    <tr>\n",
       "      <th>186341</th>\n",
       "      <td>원엔원치킨-본점</td>\n",
       "      <td>ki**님</td>\n",
       "      <td>세트메뉴1（필로바베큐컴비네이션 L＋후라이드치킨）/1</td>\n",
       "      <td>피자니 치킨이나 결국 결론은 메이커 시켜드세요.... 정가가 2만 5천이라는데......</td>\n",
       "      <td>1</td>\n",
       "      <td>1</td>\n",
       "      <td>1</td>\n",
       "      <td>1</td>\n",
       "      <td>2017년 12월 16일</td>\n",
       "    </tr>\n",
       "    <tr>\n",
       "      <th>186342</th>\n",
       "      <td>원엔원치킨-본점</td>\n",
       "      <td>rm**님</td>\n",
       "      <td>세트메뉴2（아라비안고로곤졸라 L＋양념치킨）/1</td>\n",
       "      <td>주문한지 2시간30분지났는데 아직도 안왔습니다... 전화를 해서 주문 제대로 들어가...</td>\n",
       "      <td>1</td>\n",
       "      <td>3</td>\n",
       "      <td>3</td>\n",
       "      <td>1</td>\n",
       "      <td>2017년 12월 16일</td>\n",
       "    </tr>\n",
       "    <tr>\n",
       "      <th>186343</th>\n",
       "      <td>원엔원치킨-본점</td>\n",
       "      <td>bm**님</td>\n",
       "      <td>양념 치킨（1kg）/1</td>\n",
       "      <td>양은진짜 역대급으로 많네요 근데 먹고 아플꺼같은 느낌입니다 ...</td>\n",
       "      <td>1</td>\n",
       "      <td>2</td>\n",
       "      <td>5</td>\n",
       "      <td>3</td>\n",
       "      <td>2017년 12월 16일</td>\n",
       "    </tr>\n",
       "    <tr>\n",
       "      <th>186344</th>\n",
       "      <td>원엔원치킨-본점</td>\n",
       "      <td>wo**님</td>\n",
       "      <td>세트메뉴1（필로바베큐컴비네이션 R＋후라이드치킨）/1</td>\n",
       "      <td>치킨도 괜찮고, 피자는 도우가 패스츄리라서 신기하네요. 맛있고 양도 괜찮았습니다.</td>\n",
       "      <td>5</td>\n",
       "      <td>5</td>\n",
       "      <td>5</td>\n",
       "      <td>4</td>\n",
       "      <td>2017년 12월 16일</td>\n",
       "    </tr>\n",
       "    <tr>\n",
       "      <th>186345</th>\n",
       "      <td>원엔원치킨-본점</td>\n",
       "      <td>dm**님</td>\n",
       "      <td>후라이드 치킨 （1kg）/2</td>\n",
       "      <td>치킨을 딱 본 순간 거뭇한 튀김옷에서 오래된 기름이 사용되었음을 알았습니다 치킨도 ...</td>\n",
       "      <td>5</td>\n",
       "      <td>5</td>\n",
       "      <td>5</td>\n",
       "      <td>5</td>\n",
       "      <td>2017년 12월 16일</td>\n",
       "    </tr>\n",
       "    <tr>\n",
       "      <th>186346</th>\n",
       "      <td>원엔원치킨-본점</td>\n",
       "      <td>pi**님</td>\n",
       "      <td>세트메뉴1（아라비안고로곤졸라 L＋후라이드치킨）/1</td>\n",
       "      <td>음... 여러가지 상호명을 쓰지만 한집인가보네요. 피자는 라지라고 적어놨지만 레귤러...</td>\n",
       "      <td>5</td>\n",
       "      <td>4</td>\n",
       "      <td>4</td>\n",
       "      <td>4</td>\n",
       "      <td>2017년 12월 14일</td>\n",
       "    </tr>\n",
       "    <tr>\n",
       "      <th>186347</th>\n",
       "      <td>원엔원치킨-본점</td>\n",
       "      <td>si**님</td>\n",
       "      <td>후라이드＋양념（2마리）/1</td>\n",
       "      <td>양념이랑.후라이드 맛있네요 배달도 빠르고 양이진짜 엄청많아요</td>\n",
       "      <td>5</td>\n",
       "      <td>5</td>\n",
       "      <td>5</td>\n",
       "      <td>5</td>\n",
       "      <td>2017년 12월 14일</td>\n",
       "    </tr>\n",
       "  </tbody>\n",
       "</table>\n",
       "<p>186347 rows × 9 columns</p>\n",
       "</div>"
      ],
      "text/plain": [
       "         Restaurant UserID                                               Menu  \\\n",
       "1              홍초불닭  fa**님  세트（기본메뉴 小＋계란찜＋주먹밥）/1(맛 선택(순한맛),추가 선택(치즈 추가),메뉴...   \n",
       "2              홍초불닭  ii**님     세트（기본메뉴 小＋계란찜＋주먹밥）/1(맛 선택(매운맛),메뉴 선택(양념구이불족발))   \n",
       "3              홍초불닭  dd**님  세트（기본메뉴 小＋계란찜＋주먹밥）/1(맛 선택(중간맛),추가 선택(치즈 추가),메뉴...   \n",
       "4              홍초불닭     손님  세트（기본메뉴 小＋계란찜＋주먹밥）/1(맛 선택(중간맛),추가 선택(치즈 추가),메뉴...   \n",
       "5              홍초불닭  js**님  세트（기본메뉴 小＋계란찜＋주먹밥）/1(맛 선택(중간맛),추가 선택(치즈 추가),메뉴...   \n",
       "6              홍초불닭  2g**님        세트（기본메뉴 小＋계란찜＋주먹밥）/1(맛 선택(순한맛),메뉴 선택(무뼈닭발))   \n",
       "7              홍초불닭  tb**님        세트（기본메뉴 小＋계란찜＋주먹밥）/1(맛 선택(순한맛),메뉴 선택(무뼈닭발))   \n",
       "8              홍초불닭  co**님        세트（기본메뉴 小＋계란찜＋주먹밥）/1(맛 선택(순한맛),메뉴 선택(순살불닭))   \n",
       "9              홍초불닭  mi**님                   오돌뼈/1(사이즈 선택(小),맛 선택(매운맛)),주먹밥/2   \n",
       "10             홍초불닭  yu**님     무뼈닭발/1(사이즈 선택(小),맛 선택(순한맛),추가 선택(치즈 추가)),쿨피스/1   \n",
       "11             홍초불닭  du**님  세트（기본메뉴 大＋계란찜＋주먹밥）/1(맛 선택(중간맛),추가 선택(치즈 추가),메뉴...   \n",
       "12             홍초불닭  wh**님     무뼈닭발/1(사이즈 선택(小),맛 선택(매운맛)),김치주먹밥/1,콜라 500mL/1   \n",
       "13             홍초불닭  hj**님  세트（기본메뉴 小＋계란찜＋주먹밥）/1(맛 선택(매운맛),추가 선택(치즈 추가),메뉴...   \n",
       "14             홍초불닭  do**님        세트（기본메뉴 大＋계란찜＋주먹밥）/1(맛 선택(순한맛),메뉴 선택(무뼈닭발))   \n",
       "15             홍초불닭  go**님                                                      \n",
       "16             홍초불닭  um**님                        순살불닭/1(사이즈 선택(大),맛 선택(중간맛))   \n",
       "17      치킨매니아-강남송파점  ch**님                                새우치킨/1(한마리／순살(한마리))   \n",
       "18      치킨매니아-강남송파점  li**님                                 간장치킨/1(한마리／순살(순살))   \n",
       "19      치킨매니아-강남송파점  li**님                                 간장치킨/1(한마리／순살(순살))   \n",
       "20      치킨매니아-강남송파점  ak**님  새우치킨/1(한마리／순살(한마리),치킨과 함께 주문시 할인!(떠먹는 피자),소스 추...   \n",
       "21      치킨매니아-강남송파점  co**님                                                      \n",
       "22      치킨매니아-강남송파점  zr**님                                새우치킨/1(한마리／순살(한마리))   \n",
       "23      치킨매니아-강남송파점  li**님                                 간장치킨/1(한마리／순살(순살))   \n",
       "24      치킨매니아-강남송파점  dm**님                                 새우치킨/1(한마리／순살(순살))   \n",
       "25      치킨매니아-강남송파점  yo**님  새우치킨/1(한마리／순살(순살)),순살치즈오븐구이/1,핫 후라이드 반마리/1(소스 ...   \n",
       "26      치킨매니아-강남송파점  do**님                                                      \n",
       "27      치킨매니아-강남송파점  ga**님                                 새우치킨/1(한마리／순살(순살))   \n",
       "28      치킨매니아-강남송파점  kj**님                                         매니아 순살파닭/1   \n",
       "29      치킨매니아-강남송파점  ja**님                                 새우치킨/1(한마리／순살(순살))   \n",
       "30      치킨매니아-강남송파점  om**님                                새우치킨/1(한마리／순살(한마리))   \n",
       "...             ...    ...                                                ...   \n",
       "186318     JH양동시장통닭  fi**님              양동시장통닭/1(파／떡사리 추가(파 추가)),코카콜라 1.25L/1   \n",
       "186319     JH양동시장통닭  ji**님                           양동시장통닭/1(파／떡사리 추가(파 추가))   \n",
       "186320     JH양동시장통닭  in**님                                양동후라이드/1,모듬감자튀김 R/1   \n",
       "186321     JH양동시장통닭  fa**님  양동시장통닭/1,양동순살양념오븐바베큐/1(맛 조절 선택(무난한맛),파／떡사리 추가(...   \n",
       "186322     JH양동시장통닭  in**님                                                      \n",
       "186323     JH양동시장통닭  ct**님     양동순살양념오븐바베큐/1(맛 조절 선택(살짝매운맛),파／떡사리 추가(떡사리 추가))   \n",
       "186324     JH양동시장통닭  cc**님                                           양동후라이드/1   \n",
       "186325     JH양동시장통닭  wa**님                                           양동후라이드/1   \n",
       "186326     JH양동시장통닭  wa**님                                           양동후라이드/1   \n",
       "186327     JH양동시장통닭  dj**님                                                      \n",
       "186328     JH양동시장통닭  sk**님                                                      \n",
       "186329     JH양동시장통닭  sk**님                       양동순살양념오븐바베큐/1(맛 조절 선택(무난한맛))   \n",
       "186330     JH양동시장통닭     손님                                                      \n",
       "186331     JH양동시장통닭  lo**님                                                      \n",
       "186332     JH양동시장통닭  ll**님           양동순살오븐바베큐/1(파／떡사리 추가(떡사리 추가)),새우튀김 10개/1   \n",
       "186333     JH양동시장통닭  xj**님                                           양동후라이드/1   \n",
       "186334     원엔원치킨-본점  rm**님                                후라이드＋양념（2마리）（2kg）/1   \n",
       "186335     원엔원치킨-본점  pi**님                                후라이드＋양념（2마리）（2kg）/1   \n",
       "186336     원엔원치킨-본점  hy**님                          세트메뉴1（필로매운쉬림프 R＋후라이드치킨）/1   \n",
       "186337     원엔원치킨-본점     손님                                후라이드＋양념（2마리）（2kg）/1   \n",
       "186338     원엔원치킨-본점     손님                                후라이드＋양념（2마리）（2kg）/1   \n",
       "186339     원엔원치킨-본점  sh**님                            세트메뉴3（필로매운쉬림프 L＋파닭치킨）/1   \n",
       "186340     원엔원치킨-본점  my**님                                                      \n",
       "186341     원엔원치킨-본점  ki**님                       세트메뉴1（필로바베큐컴비네이션 L＋후라이드치킨）/1   \n",
       "186342     원엔원치킨-본점  rm**님                          세트메뉴2（아라비안고로곤졸라 L＋양념치킨）/1   \n",
       "186343     원엔원치킨-본점  bm**님                                       양념 치킨（1kg）/1   \n",
       "186344     원엔원치킨-본점  wo**님                       세트메뉴1（필로바베큐컴비네이션 R＋후라이드치킨）/1   \n",
       "186345     원엔원치킨-본점  dm**님                                    후라이드 치킨 （1kg）/2   \n",
       "186346     원엔원치킨-본점  pi**님                        세트메뉴1（아라비안고로곤졸라 L＋후라이드치킨）/1   \n",
       "186347     원엔원치킨-본점  si**님                                     후라이드＋양념（2마리）/1   \n",
       "\n",
       "                                                   Review Total Taste  \\\n",
       "1                  양도작고 고기도 딱딱하고..... 계란찜이너무작아서 아쉬웠어요....     1     2   \n",
       "2       최악 새벽 3시 47분에 주문 오전 6시 4분에 배달 심지어 메뉴도 잘못... 2만...     1     1   \n",
       "3                                           오랜만에 맛 있네요 ^^     3     4   \n",
       "4                                             음식도 많고 맛있어요     5     4   \n",
       "5       쿨피스 2개 시켰는데 큰거 2개에 작은거 하나 더 주셨어욤ㅎㅎㅎ 무뼈닭발인데 뼈가 ...     5     4   \n",
       "6                                                너무나 맛있네여     5     4   \n",
       "7       닭발 밑에 파가 잇어 달달한맛이나서 확실히 호불호가 갈리는 맛이지만 제 입맛에는 괜...     5     4   \n",
       "8                           양이나 배달은 좋았는데 맛이 제 취향이 아니네요...     3     3   \n",
       "9                                       야식으로 술 안주로 딱이네요ㅠㅎ     5     5   \n",
       "10                                             맛나요.......     3     4   \n",
       "11      여기 정말 별루네요 시켜주고 욕먹기 딱이에요. 별점주기도 아까움 빠른배달만 좋음 대...     1     2   \n",
       "12      별 하나도 주기 아깝네요. 맛도 없고 한두개 집어 먹고 버렸네요 양이 많은지 알았는...     1     1   \n",
       "13      리뷰가왜안좋은지모르겠네; 세트시켜먹었는데 2만원에 이정도면 요즘 혜자아닌가.. 한가...     5     4   \n",
       "14      무뼈 닭발 시켰는데 뼈가 조금씩 있네요..;; 타서 그런지 까만 부분은 먹기가 좀 ...     3     2   \n",
       "15                                    매우맛있진않았지만 매콤한게 좋았어요     5         \n",
       "16      예전 프랜차이즈였던 홍초불닭과 어떤 관계가 있는지는 모르겠지만 맛은 전혀 다릅니다....     1         \n",
       "17                                             맛있어요ㅎㅎㅎㅎㅎㅎ     5     4   \n",
       "18                                          간장치킨이 너무 맛있어요     5     3   \n",
       "19                                         딱딱한 것만 아니면 좋아요     5     3   \n",
       "20      배달기사님 인상좋으셔서 좋겠다 했는데 다신 여기서 안시켜먹을려고요 이게무슨 밀가루반...     1     1   \n",
       "21      원래 그런 치킨인지는 모르겠으나 두조각째 먹다가 너무 딱딱하고 질겨서 다버렸습니다 ...     1     1   \n",
       "22                                          맛있게 잘먹었습니다!!!     5     4   \n",
       "23                                          좀 딱딱했지만 맛있었어요     5     4   \n",
       "24                                맛있고 배달도 친절한데 가격이 너무 비싸요     5     5   \n",
       "25                                         역시 맛있고 친절해요 ^^     5     5   \n",
       "26                 1시간 20분. 넘어도. 안와서 취소했는데. 취소. 잘해줘서. 좋아요     1     2   \n",
       "27                                   배달이 조금 느리긴했지만 맛있습니다.     5     4   \n",
       "28                            맛있었어요. 파도 많고 고기도 많고 맛있었습니다!     5     5   \n",
       "29      다른지점에서 먹다가 거기인줄 알고 시켰는데 맛이달라 너무 아쉬웠네요. 소스가 너무 ...     3     1   \n",
       "30                                      괜찮았어요..너무 기대했나보아요     5     4   \n",
       "...                                                   ...   ...   ...   \n",
       "186318        광주에서 먹던맛 생각해서 시켰는데 기름 밖에없네여 통닭이에요 비싸고 별로였어요     1         \n",
       "186319                               맛있어요~^^둘이먹었는데 양도적당해요     5         \n",
       "186320  감자튀김 기대많이 했는데 진짜 먹을수없을만큼 맛이 써요. 2만이상 주문했는데 대실망...     1         \n",
       "186321  겁나맛있어서 리뷰쓰며 또 주문함ㅋㅋㅋ 순살양념에 파추가해서 먹으니 겁나맛있음ㅋㅋ 뜨...     5         \n",
       "186322               40분 걸린다더니 한시간 넘게 걸리고. 다 식어서와서 딱딱 ㅡ.ㅡ     1         \n",
       "186323                       살짝매운이 생각보다 많이 맵네요. 그래도 맛잇어요~     5         \n",
       "186324                                        조각으로 오는군요..     3         \n",
       "186325                                      진짜마시따ㅡㅡ 살찐다ㅠㅠ     5         \n",
       "186326                                              쩔어...     5         \n",
       "186327                                                  굳     5         \n",
       "186328                              폭탄맛 시켜먹었어요 닭도 떡도 짱입니다     5         \n",
       "186329                                                좋아요     5         \n",
       "186330                                               맛있어요     5         \n",
       "186331                                  사진은 못찍엇는데 걍 개맛잇네요     5         \n",
       "186332                                          담백하고 맛나요~     5         \n",
       "186333                           후라이드 시켰는데 엄청 바삭하고 맛있어요!!     5         \n",
       "186334                                신촌점 맛있을줄몰랐는데 존맛..!♡     5     5   \n",
       "186335  양이 어마어마 합니다. 정말 잘먹는 성인 남자 3명이서 배터지는지 알았어요. 양념소...     5     4   \n",
       "186336                         맛이나 배달이나 모두 괜찮네요 종종 시켜먹을게요     5     3   \n",
       "186337                              배달빨리와서좋네요 음식 너무 맛있어요!     5     5   \n",
       "186338                                         맛잇어요ㅋㅋㅋㅋㅋㅋ     5     5   \n",
       "186339                               배달이너무 느려서 다식어서 별로...     3     4   \n",
       "186340                                       정말최고입니다 맛있어요     5     5   \n",
       "186341  피자니 치킨이나 결국 결론은 메이커 시켜드세요.... 정가가 2만 5천이라는데......     1     1   \n",
       "186342  주문한지 2시간30분지났는데 아직도 안왔습니다... 전화를 해서 주문 제대로 들어가...     1     3   \n",
       "186343               양은진짜 역대급으로 많네요 근데 먹고 아플꺼같은 느낌입니다 ...     1     2   \n",
       "186344      치킨도 괜찮고, 피자는 도우가 패스츄리라서 신기하네요. 맛있고 양도 괜찮았습니다.     5     5   \n",
       "186345  치킨을 딱 본 순간 거뭇한 튀김옷에서 오래된 기름이 사용되었음을 알았습니다 치킨도 ...     5     5   \n",
       "186346  음... 여러가지 상호명을 쓰지만 한집인가보네요. 피자는 라지라고 적어놨지만 레귤러...     5     4   \n",
       "186347                  양념이랑.후라이드 맛있네요 배달도 빠르고 양이진짜 엄청많아요     5     5   \n",
       "\n",
       "       Quantity Delivery           Date  \n",
       "1             1        4           4일 전  \n",
       "2             1        1   2018년 8월 10일  \n",
       "3             3        3    2018년 8월 5일  \n",
       "4             4        4    2018년 8월 2일  \n",
       "5             4        4   2018년 7월 25일  \n",
       "6             4        4   2018년 7월 10일  \n",
       "7             4        4   2018년 6월 12일  \n",
       "8             4        4   2018년 5월 26일  \n",
       "9             5        5   2018년 5월 17일  \n",
       "10            4        4   2018년 5월 16일  \n",
       "11            1        3   2018년 5월 14일  \n",
       "12            1        3   2018년 5월 13일  \n",
       "13            3        4   2018년 4월 14일  \n",
       "14            2        5    2018년 2월 3일  \n",
       "15                         2017년 9월 16일  \n",
       "16                         2017년 4월 21일  \n",
       "17            5        5           4일 전  \n",
       "18            3        3           5일 전  \n",
       "19            3        3           5일 전  \n",
       "20            1        3    2018년 8월 9일  \n",
       "21            3        1   2018년 7월 31일  \n",
       "22            4        4   2018년 7월 21일  \n",
       "23            3        3   2018년 7월 15일  \n",
       "24            5        5   2018년 7월 14일  \n",
       "25            5        5   2018년 7월 14일  \n",
       "26            2        1    2018년 7월 5일  \n",
       "27            4        3    2018년 7월 1일  \n",
       "28            5        5   2018년 6월 29일  \n",
       "29            3        3   2018년 6월 24일  \n",
       "30            4        4   2018년 6월 19일  \n",
       "...         ...      ...            ...  \n",
       "186318                    2015년 11월 28일  \n",
       "186319                    2015년 11월 26일  \n",
       "186320                    2015년 11월 20일  \n",
       "186321                    2015년 11월 16일  \n",
       "186322                    2015년 11월 12일  \n",
       "186323                    2015년 11월 10일  \n",
       "186324                     2015년 11월 3일  \n",
       "186325                     2015년 11월 2일  \n",
       "186326                    2015년 10월 23일  \n",
       "186327                    2015년 10월 23일  \n",
       "186328                    2015년 10월 22일  \n",
       "186329                    2015년 10월 13일  \n",
       "186330                    2015년 10월 12일  \n",
       "186331                     2015년 10월 5일  \n",
       "186332                     2015년 10월 4일  \n",
       "186333                     2015년 9월 29일  \n",
       "186334        5        5  2017년 12월 28일  \n",
       "186335        5        3  2017년 12월 25일  \n",
       "186336        4        4  2017년 12월 20일  \n",
       "186337        5        5  2017년 12월 20일  \n",
       "186338        5        5  2017년 12월 19일  \n",
       "186339        4        2  2017년 12월 17일  \n",
       "186340        5        5  2017년 12월 17일  \n",
       "186341        1        1  2017년 12월 16일  \n",
       "186342        3        1  2017년 12월 16일  \n",
       "186343        5        3  2017년 12월 16일  \n",
       "186344        5        4  2017년 12월 16일  \n",
       "186345        5        5  2017년 12월 16일  \n",
       "186346        4        4  2017년 12월 14일  \n",
       "186347        5        5  2017년 12월 14일  \n",
       "\n",
       "[186347 rows x 9 columns]"
      ]
     },
     "execution_count": 236,
     "metadata": {},
     "output_type": "execute_result"
    }
   ],
   "source": [
    "train_df"
   ]
  },
  {
   "cell_type": "markdown",
   "metadata": {},
   "source": [
    "---"
   ]
  },
  {
   "cell_type": "code",
   "execution_count": null,
   "metadata": {},
   "outputs": [],
   "source": []
  },
  {
   "cell_type": "code",
   "execution_count": null,
   "metadata": {},
   "outputs": [],
   "source": []
  },
  {
   "cell_type": "markdown",
   "metadata": {},
   "source": [
    "# Test (방이2동 - 치킨)"
   ]
  },
  {
   "cell_type": "code",
   "execution_count": 224,
   "metadata": {},
   "outputs": [
    {
     "name": "stdout",
     "output_type": "stream",
     "text": [
      "CPU times: user 86.5 ms, sys: 16.8 ms, total: 103 ms\n",
      "Wall time: 102 ms\n"
     ]
    }
   ],
   "source": [
    "%%time\n",
    "\n",
    "gu_list=['광진구']\n",
    "category='치킨'\n",
    "\n",
    "test_df = make_test_dataset(gu_list, category)\n",
    "test_df = seperate_positive_neutral_negative_point(test_df,'Total')"
   ]
  },
  {
   "cell_type": "code",
   "execution_count": 225,
   "metadata": {
    "scrolled": true
   },
   "outputs": [
    {
     "data": {
      "text/html": [
       "<div>\n",
       "<style scoped>\n",
       "    .dataframe tbody tr th:only-of-type {\n",
       "        vertical-align: middle;\n",
       "    }\n",
       "\n",
       "    .dataframe tbody tr th {\n",
       "        vertical-align: top;\n",
       "    }\n",
       "\n",
       "    .dataframe thead th {\n",
       "        text-align: right;\n",
       "    }\n",
       "</style>\n",
       "<table border=\"1\" class=\"dataframe\">\n",
       "  <thead>\n",
       "    <tr style=\"text-align: right;\">\n",
       "      <th></th>\n",
       "      <th>Restaurant</th>\n",
       "      <th>UserID</th>\n",
       "      <th>Menu</th>\n",
       "      <th>Review</th>\n",
       "      <th>Total</th>\n",
       "      <th>Taste</th>\n",
       "      <th>Quantity</th>\n",
       "      <th>Delivery</th>\n",
       "      <th>Date</th>\n",
       "    </tr>\n",
       "  </thead>\n",
       "  <tbody>\n",
       "    <tr>\n",
       "      <th>21046</th>\n",
       "      <td>롯데리아-건대스타시티점</td>\n",
       "      <td>ch**님</td>\n",
       "      <td>AZ（아재）버거 오리지널/1,양념감자/1(&lt;시즈닝 선택&gt;(시즈닝_오니언맛)),시즈닝...</td>\n",
       "      <td>성수점이 가깝지만, 요기요 서비스가 안되서 조금 멀어도 건대점을 이용했습니다. 거리...</td>\n",
       "      <td>3</td>\n",
       "      <td></td>\n",
       "      <td></td>\n",
       "      <td></td>\n",
       "      <td>2016년 10월 11일</td>\n",
       "    </tr>\n",
       "    <tr>\n",
       "      <th>21047</th>\n",
       "      <td>롯데리아-건대스타시티점</td>\n",
       "      <td>ha**님</td>\n",
       "      <td>트윈B팩/1(&lt;시즈닝 선택&gt;(시즈닝_오니언맛))</td>\n",
       "      <td>식지않고 따뜻하게 맛있게 왔어여!,</td>\n",
       "      <td>5</td>\n",
       "      <td></td>\n",
       "      <td></td>\n",
       "      <td></td>\n",
       "      <td>2016년 10월 6일</td>\n",
       "    </tr>\n",
       "    <tr>\n",
       "      <th>21048</th>\n",
       "      <td>롯데리아-건대스타시티점</td>\n",
       "      <td>rl**님</td>\n",
       "      <td>치킨버거 세트/1(&lt;디저트 선택&gt;(양념감자（오니언）),&lt;드링크 선택&gt;(세트 콜라（R...</td>\n",
       "      <td>좋아요~ 만족했습니다~</td>\n",
       "      <td>5</td>\n",
       "      <td></td>\n",
       "      <td></td>\n",
       "      <td></td>\n",
       "      <td>2016년 9월 23일</td>\n",
       "    </tr>\n",
       "    <tr>\n",
       "      <th>21049</th>\n",
       "      <td>호식이두마리치킨-화양점</td>\n",
       "      <td>kj**님</td>\n",
       "      <td>후라이드치킨＋양념소스치킨＋콜라/1(치킨 선택(순살＋순살（1kg）))</td>\n",
       "      <td>먹기 좋은 크기에 양,배달,맛 완전 훌륭해요~~</td>\n",
       "      <td>5</td>\n",
       "      <td>5</td>\n",
       "      <td>5</td>\n",
       "      <td>5</td>\n",
       "      <td>14시간 전</td>\n",
       "    </tr>\n",
       "    <tr>\n",
       "      <th>21050</th>\n",
       "      <td>호식이두마리치킨-화양점</td>\n",
       "      <td>ai**님</td>\n",
       "      <td>양념소스치킨＋콜라/1(치킨선택 1(뼈있는치킨))</td>\n",
       "      <td>맛나게 잘먹었어요.</td>\n",
       "      <td>5</td>\n",
       "      <td>4</td>\n",
       "      <td>4</td>\n",
       "      <td>5</td>\n",
       "      <td>2일 전</td>\n",
       "    </tr>\n",
       "  </tbody>\n",
       "</table>\n",
       "</div>"
      ],
      "text/plain": [
       "         Restaurant UserID                                               Menu  \\\n",
       "21046  롯데리아-건대스타시티점  ch**님  AZ（아재）버거 오리지널/1,양념감자/1(<시즈닝 선택>(시즈닝_오니언맛)),시즈닝...   \n",
       "21047  롯데리아-건대스타시티점  ha**님                         트윈B팩/1(<시즈닝 선택>(시즈닝_오니언맛))   \n",
       "21048  롯데리아-건대스타시티점  rl**님  치킨버거 세트/1(<디저트 선택>(양념감자（오니언）),<드링크 선택>(세트 콜라（R...   \n",
       "21049  호식이두마리치킨-화양점  kj**님              후라이드치킨＋양념소스치킨＋콜라/1(치킨 선택(순살＋순살（1kg）))   \n",
       "21050  호식이두마리치킨-화양점  ai**님                         양념소스치킨＋콜라/1(치킨선택 1(뼈있는치킨))   \n",
       "\n",
       "                                                  Review Total Taste Quantity  \\\n",
       "21046  성수점이 가깝지만, 요기요 서비스가 안되서 조금 멀어도 건대점을 이용했습니다. 거리...     3                  \n",
       "21047                                식지않고 따뜻하게 맛있게 왔어여!,     5                  \n",
       "21048                                       좋아요~ 만족했습니다~     5                  \n",
       "21049                         먹기 좋은 크기에 양,배달,맛 완전 훌륭해요~~     5     5        5   \n",
       "21050                                         맛나게 잘먹었어요.     5     4        4   \n",
       "\n",
       "      Delivery           Date  \n",
       "21046           2016년 10월 11일  \n",
       "21047            2016년 10월 6일  \n",
       "21048            2016년 9월 23일  \n",
       "21049        5         14시간 전  \n",
       "21050        5           2일 전  "
      ]
     },
     "execution_count": 225,
     "metadata": {},
     "output_type": "execute_result"
    }
   ],
   "source": [
    "test_df.tail()"
   ]
  },
  {
   "cell_type": "code",
   "execution_count": 226,
   "metadata": {
    "scrolled": true
   },
   "outputs": [
    {
     "data": {
      "text/plain": [
       "5    17804\n",
       "1     1661\n",
       "3     1585\n",
       "Name: Total, dtype: int64"
      ]
     },
     "execution_count": 226,
     "metadata": {},
     "output_type": "execute_result"
    }
   ],
   "source": [
    "test_df['Total'].value_counts()"
   ]
  },
  {
   "cell_type": "markdown",
   "metadata": {},
   "source": [
    "---"
   ]
  },
  {
   "cell_type": "markdown",
   "metadata": {},
   "source": [
    "## Naive Bayes Model"
   ]
  },
  {
   "cell_type": "code",
   "execution_count": 243,
   "metadata": {},
   "outputs": [
    {
     "data": {
      "text/plain": [
       "186347"
      ]
     },
     "execution_count": 243,
     "metadata": {},
     "output_type": "execute_result"
    }
   ],
   "source": [
    "X = train_df['Review']\n",
    "len(X)"
   ]
  },
  {
   "cell_type": "code",
   "execution_count": 244,
   "metadata": {},
   "outputs": [
    {
     "data": {
      "text/plain": [
       "186347"
      ]
     },
     "execution_count": 244,
     "metadata": {},
     "output_type": "execute_result"
    }
   ],
   "source": [
    "y = train_df['Total']\n",
    "len(y)"
   ]
  },
  {
   "cell_type": "code",
   "execution_count": 245,
   "metadata": {},
   "outputs": [],
   "source": [
    "MNB_model = Pipeline([\n",
    "            ('vect', CountVectorizer()), \n",
    "            ('mb', MultinomialNB()),\n",
    "        ])"
   ]
  },
  {
   "cell_type": "code",
   "execution_count": 246,
   "metadata": {
    "scrolled": false
   },
   "outputs": [
    {
     "name": "stdout",
     "output_type": "stream",
     "text": [
      "CPU times: user 2.41 s, sys: 74.6 ms, total: 2.48 s\n",
      "Wall time: 2.49 s\n"
     ]
    },
    {
     "data": {
      "text/plain": [
       "Pipeline(memory=None,\n",
       "     steps=[('vect', CountVectorizer(analyzer='word', binary=False, decode_error='strict',\n",
       "        dtype=<class 'numpy.int64'>, encoding='utf-8', input='content',\n",
       "        lowercase=True, max_df=1.0, max_features=None, min_df=1,\n",
       "        ngram_range=(1, 1), preprocessor=None, stop_words=None,\n",
       "        strip_accents=None, token_pattern='(?u)\\\\b\\\\w\\\\w+\\\\b',\n",
       "        tokenizer=None, vocabulary=None)), ('mb', MultinomialNB(alpha=1.0, class_prior=None, fit_prior=True))])"
      ]
     },
     "execution_count": 246,
     "metadata": {},
     "output_type": "execute_result"
    }
   ],
   "source": [
    "%time MNB_model.fit(X, y)"
   ]
  },
  {
   "cell_type": "code",
   "execution_count": 239,
   "metadata": {},
   "outputs": [
    {
     "data": {
      "text/plain": [
       "21050"
      ]
     },
     "execution_count": 239,
     "metadata": {},
     "output_type": "execute_result"
    }
   ],
   "source": [
    "X_test = test_df['Review']\n",
    "len(X_test)"
   ]
  },
  {
   "cell_type": "code",
   "execution_count": 240,
   "metadata": {},
   "outputs": [
    {
     "data": {
      "text/plain": [
       "21050"
      ]
     },
     "execution_count": 240,
     "metadata": {},
     "output_type": "execute_result"
    }
   ],
   "source": [
    "y_test = test_df['Total']\n",
    "len(y_test)"
   ]
  },
  {
   "cell_type": "code",
   "execution_count": 233,
   "metadata": {
    "scrolled": true
   },
   "outputs": [
    {
     "name": "stdout",
     "output_type": "stream",
     "text": [
      "0.8769121140142517\n"
     ]
    }
   ],
   "source": [
    "print(accuracy_score(y_test, MNB_model.predict(X_test)))"
   ]
  },
  {
   "cell_type": "code",
   "execution_count": 234,
   "metadata": {},
   "outputs": [
    {
     "name": "stdout",
     "output_type": "stream",
     "text": [
      "[[  807   123   731]\n",
      " [  153   176  1256]\n",
      " [  158   170 17476]]\n"
     ]
    }
   ],
   "source": [
    "print(confusion_matrix(y_test, MNB_model.predict(X_test)))"
   ]
  },
  {
   "cell_type": "code",
   "execution_count": 235,
   "metadata": {
    "scrolled": true
   },
   "outputs": [
    {
     "name": "stdout",
     "output_type": "stream",
     "text": [
      "             precision    recall  f1-score   support\n",
      "\n",
      "          1       0.72      0.49      0.58      1661\n",
      "          3       0.38      0.11      0.17      1585\n",
      "          5       0.90      0.98      0.94     17804\n",
      "\n",
      "avg / total       0.84      0.88      0.85     21050\n",
      "\n"
     ]
    }
   ],
   "source": [
    "print(classification_report(y_test, MNB_model.predict(X_test)))"
   ]
  },
  {
   "cell_type": "code",
   "execution_count": 29,
   "metadata": {},
   "outputs": [],
   "source": [
    "result = pd.DataFrame(MNB_model.predict(X_test), y_test).reset_index()\n",
    "result.columns = ['Pred','Real']\n",
    "# result[result['Pred']!=result['Real']]"
   ]
  },
  {
   "cell_type": "markdown",
   "metadata": {},
   "source": [
    "---"
   ]
  },
  {
   "cell_type": "markdown",
   "metadata": {},
   "source": [
    "## XGB"
   ]
  },
  {
   "cell_type": "code",
   "execution_count": 143,
   "metadata": {},
   "outputs": [],
   "source": [
    "XGB_model = Pipeline([\n",
    "            ('vect', CountVectorizer()), \n",
    "            ('xgb', xgboost.XGBClassifier(max_depth=30, n_estimators=300, n_jobs=6)),\n",
    "        ])"
   ]
  },
  {
   "cell_type": "code",
   "execution_count": 144,
   "metadata": {
    "scrolled": false
   },
   "outputs": [
    {
     "name": "stdout",
     "output_type": "stream",
     "text": [
      "CPU times: user 16min 59s, sys: 1.71 s, total: 17min 1s\n",
      "Wall time: 17min 2s\n"
     ]
    },
    {
     "data": {
      "text/plain": [
       "Pipeline(memory=None,\n",
       "     steps=[('vect', CountVectorizer(analyzer='word', binary=False, decode_error='strict',\n",
       "        dtype=<class 'numpy.int64'>, encoding='utf-8', input='content',\n",
       "        lowercase=True, max_df=1.0, max_features=None, min_df=1,\n",
       "        ngram_range=(1, 1), preprocessor=None, stop_words=None,\n",
       "        strip...\n",
       "       reg_alpha=0, reg_lambda=1, scale_pos_weight=1, seed=None,\n",
       "       silent=True, subsample=1))])"
      ]
     },
     "execution_count": 144,
     "metadata": {},
     "output_type": "execute_result"
    }
   ],
   "source": [
    "%time XGB_model.fit(X, y)"
   ]
  },
  {
   "cell_type": "code",
   "execution_count": 145,
   "metadata": {
    "scrolled": true
   },
   "outputs": [
    {
     "name": "stdout",
     "output_type": "stream",
     "text": [
      "0.868978622327791\n"
     ]
    },
    {
     "name": "stderr",
     "output_type": "stream",
     "text": [
      "/Library/Frameworks/Python.framework/Versions/3.6/lib/python3.6/site-packages/sklearn/preprocessing/label.py:151: DeprecationWarning: The truth value of an empty array is ambiguous. Returning False, but in future this will result in an error. Use `array.size > 0` to check that an array is not empty.\n",
      "  if diff:\n"
     ]
    }
   ],
   "source": [
    "print(accuracy_score(y_test, XGB_model.predict(X_test)))"
   ]
  },
  {
   "cell_type": "code",
   "execution_count": 146,
   "metadata": {},
   "outputs": [
    {
     "name": "stdout",
     "output_type": "stream",
     "text": [
      "[[  584   102   975]\n",
      " [  114   141  1330]\n",
      " [  110   127 17567]]\n"
     ]
    },
    {
     "name": "stderr",
     "output_type": "stream",
     "text": [
      "/Library/Frameworks/Python.framework/Versions/3.6/lib/python3.6/site-packages/sklearn/preprocessing/label.py:151: DeprecationWarning: The truth value of an empty array is ambiguous. Returning False, but in future this will result in an error. Use `array.size > 0` to check that an array is not empty.\n",
      "  if diff:\n"
     ]
    }
   ],
   "source": [
    "print(confusion_matrix(y_test, XGB_model.predict(X_test)))"
   ]
  },
  {
   "cell_type": "code",
   "execution_count": 147,
   "metadata": {
    "scrolled": false
   },
   "outputs": [
    {
     "name": "stdout",
     "output_type": "stream",
     "text": [
      "             precision    recall  f1-score   support\n",
      "\n",
      "          1       0.72      0.35      0.47      1661\n",
      "          3       0.38      0.09      0.14      1585\n",
      "          5       0.88      0.99      0.93     17804\n",
      "\n",
      "avg / total       0.83      0.87      0.84     21050\n",
      "\n"
     ]
    },
    {
     "name": "stderr",
     "output_type": "stream",
     "text": [
      "/Library/Frameworks/Python.framework/Versions/3.6/lib/python3.6/site-packages/sklearn/preprocessing/label.py:151: DeprecationWarning: The truth value of an empty array is ambiguous. Returning False, but in future this will result in an error. Use `array.size > 0` to check that an array is not empty.\n",
      "  if diff:\n"
     ]
    }
   ],
   "source": [
    "print(classification_report(y_test, XGB_model.predict(X_test)))"
   ]
  },
  {
   "cell_type": "code",
   "execution_count": null,
   "metadata": {},
   "outputs": [],
   "source": []
  },
  {
   "cell_type": "code",
   "execution_count": null,
   "metadata": {},
   "outputs": [],
   "source": []
  },
  {
   "cell_type": "code",
   "execution_count": 222,
   "metadata": {
    "scrolled": true
   },
   "outputs": [
    {
     "name": "stdout",
     "output_type": "stream",
     "text": [
      "0.871858446973966\n"
     ]
    },
    {
     "name": "stderr",
     "output_type": "stream",
     "text": [
      "/Library/Frameworks/Python.framework/Versions/3.6/lib/python3.6/site-packages/sklearn/preprocessing/label.py:151: DeprecationWarning: The truth value of an empty array is ambiguous. Returning False, but in future this will result in an error. Use `array.size > 0` to check that an array is not empty.\n",
      "  if diff:\n"
     ]
    }
   ],
   "source": [
    "print(accuracy_score(y_test, XGB_model.predict(X_test)))"
   ]
  },
  {
   "cell_type": "code",
   "execution_count": 223,
   "metadata": {},
   "outputs": [
    {
     "name": "stdout",
     "output_type": "stream",
     "text": [
      "[[ 195   48  332]\n",
      " [  48   72  542]\n",
      " [  70   97 7469]]\n"
     ]
    },
    {
     "name": "stderr",
     "output_type": "stream",
     "text": [
      "/Library/Frameworks/Python.framework/Versions/3.6/lib/python3.6/site-packages/sklearn/preprocessing/label.py:151: DeprecationWarning: The truth value of an empty array is ambiguous. Returning False, but in future this will result in an error. Use `array.size > 0` to check that an array is not empty.\n",
      "  if diff:\n"
     ]
    }
   ],
   "source": [
    "print(confusion_matrix(y_test, XGB_model.predict(X_test)))"
   ]
  },
  {
   "cell_type": "code",
   "execution_count": 224,
   "metadata": {
    "scrolled": false
   },
   "outputs": [
    {
     "name": "stdout",
     "output_type": "stream",
     "text": [
      "             precision    recall  f1-score   support\n",
      "\n",
      "          1       0.62      0.34      0.44       575\n",
      "          3       0.33      0.11      0.16       662\n",
      "          5       0.90      0.98      0.93      7636\n",
      "\n",
      "avg / total       0.84      0.87      0.85      8873\n",
      "\n"
     ]
    },
    {
     "name": "stderr",
     "output_type": "stream",
     "text": [
      "/Library/Frameworks/Python.framework/Versions/3.6/lib/python3.6/site-packages/sklearn/preprocessing/label.py:151: DeprecationWarning: The truth value of an empty array is ambiguous. Returning False, but in future this will result in an error. Use `array.size > 0` to check that an array is not empty.\n",
      "  if diff:\n"
     ]
    }
   ],
   "source": [
    "print(classification_report(y_test, XGB_model.predict(X_test)))"
   ]
  },
  {
   "cell_type": "markdown",
   "metadata": {},
   "source": [
    "---"
   ]
  },
  {
   "cell_type": "code",
   "execution_count": null,
   "metadata": {},
   "outputs": [],
   "source": []
  },
  {
   "cell_type": "code",
   "execution_count": null,
   "metadata": {},
   "outputs": [],
   "source": []
  }
 ],
 "metadata": {
  "kernelspec": {
   "display_name": "Python 3",
   "language": "python",
   "name": "python3"
  },
  "language_info": {
   "codemirror_mode": {
    "name": "ipython",
    "version": 3
   },
   "file_extension": ".py",
   "mimetype": "text/x-python",
   "name": "python",
   "nbconvert_exporter": "python",
   "pygments_lexer": "ipython3",
   "version": "3.6.4"
  }
 },
 "nbformat": 4,
 "nbformat_minor": 2
}

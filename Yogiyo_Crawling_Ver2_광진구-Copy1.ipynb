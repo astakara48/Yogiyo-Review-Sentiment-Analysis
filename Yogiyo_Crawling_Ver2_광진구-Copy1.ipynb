{
 "cells": [
  {
   "cell_type": "code",
   "execution_count": 1,
   "metadata": {},
   "outputs": [],
   "source": [
    "# 기본 패키지\n",
    "import re\n",
    "import time\n",
    "import pickle\n",
    "import pandas as pd\n",
    "from tqdm import tqdm\n",
    "from tqdm import trange\n",
    "import warnings\n",
    "warnings.filterwarnings('ignore')\n",
    "\n",
    "# 크롤링 패키지\n",
    "import requests\n",
    "from selenium import webdriver\n",
    "\n",
    "# slack으로 작업 완료 메시지 전송을 위한 사용자 정의 로컬 패키지\n",
    "import myslack"
   ]
  },
  {
   "cell_type": "code",
   "execution_count": 2,
   "metadata": {},
   "outputs": [],
   "source": [
    "# 0. 페이지 한번 맨아래로 내리기\n",
    "def scroll_bottom():\n",
    "    driver.execute_script(\"window.scrollTo(0,document.body.scrollHeight);\")\n",
    "\n",
    "# 1. 입력한 위치로 설정하기\n",
    "def set_location(location):\n",
    "    print(location+'으로 위치 설정 하는중...')\n",
    "    driver.find_element_by_css_selector('#search > div > form > input').click()\n",
    "    driver.find_element_by_css_selector('#button_search_address > button.btn-search-location-cancel.btn-search-location.btn.btn-default > span').click()\n",
    "    driver.find_element_by_css_selector('#search > div > form > input').send_keys(location)\n",
    "    driver.find_element_by_css_selector('#button_search_address > button.btn.btn-default.ico-pick').click()\n",
    "    time.sleep(2)\n",
    "    print(location+'으로 위치 설정 완료!')\n",
    "    \n",
    "# 2-1. 카테고리 페이지 Element Number Dictionary 정의\n",
    "food_dict = { '프랜차이즈':3, '치킨':4, '피자&양식':5, '중국집':6,\n",
    "              '한식':7, '일식&돈까스':8, '족발&보쌈':9,\n",
    "              '야식':10, '분식':11, '카페&디저트':12 }\n",
    "\n",
    "# 2-2. 카테고리 페이지로 넘어가기\n",
    "def go_to_category(category):\n",
    "    print(category+' 카테고리 페이지 로드중...')\n",
    "    driver.find_element_by_xpath('//*[@id=\"category\"]/ul/li[{}]/span'.format(food_dict.get(category))).click()\n",
    "    time.sleep(3)\n",
    "    print(category+' 카테고리 페이지 로드 완료!')    \n",
    "\n",
    "# 3. 카테고리(음식점 리스트) 페이지 모두 펼치기\n",
    "def stretch_list_page():\n",
    "    restaurant_count = int(driver.find_element_by_css_selector('#restaurant_count').text)\n",
    "    scroll_count = int((restaurant_count/20))\n",
    "    print('모든 음식점 리스트 불러오기 시작...')\n",
    "    for _ in trange(scroll_count):\n",
    "        try:\n",
    "            scroll_bottom()\n",
    "            time.sleep(3)\n",
    "        except Exception as e:\n",
    "            pass\n",
    "    scroll_bottom()\n",
    "    time.sleep(3)\n",
    "    print('모든 음식점 리스트 불러오기 완료!')\n",
    "    \n",
    "# 4. 해당 카테고리 음식점 리스트 리턴\n",
    "def get_restaurant_list():\n",
    "    restaurant_list=[]\n",
    "    restaurants = driver.find_elements_by_css_selector('#content > div > div.restaurant-list > div.col-sm-6.contract')\n",
    "    for restaurant in restaurants:\n",
    "        restaurant_list.append(restaurant.find_element_by_css_selector('div > table > tbody > tr > td:nth-child(2) > div > div.restaurant-name.ng-binding').text)\n",
    "    return list(set(restaurant_list))\n",
    "\n",
    "# 5. 검색창에 음식점 검색하기\n",
    "def search_restaurant(restaurant_name):\n",
    "    try:\n",
    "        driver.find_element_by_xpath('//*[@id=\"category\"]/ul/li[1]/a').click()\n",
    "        driver.find_element_by_xpath('//*[@id=\"category\"]/ul/li[13]/form/div/input').send_keys(restaurant_name)    \n",
    "        driver.find_element_by_xpath('//*[@id=\"category_search_button\"]').click()\n",
    "    except Exception as e:\n",
    "        print('search_restaurant 에러')\n",
    "    time.sleep(5)\n",
    "\n",
    "# 6. 검색한 음식점 클릭\n",
    "def go_to_restaurant():\n",
    "    try:\n",
    "        driver.find_element_by_xpath('//*[@id=\"content\"]/div/div[4]/div[2]/div').click()\n",
    "    except Exception as e:\n",
    "        print('go_to_restaurant 에러')\n",
    "    time.sleep(5)\n",
    "\n",
    "# 7. 해당 음식점의 리뷰 페이지로 넘어가기\n",
    "def go_to_review():\n",
    "    print('리뷰 페이지 로드중...')\n",
    "    driver.find_element_by_xpath('//*[@id=\"content\"]/div[2]/div[1]/ul/li[2]/a').click()\n",
    "    time.sleep(2)\n",
    "    print('리뷰 페이지 로드 완료!')\n",
    "    \n",
    "# 8. 리뷰 더보기 클릭하기 \n",
    "def click_more_review():\n",
    "    driver.find_element_by_class_name('btn-more').click()\n",
    "    time.sleep(2)\n",
    "    \n",
    "# 9. 리뷰 페이지 모두 펼치기\n",
    "def stretch_review_page():\n",
    "    review_count = int(driver.find_element_by_xpath('//*[@id=\"content\"]/div[2]/div[1]/ul/li[2]/a/span').text)\n",
    "    click_count = int((review_count/10))\n",
    "    print('모든 리뷰 불러오기 시작...')\n",
    "    for _ in trange(click_count):\n",
    "        try:\n",
    "            scroll_bottom()\n",
    "            click_more_review()\n",
    "        except Exception as e:\n",
    "            pass\n",
    "    scroll_bottom()\n",
    "    print('모든 리뷰 불러오기 완료!')\n",
    "        \n",
    "# 10. 해당 음식점의 모든 리뷰 객체 리턴\n",
    "def get_all_review_elements():\n",
    "    reviews = driver.find_elements_by_css_selector('#review > li.list-group-item.star-point.ng-scope')\n",
    "    return reviews\n",
    "        \n",
    "# 11. 페이지 뒤로 가기 (한 음식점 리뷰를 모두 모았으면 다시 음식점 리스트 페이지로 돌아감)\n",
    "def go_back_page():\n",
    "    print('페이지 돌아가기중...')\n",
    "    driver.execute_script(\"window.history.go(-1)\")\n",
    "    time.sleep(5)\n",
    "    print('페이지 돌아가기 완료!'+'\\n')\n",
    "    \n",
    "# 12. 크롤링과 결과 데이터를 pickle 파일로 저장\n",
    "def save_pickle(location, category, yogiyo_df):\n",
    "    pickle.dump(yogiyo_df, open('./data/{}_{}_df.pkl'.format(location, category),'wb'))\n",
    "    print('{} {} pikcle save complete!'.format(location, category))"
   ]
  },
  {
   "cell_type": "code",
   "execution_count": 3,
   "metadata": {},
   "outputs": [],
   "source": [
    "# 13. 크롤링 메인 함수\n",
    "def yogiyo_crawling(location, category):\n",
    "    df = pd.DataFrame(columns=['Restaurant','UserID','Menu','Review',\n",
    "                                   'Total','Taste','Quantity','Delivery','Date'])\n",
    "    \n",
    "    try:\n",
    "        set_location(location) # 검색할 지역 설정\n",
    "        go_to_category(category) # 해당 카테고리(음식점 리스트) 페이지로 넘어감\n",
    "\n",
    "        print('Start [ {} - {} ] Crawling...'.format(location, category))\n",
    "        \n",
    "        stretch_list_page() # 카테고리(음식점 리스트) 페이지 모두 펼치기\n",
    "        restaurant_list = get_restaurant_list() # 해당 카테고리 음식점 리스트 받아오기\n",
    "        \n",
    "        for restaurant_name in restaurant_list:\n",
    "            try:\n",
    "                print('********** '+restaurant_name+' ( '+str(restaurant_list.index(restaurant_name)+1)\n",
    "                      +'/'+str(len(restaurant_list))+' 번째) **********')\n",
    "                \n",
    "                search_restaurant(restaurant_name) # 음식점을 순서대로 검색\n",
    "                go_to_restaurant() # 검색한 음식점 클릭             \n",
    "                go_to_review() # 해당 음식점의 리뷰페이지로 넘어감\n",
    "                stretch_review_page() # 해당 음식점의 모든 리뷰를 불러옴\n",
    "\n",
    "                for review in tqdm(get_all_review_elements()):  # 해당 음식점의 리뷰 수 만큼 데이터를 가져옴\n",
    "                    try:\n",
    "                        df.loc[len(df)] = { \n",
    "                            'Restaurant':driver.find_element_by_class_name('restaurant-name').text,\n",
    "                            'UserID':review.find_element_by_css_selector('span.review-id.ng-binding').text,\n",
    "                            'Menu':review.find_element_by_css_selector('div.order-items.default.ng-binding').text,\n",
    "                            'Review':review.find_element_by_css_selector('p').text,\n",
    "                            'Total':str(len(review.find_elements_by_css_selector('div > span.total > span.full.ng-scope'))),\n",
    "                            'Taste':review.find_element_by_css_selector('div:nth-child(2) > div > span.category > span:nth-child(3)').text,\n",
    "                            'Quantity':review.find_element_by_css_selector('div:nth-child(2) > div > span.category > span:nth-child(6)').text,\n",
    "                            'Delivery':review.find_element_by_css_selector('div:nth-child(2) > div > span.category > span:nth-child(9)').text,\n",
    "                            'Date':review.find_element_by_css_selector('div:nth-child(1) > span.review-time.ng-binding').text,\n",
    "                        }\n",
    "                    except Exception as e:\n",
    "                        print('리뷰 페이지 에러')\n",
    "                        print(e)\n",
    "                        pass\n",
    "                    \n",
    "            except Exception as e:\n",
    "                print('*** '+restaurant_name+' *** 음식점 페이지 에러')\n",
    "                go_back_page()\n",
    "                print(e)\n",
    "                pass\n",
    "            \n",
    "            print('음식점 리스트 페이지로 돌아가는중...')\n",
    "            go_back_page() # 해당 음식점 리뷰를 모두 모았으면 다시 음식점 리스트 페이지로 돌아감\n",
    "            \n",
    "    except Exception as e:\n",
    "        print('음식점 리스트 페이지 에러')\n",
    "        print(e)\n",
    "        pass\n",
    "        \n",
    "    print('End of [ {} - {} ] Crawling!'.format(location, category))\n",
    "    save_pickle(location, category, df) # 해당 음식점 리뷰 데이터를 pickle 파일로 저장함\n",
    "    myslack.send_slack('{} {} crawling finish!!!'.format(location, category))\n",
    "    \n",
    "    return df "
   ]
  },
  {
   "cell_type": "code",
   "execution_count": 12,
   "metadata": {},
   "outputs": [],
   "source": [
    "# 14. 광진구 모든 관할구역(동) 크롤링 실행 함수\n",
    "def start_gwangjingu_crawling(category):\n",
    "\n",
    "#     gwangjingu = ['화양동']\n",
    "    gwangjingu = ['광장동']\n",
    "\n",
    "    \n",
    "    for dong in gwangjingu:\n",
    "        try:\n",
    "            yogiyo = yogiyo_crawling('광진구 {}'.format(dong), category)\n",
    "            print(dong+' - '+category+', shape: '+str(yogiyo.shape)+'\\n')\n",
    "        except Exception as e:\n",
    "            print('***** '+dong+' 에러 발생 *****')\n",
    "            print(e)\n",
    "            pass"
   ]
  },
  {
   "cell_type": "markdown",
   "metadata": {},
   "source": [
    "---"
   ]
  },
  {
   "cell_type": "code",
   "execution_count": 15,
   "metadata": {},
   "outputs": [],
   "source": [
    "# Chrome webdriver - 요기요 메인 페이지 실행\n",
    "driver = webdriver.Chrome() \n",
    "url = 'https://www.yogiyo.co.kr/'\n",
    "driver.get(url)"
   ]
  },
  {
   "cell_type": "code",
   "execution_count": 16,
   "metadata": {
    "scrolled": true
   },
   "outputs": [
    {
     "name": "stdout",
     "output_type": "stream",
     "text": [
      "광진구 광장동으로 위치 설정 하는중...\n",
      "광진구 광장동으로 위치 설정 완료!\n",
      "치킨 카테고리 페이지 로드중...\n"
     ]
    },
    {
     "name": "stderr",
     "output_type": "stream",
     "text": [
      "\r",
      "  0%|          | 0/2 [00:00<?, ?it/s]"
     ]
    },
    {
     "name": "stdout",
     "output_type": "stream",
     "text": [
      "치킨 카테고리 페이지 로드 완료!\n",
      "Start [ 광진구 광장동 - 치킨 ] Crawling...\n",
      "모든 음식점 리스트 불러오기 시작...\n"
     ]
    },
    {
     "name": "stderr",
     "output_type": "stream",
     "text": [
      "100%|██████████| 2/2 [00:06<00:00,  3.01s/it]\n"
     ]
    },
    {
     "name": "stdout",
     "output_type": "stream",
     "text": [
      "모든 음식점 리스트 불러오기 완료!\n",
      "********** 맛닭꼬-건대점 ( 1/50 번째) **********\n",
      "리뷰 페이지 로드중...\n"
     ]
    },
    {
     "name": "stderr",
     "output_type": "stream",
     "text": [
      "\r",
      "  0%|          | 0/26 [00:00<?, ?it/s]"
     ]
    },
    {
     "name": "stdout",
     "output_type": "stream",
     "text": [
      "리뷰 페이지 로드 완료!\n",
      "모든 리뷰 불러오기 시작...\n"
     ]
    },
    {
     "name": "stderr",
     "output_type": "stream",
     "text": [
      "100%|██████████| 26/26 [45:58<00:00, 106.09s/it]   \n",
      "  0%|          | 0/242 [00:00<?, ?it/s]"
     ]
    },
    {
     "name": "stdout",
     "output_type": "stream",
     "text": [
      "모든 리뷰 불러오기 완료!\n"
     ]
    },
    {
     "name": "stderr",
     "output_type": "stream",
     "text": [
      "100%|██████████| 242/242 [00:55<00:00,  4.39it/s]\n"
     ]
    },
    {
     "name": "stdout",
     "output_type": "stream",
     "text": [
      "음식점 리스트 페이지로 돌아가는중...\n",
      "페이지 돌아가기중...\n",
      "페이지 돌아가기 완료!\n",
      "\n",
      "********** 네네치킨-암사1점 ( 2/50 번째) **********\n",
      "리뷰 페이지 로드중...\n"
     ]
    },
    {
     "name": "stderr",
     "output_type": "stream",
     "text": [
      "\r",
      "  0%|          | 0/9 [00:00<?, ?it/s]"
     ]
    },
    {
     "name": "stdout",
     "output_type": "stream",
     "text": [
      "리뷰 페이지 로드 완료!\n",
      "모든 리뷰 불러오기 시작...\n"
     ]
    },
    {
     "name": "stderr",
     "output_type": "stream",
     "text": [
      "100%|██████████| 9/9 [01:07<00:00,  7.51s/it]\n",
      "  0%|          | 0/96 [00:00<?, ?it/s]"
     ]
    },
    {
     "name": "stdout",
     "output_type": "stream",
     "text": [
      "모든 리뷰 불러오기 완료!\n"
     ]
    },
    {
     "name": "stderr",
     "output_type": "stream",
     "text": [
      "100%|██████████| 96/96 [00:19<00:00,  4.88it/s]\n"
     ]
    },
    {
     "name": "stdout",
     "output_type": "stream",
     "text": [
      "음식점 리스트 페이지로 돌아가는중...\n",
      "페이지 돌아가기중...\n",
      "페이지 돌아가기 완료!\n",
      "\n",
      "********** 부어치킨-구의동점 ( 3/50 번째) **********\n",
      "리뷰 페이지 로드중...\n"
     ]
    },
    {
     "name": "stderr",
     "output_type": "stream",
     "text": [
      "\r",
      "  0%|          | 0/4 [00:00<?, ?it/s]"
     ]
    },
    {
     "name": "stdout",
     "output_type": "stream",
     "text": [
      "리뷰 페이지 로드 완료!\n",
      "모든 리뷰 불러오기 시작...\n"
     ]
    },
    {
     "name": "stderr",
     "output_type": "stream",
     "text": [
      "100%|██████████| 4/4 [00:36<00:00,  9.08s/it]\n",
      "  0%|          | 0/42 [00:00<?, ?it/s]"
     ]
    },
    {
     "name": "stdout",
     "output_type": "stream",
     "text": [
      "모든 리뷰 불러오기 완료!\n"
     ]
    },
    {
     "name": "stderr",
     "output_type": "stream",
     "text": [
      "100%|██████████| 42/42 [00:08<00:00,  5.12it/s]\n"
     ]
    },
    {
     "name": "stdout",
     "output_type": "stream",
     "text": [
      "음식점 리스트 페이지로 돌아가는중...\n",
      "페이지 돌아가기중...\n",
      "페이지 돌아가기 완료!\n",
      "\n",
      "********** 60계-구의광장점 ( 4/50 번째) **********\n",
      "리뷰 페이지 로드중...\n"
     ]
    },
    {
     "name": "stderr",
     "output_type": "stream",
     "text": [
      "\r",
      "  0%|          | 0/7 [00:00<?, ?it/s]"
     ]
    },
    {
     "name": "stdout",
     "output_type": "stream",
     "text": [
      "리뷰 페이지 로드 완료!\n",
      "모든 리뷰 불러오기 시작...\n"
     ]
    },
    {
     "name": "stderr",
     "output_type": "stream",
     "text": [
      "100%|██████████| 7/7 [00:49<00:00,  7.11s/it]\n",
      "  0%|          | 0/71 [00:00<?, ?it/s]"
     ]
    },
    {
     "name": "stdout",
     "output_type": "stream",
     "text": [
      "모든 리뷰 불러오기 완료!\n"
     ]
    },
    {
     "name": "stderr",
     "output_type": "stream",
     "text": [
      "100%|██████████| 71/71 [00:15<00:00,  4.59it/s]\n"
     ]
    },
    {
     "name": "stdout",
     "output_type": "stream",
     "text": [
      "음식점 리스트 페이지로 돌아가는중...\n",
      "페이지 돌아가기중...\n",
      "페이지 돌아가기 완료!\n",
      "\n",
      "********** 사천불닭 ( 5/50 번째) **********\n",
      "리뷰 페이지 로드중...\n"
     ]
    },
    {
     "name": "stderr",
     "output_type": "stream",
     "text": [
      "0it [00:00, ?it/s]\n",
      "  0%|          | 0/2 [00:00<?, ?it/s]"
     ]
    },
    {
     "name": "stdout",
     "output_type": "stream",
     "text": [
      "리뷰 페이지 로드 완료!\n",
      "모든 리뷰 불러오기 시작...\n",
      "모든 리뷰 불러오기 완료!\n"
     ]
    },
    {
     "name": "stderr",
     "output_type": "stream",
     "text": [
      "100%|██████████| 2/2 [00:00<00:00,  4.20it/s]\n"
     ]
    },
    {
     "name": "stdout",
     "output_type": "stream",
     "text": [
      "음식점 리스트 페이지로 돌아가는중...\n",
      "페이지 돌아가기중...\n",
      "페이지 돌아가기 완료!\n",
      "\n",
      "********** 본스치킨-구의본점 ( 6/50 번째) **********\n",
      "리뷰 페이지 로드중...\n"
     ]
    },
    {
     "name": "stderr",
     "output_type": "stream",
     "text": [
      "\r",
      "  0%|          | 0/9 [00:00<?, ?it/s]"
     ]
    },
    {
     "name": "stdout",
     "output_type": "stream",
     "text": [
      "리뷰 페이지 로드 완료!\n",
      "모든 리뷰 불러오기 시작...\n"
     ]
    },
    {
     "name": "stderr",
     "output_type": "stream",
     "text": [
      "100%|██████████| 9/9 [01:05<00:00,  7.29s/it]\n",
      "  0%|          | 0/91 [00:00<?, ?it/s]"
     ]
    },
    {
     "name": "stdout",
     "output_type": "stream",
     "text": [
      "모든 리뷰 불러오기 완료!\n"
     ]
    },
    {
     "name": "stderr",
     "output_type": "stream",
     "text": [
      "100%|██████████| 91/91 [00:20<00:00,  4.46it/s]\n"
     ]
    },
    {
     "name": "stdout",
     "output_type": "stream",
     "text": [
      "음식점 리스트 페이지로 돌아가는중...\n",
      "페이지 돌아가기중...\n",
      "페이지 돌아가기 완료!\n",
      "\n",
      "********** 더바스켓국물떡볶이와치킨 ( 7/50 번째) **********\n",
      "리뷰 페이지 로드중...\n"
     ]
    },
    {
     "name": "stderr",
     "output_type": "stream",
     "text": [
      "\r",
      "  0%|          | 0/20 [00:00<?, ?it/s]"
     ]
    },
    {
     "name": "stdout",
     "output_type": "stream",
     "text": [
      "리뷰 페이지 로드 완료!\n",
      "모든 리뷰 불러오기 시작...\n"
     ]
    },
    {
     "name": "stderr",
     "output_type": "stream",
     "text": [
      "100%|██████████| 20/20 [02:43<00:00,  8.19s/it]\n",
      "  0%|          | 0/204 [00:00<?, ?it/s]"
     ]
    },
    {
     "name": "stdout",
     "output_type": "stream",
     "text": [
      "모든 리뷰 불러오기 완료!\n"
     ]
    },
    {
     "name": "stderr",
     "output_type": "stream",
     "text": [
      "100%|██████████| 204/204 [00:45<00:00,  4.51it/s]\n"
     ]
    },
    {
     "name": "stdout",
     "output_type": "stream",
     "text": [
      "음식점 리스트 페이지로 돌아가는중...\n",
      "페이지 돌아가기중...\n",
      "페이지 돌아가기 완료!\n",
      "\n",
      "********** 참존숯불바베큐치킨 ( 8/50 번째) **********\n",
      "리뷰 페이지 로드중...\n"
     ]
    },
    {
     "name": "stderr",
     "output_type": "stream",
     "text": [
      "0it [00:00, ?it/s]\n",
      "0it [00:00, ?it/s]"
     ]
    },
    {
     "name": "stdout",
     "output_type": "stream",
     "text": [
      "리뷰 페이지 로드 완료!\n",
      "모든 리뷰 불러오기 시작...\n",
      "모든 리뷰 불러오기 완료!\n",
      "음식점 리스트 페이지로 돌아가는중...\n",
      "페이지 돌아가기중...\n"
     ]
    },
    {
     "name": "stderr",
     "output_type": "stream",
     "text": [
      "\n"
     ]
    },
    {
     "name": "stdout",
     "output_type": "stream",
     "text": [
      "페이지 돌아가기 완료!\n",
      "\n",
      "********** 파닭세대 ( 9/50 번째) **********\n",
      "리뷰 페이지 로드중...\n"
     ]
    },
    {
     "name": "stderr",
     "output_type": "stream",
     "text": [
      "\r",
      "  0%|          | 0/15 [00:00<?, ?it/s]"
     ]
    },
    {
     "name": "stdout",
     "output_type": "stream",
     "text": [
      "리뷰 페이지 로드 완료!\n",
      "모든 리뷰 불러오기 시작...\n"
     ]
    },
    {
     "name": "stderr",
     "output_type": "stream",
     "text": [
      "100%|██████████| 15/15 [02:08<00:00,  8.60s/it]\n",
      "  0%|          | 0/158 [00:00<?, ?it/s]"
     ]
    },
    {
     "name": "stdout",
     "output_type": "stream",
     "text": [
      "모든 리뷰 불러오기 완료!\n"
     ]
    },
    {
     "name": "stderr",
     "output_type": "stream",
     "text": [
      "100%|██████████| 158/158 [00:33<00:00,  4.67it/s]\n"
     ]
    },
    {
     "name": "stdout",
     "output_type": "stream",
     "text": [
      "음식점 리스트 페이지로 돌아가는중...\n",
      "페이지 돌아가기중...\n",
      "페이지 돌아가기 완료!\n",
      "\n",
      "********** 지트리 ( 10/50 번째) **********\n",
      "리뷰 페이지 로드중...\n"
     ]
    },
    {
     "name": "stderr",
     "output_type": "stream",
     "text": [
      "0it [00:00, ?it/s]\n",
      "  0%|          | 0/1 [00:00<?, ?it/s]"
     ]
    },
    {
     "name": "stdout",
     "output_type": "stream",
     "text": [
      "리뷰 페이지 로드 완료!\n",
      "모든 리뷰 불러오기 시작...\n",
      "모든 리뷰 불러오기 완료!\n"
     ]
    },
    {
     "name": "stderr",
     "output_type": "stream",
     "text": [
      "100%|██████████| 1/1 [00:00<00:00,  4.18it/s]\n"
     ]
    },
    {
     "name": "stdout",
     "output_type": "stream",
     "text": [
      "음식점 리스트 페이지로 돌아가는중...\n",
      "페이지 돌아가기중...\n",
      "페이지 돌아가기 완료!\n",
      "\n",
      "********** 콩닭콩닭-건대점 ( 11/50 번째) **********\n",
      "리뷰 페이지 로드중...\n"
     ]
    },
    {
     "name": "stderr",
     "output_type": "stream",
     "text": [
      "0it [00:00, ?it/s]\n",
      "  0%|          | 0/3 [00:00<?, ?it/s]"
     ]
    },
    {
     "name": "stdout",
     "output_type": "stream",
     "text": [
      "리뷰 페이지 로드 완료!\n",
      "모든 리뷰 불러오기 시작...\n",
      "모든 리뷰 불러오기 완료!\n"
     ]
    },
    {
     "name": "stderr",
     "output_type": "stream",
     "text": [
      "100%|██████████| 3/3 [00:00<00:00,  4.18it/s]\n"
     ]
    },
    {
     "name": "stdout",
     "output_type": "stream",
     "text": [
      "음식점 리스트 페이지로 돌아가는중...\n",
      "페이지 돌아가기중...\n",
      "페이지 돌아가기 완료!\n",
      "\n",
      "********** 또래오래-광진광장점 ( 12/50 번째) **********\n",
      "리뷰 페이지 로드중...\n"
     ]
    },
    {
     "name": "stderr",
     "output_type": "stream",
     "text": [
      "\r",
      "  0%|          | 0/22 [00:00<?, ?it/s]"
     ]
    },
    {
     "name": "stdout",
     "output_type": "stream",
     "text": [
      "리뷰 페이지 로드 완료!\n",
      "모든 리뷰 불러오기 시작...\n"
     ]
    },
    {
     "name": "stderr",
     "output_type": "stream",
     "text": [
      "100%|██████████| 22/22 [02:45<00:00,  7.54s/it]\n",
      "  0%|          | 0/220 [00:00<?, ?it/s]"
     ]
    },
    {
     "name": "stdout",
     "output_type": "stream",
     "text": [
      "모든 리뷰 불러오기 완료!\n"
     ]
    },
    {
     "name": "stderr",
     "output_type": "stream",
     "text": [
      "100%|██████████| 220/220 [00:51<00:00,  4.25it/s]\n"
     ]
    },
    {
     "name": "stdout",
     "output_type": "stream",
     "text": [
      "음식점 리스트 페이지로 돌아가는중...\n",
      "페이지 돌아가기중...\n",
      "페이지 돌아가기 완료!\n",
      "\n",
      "********** 하우스콜-구의점 ( 13/50 번째) **********\n",
      "리뷰 페이지 로드중...\n"
     ]
    },
    {
     "name": "stderr",
     "output_type": "stream",
     "text": [
      "\r",
      "  0%|          | 0/41 [00:00<?, ?it/s]"
     ]
    },
    {
     "name": "stdout",
     "output_type": "stream",
     "text": [
      "리뷰 페이지 로드 완료!\n",
      "모든 리뷰 불러오기 시작...\n"
     ]
    },
    {
     "name": "stderr",
     "output_type": "stream",
     "text": [
      "100%|██████████| 41/41 [04:57<00:00,  7.24s/it]\n",
      "  0%|          | 0/418 [00:00<?, ?it/s]"
     ]
    },
    {
     "name": "stdout",
     "output_type": "stream",
     "text": [
      "모든 리뷰 불러오기 완료!\n"
     ]
    },
    {
     "name": "stderr",
     "output_type": "stream",
     "text": [
      "100%|██████████| 418/418 [01:46<00:00,  3.92it/s]\n"
     ]
    },
    {
     "name": "stdout",
     "output_type": "stream",
     "text": [
      "음식점 리스트 페이지로 돌아가는중...\n",
      "페이지 돌아가기중...\n",
      "페이지 돌아가기 완료!\n",
      "\n",
      "********** 치킨처럼-화양동 ( 14/50 번째) **********\n",
      "리뷰 페이지 로드중...\n"
     ]
    },
    {
     "name": "stderr",
     "output_type": "stream",
     "text": [
      "\r",
      "  0%|          | 0/1 [00:00<?, ?it/s]"
     ]
    },
    {
     "name": "stdout",
     "output_type": "stream",
     "text": [
      "리뷰 페이지 로드 완료!\n",
      "모든 리뷰 불러오기 시작...\n"
     ]
    },
    {
     "name": "stderr",
     "output_type": "stream",
     "text": [
      "100%|██████████| 1/1 [00:07<00:00,  7.06s/it]\n",
      "  0%|          | 0/11 [00:00<?, ?it/s]"
     ]
    },
    {
     "name": "stdout",
     "output_type": "stream",
     "text": [
      "모든 리뷰 불러오기 완료!\n"
     ]
    },
    {
     "name": "stderr",
     "output_type": "stream",
     "text": [
      "100%|██████████| 11/11 [00:03<00:00,  3.59it/s]\n"
     ]
    },
    {
     "name": "stdout",
     "output_type": "stream",
     "text": [
      "음식점 리스트 페이지로 돌아가는중...\n",
      "페이지 돌아가기중...\n",
      "페이지 돌아가기 완료!\n",
      "\n",
      "********** 착한삼촌닭강정 ( 15/50 번째) **********\n",
      "리뷰 페이지 로드중...\n"
     ]
    },
    {
     "name": "stderr",
     "output_type": "stream",
     "text": [
      "\r",
      "  0%|          | 0/1 [00:00<?, ?it/s]"
     ]
    },
    {
     "name": "stdout",
     "output_type": "stream",
     "text": [
      "리뷰 페이지 로드 완료!\n",
      "모든 리뷰 불러오기 시작...\n"
     ]
    },
    {
     "name": "stderr",
     "output_type": "stream",
     "text": [
      "100%|██████████| 1/1 [00:07<00:00,  7.06s/it]\n",
      "  0%|          | 0/13 [00:00<?, ?it/s]"
     ]
    },
    {
     "name": "stdout",
     "output_type": "stream",
     "text": [
      "모든 리뷰 불러오기 완료!\n"
     ]
    },
    {
     "name": "stderr",
     "output_type": "stream",
     "text": [
      "100%|██████████| 13/13 [00:03<00:00,  4.20it/s]\n"
     ]
    },
    {
     "name": "stdout",
     "output_type": "stream",
     "text": [
      "음식점 리스트 페이지로 돌아가는중...\n",
      "페이지 돌아가기중...\n",
      "페이지 돌아가기 완료!\n",
      "\n",
      "********** 네네치킨-천호2동점 ( 16/50 번째) **********\n",
      "리뷰 페이지 로드중...\n"
     ]
    },
    {
     "name": "stderr",
     "output_type": "stream",
     "text": [
      "\r",
      "  0%|          | 0/20 [00:00<?, ?it/s]"
     ]
    },
    {
     "name": "stdout",
     "output_type": "stream",
     "text": [
      "리뷰 페이지 로드 완료!\n",
      "모든 리뷰 불러오기 시작...\n"
     ]
    },
    {
     "name": "stderr",
     "output_type": "stream",
     "text": [
      "100%|██████████| 20/20 [02:23<00:00,  7.16s/it]\n",
      "  0%|          | 0/203 [00:00<?, ?it/s]"
     ]
    },
    {
     "name": "stdout",
     "output_type": "stream",
     "text": [
      "모든 리뷰 불러오기 완료!\n"
     ]
    },
    {
     "name": "stderr",
     "output_type": "stream",
     "text": [
      "100%|██████████| 203/203 [00:46<00:00,  4.33it/s]\n"
     ]
    },
    {
     "name": "stdout",
     "output_type": "stream",
     "text": [
      "음식점 리스트 페이지로 돌아가는중...\n",
      "페이지 돌아가기중...\n",
      "페이지 돌아가기 완료!\n",
      "\n",
      "********** BHC-자양행복점 ( 17/50 번째) **********\n",
      "리뷰 페이지 로드중...\n"
     ]
    },
    {
     "name": "stderr",
     "output_type": "stream",
     "text": [
      "\r",
      "  0%|          | 0/147 [00:00<?, ?it/s]"
     ]
    },
    {
     "name": "stdout",
     "output_type": "stream",
     "text": [
      "리뷰 페이지 로드 완료!\n",
      "모든 리뷰 불러오기 시작...\n"
     ]
    },
    {
     "name": "stderr",
     "output_type": "stream",
     "text": [
      "100%|██████████| 147/147 [16:58<00:00,  6.93s/it]\n",
      "  0%|          | 0/1410 [00:00<?, ?it/s]"
     ]
    },
    {
     "name": "stdout",
     "output_type": "stream",
     "text": [
      "모든 리뷰 불러오기 완료!\n"
     ]
    },
    {
     "name": "stderr",
     "output_type": "stream",
     "text": [
      "100%|██████████| 1410/1410 [09:33<00:00,  2.46it/s]\n"
     ]
    },
    {
     "name": "stdout",
     "output_type": "stream",
     "text": [
      "음식점 리스트 페이지로 돌아가는중...\n",
      "페이지 돌아가기중...\n",
      "페이지 돌아가기 완료!\n",
      "\n",
      "********** 페리카나-광나루점 ( 18/50 번째) **********\n",
      "리뷰 페이지 로드중...\n"
     ]
    },
    {
     "name": "stderr",
     "output_type": "stream",
     "text": [
      "\r",
      "  0%|          | 0/4 [00:00<?, ?it/s]"
     ]
    },
    {
     "name": "stdout",
     "output_type": "stream",
     "text": [
      "리뷰 페이지 로드 완료!\n",
      "모든 리뷰 불러오기 시작...\n"
     ]
    },
    {
     "name": "stderr",
     "output_type": "stream",
     "text": [
      "100%|██████████| 4/4 [00:28<00:00,  7.16s/it]\n",
      "  0%|          | 0/49 [00:00<?, ?it/s]"
     ]
    },
    {
     "name": "stdout",
     "output_type": "stream",
     "text": [
      "모든 리뷰 불러오기 완료!\n"
     ]
    },
    {
     "name": "stderr",
     "output_type": "stream",
     "text": [
      "100%|██████████| 49/49 [00:11<00:00,  4.44it/s]\n"
     ]
    },
    {
     "name": "stdout",
     "output_type": "stream",
     "text": [
      "음식점 리스트 페이지로 돌아가는중...\n",
      "페이지 돌아가기중...\n",
      "페이지 돌아가기 완료!\n",
      "\n",
      "********** ICG치킨앤버거-구의광장점 ( 19/50 번째) **********\n",
      "리뷰 페이지 로드중...\n"
     ]
    },
    {
     "name": "stderr",
     "output_type": "stream",
     "text": [
      "\r",
      "  0%|          | 0/6 [00:00<?, ?it/s]"
     ]
    },
    {
     "name": "stdout",
     "output_type": "stream",
     "text": [
      "리뷰 페이지 로드 완료!\n",
      "모든 리뷰 불러오기 시작...\n"
     ]
    },
    {
     "name": "stderr",
     "output_type": "stream",
     "text": [
      "100%|██████████| 6/6 [00:42<00:00,  7.05s/it]\n",
      "  0%|          | 0/66 [00:00<?, ?it/s]"
     ]
    },
    {
     "name": "stdout",
     "output_type": "stream",
     "text": [
      "모든 리뷰 불러오기 완료!\n"
     ]
    },
    {
     "name": "stderr",
     "output_type": "stream",
     "text": [
      "100%|██████████| 66/66 [00:15<00:00,  4.39it/s]\n"
     ]
    },
    {
     "name": "stdout",
     "output_type": "stream",
     "text": [
      "음식점 리스트 페이지로 돌아가는중...\n",
      "페이지 돌아가기중...\n",
      "페이지 돌아가기 완료!\n",
      "\n",
      "********** 윙스치킨 ( 20/50 번째) **********\n",
      "리뷰 페이지 로드중...\n"
     ]
    },
    {
     "name": "stderr",
     "output_type": "stream",
     "text": [
      "\r",
      "  0%|          | 0/19 [00:00<?, ?it/s]"
     ]
    },
    {
     "name": "stdout",
     "output_type": "stream",
     "text": [
      "리뷰 페이지 로드 완료!\n",
      "모든 리뷰 불러오기 시작...\n"
     ]
    },
    {
     "name": "stderr",
     "output_type": "stream",
     "text": [
      "100%|██████████| 19/19 [02:13<00:00,  7.05s/it]\n",
      "  0%|          | 0/198 [00:00<?, ?it/s]"
     ]
    },
    {
     "name": "stdout",
     "output_type": "stream",
     "text": [
      "모든 리뷰 불러오기 완료!\n"
     ]
    },
    {
     "name": "stderr",
     "output_type": "stream",
     "text": [
      "100%|██████████| 198/198 [00:48<00:00,  4.09it/s]\n"
     ]
    },
    {
     "name": "stdout",
     "output_type": "stream",
     "text": [
      "음식점 리스트 페이지로 돌아가는중...\n",
      "페이지 돌아가기중...\n",
      "페이지 돌아가기 완료!\n",
      "\n",
      "********** 투존치킨-자양점 ( 21/50 번째) **********\n",
      "리뷰 페이지 로드중...\n"
     ]
    },
    {
     "name": "stderr",
     "output_type": "stream",
     "text": [
      "\r",
      "  0%|          | 0/17 [00:00<?, ?it/s]"
     ]
    },
    {
     "name": "stdout",
     "output_type": "stream",
     "text": [
      "리뷰 페이지 로드 완료!\n",
      "모든 리뷰 불러오기 시작...\n"
     ]
    },
    {
     "name": "stderr",
     "output_type": "stream",
     "text": [
      "100%|██████████| 17/17 [02:01<00:00,  7.16s/it]\n",
      "  0%|          | 0/171 [00:00<?, ?it/s]"
     ]
    },
    {
     "name": "stdout",
     "output_type": "stream",
     "text": [
      "모든 리뷰 불러오기 완료!\n"
     ]
    },
    {
     "name": "stderr",
     "output_type": "stream",
     "text": [
      "100%|██████████| 171/171 [00:41<00:00,  4.08it/s]\n"
     ]
    },
    {
     "name": "stdout",
     "output_type": "stream",
     "text": [
      "음식점 리스트 페이지로 돌아가는중...\n",
      "페이지 돌아가기중...\n",
      "페이지 돌아가기 완료!\n",
      "\n",
      "********** 잇츠닭강정-자양점 ( 22/50 번째) **********\n",
      "리뷰 페이지 로드중...\n"
     ]
    },
    {
     "name": "stderr",
     "output_type": "stream",
     "text": [
      "\r",
      "  0%|          | 0/7 [00:00<?, ?it/s]"
     ]
    },
    {
     "name": "stdout",
     "output_type": "stream",
     "text": [
      "리뷰 페이지 로드 완료!\n",
      "모든 리뷰 불러오기 시작...\n"
     ]
    },
    {
     "name": "stderr",
     "output_type": "stream",
     "text": [
      "100%|██████████| 7/7 [00:51<00:00,  7.31s/it]\n",
      "  0%|          | 0/74 [00:00<?, ?it/s]"
     ]
    },
    {
     "name": "stdout",
     "output_type": "stream",
     "text": [
      "모든 리뷰 불러오기 완료!\n"
     ]
    },
    {
     "name": "stderr",
     "output_type": "stream",
     "text": [
      "100%|██████████| 74/74 [00:18<00:00,  3.92it/s]\n"
     ]
    },
    {
     "name": "stdout",
     "output_type": "stream",
     "text": [
      "음식점 리스트 페이지로 돌아가는중...\n",
      "페이지 돌아가기중...\n",
      "페이지 돌아가기 완료!\n",
      "\n",
      "********** 투인순살두마리치킨 ( 23/50 번째) **********\n",
      "리뷰 페이지 로드중...\n"
     ]
    },
    {
     "name": "stderr",
     "output_type": "stream",
     "text": [
      "\r",
      "  0%|          | 0/10 [00:00<?, ?it/s]"
     ]
    },
    {
     "name": "stdout",
     "output_type": "stream",
     "text": [
      "리뷰 페이지 로드 완료!\n",
      "모든 리뷰 불러오기 시작...\n"
     ]
    },
    {
     "name": "stderr",
     "output_type": "stream",
     "text": [
      "100%|██████████| 10/10 [01:10<00:00,  7.05s/it]\n",
      "  0%|          | 0/109 [00:00<?, ?it/s]"
     ]
    },
    {
     "name": "stdout",
     "output_type": "stream",
     "text": [
      "모든 리뷰 불러오기 완료!\n"
     ]
    },
    {
     "name": "stderr",
     "output_type": "stream",
     "text": [
      "100%|██████████| 109/109 [00:27<00:00,  4.01it/s]\n"
     ]
    },
    {
     "name": "stdout",
     "output_type": "stream",
     "text": [
      "음식점 리스트 페이지로 돌아가는중...\n",
      "페이지 돌아가기중...\n",
      "페이지 돌아가기 완료!\n",
      "\n",
      "********** 둘둘치킨-군자점 ( 24/50 번째) **********\n",
      "리뷰 페이지 로드중...\n"
     ]
    },
    {
     "name": "stderr",
     "output_type": "stream",
     "text": [
      "\r",
      "  0%|          | 0/3 [00:00<?, ?it/s]"
     ]
    },
    {
     "name": "stdout",
     "output_type": "stream",
     "text": [
      "리뷰 페이지 로드 완료!\n",
      "모든 리뷰 불러오기 시작...\n"
     ]
    },
    {
     "name": "stderr",
     "output_type": "stream",
     "text": [
      "100%|██████████| 3/3 [00:21<00:00,  7.05s/it]\n",
      "  0%|          | 0/33 [00:00<?, ?it/s]"
     ]
    },
    {
     "name": "stdout",
     "output_type": "stream",
     "text": [
      "모든 리뷰 불러오기 완료!\n"
     ]
    },
    {
     "name": "stderr",
     "output_type": "stream",
     "text": [
      "100%|██████████| 33/33 [00:08<00:00,  4.11it/s]\n"
     ]
    },
    {
     "name": "stdout",
     "output_type": "stream",
     "text": [
      "음식점 리스트 페이지로 돌아가는중...\n",
      "페이지 돌아가기중...\n",
      "페이지 돌아가기 완료!\n",
      "\n",
      "********** 구어스치킨-전철역점 ( 25/50 번째) **********\n",
      "리뷰 페이지 로드중...\n"
     ]
    },
    {
     "name": "stderr",
     "output_type": "stream",
     "text": [
      "\r",
      "  0%|          | 0/21 [00:00<?, ?it/s]"
     ]
    },
    {
     "name": "stdout",
     "output_type": "stream",
     "text": [
      "리뷰 페이지 로드 완료!\n",
      "모든 리뷰 불러오기 시작...\n"
     ]
    },
    {
     "name": "stderr",
     "output_type": "stream",
     "text": [
      "100%|██████████| 21/21 [02:28<00:00,  7.05s/it]\n",
      "  0%|          | 0/211 [00:00<?, ?it/s]"
     ]
    },
    {
     "name": "stdout",
     "output_type": "stream",
     "text": [
      "모든 리뷰 불러오기 완료!\n"
     ]
    },
    {
     "name": "stderr",
     "output_type": "stream",
     "text": [
      "100%|██████████| 211/211 [01:00<00:00,  3.50it/s]\n"
     ]
    },
    {
     "name": "stdout",
     "output_type": "stream",
     "text": [
      "음식점 리스트 페이지로 돌아가는중...\n",
      "페이지 돌아가기중...\n",
      "페이지 돌아가기 완료!\n",
      "\n",
      "********** BHC-아차산점 ( 26/50 번째) **********\n",
      "리뷰 페이지 로드중...\n"
     ]
    },
    {
     "name": "stderr",
     "output_type": "stream",
     "text": [
      "\r",
      "  0%|          | 0/23 [00:00<?, ?it/s]"
     ]
    },
    {
     "name": "stdout",
     "output_type": "stream",
     "text": [
      "리뷰 페이지 로드 완료!\n",
      "모든 리뷰 불러오기 시작...\n"
     ]
    },
    {
     "name": "stderr",
     "output_type": "stream",
     "text": [
      "100%|██████████| 23/23 [02:49<00:00,  7.37s/it]\n",
      "  0%|          | 0/233 [00:00<?, ?it/s]"
     ]
    },
    {
     "name": "stdout",
     "output_type": "stream",
     "text": [
      "모든 리뷰 불러오기 완료!\n"
     ]
    },
    {
     "name": "stderr",
     "output_type": "stream",
     "text": [
      "100%|██████████| 233/233 [01:33<00:00,  2.49it/s]\n"
     ]
    },
    {
     "name": "stdout",
     "output_type": "stream",
     "text": [
      "음식점 리스트 페이지로 돌아가는중...\n",
      "페이지 돌아가기중...\n",
      "페이지 돌아가기 완료!\n",
      "\n",
      "********** 강정이기가막혀-광장구의점 ( 27/50 번째) **********\n",
      "리뷰 페이지 로드중...\n"
     ]
    },
    {
     "name": "stderr",
     "output_type": "stream",
     "text": [
      "\r",
      "  0%|          | 0/3 [00:00<?, ?it/s]"
     ]
    },
    {
     "name": "stdout",
     "output_type": "stream",
     "text": [
      "리뷰 페이지 로드 완료!\n",
      "모든 리뷰 불러오기 시작...\n"
     ]
    },
    {
     "name": "stderr",
     "output_type": "stream",
     "text": [
      "100%|██████████| 3/3 [00:21<00:00,  7.08s/it]\n",
      "  0%|          | 0/32 [00:00<?, ?it/s]"
     ]
    },
    {
     "name": "stdout",
     "output_type": "stream",
     "text": [
      "모든 리뷰 불러오기 완료!\n"
     ]
    },
    {
     "name": "stderr",
     "output_type": "stream",
     "text": [
      "100%|██████████| 32/32 [00:10<00:00,  3.01it/s]\n"
     ]
    },
    {
     "name": "stdout",
     "output_type": "stream",
     "text": [
      "음식점 리스트 페이지로 돌아가는중...\n",
      "페이지 돌아가기중...\n",
      "페이지 돌아가기 완료!\n",
      "\n",
      "********** 또바치킨 ( 28/50 번째) **********\n",
      "리뷰 페이지 로드중...\n"
     ]
    },
    {
     "name": "stderr",
     "output_type": "stream",
     "text": [
      "\r",
      "  0%|          | 0/12 [00:00<?, ?it/s]"
     ]
    },
    {
     "name": "stdout",
     "output_type": "stream",
     "text": [
      "리뷰 페이지 로드 완료!\n",
      "모든 리뷰 불러오기 시작...\n"
     ]
    },
    {
     "name": "stderr",
     "output_type": "stream",
     "text": [
      "100%|██████████| 12/12 [01:28<00:00,  7.40s/it]\n",
      "  0%|          | 0/128 [00:00<?, ?it/s]"
     ]
    },
    {
     "name": "stdout",
     "output_type": "stream",
     "text": [
      "모든 리뷰 불러오기 완료!\n"
     ]
    },
    {
     "name": "stderr",
     "output_type": "stream",
     "text": [
      "100%|██████████| 128/128 [00:50<00:00,  2.53it/s]\n"
     ]
    },
    {
     "name": "stdout",
     "output_type": "stream",
     "text": [
      "음식점 리스트 페이지로 돌아가는중...\n",
      "페이지 돌아가기중...\n",
      "페이지 돌아가기 완료!\n",
      "\n",
      "********** 한명숙피자치킨-광진점 ( 29/50 번째) **********\n",
      "리뷰 페이지 로드중...\n"
     ]
    },
    {
     "name": "stderr",
     "output_type": "stream",
     "text": [
      "\r",
      "  0%|          | 0/12 [00:00<?, ?it/s]"
     ]
    },
    {
     "name": "stdout",
     "output_type": "stream",
     "text": [
      "리뷰 페이지 로드 완료!\n",
      "모든 리뷰 불러오기 시작...\n"
     ]
    },
    {
     "name": "stderr",
     "output_type": "stream",
     "text": [
      "100%|██████████| 12/12 [01:36<00:00,  8.08s/it]\n",
      "  0%|          | 0/121 [00:00<?, ?it/s]"
     ]
    },
    {
     "name": "stdout",
     "output_type": "stream",
     "text": [
      "모든 리뷰 불러오기 완료!\n"
     ]
    },
    {
     "name": "stderr",
     "output_type": "stream",
     "text": [
      "100%|██████████| 121/121 [00:44<00:00,  2.72it/s]\n"
     ]
    },
    {
     "name": "stdout",
     "output_type": "stream",
     "text": [
      "음식점 리스트 페이지로 돌아가는중...\n",
      "페이지 돌아가기중...\n",
      "페이지 돌아가기 완료!\n",
      "\n",
      "********** 위대한치킨(24시) ( 30/50 번째) **********\n",
      "리뷰 페이지 로드중...\n"
     ]
    },
    {
     "name": "stderr",
     "output_type": "stream",
     "text": [
      "\r",
      "  0%|          | 0/21 [00:00<?, ?it/s]"
     ]
    },
    {
     "name": "stdout",
     "output_type": "stream",
     "text": [
      "리뷰 페이지 로드 완료!\n",
      "모든 리뷰 불러오기 시작...\n"
     ]
    },
    {
     "name": "stderr",
     "output_type": "stream",
     "text": [
      "100%|██████████| 21/21 [02:42<00:00,  7.73s/it]\n",
      "  0%|          | 0/215 [00:00<?, ?it/s]"
     ]
    },
    {
     "name": "stdout",
     "output_type": "stream",
     "text": [
      "모든 리뷰 불러오기 완료!\n"
     ]
    },
    {
     "name": "stderr",
     "output_type": "stream",
     "text": [
      "100%|██████████| 215/215 [01:21<00:00,  2.64it/s]\n"
     ]
    },
    {
     "name": "stdout",
     "output_type": "stream",
     "text": [
      "음식점 리스트 페이지로 돌아가는중...\n",
      "페이지 돌아가기중...\n",
      "페이지 돌아가기 완료!\n",
      "\n",
      "********** BHC-광나루점 ( 31/50 번째) **********\n",
      "리뷰 페이지 로드중...\n"
     ]
    },
    {
     "name": "stderr",
     "output_type": "stream",
     "text": [
      "\r",
      "  0%|          | 0/53 [00:00<?, ?it/s]"
     ]
    },
    {
     "name": "stdout",
     "output_type": "stream",
     "text": [
      "리뷰 페이지 로드 완료!\n",
      "모든 리뷰 불러오기 시작...\n"
     ]
    },
    {
     "name": "stderr",
     "output_type": "stream",
     "text": [
      "100%|██████████| 53/53 [06:33<00:00,  7.42s/it]\n",
      "  0%|          | 0/536 [00:00<?, ?it/s]"
     ]
    },
    {
     "name": "stdout",
     "output_type": "stream",
     "text": [
      "모든 리뷰 불러오기 완료!\n"
     ]
    },
    {
     "name": "stderr",
     "output_type": "stream",
     "text": [
      "100%|██████████| 536/536 [04:38<00:00,  1.92it/s]\n"
     ]
    },
    {
     "name": "stdout",
     "output_type": "stream",
     "text": [
      "음식점 리스트 페이지로 돌아가는중...\n",
      "페이지 돌아가기중...\n",
      "페이지 돌아가기 완료!\n",
      "\n",
      "********** 페리카나-광장동점 ( 32/50 번째) **********\n",
      "리뷰 페이지 로드중...\n"
     ]
    },
    {
     "name": "stderr",
     "output_type": "stream",
     "text": [
      "\r",
      "  0%|          | 0/8 [00:00<?, ?it/s]"
     ]
    },
    {
     "name": "stdout",
     "output_type": "stream",
     "text": [
      "리뷰 페이지 로드 완료!\n",
      "모든 리뷰 불러오기 시작...\n"
     ]
    },
    {
     "name": "stderr",
     "output_type": "stream",
     "text": [
      "100%|██████████| 8/8 [00:56<00:00,  7.06s/it]\n",
      "  0%|          | 0/86 [00:00<?, ?it/s]"
     ]
    },
    {
     "name": "stdout",
     "output_type": "stream",
     "text": [
      "모든 리뷰 불러오기 완료!\n"
     ]
    },
    {
     "name": "stderr",
     "output_type": "stream",
     "text": [
      "100%|██████████| 86/86 [00:22<00:00,  3.86it/s]\n"
     ]
    },
    {
     "name": "stdout",
     "output_type": "stream",
     "text": [
      "음식점 리스트 페이지로 돌아가는중...\n",
      "페이지 돌아가기중...\n",
      "페이지 돌아가기 완료!\n",
      "\n",
      "********** 굽네치킨-광장점 ( 33/50 번째) **********\n",
      "리뷰 페이지 로드중...\n"
     ]
    },
    {
     "name": "stderr",
     "output_type": "stream",
     "text": [
      "\r",
      "  0%|          | 0/12 [00:00<?, ?it/s]"
     ]
    },
    {
     "name": "stdout",
     "output_type": "stream",
     "text": [
      "리뷰 페이지 로드 완료!\n",
      "모든 리뷰 불러오기 시작...\n"
     ]
    },
    {
     "name": "stderr",
     "output_type": "stream",
     "text": [
      "100%|██████████| 12/12 [01:34<00:00,  7.87s/it]\n",
      "  0%|          | 0/129 [00:00<?, ?it/s]"
     ]
    },
    {
     "name": "stdout",
     "output_type": "stream",
     "text": [
      "모든 리뷰 불러오기 완료!\n"
     ]
    },
    {
     "name": "stderr",
     "output_type": "stream",
     "text": [
      "100%|██████████| 129/129 [00:33<00:00,  3.89it/s]\n"
     ]
    },
    {
     "name": "stdout",
     "output_type": "stream",
     "text": [
      "음식점 리스트 페이지로 돌아가는중...\n",
      "페이지 돌아가기중...\n",
      "페이지 돌아가기 완료!\n",
      "\n",
      "********** 후라이드참잘하는집-구의점 ( 34/50 번째) **********\n",
      "리뷰 페이지 로드중...\n"
     ]
    },
    {
     "name": "stderr",
     "output_type": "stream",
     "text": [
      "\r",
      "  0%|          | 0/48 [00:00<?, ?it/s]"
     ]
    },
    {
     "name": "stdout",
     "output_type": "stream",
     "text": [
      "리뷰 페이지 로드 완료!\n",
      "모든 리뷰 불러오기 시작...\n"
     ]
    },
    {
     "name": "stderr",
     "output_type": "stream",
     "text": [
      "100%|██████████| 48/48 [05:59<00:00,  7.49s/it]\n",
      "  0%|          | 0/483 [00:00<?, ?it/s]"
     ]
    },
    {
     "name": "stdout",
     "output_type": "stream",
     "text": [
      "모든 리뷰 불러오기 완료!\n"
     ]
    },
    {
     "name": "stderr",
     "output_type": "stream",
     "text": [
      "100%|██████████| 483/483 [02:35<00:00,  3.11it/s]\n"
     ]
    },
    {
     "name": "stdout",
     "output_type": "stream",
     "text": [
      "음식점 리스트 페이지로 돌아가는중...\n",
      "페이지 돌아가기중...\n",
      "페이지 돌아가기 완료!\n",
      "\n",
      "********** 놀부옛날통닭-군자점 ( 35/50 번째) **********\n",
      "리뷰 페이지 로드중...\n"
     ]
    },
    {
     "name": "stderr",
     "output_type": "stream",
     "text": [
      "\r",
      "  0%|          | 0/95 [00:00<?, ?it/s]"
     ]
    },
    {
     "name": "stdout",
     "output_type": "stream",
     "text": [
      "리뷰 페이지 로드 완료!\n",
      "모든 리뷰 불러오기 시작...\n"
     ]
    },
    {
     "name": "stderr",
     "output_type": "stream",
     "text": [
      "100%|██████████| 95/95 [11:12<00:00,  7.07s/it]\n",
      "  0%|          | 0/940 [00:00<?, ?it/s]"
     ]
    },
    {
     "name": "stdout",
     "output_type": "stream",
     "text": [
      "모든 리뷰 불러오기 완료!\n"
     ]
    },
    {
     "name": "stderr",
     "output_type": "stream",
     "text": [
      "100%|██████████| 940/940 [06:38<00:00,  2.36it/s]\n"
     ]
    },
    {
     "name": "stdout",
     "output_type": "stream",
     "text": [
      "음식점 리스트 페이지로 돌아가는중...\n",
      "페이지 돌아가기중...\n",
      "페이지 돌아가기 완료!\n",
      "\n",
      "********** 파닭파닭맛있는파닭-광진구점 ( 36/50 번째) **********\n",
      "리뷰 페이지 로드중...\n"
     ]
    },
    {
     "name": "stderr",
     "output_type": "stream",
     "text": [
      "\r",
      "  0%|          | 0/16 [00:00<?, ?it/s]"
     ]
    },
    {
     "name": "stdout",
     "output_type": "stream",
     "text": [
      "리뷰 페이지 로드 완료!\n",
      "모든 리뷰 불러오기 시작...\n"
     ]
    },
    {
     "name": "stderr",
     "output_type": "stream",
     "text": [
      "100%|██████████| 16/16 [01:56<00:00,  7.28s/it]\n",
      "  0%|          | 0/160 [00:00<?, ?it/s]"
     ]
    },
    {
     "name": "stdout",
     "output_type": "stream",
     "text": [
      "모든 리뷰 불러오기 완료!\n"
     ]
    },
    {
     "name": "stderr",
     "output_type": "stream",
     "text": [
      "100%|██████████| 160/160 [01:16<00:00,  2.09it/s]\n"
     ]
    },
    {
     "name": "stdout",
     "output_type": "stream",
     "text": [
      "음식점 리스트 페이지로 돌아가는중...\n",
      "페이지 돌아가기중...\n",
      "페이지 돌아가기 완료!\n",
      "\n",
      "********** 세마리치킨쇼-서울북부직영1호점 ( 37/50 번째) **********\n",
      "리뷰 페이지 로드중...\n"
     ]
    },
    {
     "name": "stderr",
     "output_type": "stream",
     "text": [
      "\r",
      "  0%|          | 0/10 [00:00<?, ?it/s]"
     ]
    },
    {
     "name": "stdout",
     "output_type": "stream",
     "text": [
      "리뷰 페이지 로드 완료!\n",
      "모든 리뷰 불러오기 시작...\n"
     ]
    },
    {
     "name": "stderr",
     "output_type": "stream",
     "text": [
      "100%|██████████| 10/10 [01:10<00:00,  7.07s/it]\n",
      "  0%|          | 0/102 [00:00<?, ?it/s]"
     ]
    },
    {
     "name": "stdout",
     "output_type": "stream",
     "text": [
      "모든 리뷰 불러오기 완료!\n"
     ]
    },
    {
     "name": "stderr",
     "output_type": "stream",
     "text": [
      "100%|██████████| 102/102 [00:34<00:00,  2.96it/s]\n"
     ]
    },
    {
     "name": "stdout",
     "output_type": "stream",
     "text": [
      "음식점 리스트 페이지로 돌아가는중...\n",
      "페이지 돌아가기중...\n",
      "페이지 돌아가기 완료!\n",
      "\n",
      "********** 부들부들아차산점 ( 38/50 번째) **********\n",
      "리뷰 페이지 로드중...\n"
     ]
    },
    {
     "name": "stderr",
     "output_type": "stream",
     "text": [
      "0it [00:00, ?it/s]\n",
      "  0%|          | 0/5 [00:00<?, ?it/s]"
     ]
    },
    {
     "name": "stdout",
     "output_type": "stream",
     "text": [
      "리뷰 페이지 로드 완료!\n",
      "모든 리뷰 불러오기 시작...\n",
      "모든 리뷰 불러오기 완료!\n"
     ]
    },
    {
     "name": "stderr",
     "output_type": "stream",
     "text": [
      "100%|██████████| 5/5 [00:01<00:00,  2.55it/s]\n"
     ]
    },
    {
     "name": "stdout",
     "output_type": "stream",
     "text": [
      "음식점 리스트 페이지로 돌아가는중...\n",
      "페이지 돌아가기중...\n",
      "페이지 돌아가기 완료!\n",
      "\n",
      "********** 더블플레이치킨-자양점 ( 39/50 번째) **********\n",
      "리뷰 페이지 로드중...\n"
     ]
    },
    {
     "name": "stderr",
     "output_type": "stream",
     "text": [
      "\r",
      "  0%|          | 0/7 [00:00<?, ?it/s]"
     ]
    },
    {
     "name": "stdout",
     "output_type": "stream",
     "text": [
      "리뷰 페이지 로드 완료!\n",
      "모든 리뷰 불러오기 시작...\n"
     ]
    },
    {
     "name": "stderr",
     "output_type": "stream",
     "text": [
      "100%|██████████| 7/7 [00:49<00:00,  7.06s/it]\n",
      "  0%|          | 0/78 [00:00<?, ?it/s]"
     ]
    },
    {
     "name": "stdout",
     "output_type": "stream",
     "text": [
      "모든 리뷰 불러오기 완료!\n"
     ]
    },
    {
     "name": "stderr",
     "output_type": "stream",
     "text": [
      "100%|██████████| 78/78 [00:24<00:00,  3.20it/s]\n"
     ]
    },
    {
     "name": "stdout",
     "output_type": "stream",
     "text": [
      "음식점 리스트 페이지로 돌아가는중...\n",
      "페이지 돌아가기중...\n",
      "페이지 돌아가기 완료!\n",
      "\n",
      "********** 네네치킨-군자송정점 ( 40/50 번째) **********\n",
      "리뷰 페이지 로드중...\n"
     ]
    },
    {
     "name": "stderr",
     "output_type": "stream",
     "text": [
      "\r",
      "  0%|          | 0/62 [00:00<?, ?it/s]"
     ]
    },
    {
     "name": "stdout",
     "output_type": "stream",
     "text": [
      "리뷰 페이지 로드 완료!\n",
      "모든 리뷰 불러오기 시작...\n"
     ]
    },
    {
     "name": "stderr",
     "output_type": "stream",
     "text": [
      "100%|██████████| 62/62 [07:20<00:00,  7.11s/it]\n",
      "  0%|          | 0/629 [00:00<?, ?it/s]"
     ]
    },
    {
     "name": "stdout",
     "output_type": "stream",
     "text": [
      "모든 리뷰 불러오기 완료!\n"
     ]
    },
    {
     "name": "stderr",
     "output_type": "stream",
     "text": [
      "100%|██████████| 629/629 [04:43<00:00,  2.22it/s]\n"
     ]
    },
    {
     "name": "stdout",
     "output_type": "stream",
     "text": [
      "음식점 리스트 페이지로 돌아가는중...\n",
      "페이지 돌아가기중...\n",
      "페이지 돌아가기 완료!\n",
      "\n",
      "********** 달려라영계소문 ( 41/50 번째) **********\n",
      "리뷰 페이지 로드중...\n"
     ]
    },
    {
     "name": "stderr",
     "output_type": "stream",
     "text": [
      "0it [00:00, ?it/s]\n",
      "  0%|          | 0/4 [00:00<?, ?it/s]"
     ]
    },
    {
     "name": "stdout",
     "output_type": "stream",
     "text": [
      "리뷰 페이지 로드 완료!\n",
      "모든 리뷰 불러오기 시작...\n",
      "모든 리뷰 불러오기 완료!\n"
     ]
    },
    {
     "name": "stderr",
     "output_type": "stream",
     "text": [
      "100%|██████████| 4/4 [00:01<00:00,  3.15it/s]\n"
     ]
    },
    {
     "name": "stdout",
     "output_type": "stream",
     "text": [
      "음식점 리스트 페이지로 돌아가는중...\n",
      "페이지 돌아가기중...\n",
      "페이지 돌아가기 완료!\n",
      "\n",
      "********** 호식이두마리치킨-구의1호점 ( 42/50 번째) **********\n",
      "리뷰 페이지 로드중...\n"
     ]
    },
    {
     "name": "stderr",
     "output_type": "stream",
     "text": [
      "0it [00:00, ?it/s]\n",
      "  0%|          | 0/2 [00:00<?, ?it/s]"
     ]
    },
    {
     "name": "stdout",
     "output_type": "stream",
     "text": [
      "리뷰 페이지 로드 완료!\n",
      "모든 리뷰 불러오기 시작...\n",
      "모든 리뷰 불러오기 완료!\n"
     ]
    },
    {
     "name": "stderr",
     "output_type": "stream",
     "text": [
      "100%|██████████| 2/2 [00:00<00:00,  2.19it/s]\n"
     ]
    },
    {
     "name": "stdout",
     "output_type": "stream",
     "text": [
      "음식점 리스트 페이지로 돌아가는중...\n",
      "페이지 돌아가기중...\n",
      "페이지 돌아가기 완료!\n",
      "\n",
      "********** 투존치킨-구의점 ( 43/50 번째) **********\n",
      "리뷰 페이지 로드중...\n"
     ]
    },
    {
     "name": "stderr",
     "output_type": "stream",
     "text": [
      "\r",
      "  0%|          | 0/12 [00:00<?, ?it/s]"
     ]
    },
    {
     "name": "stdout",
     "output_type": "stream",
     "text": [
      "리뷰 페이지 로드 완료!\n",
      "모든 리뷰 불러오기 시작...\n"
     ]
    },
    {
     "name": "stderr",
     "output_type": "stream",
     "text": [
      "100%|██████████| 12/12 [01:26<00:00,  7.17s/it]\n",
      "  0%|          | 0/127 [00:00<?, ?it/s]"
     ]
    },
    {
     "name": "stdout",
     "output_type": "stream",
     "text": [
      "모든 리뷰 불러오기 완료!\n"
     ]
    },
    {
     "name": "stderr",
     "output_type": "stream",
     "text": [
      "100%|██████████| 127/127 [00:42<00:00,  2.98it/s]\n"
     ]
    },
    {
     "name": "stdout",
     "output_type": "stream",
     "text": [
      "음식점 리스트 페이지로 돌아가는중...\n",
      "페이지 돌아가기중...\n",
      "페이지 돌아가기 완료!\n",
      "\n",
      "********** 미니닭날개구이 ( 44/50 번째) **********\n",
      "리뷰 페이지 로드중...\n"
     ]
    },
    {
     "name": "stderr",
     "output_type": "stream",
     "text": [
      "\r",
      "  0%|          | 0/7 [00:00<?, ?it/s]"
     ]
    },
    {
     "name": "stdout",
     "output_type": "stream",
     "text": [
      "리뷰 페이지 로드 완료!\n",
      "모든 리뷰 불러오기 시작...\n"
     ]
    },
    {
     "name": "stderr",
     "output_type": "stream",
     "text": [
      "100%|██████████| 7/7 [00:49<00:00,  7.05s/it]\n",
      "  0%|          | 0/73 [00:00<?, ?it/s]"
     ]
    },
    {
     "name": "stdout",
     "output_type": "stream",
     "text": [
      "모든 리뷰 불러오기 완료!\n"
     ]
    },
    {
     "name": "stderr",
     "output_type": "stream",
     "text": [
      "100%|██████████| 73/73 [00:21<00:00,  3.33it/s]\n"
     ]
    },
    {
     "name": "stdout",
     "output_type": "stream",
     "text": [
      "음식점 리스트 페이지로 돌아가는중...\n",
      "페이지 돌아가기중...\n",
      "페이지 돌아가기 완료!\n",
      "\n",
      "********** 화룡불닭 ( 45/50 번째) **********\n",
      "리뷰 페이지 로드중...\n"
     ]
    },
    {
     "name": "stderr",
     "output_type": "stream",
     "text": [
      "\r",
      "  0%|          | 0/167 [00:00<?, ?it/s]"
     ]
    },
    {
     "name": "stdout",
     "output_type": "stream",
     "text": [
      "리뷰 페이지 로드 완료!\n",
      "모든 리뷰 불러오기 시작...\n"
     ]
    },
    {
     "name": "stderr",
     "output_type": "stream",
     "text": [
      "100%|██████████| 167/167 [20:18<00:00,  7.29s/it]\n"
     ]
    },
    {
     "name": "stdout",
     "output_type": "stream",
     "text": [
      "모든 리뷰 불러오기 완료!\n"
     ]
    },
    {
     "name": "stderr",
     "output_type": "stream",
     "text": [
      "100%|██████████| 1674/1674 [18:10<00:00,  1.53it/s]\n"
     ]
    },
    {
     "name": "stdout",
     "output_type": "stream",
     "text": [
      "음식점 리스트 페이지로 돌아가는중...\n",
      "페이지 돌아가기중...\n",
      "페이지 돌아가기 완료!\n",
      "\n",
      "********** 초이스치킨-구의중곡점 ( 46/50 번째) **********\n",
      "리뷰 페이지 로드중...\n"
     ]
    },
    {
     "name": "stderr",
     "output_type": "stream",
     "text": [
      "\r",
      "  0%|          | 0/4 [00:00<?, ?it/s]"
     ]
    },
    {
     "name": "stdout",
     "output_type": "stream",
     "text": [
      "리뷰 페이지 로드 완료!\n",
      "모든 리뷰 불러오기 시작...\n"
     ]
    },
    {
     "name": "stderr",
     "output_type": "stream",
     "text": [
      "100%|██████████| 4/4 [00:28<00:00,  7.07s/it]\n",
      "  0%|          | 0/45 [00:00<?, ?it/s]"
     ]
    },
    {
     "name": "stdout",
     "output_type": "stream",
     "text": [
      "모든 리뷰 불러오기 완료!\n"
     ]
    },
    {
     "name": "stderr",
     "output_type": "stream",
     "text": [
      "100%|██████████| 45/45 [00:24<00:00,  1.81it/s]\n"
     ]
    },
    {
     "name": "stdout",
     "output_type": "stream",
     "text": [
      "음식점 리스트 페이지로 돌아가는중...\n",
      "페이지 돌아가기중...\n",
      "페이지 돌아가기 완료!\n",
      "\n",
      "********** 노랑통닭-구의점 ( 47/50 번째) **********\n",
      "리뷰 페이지 로드중...\n"
     ]
    },
    {
     "name": "stderr",
     "output_type": "stream",
     "text": [
      "\r",
      "  0%|          | 0/32 [00:00<?, ?it/s]"
     ]
    },
    {
     "name": "stdout",
     "output_type": "stream",
     "text": [
      "리뷰 페이지 로드 완료!\n",
      "모든 리뷰 불러오기 시작...\n"
     ]
    },
    {
     "name": "stderr",
     "output_type": "stream",
     "text": [
      "100%|██████████| 32/32 [04:49<00:00,  9.04s/it]\n",
      "  0%|          | 0/323 [00:00<?, ?it/s]"
     ]
    },
    {
     "name": "stdout",
     "output_type": "stream",
     "text": [
      "모든 리뷰 불러오기 완료!\n"
     ]
    },
    {
     "name": "stderr",
     "output_type": "stream",
     "text": [
      "100%|██████████| 323/323 [02:32<00:00,  2.12it/s]\n"
     ]
    },
    {
     "name": "stdout",
     "output_type": "stream",
     "text": [
      "음식점 리스트 페이지로 돌아가는중...\n",
      "페이지 돌아가기중...\n",
      "페이지 돌아가기 완료!\n",
      "\n",
      "********** 화통치킨-구의중곡점 ( 48/50 번째) **********\n",
      "리뷰 페이지 로드중...\n"
     ]
    },
    {
     "name": "stderr",
     "output_type": "stream",
     "text": [
      "\r",
      "  0%|          | 0/3 [00:00<?, ?it/s]"
     ]
    },
    {
     "name": "stdout",
     "output_type": "stream",
     "text": [
      "리뷰 페이지 로드 완료!\n",
      "모든 리뷰 불러오기 시작...\n"
     ]
    },
    {
     "name": "stderr",
     "output_type": "stream",
     "text": [
      "100%|██████████| 3/3 [00:27<00:00,  9.05s/it]\n",
      "  0%|          | 0/37 [00:00<?, ?it/s]"
     ]
    },
    {
     "name": "stdout",
     "output_type": "stream",
     "text": [
      "모든 리뷰 불러오기 완료!\n"
     ]
    },
    {
     "name": "stderr",
     "output_type": "stream",
     "text": [
      "100%|██████████| 37/37 [00:20<00:00,  1.77it/s]\n"
     ]
    },
    {
     "name": "stdout",
     "output_type": "stream",
     "text": [
      "음식점 리스트 페이지로 돌아가는중...\n",
      "페이지 돌아가기중...\n",
      "페이지 돌아가기 완료!\n",
      "\n",
      "********** 피자데이치킨데이능동점 ( 49/50 번째) **********\n",
      "리뷰 페이지 로드중...\n"
     ]
    },
    {
     "name": "stderr",
     "output_type": "stream",
     "text": [
      "0it [00:00, ?it/s]\n",
      "  0%|          | 0/5 [00:00<?, ?it/s]"
     ]
    },
    {
     "name": "stdout",
     "output_type": "stream",
     "text": [
      "리뷰 페이지 로드 완료!\n",
      "모든 리뷰 불러오기 시작...\n",
      "모든 리뷰 불러오기 완료!\n"
     ]
    },
    {
     "name": "stderr",
     "output_type": "stream",
     "text": [
      "100%|██████████| 5/5 [00:02<00:00,  1.73it/s]\n"
     ]
    },
    {
     "name": "stdout",
     "output_type": "stream",
     "text": [
      "음식점 리스트 페이지로 돌아가는중...\n",
      "페이지 돌아가기중...\n",
      "페이지 돌아가기 완료!\n",
      "\n",
      "********** 충만치킨-군자직영점 ( 50/50 번째) **********\n",
      "리뷰 페이지 로드중...\n"
     ]
    },
    {
     "name": "stderr",
     "output_type": "stream",
     "text": [
      "\r",
      "  0%|          | 0/41 [00:00<?, ?it/s]"
     ]
    },
    {
     "name": "stdout",
     "output_type": "stream",
     "text": [
      "리뷰 페이지 로드 완료!\n",
      "모든 리뷰 불러오기 시작...\n"
     ]
    },
    {
     "name": "stderr",
     "output_type": "stream",
     "text": [
      "100%|██████████| 41/41 [05:27<00:00,  7.99s/it]\n",
      "  0%|          | 0/417 [00:00<?, ?it/s]"
     ]
    },
    {
     "name": "stdout",
     "output_type": "stream",
     "text": [
      "모든 리뷰 불러오기 완료!\n"
     ]
    },
    {
     "name": "stderr",
     "output_type": "stream",
     "text": [
      "100%|██████████| 417/417 [02:29<00:00,  2.79it/s]\n"
     ]
    },
    {
     "name": "stdout",
     "output_type": "stream",
     "text": [
      "음식점 리스트 페이지로 돌아가는중...\n",
      "페이지 돌아가기중...\n",
      "페이지 돌아가기 완료!\n",
      "\n",
      "End of [ 광진구 광장동 - 치킨 ] Crawling!\n",
      "광진구 광장동 치킨 pikcle save complete!\n",
      "<Response [200]>\n",
      "광장동 - 치킨, shape: (10680, 9)\n",
      "\n",
      "CPU times: user 2min 24s, sys: 9.98 s, total: 2min 34s\n",
      "Wall time: 4h 37min 17s\n"
     ]
    }
   ],
   "source": [
    "%time start_gwangjingu_crawling('치킨')"
   ]
  },
  {
   "cell_type": "code",
   "execution_count": null,
   "metadata": {},
   "outputs": [],
   "source": []
  },
  {
   "cell_type": "code",
   "execution_count": null,
   "metadata": {},
   "outputs": [],
   "source": []
  },
  {
   "cell_type": "code",
   "execution_count": 17,
   "metadata": {},
   "outputs": [],
   "source": [
    "df = pickle.load(open('./data/광진구 광장동_치킨_df.pkl','rb'))"
   ]
  },
  {
   "cell_type": "code",
   "execution_count": 18,
   "metadata": {},
   "outputs": [
    {
     "data": {
      "text/html": [
       "<div>\n",
       "<style scoped>\n",
       "    .dataframe tbody tr th:only-of-type {\n",
       "        vertical-align: middle;\n",
       "    }\n",
       "\n",
       "    .dataframe tbody tr th {\n",
       "        vertical-align: top;\n",
       "    }\n",
       "\n",
       "    .dataframe thead th {\n",
       "        text-align: right;\n",
       "    }\n",
       "</style>\n",
       "<table border=\"1\" class=\"dataframe\">\n",
       "  <thead>\n",
       "    <tr style=\"text-align: right;\">\n",
       "      <th></th>\n",
       "      <th>Restaurant</th>\n",
       "      <th>UserID</th>\n",
       "      <th>Menu</th>\n",
       "      <th>Review</th>\n",
       "      <th>Total</th>\n",
       "      <th>Taste</th>\n",
       "      <th>Quantity</th>\n",
       "      <th>Delivery</th>\n",
       "      <th>Date</th>\n",
       "    </tr>\n",
       "  </thead>\n",
       "  <tbody>\n",
       "    <tr>\n",
       "      <th>10675</th>\n",
       "      <td>충만치킨-군자직영점</td>\n",
       "      <td>zz**님</td>\n",
       "      <td></td>\n",
       "      <td>잘먹었어요!!!배달빠르고 치킨도맛나궁!!</td>\n",
       "      <td>5</td>\n",
       "      <td>5</td>\n",
       "      <td>5</td>\n",
       "      <td>5</td>\n",
       "      <td>2017년 10월 27일</td>\n",
       "    </tr>\n",
       "    <tr>\n",
       "      <th>10676</th>\n",
       "      <td>충만치킨-군자직영점</td>\n",
       "      <td>zz**님</td>\n",
       "      <td></td>\n",
       "      <td>맛있네요^^ 닭을 잘튀겼네 ㅎㅎ</td>\n",
       "      <td>5</td>\n",
       "      <td>5</td>\n",
       "      <td>5</td>\n",
       "      <td>5</td>\n",
       "      <td>2017년 10월 27일</td>\n",
       "    </tr>\n",
       "    <tr>\n",
       "      <th>10677</th>\n",
       "      <td>충만치킨-군자직영점</td>\n",
       "      <td>zz**님</td>\n",
       "      <td>반반치킨（매콤마늘양념치킨＋치킨）/1(치킨 선택(충만후라이드))</td>\n",
       "      <td>맛있어요맛있어요맛있어요</td>\n",
       "      <td>5</td>\n",
       "      <td>5</td>\n",
       "      <td>5</td>\n",
       "      <td>5</td>\n",
       "      <td>2017년 10월 27일</td>\n",
       "    </tr>\n",
       "    <tr>\n",
       "      <th>10678</th>\n",
       "      <td>충만치킨-군자직영점</td>\n",
       "      <td>pa**님</td>\n",
       "      <td>반반치킨（간장티꾸닭＋치킨）/1(음료 선택(콜라 1.25L로 사이즈업),치킨 선택(스...</td>\n",
       "      <td>맛있습니다! 요기요에 생겨서 좋아요</td>\n",
       "      <td>5</td>\n",
       "      <td>5</td>\n",
       "      <td>5</td>\n",
       "      <td>5</td>\n",
       "      <td>2017년 10월 27일</td>\n",
       "    </tr>\n",
       "    <tr>\n",
       "      <th>10679</th>\n",
       "      <td>충만치킨-군자직영점</td>\n",
       "      <td>hu**님</td>\n",
       "      <td>스노우어니언/1(순살로 변경(순살로 변경),음료 선택(콜라 1.25L로 사이즈업))</td>\n",
       "      <td>핵존맛 네네 크리미언치킨보다 더마시써여 양파계의혁명 ❤️❤️❤️❤️❤️❤️이제여기만...</td>\n",
       "      <td>5</td>\n",
       "      <td>5</td>\n",
       "      <td>5</td>\n",
       "      <td>5</td>\n",
       "      <td>2017년 10월 26일</td>\n",
       "    </tr>\n",
       "  </tbody>\n",
       "</table>\n",
       "</div>"
      ],
      "text/plain": [
       "       Restaurant UserID                                               Menu  \\\n",
       "10675  충만치킨-군자직영점  zz**님                                                      \n",
       "10676  충만치킨-군자직영점  zz**님                                                      \n",
       "10677  충만치킨-군자직영점  zz**님                 반반치킨（매콤마늘양념치킨＋치킨）/1(치킨 선택(충만후라이드))   \n",
       "10678  충만치킨-군자직영점  pa**님  반반치킨（간장티꾸닭＋치킨）/1(음료 선택(콜라 1.25L로 사이즈업),치킨 선택(스...   \n",
       "10679  충만치킨-군자직영점  hu**님     스노우어니언/1(순살로 변경(순살로 변경),음료 선택(콜라 1.25L로 사이즈업))   \n",
       "\n",
       "                                                  Review Total Taste Quantity  \\\n",
       "10675                             잘먹었어요!!!배달빠르고 치킨도맛나궁!!     5     5        5   \n",
       "10676                                  맛있네요^^ 닭을 잘튀겼네 ㅎㅎ     5     5        5   \n",
       "10677                                       맛있어요맛있어요맛있어요     5     5        5   \n",
       "10678                                맛있습니다! 요기요에 생겨서 좋아요     5     5        5   \n",
       "10679  핵존맛 네네 크리미언치킨보다 더마시써여 양파계의혁명 ❤️❤️❤️❤️❤️❤️이제여기만...     5     5        5   \n",
       "\n",
       "      Delivery           Date  \n",
       "10675        5  2017년 10월 27일  \n",
       "10676        5  2017년 10월 27일  \n",
       "10677        5  2017년 10월 27일  \n",
       "10678        5  2017년 10월 27일  \n",
       "10679        5  2017년 10월 26일  "
      ]
     },
     "execution_count": 18,
     "metadata": {},
     "output_type": "execute_result"
    }
   ],
   "source": [
    "df.tail()"
   ]
  },
  {
   "cell_type": "code",
   "execution_count": null,
   "metadata": {},
   "outputs": [],
   "source": []
  },
  {
   "cell_type": "code",
   "execution_count": null,
   "metadata": {},
   "outputs": [],
   "source": []
  },
  {
   "cell_type": "code",
   "execution_count": null,
   "metadata": {},
   "outputs": [],
   "source": []
  },
  {
   "cell_type": "code",
   "execution_count": 19,
   "metadata": {},
   "outputs": [],
   "source": [
    "# Chrome webdriver 종료\n",
    "driver.close() \n",
    "driver.quit() "
   ]
  },
  {
   "cell_type": "markdown",
   "metadata": {},
   "source": [
    "---"
   ]
  }
 ],
 "metadata": {
  "kernelspec": {
   "display_name": "Python 3",
   "language": "python",
   "name": "python3"
  },
  "language_info": {
   "codemirror_mode": {
    "name": "ipython",
    "version": 3
   },
   "file_extension": ".py",
   "mimetype": "text/x-python",
   "name": "python",
   "nbconvert_exporter": "python",
   "pygments_lexer": "ipython3",
   "version": "3.6.4"
  }
 },
 "nbformat": 4,
 "nbformat_minor": 2
}
